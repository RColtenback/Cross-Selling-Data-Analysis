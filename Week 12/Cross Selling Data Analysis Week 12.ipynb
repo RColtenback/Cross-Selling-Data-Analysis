{
 "cells": [
  {
   "cell_type": "code",
   "execution_count": 1,
   "id": "32e40fe1",
   "metadata": {},
   "outputs": [],
   "source": [
    "# Importing the libraries, dataset, and cleaning the column names"
   ]
  },
  {
   "cell_type": "code",
   "execution_count": 2,
   "id": "2f3c6815",
   "metadata": {},
   "outputs": [],
   "source": [
    "import pandas as pd\n",
    "from pathlib import Path\n",
    "import numpy as np\n",
    "from matplotlib import pyplot as plt\n",
    "from sklearn.linear_model import LinearRegression\n",
    "from sklearn.model_selection import train_test_split\n",
    "import seaborn as sns\n",
    "import dask.dataframe as dd\n",
    "import scipy.stats as st\n",
    "import math\n",
    "from numpy import nan\n",
    "from sklearn import linear_model\n",
    "from sklearn.preprocessing import StandardScaler\n",
    "from sklearn.tree import DecisionTreeClassifier\n",
    "from sklearn.model_selection import cross_val_score\n",
    "from sklearn.ensemble import BaggingClassifier\n",
    "from sklearn.metrics import accuracy_score\n",
    "from sklearn.ensemble import GradientBoostingRegressor"
   ]
  },
  {
   "cell_type": "code",
   "execution_count": 3,
   "id": "de073cdf",
   "metadata": {},
   "outputs": [],
   "source": [
    "df = pd.read_csv(\"Train.csv\", low_memory=False)"
   ]
  },
  {
   "cell_type": "code",
   "execution_count": 3,
   "id": "d8fd1aa6",
   "metadata": {},
   "outputs": [
    {
     "data": {
      "text/html": [
       "<div>\n",
       "<style scoped>\n",
       "    .dataframe tbody tr th:only-of-type {\n",
       "        vertical-align: middle;\n",
       "    }\n",
       "\n",
       "    .dataframe tbody tr th {\n",
       "        vertical-align: top;\n",
       "    }\n",
       "\n",
       "    .dataframe thead th {\n",
       "        text-align: right;\n",
       "    }\n",
       "</style>\n",
       "<table border=\"1\" class=\"dataframe\">\n",
       "  <thead>\n",
       "    <tr style=\"text-align: right;\">\n",
       "      <th></th>\n",
       "      <th>fecha_dato</th>\n",
       "      <th>ncodpers</th>\n",
       "      <th>ind_empleado</th>\n",
       "      <th>pais_residencia</th>\n",
       "      <th>sexo</th>\n",
       "      <th>age</th>\n",
       "      <th>fecha_alta</th>\n",
       "      <th>ind_nuevo</th>\n",
       "      <th>antiguedad</th>\n",
       "      <th>indrel</th>\n",
       "      <th>...</th>\n",
       "      <th>ind_hip_fin_ult1</th>\n",
       "      <th>ind_plan_fin_ult1</th>\n",
       "      <th>ind_pres_fin_ult1</th>\n",
       "      <th>ind_reca_fin_ult1</th>\n",
       "      <th>ind_tjcr_fin_ult1</th>\n",
       "      <th>ind_valo_fin_ult1</th>\n",
       "      <th>ind_viv_fin_ult1</th>\n",
       "      <th>ind_nomina_ult1</th>\n",
       "      <th>ind_nom_pens_ult1</th>\n",
       "      <th>ind_recibo_ult1</th>\n",
       "    </tr>\n",
       "  </thead>\n",
       "  <tbody>\n",
       "    <tr>\n",
       "      <th>0</th>\n",
       "      <td>2015-01-28</td>\n",
       "      <td>1375586</td>\n",
       "      <td>N</td>\n",
       "      <td>ES</td>\n",
       "      <td>H</td>\n",
       "      <td>35</td>\n",
       "      <td>2015-01-12</td>\n",
       "      <td>0.0</td>\n",
       "      <td>6</td>\n",
       "      <td>1.0</td>\n",
       "      <td>...</td>\n",
       "      <td>0</td>\n",
       "      <td>0</td>\n",
       "      <td>0</td>\n",
       "      <td>0</td>\n",
       "      <td>0</td>\n",
       "      <td>0</td>\n",
       "      <td>0</td>\n",
       "      <td>0.0</td>\n",
       "      <td>0.0</td>\n",
       "      <td>0</td>\n",
       "    </tr>\n",
       "    <tr>\n",
       "      <th>1</th>\n",
       "      <td>2015-01-28</td>\n",
       "      <td>1050611</td>\n",
       "      <td>N</td>\n",
       "      <td>ES</td>\n",
       "      <td>V</td>\n",
       "      <td>23</td>\n",
       "      <td>2012-08-10</td>\n",
       "      <td>0.0</td>\n",
       "      <td>35</td>\n",
       "      <td>1.0</td>\n",
       "      <td>...</td>\n",
       "      <td>0</td>\n",
       "      <td>0</td>\n",
       "      <td>0</td>\n",
       "      <td>0</td>\n",
       "      <td>0</td>\n",
       "      <td>0</td>\n",
       "      <td>0</td>\n",
       "      <td>0.0</td>\n",
       "      <td>0.0</td>\n",
       "      <td>0</td>\n",
       "    </tr>\n",
       "    <tr>\n",
       "      <th>2</th>\n",
       "      <td>2015-01-28</td>\n",
       "      <td>1050612</td>\n",
       "      <td>N</td>\n",
       "      <td>ES</td>\n",
       "      <td>V</td>\n",
       "      <td>23</td>\n",
       "      <td>2012-08-10</td>\n",
       "      <td>0.0</td>\n",
       "      <td>35</td>\n",
       "      <td>1.0</td>\n",
       "      <td>...</td>\n",
       "      <td>0</td>\n",
       "      <td>0</td>\n",
       "      <td>0</td>\n",
       "      <td>0</td>\n",
       "      <td>0</td>\n",
       "      <td>0</td>\n",
       "      <td>0</td>\n",
       "      <td>0.0</td>\n",
       "      <td>0.0</td>\n",
       "      <td>0</td>\n",
       "    </tr>\n",
       "    <tr>\n",
       "      <th>3</th>\n",
       "      <td>2015-01-28</td>\n",
       "      <td>1050613</td>\n",
       "      <td>N</td>\n",
       "      <td>ES</td>\n",
       "      <td>H</td>\n",
       "      <td>22</td>\n",
       "      <td>2012-08-10</td>\n",
       "      <td>0.0</td>\n",
       "      <td>35</td>\n",
       "      <td>1.0</td>\n",
       "      <td>...</td>\n",
       "      <td>0</td>\n",
       "      <td>0</td>\n",
       "      <td>0</td>\n",
       "      <td>0</td>\n",
       "      <td>0</td>\n",
       "      <td>0</td>\n",
       "      <td>0</td>\n",
       "      <td>0.0</td>\n",
       "      <td>0.0</td>\n",
       "      <td>0</td>\n",
       "    </tr>\n",
       "    <tr>\n",
       "      <th>4</th>\n",
       "      <td>2015-01-28</td>\n",
       "      <td>1050614</td>\n",
       "      <td>N</td>\n",
       "      <td>ES</td>\n",
       "      <td>V</td>\n",
       "      <td>23</td>\n",
       "      <td>2012-08-10</td>\n",
       "      <td>0.0</td>\n",
       "      <td>35</td>\n",
       "      <td>1.0</td>\n",
       "      <td>...</td>\n",
       "      <td>0</td>\n",
       "      <td>0</td>\n",
       "      <td>0</td>\n",
       "      <td>0</td>\n",
       "      <td>0</td>\n",
       "      <td>0</td>\n",
       "      <td>0</td>\n",
       "      <td>0.0</td>\n",
       "      <td>0.0</td>\n",
       "      <td>0</td>\n",
       "    </tr>\n",
       "    <tr>\n",
       "      <th>...</th>\n",
       "      <td>...</td>\n",
       "      <td>...</td>\n",
       "      <td>...</td>\n",
       "      <td>...</td>\n",
       "      <td>...</td>\n",
       "      <td>...</td>\n",
       "      <td>...</td>\n",
       "      <td>...</td>\n",
       "      <td>...</td>\n",
       "      <td>...</td>\n",
       "      <td>...</td>\n",
       "      <td>...</td>\n",
       "      <td>...</td>\n",
       "      <td>...</td>\n",
       "      <td>...</td>\n",
       "      <td>...</td>\n",
       "      <td>...</td>\n",
       "      <td>...</td>\n",
       "      <td>...</td>\n",
       "      <td>...</td>\n",
       "      <td>...</td>\n",
       "    </tr>\n",
       "    <tr>\n",
       "      <th>13647304</th>\n",
       "      <td>2016-05-28</td>\n",
       "      <td>1166765</td>\n",
       "      <td>N</td>\n",
       "      <td>ES</td>\n",
       "      <td>V</td>\n",
       "      <td>22</td>\n",
       "      <td>2013-08-14</td>\n",
       "      <td>0.0</td>\n",
       "      <td>33</td>\n",
       "      <td>1.0</td>\n",
       "      <td>...</td>\n",
       "      <td>0</td>\n",
       "      <td>0</td>\n",
       "      <td>0</td>\n",
       "      <td>0</td>\n",
       "      <td>0</td>\n",
       "      <td>0</td>\n",
       "      <td>0</td>\n",
       "      <td>0.0</td>\n",
       "      <td>0.0</td>\n",
       "      <td>0</td>\n",
       "    </tr>\n",
       "    <tr>\n",
       "      <th>13647305</th>\n",
       "      <td>2016-05-28</td>\n",
       "      <td>1166764</td>\n",
       "      <td>N</td>\n",
       "      <td>ES</td>\n",
       "      <td>V</td>\n",
       "      <td>23</td>\n",
       "      <td>2013-08-14</td>\n",
       "      <td>0.0</td>\n",
       "      <td>33</td>\n",
       "      <td>1.0</td>\n",
       "      <td>...</td>\n",
       "      <td>0</td>\n",
       "      <td>0</td>\n",
       "      <td>0</td>\n",
       "      <td>0</td>\n",
       "      <td>0</td>\n",
       "      <td>0</td>\n",
       "      <td>0</td>\n",
       "      <td>0.0</td>\n",
       "      <td>0.0</td>\n",
       "      <td>0</td>\n",
       "    </tr>\n",
       "    <tr>\n",
       "      <th>13647306</th>\n",
       "      <td>2016-05-28</td>\n",
       "      <td>1166763</td>\n",
       "      <td>N</td>\n",
       "      <td>ES</td>\n",
       "      <td>H</td>\n",
       "      <td>47</td>\n",
       "      <td>2013-08-14</td>\n",
       "      <td>0.0</td>\n",
       "      <td>33</td>\n",
       "      <td>1.0</td>\n",
       "      <td>...</td>\n",
       "      <td>0</td>\n",
       "      <td>0</td>\n",
       "      <td>0</td>\n",
       "      <td>0</td>\n",
       "      <td>0</td>\n",
       "      <td>0</td>\n",
       "      <td>0</td>\n",
       "      <td>0.0</td>\n",
       "      <td>0.0</td>\n",
       "      <td>0</td>\n",
       "    </tr>\n",
       "    <tr>\n",
       "      <th>13647307</th>\n",
       "      <td>2016-05-28</td>\n",
       "      <td>1166789</td>\n",
       "      <td>N</td>\n",
       "      <td>ES</td>\n",
       "      <td>H</td>\n",
       "      <td>22</td>\n",
       "      <td>2013-08-14</td>\n",
       "      <td>0.0</td>\n",
       "      <td>33</td>\n",
       "      <td>1.0</td>\n",
       "      <td>...</td>\n",
       "      <td>0</td>\n",
       "      <td>0</td>\n",
       "      <td>0</td>\n",
       "      <td>0</td>\n",
       "      <td>0</td>\n",
       "      <td>0</td>\n",
       "      <td>0</td>\n",
       "      <td>0.0</td>\n",
       "      <td>0.0</td>\n",
       "      <td>0</td>\n",
       "    </tr>\n",
       "    <tr>\n",
       "      <th>13647308</th>\n",
       "      <td>2016-05-28</td>\n",
       "      <td>1550586</td>\n",
       "      <td>N</td>\n",
       "      <td>ES</td>\n",
       "      <td>H</td>\n",
       "      <td>37</td>\n",
       "      <td>2016-05-13</td>\n",
       "      <td>1.0</td>\n",
       "      <td>0</td>\n",
       "      <td>1.0</td>\n",
       "      <td>...</td>\n",
       "      <td>0</td>\n",
       "      <td>0</td>\n",
       "      <td>0</td>\n",
       "      <td>0</td>\n",
       "      <td>0</td>\n",
       "      <td>0</td>\n",
       "      <td>0</td>\n",
       "      <td>0.0</td>\n",
       "      <td>0.0</td>\n",
       "      <td>0</td>\n",
       "    </tr>\n",
       "  </tbody>\n",
       "</table>\n",
       "<p>13647309 rows × 48 columns</p>\n",
       "</div>"
      ],
      "text/plain": [
       "          fecha_dato  ncodpers ind_empleado pais_residencia sexo  age  \\\n",
       "0         2015-01-28   1375586            N              ES    H   35   \n",
       "1         2015-01-28   1050611            N              ES    V   23   \n",
       "2         2015-01-28   1050612            N              ES    V   23   \n",
       "3         2015-01-28   1050613            N              ES    H   22   \n",
       "4         2015-01-28   1050614            N              ES    V   23   \n",
       "...              ...       ...          ...             ...  ...  ...   \n",
       "13647304  2016-05-28   1166765            N              ES    V   22   \n",
       "13647305  2016-05-28   1166764            N              ES    V   23   \n",
       "13647306  2016-05-28   1166763            N              ES    H   47   \n",
       "13647307  2016-05-28   1166789            N              ES    H   22   \n",
       "13647308  2016-05-28   1550586            N              ES    H   37   \n",
       "\n",
       "          fecha_alta  ind_nuevo antiguedad  indrel  ... ind_hip_fin_ult1  \\\n",
       "0         2015-01-12        0.0          6     1.0  ...                0   \n",
       "1         2012-08-10        0.0         35     1.0  ...                0   \n",
       "2         2012-08-10        0.0         35     1.0  ...                0   \n",
       "3         2012-08-10        0.0         35     1.0  ...                0   \n",
       "4         2012-08-10        0.0         35     1.0  ...                0   \n",
       "...              ...        ...        ...     ...  ...              ...   \n",
       "13647304  2013-08-14        0.0         33     1.0  ...                0   \n",
       "13647305  2013-08-14        0.0         33     1.0  ...                0   \n",
       "13647306  2013-08-14        0.0         33     1.0  ...                0   \n",
       "13647307  2013-08-14        0.0         33     1.0  ...                0   \n",
       "13647308  2016-05-13        1.0          0     1.0  ...                0   \n",
       "\n",
       "         ind_plan_fin_ult1 ind_pres_fin_ult1 ind_reca_fin_ult1  \\\n",
       "0                        0                 0                 0   \n",
       "1                        0                 0                 0   \n",
       "2                        0                 0                 0   \n",
       "3                        0                 0                 0   \n",
       "4                        0                 0                 0   \n",
       "...                    ...               ...               ...   \n",
       "13647304                 0                 0                 0   \n",
       "13647305                 0                 0                 0   \n",
       "13647306                 0                 0                 0   \n",
       "13647307                 0                 0                 0   \n",
       "13647308                 0                 0                 0   \n",
       "\n",
       "         ind_tjcr_fin_ult1 ind_valo_fin_ult1 ind_viv_fin_ult1 ind_nomina_ult1  \\\n",
       "0                        0                 0                0             0.0   \n",
       "1                        0                 0                0             0.0   \n",
       "2                        0                 0                0             0.0   \n",
       "3                        0                 0                0             0.0   \n",
       "4                        0                 0                0             0.0   \n",
       "...                    ...               ...              ...             ...   \n",
       "13647304                 0                 0                0             0.0   \n",
       "13647305                 0                 0                0             0.0   \n",
       "13647306                 0                 0                0             0.0   \n",
       "13647307                 0                 0                0             0.0   \n",
       "13647308                 0                 0                0             0.0   \n",
       "\n",
       "          ind_nom_pens_ult1  ind_recibo_ult1  \n",
       "0                       0.0                0  \n",
       "1                       0.0                0  \n",
       "2                       0.0                0  \n",
       "3                       0.0                0  \n",
       "4                       0.0                0  \n",
       "...                     ...              ...  \n",
       "13647304                0.0                0  \n",
       "13647305                0.0                0  \n",
       "13647306                0.0                0  \n",
       "13647307                0.0                0  \n",
       "13647308                0.0                0  \n",
       "\n",
       "[13647309 rows x 48 columns]"
      ]
     },
     "execution_count": 3,
     "metadata": {},
     "output_type": "execute_result"
    }
   ],
   "source": [
    "df"
   ]
  },
  {
   "cell_type": "code",
   "execution_count": 4,
   "id": "676e7207",
   "metadata": {},
   "outputs": [
    {
     "name": "stdout",
     "output_type": "stream",
     "text": [
      "Number of Rows: 13647309\n",
      "Number of Columns: 48\n",
      "The file is 2292759599 bytes or 2.292759599 gigabytes\n"
     ]
    }
   ],
   "source": [
    "total_rows=len(df.axes[0]) \n",
    "total_cols=len(df.axes[1])\n",
    "print(\"Number of Rows: \"+str(total_rows))\n",
    "print(\"Number of Columns: \"+str(total_cols))\n",
    "\n",
    "sz = Path('Train.csv').stat().st_size\n",
    "gb_sz = sz/1000000000\n",
    "print(\"The file is\", sz, \"bytes or\", gb_sz, \"gigabytes\")"
   ]
  },
  {
   "cell_type": "code",
   "execution_count": 5,
   "id": "5c2a9a44",
   "metadata": {},
   "outputs": [
    {
     "data": {
      "text/plain": [
       "Index(['fecha_dato', 'ncodpers', 'ind_empleado', 'pais_residencia', 'sexo',\n",
       "       'age', 'fecha_alta', 'ind_nuevo', 'antiguedad', 'indrel',\n",
       "       'ult_fec_cli_1t', 'indrel_1mes', 'tiprel_1mes', 'indresi', 'indext',\n",
       "       'conyuemp', 'canal_entrada', 'indfall', 'tipodom', 'cod_prov',\n",
       "       'nomprov', 'ind_actividad_cliente', 'renta', 'segmento',\n",
       "       'ind_ahor_fin_ult1', 'ind_aval_fin_ult1', 'ind_cco_fin_ult1',\n",
       "       'ind_cder_fin_ult1', 'ind_cno_fin_ult1', 'ind_ctju_fin_ult1',\n",
       "       'ind_ctma_fin_ult1', 'ind_ctop_fin_ult1', 'ind_ctpp_fin_ult1',\n",
       "       'ind_deco_fin_ult1', 'ind_deme_fin_ult1', 'ind_dela_fin_ult1',\n",
       "       'ind_ecue_fin_ult1', 'ind_fond_fin_ult1', 'ind_hip_fin_ult1',\n",
       "       'ind_plan_fin_ult1', 'ind_pres_fin_ult1', 'ind_reca_fin_ult1',\n",
       "       'ind_tjcr_fin_ult1', 'ind_valo_fin_ult1', 'ind_viv_fin_ult1',\n",
       "       'ind_nomina_ult1', 'ind_nom_pens_ult1', 'ind_recibo_ult1'],\n",
       "      dtype='object')"
      ]
     },
     "execution_count": 5,
     "metadata": {},
     "output_type": "execute_result"
    }
   ],
   "source": [
    "df.columns"
   ]
  },
  {
   "cell_type": "code",
   "execution_count": 4,
   "id": "921f9131",
   "metadata": {},
   "outputs": [],
   "source": [
    "df.rename(columns={'fecha_dato':'Partitioned Date',\n",
    "                    'ncodpers':'Customer Code',\n",
    "                    'ind_empleado':'Employee Index',\n",
    "                    'pais_residencia':'Country Residence',\n",
    "                    'sexo':'Sex',\n",
    "                    'age':'Age',\n",
    "                    'fecha_alta':'Date Joined',\n",
    "                    'ind_nuevo':'New Customer Index',\n",
    "                    'antiguedad':'Seniority',\n",
    "                    'indrel':'Primary Customer',\n",
    "                    'ult_fec_cli_1t':'Last Date as Primary Customer',\n",
    "                    'indrel_1mes':'Customer Type at Beginning of Month',\n",
    "                    'tiprel_1mes':'Customer Relation Type at Beginning of Month',\n",
    "                    'indresi':'Resident Country is Bank Country',\n",
    "                    'indext':'Birth Country Different Than Bank Country',\n",
    "                    'conyuemp':'Spouse Index', \n",
    "                    'canal_entrada':'Channel Used to Join', \n",
    "                    'indfall':'Deceased', \n",
    "                    'tipodom':'Address Type', \n",
    "                    'cod_prov':'Province Code',\n",
    "                    'nomprov':'Province Name', \n",
    "                    'ind_actividad_cliente':'Activity Index', \n",
    "                    'renta':'Gross Household Income', \n",
    "                    'segmento':'Segmentation',\n",
    "                    'ind_ahor_fin_ult1':'Savings Account',\n",
    "                    'ind_aval_fin_ult1':'Guarantees', \n",
    "                    'ind_cco_fin_ult1':'Current Accounts',\n",
    "                    'ind_cder_fin_ult1':'Derivative Account', \n",
    "                    'ind_cno_fin_ult1':'Payroll Account', \n",
    "                    'ind_ctju_fin_ult1':'Junior Account',\n",
    "                    'ind_ctma_fin_ult1':'More Partiuclar Account', \n",
    "                    'ind_ctop_fin_ult1':'Particular Account', \n",
    "                    'ind_ctpp_fin_ult1':'Particular Plus Account',\n",
    "                    'ind_deco_fin_ult1':'Short-Term Deposits',\n",
    "                    'ind_deme_fin_ult1':'Medium-Term Deposits', \n",
    "                    'ind_dela_fin_ult1':'Long-Term Deposits',\n",
    "                    'ind_ecue_fin_ult1':'E-Account',\n",
    "                    'ind_fond_fin_ult1':'Funds', \n",
    "                    'ind_hip_fin_ult1':'Mortgage',\n",
    "                    'ind_plan_fin_ult1':'Pensions', \n",
    "                    'ind_pres_fin_ult1':'Loans', \n",
    "                    'ind_reca_fin_ult1':'Taxes',\n",
    "                    'ind_tjcr_fin_ult1':'Credit Card', \n",
    "                    'ind_valo_fin_ult1':'Securities', \n",
    "                    'ind_viv_fin_ult1':'Home Account',\n",
    "                    'ind_nomina_ult1':'Payroll', \n",
    "                    'ind_nom_pens_ult1':'Pension', \n",
    "                    'ind_recibo_ult1':'Direct Debit'}, inplace = True)"
   ]
  },
  {
   "cell_type": "code",
   "execution_count": 7,
   "id": "60d6d4e9",
   "metadata": {},
   "outputs": [
    {
     "data": {
      "text/html": [
       "<div>\n",
       "<style scoped>\n",
       "    .dataframe tbody tr th:only-of-type {\n",
       "        vertical-align: middle;\n",
       "    }\n",
       "\n",
       "    .dataframe tbody tr th {\n",
       "        vertical-align: top;\n",
       "    }\n",
       "\n",
       "    .dataframe thead th {\n",
       "        text-align: right;\n",
       "    }\n",
       "</style>\n",
       "<table border=\"1\" class=\"dataframe\">\n",
       "  <thead>\n",
       "    <tr style=\"text-align: right;\">\n",
       "      <th></th>\n",
       "      <th>Partitioned Date</th>\n",
       "      <th>Customer Code</th>\n",
       "      <th>Employee Index</th>\n",
       "      <th>Country Residence</th>\n",
       "      <th>Sex</th>\n",
       "      <th>Age</th>\n",
       "      <th>Date Joined</th>\n",
       "      <th>New Customer Index</th>\n",
       "      <th>Seniority</th>\n",
       "      <th>Primary Customer</th>\n",
       "      <th>...</th>\n",
       "      <th>Mortgage</th>\n",
       "      <th>Pensions</th>\n",
       "      <th>Loans</th>\n",
       "      <th>Taxes</th>\n",
       "      <th>Credit Card</th>\n",
       "      <th>Securities</th>\n",
       "      <th>Home Account</th>\n",
       "      <th>Payroll</th>\n",
       "      <th>Pension</th>\n",
       "      <th>Direct Debit</th>\n",
       "    </tr>\n",
       "  </thead>\n",
       "  <tbody>\n",
       "    <tr>\n",
       "      <th>0</th>\n",
       "      <td>2015-01-28</td>\n",
       "      <td>1375586</td>\n",
       "      <td>N</td>\n",
       "      <td>ES</td>\n",
       "      <td>H</td>\n",
       "      <td>35</td>\n",
       "      <td>2015-01-12</td>\n",
       "      <td>0.0</td>\n",
       "      <td>6</td>\n",
       "      <td>1.0</td>\n",
       "      <td>...</td>\n",
       "      <td>0</td>\n",
       "      <td>0</td>\n",
       "      <td>0</td>\n",
       "      <td>0</td>\n",
       "      <td>0</td>\n",
       "      <td>0</td>\n",
       "      <td>0</td>\n",
       "      <td>0.0</td>\n",
       "      <td>0.0</td>\n",
       "      <td>0</td>\n",
       "    </tr>\n",
       "    <tr>\n",
       "      <th>1</th>\n",
       "      <td>2015-01-28</td>\n",
       "      <td>1050611</td>\n",
       "      <td>N</td>\n",
       "      <td>ES</td>\n",
       "      <td>V</td>\n",
       "      <td>23</td>\n",
       "      <td>2012-08-10</td>\n",
       "      <td>0.0</td>\n",
       "      <td>35</td>\n",
       "      <td>1.0</td>\n",
       "      <td>...</td>\n",
       "      <td>0</td>\n",
       "      <td>0</td>\n",
       "      <td>0</td>\n",
       "      <td>0</td>\n",
       "      <td>0</td>\n",
       "      <td>0</td>\n",
       "      <td>0</td>\n",
       "      <td>0.0</td>\n",
       "      <td>0.0</td>\n",
       "      <td>0</td>\n",
       "    </tr>\n",
       "    <tr>\n",
       "      <th>2</th>\n",
       "      <td>2015-01-28</td>\n",
       "      <td>1050612</td>\n",
       "      <td>N</td>\n",
       "      <td>ES</td>\n",
       "      <td>V</td>\n",
       "      <td>23</td>\n",
       "      <td>2012-08-10</td>\n",
       "      <td>0.0</td>\n",
       "      <td>35</td>\n",
       "      <td>1.0</td>\n",
       "      <td>...</td>\n",
       "      <td>0</td>\n",
       "      <td>0</td>\n",
       "      <td>0</td>\n",
       "      <td>0</td>\n",
       "      <td>0</td>\n",
       "      <td>0</td>\n",
       "      <td>0</td>\n",
       "      <td>0.0</td>\n",
       "      <td>0.0</td>\n",
       "      <td>0</td>\n",
       "    </tr>\n",
       "    <tr>\n",
       "      <th>3</th>\n",
       "      <td>2015-01-28</td>\n",
       "      <td>1050613</td>\n",
       "      <td>N</td>\n",
       "      <td>ES</td>\n",
       "      <td>H</td>\n",
       "      <td>22</td>\n",
       "      <td>2012-08-10</td>\n",
       "      <td>0.0</td>\n",
       "      <td>35</td>\n",
       "      <td>1.0</td>\n",
       "      <td>...</td>\n",
       "      <td>0</td>\n",
       "      <td>0</td>\n",
       "      <td>0</td>\n",
       "      <td>0</td>\n",
       "      <td>0</td>\n",
       "      <td>0</td>\n",
       "      <td>0</td>\n",
       "      <td>0.0</td>\n",
       "      <td>0.0</td>\n",
       "      <td>0</td>\n",
       "    </tr>\n",
       "    <tr>\n",
       "      <th>4</th>\n",
       "      <td>2015-01-28</td>\n",
       "      <td>1050614</td>\n",
       "      <td>N</td>\n",
       "      <td>ES</td>\n",
       "      <td>V</td>\n",
       "      <td>23</td>\n",
       "      <td>2012-08-10</td>\n",
       "      <td>0.0</td>\n",
       "      <td>35</td>\n",
       "      <td>1.0</td>\n",
       "      <td>...</td>\n",
       "      <td>0</td>\n",
       "      <td>0</td>\n",
       "      <td>0</td>\n",
       "      <td>0</td>\n",
       "      <td>0</td>\n",
       "      <td>0</td>\n",
       "      <td>0</td>\n",
       "      <td>0.0</td>\n",
       "      <td>0.0</td>\n",
       "      <td>0</td>\n",
       "    </tr>\n",
       "    <tr>\n",
       "      <th>...</th>\n",
       "      <td>...</td>\n",
       "      <td>...</td>\n",
       "      <td>...</td>\n",
       "      <td>...</td>\n",
       "      <td>...</td>\n",
       "      <td>...</td>\n",
       "      <td>...</td>\n",
       "      <td>...</td>\n",
       "      <td>...</td>\n",
       "      <td>...</td>\n",
       "      <td>...</td>\n",
       "      <td>...</td>\n",
       "      <td>...</td>\n",
       "      <td>...</td>\n",
       "      <td>...</td>\n",
       "      <td>...</td>\n",
       "      <td>...</td>\n",
       "      <td>...</td>\n",
       "      <td>...</td>\n",
       "      <td>...</td>\n",
       "      <td>...</td>\n",
       "    </tr>\n",
       "    <tr>\n",
       "      <th>13647304</th>\n",
       "      <td>2016-05-28</td>\n",
       "      <td>1166765</td>\n",
       "      <td>N</td>\n",
       "      <td>ES</td>\n",
       "      <td>V</td>\n",
       "      <td>22</td>\n",
       "      <td>2013-08-14</td>\n",
       "      <td>0.0</td>\n",
       "      <td>33</td>\n",
       "      <td>1.0</td>\n",
       "      <td>...</td>\n",
       "      <td>0</td>\n",
       "      <td>0</td>\n",
       "      <td>0</td>\n",
       "      <td>0</td>\n",
       "      <td>0</td>\n",
       "      <td>0</td>\n",
       "      <td>0</td>\n",
       "      <td>0.0</td>\n",
       "      <td>0.0</td>\n",
       "      <td>0</td>\n",
       "    </tr>\n",
       "    <tr>\n",
       "      <th>13647305</th>\n",
       "      <td>2016-05-28</td>\n",
       "      <td>1166764</td>\n",
       "      <td>N</td>\n",
       "      <td>ES</td>\n",
       "      <td>V</td>\n",
       "      <td>23</td>\n",
       "      <td>2013-08-14</td>\n",
       "      <td>0.0</td>\n",
       "      <td>33</td>\n",
       "      <td>1.0</td>\n",
       "      <td>...</td>\n",
       "      <td>0</td>\n",
       "      <td>0</td>\n",
       "      <td>0</td>\n",
       "      <td>0</td>\n",
       "      <td>0</td>\n",
       "      <td>0</td>\n",
       "      <td>0</td>\n",
       "      <td>0.0</td>\n",
       "      <td>0.0</td>\n",
       "      <td>0</td>\n",
       "    </tr>\n",
       "    <tr>\n",
       "      <th>13647306</th>\n",
       "      <td>2016-05-28</td>\n",
       "      <td>1166763</td>\n",
       "      <td>N</td>\n",
       "      <td>ES</td>\n",
       "      <td>H</td>\n",
       "      <td>47</td>\n",
       "      <td>2013-08-14</td>\n",
       "      <td>0.0</td>\n",
       "      <td>33</td>\n",
       "      <td>1.0</td>\n",
       "      <td>...</td>\n",
       "      <td>0</td>\n",
       "      <td>0</td>\n",
       "      <td>0</td>\n",
       "      <td>0</td>\n",
       "      <td>0</td>\n",
       "      <td>0</td>\n",
       "      <td>0</td>\n",
       "      <td>0.0</td>\n",
       "      <td>0.0</td>\n",
       "      <td>0</td>\n",
       "    </tr>\n",
       "    <tr>\n",
       "      <th>13647307</th>\n",
       "      <td>2016-05-28</td>\n",
       "      <td>1166789</td>\n",
       "      <td>N</td>\n",
       "      <td>ES</td>\n",
       "      <td>H</td>\n",
       "      <td>22</td>\n",
       "      <td>2013-08-14</td>\n",
       "      <td>0.0</td>\n",
       "      <td>33</td>\n",
       "      <td>1.0</td>\n",
       "      <td>...</td>\n",
       "      <td>0</td>\n",
       "      <td>0</td>\n",
       "      <td>0</td>\n",
       "      <td>0</td>\n",
       "      <td>0</td>\n",
       "      <td>0</td>\n",
       "      <td>0</td>\n",
       "      <td>0.0</td>\n",
       "      <td>0.0</td>\n",
       "      <td>0</td>\n",
       "    </tr>\n",
       "    <tr>\n",
       "      <th>13647308</th>\n",
       "      <td>2016-05-28</td>\n",
       "      <td>1550586</td>\n",
       "      <td>N</td>\n",
       "      <td>ES</td>\n",
       "      <td>H</td>\n",
       "      <td>37</td>\n",
       "      <td>2016-05-13</td>\n",
       "      <td>1.0</td>\n",
       "      <td>0</td>\n",
       "      <td>1.0</td>\n",
       "      <td>...</td>\n",
       "      <td>0</td>\n",
       "      <td>0</td>\n",
       "      <td>0</td>\n",
       "      <td>0</td>\n",
       "      <td>0</td>\n",
       "      <td>0</td>\n",
       "      <td>0</td>\n",
       "      <td>0.0</td>\n",
       "      <td>0.0</td>\n",
       "      <td>0</td>\n",
       "    </tr>\n",
       "  </tbody>\n",
       "</table>\n",
       "<p>13647309 rows × 48 columns</p>\n",
       "</div>"
      ],
      "text/plain": [
       "         Partitioned Date  Customer Code Employee Index Country Residence Sex  \\\n",
       "0              2015-01-28        1375586              N                ES   H   \n",
       "1              2015-01-28        1050611              N                ES   V   \n",
       "2              2015-01-28        1050612              N                ES   V   \n",
       "3              2015-01-28        1050613              N                ES   H   \n",
       "4              2015-01-28        1050614              N                ES   V   \n",
       "...                   ...            ...            ...               ...  ..   \n",
       "13647304       2016-05-28        1166765              N                ES   V   \n",
       "13647305       2016-05-28        1166764              N                ES   V   \n",
       "13647306       2016-05-28        1166763              N                ES   H   \n",
       "13647307       2016-05-28        1166789              N                ES   H   \n",
       "13647308       2016-05-28        1550586              N                ES   H   \n",
       "\n",
       "          Age Date Joined  New Customer Index Seniority  Primary Customer  \\\n",
       "0          35  2015-01-12                 0.0         6               1.0   \n",
       "1          23  2012-08-10                 0.0        35               1.0   \n",
       "2          23  2012-08-10                 0.0        35               1.0   \n",
       "3          22  2012-08-10                 0.0        35               1.0   \n",
       "4          23  2012-08-10                 0.0        35               1.0   \n",
       "...       ...         ...                 ...       ...               ...   \n",
       "13647304   22  2013-08-14                 0.0        33               1.0   \n",
       "13647305   23  2013-08-14                 0.0        33               1.0   \n",
       "13647306   47  2013-08-14                 0.0        33               1.0   \n",
       "13647307   22  2013-08-14                 0.0        33               1.0   \n",
       "13647308   37  2016-05-13                 1.0         0               1.0   \n",
       "\n",
       "          ... Mortgage Pensions Loans Taxes Credit Card Securities  \\\n",
       "0         ...        0        0     0     0           0          0   \n",
       "1         ...        0        0     0     0           0          0   \n",
       "2         ...        0        0     0     0           0          0   \n",
       "3         ...        0        0     0     0           0          0   \n",
       "4         ...        0        0     0     0           0          0   \n",
       "...       ...      ...      ...   ...   ...         ...        ...   \n",
       "13647304  ...        0        0     0     0           0          0   \n",
       "13647305  ...        0        0     0     0           0          0   \n",
       "13647306  ...        0        0     0     0           0          0   \n",
       "13647307  ...        0        0     0     0           0          0   \n",
       "13647308  ...        0        0     0     0           0          0   \n",
       "\n",
       "         Home Account Payroll  Pension  Direct Debit  \n",
       "0                   0     0.0      0.0             0  \n",
       "1                   0     0.0      0.0             0  \n",
       "2                   0     0.0      0.0             0  \n",
       "3                   0     0.0      0.0             0  \n",
       "4                   0     0.0      0.0             0  \n",
       "...               ...     ...      ...           ...  \n",
       "13647304            0     0.0      0.0             0  \n",
       "13647305            0     0.0      0.0             0  \n",
       "13647306            0     0.0      0.0             0  \n",
       "13647307            0     0.0      0.0             0  \n",
       "13647308            0     0.0      0.0             0  \n",
       "\n",
       "[13647309 rows x 48 columns]"
      ]
     },
     "execution_count": 7,
     "metadata": {},
     "output_type": "execute_result"
    }
   ],
   "source": [
    "df"
   ]
  },
  {
   "cell_type": "code",
   "execution_count": null,
   "id": "a30279a3",
   "metadata": {},
   "outputs": [],
   "source": []
  },
  {
   "cell_type": "code",
   "execution_count": null,
   "id": "c301cbe0",
   "metadata": {},
   "outputs": [],
   "source": []
  },
  {
   "cell_type": "code",
   "execution_count": null,
   "id": "2b9e8e72",
   "metadata": {},
   "outputs": [],
   "source": []
  },
  {
   "cell_type": "code",
   "execution_count": null,
   "id": "62c75cb1",
   "metadata": {},
   "outputs": [],
   "source": [
    "# These next few lines of code will be testing different functions and getting an overall understanding of the dataset."
   ]
  },
  {
   "cell_type": "code",
   "execution_count": 8,
   "id": "38cebb1a",
   "metadata": {},
   "outputs": [
    {
     "data": {
      "text/plain": [
       "Partitioned Date                                 object\n",
       "Customer Code                                     int64\n",
       "Employee Index                                   object\n",
       "Country Residence                                object\n",
       "Sex                                              object\n",
       "Age                                              object\n",
       "Date Joined                                      object\n",
       "New Customer Index                              float64\n",
       "Seniority                                        object\n",
       "Primary Customer                                float64\n",
       "Last Date as Primary Customer                    object\n",
       "Customer Type at Beginning of Month              object\n",
       "Customer Relation Type at Beginning of Month     object\n",
       "Resident Country is Bank Country                 object\n",
       "Birth Country Different Than Bank Country        object\n",
       "Spouse Index                                     object\n",
       "Channel Used to Join                             object\n",
       "Deceased                                         object\n",
       "Address Type                                    float64\n",
       "Province Code                                   float64\n",
       "Province Name                                    object\n",
       "Activity Index                                  float64\n",
       "Gross Household Income                          float64\n",
       "Segmentation                                     object\n",
       "Savings Account                                   int64\n",
       "Guarantees                                        int64\n",
       "Current Accounts                                  int64\n",
       "Derivative Account                                int64\n",
       "Payroll Account                                   int64\n",
       "Junior Account                                    int64\n",
       "More Partiuclar Account                           int64\n",
       "Particular Account                                int64\n",
       "Particular Plus Account                           int64\n",
       "Short-Term Deposits                               int64\n",
       "Medium-Term Deposits                              int64\n",
       "Long-Term Deposits                                int64\n",
       "E-Account                                         int64\n",
       "Funds                                             int64\n",
       "Mortgage                                          int64\n",
       "Pensions                                          int64\n",
       "Loans                                             int64\n",
       "Taxes                                             int64\n",
       "Credit Card                                       int64\n",
       "Securities                                        int64\n",
       "Home Account                                      int64\n",
       "Payroll                                         float64\n",
       "Pension                                         float64\n",
       "Direct Debit                                      int64\n",
       "dtype: object"
      ]
     },
     "execution_count": 8,
     "metadata": {},
     "output_type": "execute_result"
    }
   ],
   "source": [
    "df.dtypes"
   ]
  },
  {
   "cell_type": "code",
   "execution_count": 9,
   "id": "e4116001",
   "metadata": {},
   "outputs": [
    {
     "data": {
      "text/plain": [
       "Partitioned Date                                       0\n",
       "Customer Code                                          0\n",
       "Employee Index                                     27734\n",
       "Country Residence                                  27734\n",
       "Sex                                                27804\n",
       "Age                                                    0\n",
       "Date Joined                                        27734\n",
       "New Customer Index                                 27734\n",
       "Seniority                                              0\n",
       "Primary Customer                                   27734\n",
       "Last Date as Primary Customer                   13622516\n",
       "Customer Type at Beginning of Month               149781\n",
       "Customer Relation Type at Beginning of Month      149781\n",
       "Resident Country is Bank Country                   27734\n",
       "Birth Country Different Than Bank Country          27734\n",
       "Spouse Index                                    13645501\n",
       "Channel Used to Join                              186126\n",
       "Deceased                                           27734\n",
       "Address Type                                       27735\n",
       "Province Code                                      93591\n",
       "Province Name                                      93591\n",
       "Activity Index                                     27734\n",
       "Gross Household Income                           2794375\n",
       "Segmentation                                      189368\n",
       "Savings Account                                        0\n",
       "Guarantees                                             0\n",
       "Current Accounts                                       0\n",
       "Derivative Account                                     0\n",
       "Payroll Account                                        0\n",
       "Junior Account                                         0\n",
       "More Partiuclar Account                                0\n",
       "Particular Account                                     0\n",
       "Particular Plus Account                                0\n",
       "Short-Term Deposits                                    0\n",
       "Medium-Term Deposits                                   0\n",
       "Long-Term Deposits                                     0\n",
       "E-Account                                              0\n",
       "Funds                                                  0\n",
       "Mortgage                                               0\n",
       "Pensions                                               0\n",
       "Loans                                                  0\n",
       "Taxes                                                  0\n",
       "Credit Card                                            0\n",
       "Securities                                             0\n",
       "Home Account                                           0\n",
       "Payroll                                            16063\n",
       "Pension                                            16063\n",
       "Direct Debit                                           0\n",
       "dtype: int64"
      ]
     },
     "execution_count": 9,
     "metadata": {},
     "output_type": "execute_result"
    }
   ],
   "source": [
    " df.isna().sum()"
   ]
  },
  {
   "cell_type": "code",
   "execution_count": 10,
   "id": "4e2af6e0",
   "metadata": {},
   "outputs": [
    {
     "data": {
      "text/plain": [
       "134254.31823814093"
      ]
     },
     "execution_count": 10,
     "metadata": {},
     "output_type": "execute_result"
    }
   ],
   "source": [
    "df['Gross Household Income'].mean()"
   ]
  },
  {
   "cell_type": "code",
   "execution_count": 11,
   "id": "9c0d2a05",
   "metadata": {},
   "outputs": [
    {
     "data": {
      "text/plain": [
       "101850.0"
      ]
     },
     "execution_count": 11,
     "metadata": {},
     "output_type": "execute_result"
    }
   ],
   "source": [
    "df['Gross Household Income'].median()"
   ]
  },
  {
   "cell_type": "code",
   "execution_count": 12,
   "id": "3e0d10b2",
   "metadata": {},
   "outputs": [
    {
     "data": {
      "text/plain": [
       "1202.73"
      ]
     },
     "execution_count": 12,
     "metadata": {},
     "output_type": "execute_result"
    }
   ],
   "source": [
    "min(df['Gross Household Income'])"
   ]
  },
  {
   "cell_type": "code",
   "execution_count": 13,
   "id": "9b246185",
   "metadata": {},
   "outputs": [
    {
     "data": {
      "text/plain": [
       "28894395.51"
      ]
     },
     "execution_count": 13,
     "metadata": {},
     "output_type": "execute_result"
    }
   ],
   "source": [
    "max(df['Gross Household Income'])"
   ]
  },
  {
   "cell_type": "code",
   "execution_count": 14,
   "id": "a1914275",
   "metadata": {},
   "outputs": [
    {
     "data": {
      "text/plain": [
       "0    V\n",
       "Name: Sex, dtype: object"
      ]
     },
     "execution_count": 14,
     "metadata": {},
     "output_type": "execute_result"
    }
   ],
   "source": [
    "df['Sex'].mode()"
   ]
  },
  {
   "cell_type": "code",
   "execution_count": 15,
   "id": "ca0a83cb",
   "metadata": {},
   "outputs": [
    {
     "data": {
      "text/plain": [
       "0    1.0\n",
       "Name: Customer Type at Beginning of Month, dtype: object"
      ]
     },
     "execution_count": 15,
     "metadata": {},
     "output_type": "execute_result"
    }
   ],
   "source": [
    "df['Customer Type at Beginning of Month'].mode()"
   ]
  },
  {
   "cell_type": "code",
   "execution_count": 16,
   "id": "d5ffae2b",
   "metadata": {},
   "outputs": [
    {
     "data": {
      "text/plain": [
       "array(['1.0', '1', nan, '3.0', '3', '2', '2.0', '4.0', 'P', '4'],\n",
       "      dtype=object)"
      ]
     },
     "execution_count": 16,
     "metadata": {},
     "output_type": "execute_result"
    }
   ],
   "source": [
    "df['Customer Type at Beginning of Month'].unique()"
   ]
  },
  {
   "cell_type": "code",
   "execution_count": 17,
   "id": "48d39f5a",
   "metadata": {},
   "outputs": [
    {
     "data": {
      "text/plain": [
       "9"
      ]
     },
     "execution_count": 17,
     "metadata": {},
     "output_type": "execute_result"
    }
   ],
   "source": [
    "df['Customer Type at Beginning of Month'].nunique()"
   ]
  },
  {
   "cell_type": "code",
   "execution_count": null,
   "id": "0a1c43cd",
   "metadata": {},
   "outputs": [],
   "source": []
  },
  {
   "cell_type": "code",
   "execution_count": null,
   "id": "10eb53e0",
   "metadata": {},
   "outputs": [],
   "source": []
  },
  {
   "cell_type": "code",
   "execution_count": null,
   "id": "6e71ed9d",
   "metadata": {},
   "outputs": [],
   "source": []
  },
  {
   "cell_type": "code",
   "execution_count": null,
   "id": "04fd3706",
   "metadata": {},
   "outputs": [],
   "source": [
    "# These next few lines of code will be trying to determine the outliers of Gross Household Income, and how to deal with them."
   ]
  },
  {
   "cell_type": "code",
   "execution_count": 18,
   "id": "a48ce342",
   "metadata": {},
   "outputs": [
    {
     "data": {
      "text/plain": [
       "327991     28894395.51\n",
       "332909     28894395.51\n",
       "344184     28894395.51\n",
       "903902     28894395.51\n",
       "919787     28894395.51\n",
       "              ...     \n",
       "2500896    24253236.93\n",
       "2531661    24253236.93\n",
       "3160166    24253236.93\n",
       "3906721    24253236.93\n",
       "4387351    24253236.93\n",
       "Name: Gross Household Income, Length: 100, dtype: float64"
      ]
     },
     "execution_count": 18,
     "metadata": {},
     "output_type": "execute_result"
    }
   ],
   "source": [
    "df['Gross Household Income'].nlargest(n=100)"
   ]
  },
  {
   "cell_type": "code",
   "execution_count": 19,
   "id": "53de14f6",
   "metadata": {},
   "outputs": [
    {
     "data": {
      "text/plain": [
       "280346     1202.73\n",
       "950236     1202.73\n",
       "1570122    1202.73\n",
       "2199247    1202.73\n",
       "2823646    1202.73\n",
       "            ...   \n",
       "5539437    3796.86\n",
       "5766988    3796.86\n",
       "5783021    3796.86\n",
       "6856407    3796.86\n",
       "6868095    3796.86\n",
       "Name: Gross Household Income, Length: 100, dtype: float64"
      ]
     },
     "execution_count": 19,
     "metadata": {},
     "output_type": "execute_result"
    }
   ],
   "source": [
    "df['Gross Household Income'].nsmallest(n=100)"
   ]
  },
  {
   "cell_type": "code",
   "execution_count": 20,
   "id": "a8112620",
   "metadata": {},
   "outputs": [
    {
     "name": "stderr",
     "output_type": "stream",
     "text": [
      "C:\\Users\\Colt\\AppData\\Local\\Temp\\ipykernel_7580\\3797560459.py:3: UserWarning: \n",
      "\n",
      "`distplot` is a deprecated function and will be removed in seaborn v0.14.0.\n",
      "\n",
      "Please adapt your code to use either `displot` (a figure-level function with\n",
      "similar flexibility) or `histplot` (an axes-level function for histograms).\n",
      "\n",
      "For a guide to updating your code to use the new functions, please see\n",
      "https://gist.github.com/mwaskom/de44147ed2974457ad6372750bbe5751\n",
      "\n",
      "  sns.distplot(df['Gross Household Income'])\n"
     ]
    },
    {
     "data": {
      "image/png": "[encoded data removed]",
      "text/plain": [
       "<Figure size 1152x360 with 1 Axes>"
      ]
     },
     "metadata": {
      "needs_background": "light"
     },
     "output_type": "display_data"
    }
   ],
   "source": [
    "plt.figure(figsize=(16,5))\n",
    "plt.subplot(1,2,2)\n",
    "sns.distplot(df['Gross Household Income'])\n",
    "plt.show()"
   ]
  },
  {
   "cell_type": "code",
   "execution_count": 21,
   "id": "92b5d0b1",
   "metadata": {},
   "outputs": [
    {
     "name": "stdout",
     "output_type": "stream",
     "text": [
      "Highest allowed 826115.0347038\n",
      "Lowest allowed -557606.3982275182\n"
     ]
    }
   ],
   "source": [
    "print(\"Highest allowed\",df['Gross Household Income'].mean() + 3*df['Gross Household Income'].std())\n",
    "print(\"Lowest allowed\",df['Gross Household Income'].mean() - 3*df['Gross Household Income'].std())"
   ]
  },
  {
   "cell_type": "code",
   "execution_count": 22,
   "id": "c331b289",
   "metadata": {},
   "outputs": [
    {
     "data": {
      "text/html": [
       "<div>\n",
       "<style scoped>\n",
       "    .dataframe tbody tr th:only-of-type {\n",
       "        vertical-align: middle;\n",
       "    }\n",
       "\n",
       "    .dataframe tbody tr th {\n",
       "        vertical-align: top;\n",
       "    }\n",
       "\n",
       "    .dataframe thead th {\n",
       "        text-align: right;\n",
       "    }\n",
       "</style>\n",
       "<table border=\"1\" class=\"dataframe\">\n",
       "  <thead>\n",
       "    <tr style=\"text-align: right;\">\n",
       "      <th></th>\n",
       "      <th>Partitioned Date</th>\n",
       "      <th>Customer Code</th>\n",
       "      <th>Employee Index</th>\n",
       "      <th>Country Residence</th>\n",
       "      <th>Sex</th>\n",
       "      <th>Age</th>\n",
       "      <th>Date Joined</th>\n",
       "      <th>New Customer Index</th>\n",
       "      <th>Seniority</th>\n",
       "      <th>Primary Customer</th>\n",
       "      <th>...</th>\n",
       "      <th>Mortgage</th>\n",
       "      <th>Pensions</th>\n",
       "      <th>Loans</th>\n",
       "      <th>Taxes</th>\n",
       "      <th>Credit Card</th>\n",
       "      <th>Securities</th>\n",
       "      <th>Home Account</th>\n",
       "      <th>Payroll</th>\n",
       "      <th>Pension</th>\n",
       "      <th>Direct Debit</th>\n",
       "    </tr>\n",
       "  </thead>\n",
       "  <tbody>\n",
       "    <tr>\n",
       "      <th>467</th>\n",
       "      <td>2015-01-28</td>\n",
       "      <td>1050426</td>\n",
       "      <td>N</td>\n",
       "      <td>ES</td>\n",
       "      <td>H</td>\n",
       "      <td>25</td>\n",
       "      <td>2012-08-10</td>\n",
       "      <td>0.0</td>\n",
       "      <td>35</td>\n",
       "      <td>1.0</td>\n",
       "      <td>...</td>\n",
       "      <td>0</td>\n",
       "      <td>0</td>\n",
       "      <td>0</td>\n",
       "      <td>0</td>\n",
       "      <td>0</td>\n",
       "      <td>0</td>\n",
       "      <td>0</td>\n",
       "      <td>0.0</td>\n",
       "      <td>0.0</td>\n",
       "      <td>0</td>\n",
       "    </tr>\n",
       "    <tr>\n",
       "      <th>822</th>\n",
       "      <td>2015-01-28</td>\n",
       "      <td>1052362</td>\n",
       "      <td>N</td>\n",
       "      <td>ES</td>\n",
       "      <td>V</td>\n",
       "      <td>22</td>\n",
       "      <td>2012-08-17</td>\n",
       "      <td>0.0</td>\n",
       "      <td>35</td>\n",
       "      <td>1.0</td>\n",
       "      <td>...</td>\n",
       "      <td>0</td>\n",
       "      <td>0</td>\n",
       "      <td>0</td>\n",
       "      <td>0</td>\n",
       "      <td>0</td>\n",
       "      <td>0</td>\n",
       "      <td>0</td>\n",
       "      <td>0.0</td>\n",
       "      <td>0.0</td>\n",
       "      <td>0</td>\n",
       "    </tr>\n",
       "    <tr>\n",
       "      <th>1151</th>\n",
       "      <td>2015-01-28</td>\n",
       "      <td>1051383</td>\n",
       "      <td>N</td>\n",
       "      <td>ES</td>\n",
       "      <td>V</td>\n",
       "      <td>53</td>\n",
       "      <td>2012-08-13</td>\n",
       "      <td>0.0</td>\n",
       "      <td>35</td>\n",
       "      <td>1.0</td>\n",
       "      <td>...</td>\n",
       "      <td>0</td>\n",
       "      <td>0</td>\n",
       "      <td>0</td>\n",
       "      <td>1</td>\n",
       "      <td>0</td>\n",
       "      <td>0</td>\n",
       "      <td>0</td>\n",
       "      <td>0.0</td>\n",
       "      <td>0.0</td>\n",
       "      <td>1</td>\n",
       "    </tr>\n",
       "    <tr>\n",
       "      <th>1742</th>\n",
       "      <td>2015-01-28</td>\n",
       "      <td>1048801</td>\n",
       "      <td>N</td>\n",
       "      <td>ES</td>\n",
       "      <td>H</td>\n",
       "      <td>23</td>\n",
       "      <td>2012-08-09</td>\n",
       "      <td>0.0</td>\n",
       "      <td>35</td>\n",
       "      <td>1.0</td>\n",
       "      <td>...</td>\n",
       "      <td>0</td>\n",
       "      <td>0</td>\n",
       "      <td>0</td>\n",
       "      <td>0</td>\n",
       "      <td>0</td>\n",
       "      <td>0</td>\n",
       "      <td>0</td>\n",
       "      <td>0.0</td>\n",
       "      <td>0.0</td>\n",
       "      <td>0</td>\n",
       "    </tr>\n",
       "    <tr>\n",
       "      <th>1744</th>\n",
       "      <td>2015-01-28</td>\n",
       "      <td>1048803</td>\n",
       "      <td>N</td>\n",
       "      <td>ES</td>\n",
       "      <td>V</td>\n",
       "      <td>26</td>\n",
       "      <td>2012-08-09</td>\n",
       "      <td>0.0</td>\n",
       "      <td>35</td>\n",
       "      <td>1.0</td>\n",
       "      <td>...</td>\n",
       "      <td>0</td>\n",
       "      <td>0</td>\n",
       "      <td>0</td>\n",
       "      <td>0</td>\n",
       "      <td>0</td>\n",
       "      <td>0</td>\n",
       "      <td>0</td>\n",
       "      <td>0.0</td>\n",
       "      <td>0.0</td>\n",
       "      <td>0</td>\n",
       "    </tr>\n",
       "    <tr>\n",
       "      <th>...</th>\n",
       "      <td>...</td>\n",
       "      <td>...</td>\n",
       "      <td>...</td>\n",
       "      <td>...</td>\n",
       "      <td>...</td>\n",
       "      <td>...</td>\n",
       "      <td>...</td>\n",
       "      <td>...</td>\n",
       "      <td>...</td>\n",
       "      <td>...</td>\n",
       "      <td>...</td>\n",
       "      <td>...</td>\n",
       "      <td>...</td>\n",
       "      <td>...</td>\n",
       "      <td>...</td>\n",
       "      <td>...</td>\n",
       "      <td>...</td>\n",
       "      <td>...</td>\n",
       "      <td>...</td>\n",
       "      <td>...</td>\n",
       "      <td>...</td>\n",
       "    </tr>\n",
       "    <tr>\n",
       "      <th>13644850</th>\n",
       "      <td>2016-05-28</td>\n",
       "      <td>1164027</td>\n",
       "      <td>N</td>\n",
       "      <td>ES</td>\n",
       "      <td>V</td>\n",
       "      <td>27</td>\n",
       "      <td>2013-08-12</td>\n",
       "      <td>0.0</td>\n",
       "      <td>33</td>\n",
       "      <td>1.0</td>\n",
       "      <td>...</td>\n",
       "      <td>0</td>\n",
       "      <td>0</td>\n",
       "      <td>0</td>\n",
       "      <td>0</td>\n",
       "      <td>0</td>\n",
       "      <td>0</td>\n",
       "      <td>0</td>\n",
       "      <td>0.0</td>\n",
       "      <td>0.0</td>\n",
       "      <td>1</td>\n",
       "    </tr>\n",
       "    <tr>\n",
       "      <th>13645267</th>\n",
       "      <td>2016-05-28</td>\n",
       "      <td>1164544</td>\n",
       "      <td>N</td>\n",
       "      <td>ES</td>\n",
       "      <td>H</td>\n",
       "      <td>22</td>\n",
       "      <td>2013-08-13</td>\n",
       "      <td>0.0</td>\n",
       "      <td>33</td>\n",
       "      <td>1.0</td>\n",
       "      <td>...</td>\n",
       "      <td>0</td>\n",
       "      <td>0</td>\n",
       "      <td>0</td>\n",
       "      <td>0</td>\n",
       "      <td>0</td>\n",
       "      <td>0</td>\n",
       "      <td>0</td>\n",
       "      <td>0.0</td>\n",
       "      <td>0.0</td>\n",
       "      <td>0</td>\n",
       "    </tr>\n",
       "    <tr>\n",
       "      <th>13645403</th>\n",
       "      <td>2016-05-28</td>\n",
       "      <td>1164697</td>\n",
       "      <td>N</td>\n",
       "      <td>ES</td>\n",
       "      <td>V</td>\n",
       "      <td>23</td>\n",
       "      <td>2013-08-13</td>\n",
       "      <td>0.0</td>\n",
       "      <td>33</td>\n",
       "      <td>1.0</td>\n",
       "      <td>...</td>\n",
       "      <td>0</td>\n",
       "      <td>0</td>\n",
       "      <td>0</td>\n",
       "      <td>0</td>\n",
       "      <td>0</td>\n",
       "      <td>0</td>\n",
       "      <td>0</td>\n",
       "      <td>0.0</td>\n",
       "      <td>0.0</td>\n",
       "      <td>0</td>\n",
       "    </tr>\n",
       "    <tr>\n",
       "      <th>13645545</th>\n",
       "      <td>2016-05-28</td>\n",
       "      <td>1167675</td>\n",
       "      <td>N</td>\n",
       "      <td>ES</td>\n",
       "      <td>H</td>\n",
       "      <td>22</td>\n",
       "      <td>2013-08-20</td>\n",
       "      <td>0.0</td>\n",
       "      <td>33</td>\n",
       "      <td>1.0</td>\n",
       "      <td>...</td>\n",
       "      <td>0</td>\n",
       "      <td>0</td>\n",
       "      <td>0</td>\n",
       "      <td>0</td>\n",
       "      <td>0</td>\n",
       "      <td>0</td>\n",
       "      <td>0</td>\n",
       "      <td>0.0</td>\n",
       "      <td>0.0</td>\n",
       "      <td>0</td>\n",
       "    </tr>\n",
       "    <tr>\n",
       "      <th>13646362</th>\n",
       "      <td>2016-05-28</td>\n",
       "      <td>1168051</td>\n",
       "      <td>N</td>\n",
       "      <td>ES</td>\n",
       "      <td>H</td>\n",
       "      <td>22</td>\n",
       "      <td>2013-08-21</td>\n",
       "      <td>0.0</td>\n",
       "      <td>33</td>\n",
       "      <td>1.0</td>\n",
       "      <td>...</td>\n",
       "      <td>0</td>\n",
       "      <td>0</td>\n",
       "      <td>0</td>\n",
       "      <td>0</td>\n",
       "      <td>0</td>\n",
       "      <td>0</td>\n",
       "      <td>0</td>\n",
       "      <td>0.0</td>\n",
       "      <td>0.0</td>\n",
       "      <td>0</td>\n",
       "    </tr>\n",
       "  </tbody>\n",
       "</table>\n",
       "<p>42333 rows × 48 columns</p>\n",
       "</div>"
      ],
      "text/plain": [
       "         Partitioned Date  Customer Code Employee Index Country Residence Sex  \\\n",
       "467            2015-01-28        1050426              N                ES   H   \n",
       "822            2015-01-28        1052362              N                ES   V   \n",
       "1151           2015-01-28        1051383              N                ES   V   \n",
       "1742           2015-01-28        1048801              N                ES   H   \n",
       "1744           2015-01-28        1048803              N                ES   V   \n",
       "...                   ...            ...            ...               ...  ..   \n",
       "13644850       2016-05-28        1164027              N                ES   V   \n",
       "13645267       2016-05-28        1164544              N                ES   H   \n",
       "13645403       2016-05-28        1164697              N                ES   V   \n",
       "13645545       2016-05-28        1167675              N                ES   H   \n",
       "13646362       2016-05-28        1168051              N                ES   H   \n",
       "\n",
       "          Age Date Joined  New Customer Index Seniority  Primary Customer  \\\n",
       "467        25  2012-08-10                 0.0        35               1.0   \n",
       "822        22  2012-08-17                 0.0        35               1.0   \n",
       "1151       53  2012-08-13                 0.0        35               1.0   \n",
       "1742       23  2012-08-09                 0.0        35               1.0   \n",
       "1744       26  2012-08-09                 0.0        35               1.0   \n",
       "...       ...         ...                 ...       ...               ...   \n",
       "13644850   27  2013-08-12                 0.0        33               1.0   \n",
       "13645267   22  2013-08-13                 0.0        33               1.0   \n",
       "13645403   23  2013-08-13                 0.0        33               1.0   \n",
       "13645545   22  2013-08-20                 0.0        33               1.0   \n",
       "13646362   22  2013-08-21                 0.0        33               1.0   \n",
       "\n",
       "          ... Mortgage Pensions Loans Taxes Credit Card Securities  \\\n",
       "467       ...        0        0     0     0           0          0   \n",
       "822       ...        0        0     0     0           0          0   \n",
       "1151      ...        0        0     0     1           0          0   \n",
       "1742      ...        0        0     0     0           0          0   \n",
       "1744      ...        0        0     0     0           0          0   \n",
       "...       ...      ...      ...   ...   ...         ...        ...   \n",
       "13644850  ...        0        0     0     0           0          0   \n",
       "13645267  ...        0        0     0     0           0          0   \n",
       "13645403  ...        0        0     0     0           0          0   \n",
       "13645545  ...        0        0     0     0           0          0   \n",
       "13646362  ...        0        0     0     0           0          0   \n",
       "\n",
       "         Home Account Payroll  Pension  Direct Debit  \n",
       "467                 0     0.0      0.0             0  \n",
       "822                 0     0.0      0.0             0  \n",
       "1151                0     0.0      0.0             1  \n",
       "1742                0     0.0      0.0             0  \n",
       "1744                0     0.0      0.0             0  \n",
       "...               ...     ...      ...           ...  \n",
       "13644850            0     0.0      0.0             1  \n",
       "13645267            0     0.0      0.0             0  \n",
       "13645403            0     0.0      0.0             0  \n",
       "13645545            0     0.0      0.0             0  \n",
       "13646362            0     0.0      0.0             0  \n",
       "\n",
       "[42333 rows x 48 columns]"
      ]
     },
     "execution_count": 22,
     "metadata": {},
     "output_type": "execute_result"
    }
   ],
   "source": [
    "df[(df['Gross Household Income'] > 826115.03) | (df['Gross Household Income'] < 0.)]"
   ]
  },
  {
   "cell_type": "code",
   "execution_count": 23,
   "id": "b071f0ab",
   "metadata": {},
   "outputs": [],
   "source": [
    "new_df = df[(df['Gross Household Income'] < 250000) & (df['Gross Household Income'] > 0)]"
   ]
  },
  {
   "cell_type": "code",
   "execution_count": 24,
   "id": "38259f2b",
   "metadata": {},
   "outputs": [],
   "source": [
    "upper_limit = df['Gross Household Income'].mean() + 3*df['Gross Household Income'].std()\n",
    "lower_limit = df['Gross Household Income'].mean() - 3*df['Gross Household Income'].std()"
   ]
  },
  {
   "cell_type": "code",
   "execution_count": 25,
   "id": "39e0adbc",
   "metadata": {},
   "outputs": [],
   "source": [
    "df['Gross Household Income'] = np.where(df['Gross Household Income']>upper_limit,\n",
    "    upper_limit, np.where(df['Gross Household Income']<lower_limit,\n",
    "    lower_limit, df['Gross Household Income']))"
   ]
  },
  {
   "cell_type": "code",
   "execution_count": 26,
   "id": "859004f3",
   "metadata": {},
   "outputs": [
    {
     "data": {
      "text/plain": [
       "count    1.085293e+07\n",
       "mean     1.297296e+05\n",
       "std      1.013358e+05\n",
       "min      1.202730e+03\n",
       "25%      6.871098e+04\n",
       "50%      1.018500e+05\n",
       "75%      1.559560e+05\n",
       "max      8.261150e+05\n",
       "Name: Gross Household Income, dtype: float64"
      ]
     },
     "execution_count": 26,
     "metadata": {},
     "output_type": "execute_result"
    }
   ],
   "source": [
    "df['Gross Household Income'].describe()"
   ]
  },
  {
   "cell_type": "code",
   "execution_count": 27,
   "id": "6178592d",
   "metadata": {},
   "outputs": [
    {
     "data": {
      "text/plain": [
       "<AxesSubplot:>"
      ]
     },
     "execution_count": 27,
     "metadata": {},
     "output_type": "execute_result"
    },
    {
     "data": {
      "image/png": "[encoded data removed]",
      "text/plain": [
       "<Figure size 432x288 with 1 Axes>"
      ]
     },
     "metadata": {
      "needs_background": "light"
     },
     "output_type": "display_data"
    }
   ],
   "source": [
    "sns.boxplot(df['Gross Household Income'])"
   ]
  },
  {
   "cell_type": "code",
   "execution_count": 28,
   "id": "8605af32",
   "metadata": {},
   "outputs": [
    {
     "data": {
      "text/plain": [
       "<AxesSubplot:>"
      ]
     },
     "execution_count": 28,
     "metadata": {},
     "output_type": "execute_result"
    },
    {
     "data": {
      "image/png": "[encoded data removed]",
      "text/plain": [
       "<Figure size 432x288 with 1 Axes>"
      ]
     },
     "metadata": {
      "needs_background": "light"
     },
     "output_type": "display_data"
    }
   ],
   "source": [
    "sns.boxplot(new_df['Gross Household Income'])"
   ]
  },
  {
   "cell_type": "code",
   "execution_count": 29,
   "id": "5b609e78",
   "metadata": {
    "scrolled": true
   },
   "outputs": [
    {
     "data": {
      "image/png": "[encoded data removed]",
      "text/plain": [
       "<Figure size 432x288 with 1 Axes>"
      ]
     },
     "metadata": {
      "needs_background": "light"
     },
     "output_type": "display_data"
    }
   ],
   "source": [
    "fig, ax = plt.subplots()\n",
    "scatter_plot = ax.scatter(\n",
    "df[\"Age\"],\n",
    "df[\"Gross Household Income\"])"
   ]
  },
  {
   "cell_type": "code",
   "execution_count": null,
   "id": "3096a3df",
   "metadata": {},
   "outputs": [],
   "source": []
  },
  {
   "cell_type": "code",
   "execution_count": null,
   "id": "bf181ab0",
   "metadata": {},
   "outputs": [],
   "source": []
  },
  {
   "cell_type": "code",
   "execution_count": null,
   "id": "d017c6d3",
   "metadata": {},
   "outputs": [],
   "source": []
  },
  {
   "cell_type": "code",
   "execution_count": null,
   "id": "a44537ef",
   "metadata": {},
   "outputs": [],
   "source": [
    "# The next few lines of code are more mining and understanding."
   ]
  },
  {
   "cell_type": "code",
   "execution_count": 30,
   "id": "a39b0571",
   "metadata": {},
   "outputs": [
    {
     "data": {
      "text/plain": [
       "array(['ES', nan, 'CA', 'CH', 'CL', 'IE', 'AT', 'NL', 'FR', 'GB', 'DE',\n",
       "       'DO', 'BE', 'AR', 'VE', 'US', 'MX', 'BR', 'IT', 'EC', 'PE', 'CO',\n",
       "       'HN', 'FI', 'SE', 'AL', 'PT', 'MZ', 'CN', 'TW', 'PL', 'IN', 'CR',\n",
       "       'NI', 'HK', 'AD', 'CZ', 'AE', 'MA', 'GR', 'PR', 'RO', 'IL', 'RU',\n",
       "       'GT', 'GA', 'NO', 'SN', 'MR', 'UA', 'BG', 'PY', 'EE', 'SV', 'ET',\n",
       "       'CM', 'SA', 'CI', 'QA', 'LU', 'PA', 'BA', 'BO', 'AU', 'BY', 'KE',\n",
       "       'SG', 'HR', 'MD', 'SK', 'TR', 'AO', 'CU', 'GQ', 'EG', 'ZA', 'DK',\n",
       "       'UY', 'GE', 'TH', 'DZ', 'LB', 'JP', 'NG', 'PK', 'TN', 'TG', 'KR',\n",
       "       'GH', 'RS', 'VN', 'PH', 'KW', 'NZ', 'MM', 'KH', 'GI', 'SL', 'GN',\n",
       "       'GW', 'OM', 'CG', 'LV', 'LT', 'ML', 'MK', 'HU', 'IS', 'LY', 'CF',\n",
       "       'GM', 'KZ', 'CD', 'BZ', 'ZW', 'DJ', 'JM', 'BM', 'MT'], dtype=object)"
      ]
     },
     "execution_count": 30,
     "metadata": {},
     "output_type": "execute_result"
    }
   ],
   "source": [
    "df['Country Residence'].unique()"
   ]
  },
  {
   "cell_type": "code",
   "execution_count": 31,
   "id": "268c9c32",
   "metadata": {},
   "outputs": [
    {
     "data": {
      "text/plain": [
       "0.018485988702974337"
      ]
     },
     "execution_count": 31,
     "metadata": {},
     "output_type": "execute_result"
    }
   ],
   "source": [
    "df['Funds'].mean()"
   ]
  },
  {
   "cell_type": "code",
   "execution_count": 32,
   "id": "28aa711b",
   "metadata": {},
   "outputs": [
    {
     "data": {
      "text/plain": [
       "array([0, 1], dtype=int64)"
      ]
     },
     "execution_count": 32,
     "metadata": {},
     "output_type": "execute_result"
    }
   ],
   "source": [
    "df['Funds'].unique()"
   ]
  },
  {
   "cell_type": "code",
   "execution_count": 33,
   "id": "f1232c4b",
   "metadata": {},
   "outputs": [
    {
     "data": {
      "text/plain": [
       "array([ 0.,  1., nan])"
      ]
     },
     "execution_count": 33,
     "metadata": {},
     "output_type": "execute_result"
    }
   ],
   "source": [
    "df['Pension'].unique()"
   ]
  },
  {
   "cell_type": "code",
   "execution_count": 34,
   "id": "d5d969e5",
   "metadata": {},
   "outputs": [
    {
     "data": {
      "text/plain": [
       "array([0, 1], dtype=int64)"
      ]
     },
     "execution_count": 34,
     "metadata": {},
     "output_type": "execute_result"
    }
   ],
   "source": [
    "df['Pensions'].unique()"
   ]
  },
  {
   "cell_type": "code",
   "execution_count": 35,
   "id": "b632b6c6",
   "metadata": {},
   "outputs": [
    {
     "data": {
      "text/plain": [
       "array([0, 1], dtype=int64)"
      ]
     },
     "execution_count": 35,
     "metadata": {},
     "output_type": "execute_result"
    }
   ],
   "source": [
    "df['Particular Account'].unique()"
   ]
  },
  {
   "cell_type": "code",
   "execution_count": 36,
   "id": "534304be",
   "metadata": {},
   "outputs": [
    {
     "data": {
      "text/plain": [
       "array([0, 1], dtype=int64)"
      ]
     },
     "execution_count": 36,
     "metadata": {},
     "output_type": "execute_result"
    }
   ],
   "source": [
    "df['Particular Plus Account'].unique()"
   ]
  },
  {
   "cell_type": "code",
   "execution_count": 37,
   "id": "4e990b2f",
   "metadata": {},
   "outputs": [
    {
     "name": "stdout",
     "output_type": "stream",
     "text": [
      "Sex ['H' 'V' nan]\n",
      "Age [' 35' ' 23' ' 22' ' 24' ' 65' ' 28' ' 25' ' 26' ' 53' ' 27' ' 32' ' 37'\n",
      " ' 31' ' 39' ' 63' ' 33' ' 55' ' 42' ' 58' ' 38' ' 50' ' 30' ' 45' ' 44'\n",
      " ' 36' ' 29' ' 60' ' 57' ' 67' ' 47' ' NA' ' 34' ' 48' ' 46' ' 54' ' 84'\n",
      " ' 15' ' 12' '  8' '  6' ' 83' ' 40' ' 77' ' 69' ' 52' ' 59' ' 43' ' 10'\n",
      " '  9' ' 49' ' 41' ' 51' ' 78' ' 16' ' 11' ' 73' ' 62' ' 66' ' 17' ' 68'\n",
      " ' 82' ' 95' ' 96' ' 56' ' 61' ' 79' ' 72' ' 14' ' 19' ' 13' ' 86' ' 64'\n",
      " ' 20' ' 89' ' 71' '  7' ' 70' ' 74' ' 21' ' 18' ' 75' '  4' ' 80' ' 81'\n",
      " '  5' ' 76' ' 92' ' 93' ' 85' ' 91' ' 87' ' 90' ' 94' ' 99' ' 98' ' 88'\n",
      " ' 97' '100' '101' '106' '103' '  3' '  2' '102' '104' '111' '107' '109'\n",
      " '105' '112' '115' '110' '116' '108' '113' '126' '117' '163' '127' '114'\n",
      " '164']\n",
      "Seniority ['      6' '     35' '     34' '     NA' '     33' '     31' '     21'\n",
      " '     16' '     27' '      9' '     22' '     13' '     29' '      8'\n",
      " '     11' '     10' '     28' '     24' '      7' '     25' '     14'\n",
      " '     26' '     12' '     23' '      1' '     18' '      4' '      3'\n",
      " '     17' '     32' '     30' '     20' '     15' '     19' '    157'\n",
      " '     36' '      5' '     40' '     38' '     37' '     39' '      0'\n",
      " '      2' '     47' '     44' '     42' '     46' '     45' '     43'\n",
      " '     41' '     57' '     48' '     52' '     49' '     50' '     56'\n",
      " '     58' '     51' '     55' '     54' '     53' '     59' '     62'\n",
      " '     61' '     60' '     63' '    139' '    165' '    118' '    164'\n",
      " '    142' '     94' '    159' '    143' '    105' '    151' '    162'\n",
      " '    137' '    150' '    128' '    122' '    156' '    119' '    160'\n",
      " '     79' '     95' '    132' '    161' '     98' '    127' '     72'\n",
      " '    155' '    108' '    163' '    102' '    148' '    115' '    146'\n",
      " '    107' '     81' '    216' '    135' '     92' '    121' '    198'\n",
      " '    134' '     93' '    140' '    110' '    120' '    147' '    116'\n",
      " '     64' '     77' '     85' '     99' '     78' '    100' '    113'\n",
      " '    154' '    166' '    133' '    124' '    141' '     66' '    117'\n",
      " '     86' '    193' '     80' '    144' '     87' '    126' '    158'\n",
      " '    101' '    235' '     88' '    145' '    103' '    149' '    109'\n",
      " '    131' '     97' '     68' '     84' '    232' '    125' '    177'\n",
      " '    112' '     96' '     69' '    171' '    167' '    104' '     76'\n",
      " '     82' '    152' '     70' '    138' '    169' '     65' '    129'\n",
      " '    190' '    114' '    111' '    176' '    153' '     89' '    136'\n",
      " '     83' '    123' '    187' '    106' '    231' '    189' '    217'\n",
      " '    172' '    199' '    173' '    174' '    209' '    180' '    178'\n",
      " '     91' '    168' '    130' '    225' '     67' '     73' '    183'\n",
      " '     74' '    206' '     71' '    179' '    184' '    192' '     90'\n",
      " '    194' '    182' '    188' '    213' '    185' '    195' '    186'\n",
      " '    207' '    208' '     75' '    175' '    201' '    203' '    212'\n",
      " '    215' '    170' '    228' '    214' '    202' '    196' '    181'\n",
      " '    211' '    191' '    205' '    200' '    227' '    218' '    219'\n",
      " '    226' '    224' '    210' '    242' '    223' '    237' '    204'\n",
      " '    233' '    220' '    222' '    241' '    197' '    221' '    229'\n",
      " '    234' '    240' '    243' '    230' '    238' '    246' '    236'\n",
      " '    244' '    239' '    245' '-999999' '    247' '    248' '    249'\n",
      " '    250' '    251' '    252' '    253' '    254' '    255' '    256']\n",
      "Primary Customer [ 1. nan 99.]\n",
      "Activity Index [ 1.  0. nan]\n",
      "Savings Account [0 1]\n",
      "Guarantees [0 1]\n",
      "Current Accounts [1 0]\n",
      "Derivative Account [0 1]\n",
      "Payroll Account [0 1]\n",
      "Junior Account [0 1]\n",
      "More Partiuclar Account [0 1]\n",
      "Particular Account [0 1]\n",
      "Particular Plus Account [0 1]\n",
      "Short-Term Deposits [0 1]\n",
      "Medium-Term Deposits [0 1]\n",
      "Long-Term Deposits [0 1]\n",
      "E-Account [0 1]\n",
      "Funds [0 1]\n",
      "Mortgage [0 1]\n",
      "Pensions [0 1]\n",
      "Loans [0 1]\n",
      "Taxes [0 1]\n",
      "Credit Card [0 1]\n",
      "Securities [0 1]\n",
      "Home Account [0 1]\n",
      "Payroll [ 0.  1. nan]\n",
      "Pension [ 0.  1. nan]\n",
      "Direct Debit [0 1]\n"
     ]
    }
   ],
   "source": [
    "print(\"Sex\", df[\"Sex\"].unique())\n",
    "print(\"Age\", df[\"Age\"].unique())\n",
    "print(\"Seniority\", df['Seniority'].unique())\n",
    "print(\"Primary Customer\", df[\"Primary Customer\"].unique())\n",
    "print('Activity Index', df[\"Activity Index\"].unique())\n",
    "print('Savings Account', df[\"Savings Account\"].unique())\n",
    "print('Guarantees', df[\"Guarantees\"].unique())\n",
    "print('Current Accounts', df[\"Current Accounts\"].unique())\n",
    "print('Derivative Account', df[\"Derivative Account\"].unique())\n",
    "print('Payroll Account', df[\"Payroll Account\"].unique())\n",
    "print('Junior Account', df[\"Junior Account\"].unique())\n",
    "print('More Partiuclar Account', df[\"More Partiuclar Account\"].unique())\n",
    "print('Particular Account', df[\"Particular Account\"].unique())\n",
    "print('Particular Plus Account', df[\"Particular Plus Account\"].unique())\n",
    "print('Short-Term Deposits', df[\"Short-Term Deposits\"].unique())\n",
    "print('Medium-Term Deposits', df[\"Medium-Term Deposits\"].unique())\n",
    "print(\"Long-Term Deposits\", df[\"Long-Term Deposits\"].unique())\n",
    "print(\"E-Account\", df[\"E-Account\"].unique())\n",
    "print(\"Funds\", df[\"Funds\"].unique())\n",
    "print(\"Mortgage\", df[\"Mortgage\"].unique())\n",
    "print(\"Pensions\", df[\"Pensions\"].unique())\n",
    "print(\"Loans\", df[\"Loans\"].unique())\n",
    "print(\"Taxes\", df[\"Taxes\"].unique())\n",
    "print(\"Credit Card\", df[\"Credit Card\"].unique())\n",
    "print(\"Securities\", df[\"Securities\"].unique())\n",
    "print(\"Home Account\", df[\"Home Account\"].unique())\n",
    "print(\"Payroll\", df[\"Payroll\"].unique())\n",
    "print(\"Pension\", df[\"Pension\"].unique())\n",
    "print(\"Direct Debit\", df[\"Direct Debit\"].unique())"
   ]
  },
  {
   "cell_type": "code",
   "execution_count": 38,
   "id": "7621c740",
   "metadata": {},
   "outputs": [
    {
     "data": {
      "text/plain": [
       "Partitioned Date                                13647309\n",
       "Customer Code                                   13647309\n",
       "Employee Index                                  13619575\n",
       "Country Residence                               13619575\n",
       "Sex                                             13619505\n",
       "Age                                             13647309\n",
       "Date Joined                                     13619575\n",
       "New Customer Index                              13619575\n",
       "Seniority                                       13647309\n",
       "Primary Customer                                13619575\n",
       "Last Date as Primary Customer                      24793\n",
       "Customer Type at Beginning of Month             13497528\n",
       "Customer Relation Type at Beginning of Month    13497528\n",
       "Resident Country is Bank Country                13619575\n",
       "Birth Country Different Than Bank Country       13619575\n",
       "Spouse Index                                        1808\n",
       "Channel Used to Join                            13461183\n",
       "Deceased                                        13619575\n",
       "Address Type                                    13619574\n",
       "Province Code                                   13553718\n",
       "Province Name                                   13553718\n",
       "Activity Index                                  13619575\n",
       "Gross Household Income                          10852934\n",
       "Segmentation                                    13457941\n",
       "Savings Account                                 13647309\n",
       "Guarantees                                      13647309\n",
       "Current Accounts                                13647309\n",
       "Derivative Account                              13647309\n",
       "Payroll Account                                 13647309\n",
       "Junior Account                                  13647309\n",
       "More Partiuclar Account                         13647309\n",
       "Particular Account                              13647309\n",
       "Particular Plus Account                         13647309\n",
       "Short-Term Deposits                             13647309\n",
       "Medium-Term Deposits                            13647309\n",
       "Long-Term Deposits                              13647309\n",
       "E-Account                                       13647309\n",
       "Funds                                           13647309\n",
       "Mortgage                                        13647309\n",
       "Pensions                                        13647309\n",
       "Loans                                           13647309\n",
       "Taxes                                           13647309\n",
       "Credit Card                                     13647309\n",
       "Securities                                      13647309\n",
       "Home Account                                    13647309\n",
       "Payroll                                         13631246\n",
       "Pension                                         13631246\n",
       "Direct Debit                                    13647309\n",
       "dtype: int64"
      ]
     },
     "execution_count": 38,
     "metadata": {},
     "output_type": "execute_result"
    }
   ],
   "source": [
    "df.count()"
   ]
  },
  {
   "cell_type": "code",
   "execution_count": 39,
   "id": "87581fd7",
   "metadata": {},
   "outputs": [
    {
     "name": "stdout",
     "output_type": "stream",
     "text": [
      "Primary Customer 16049289.0\n",
      "Activity Index 6235185.0\n",
      "Savings Account 1396\n",
      "Guarantees 316\n",
      "Current Accounts 8945588\n",
      "Derivative Account 5376\n",
      "Payroll Account 1103620\n",
      "Junior Account 129297\n",
      "Particular Account 1760616\n",
      "Short-Term Deposits 24275\n",
      "Medium-Term Deposits 22668\n",
      "Long-Term Deposits 586381\n",
      "E-Account 1129227\n",
      "Funds 252284\n",
      "Mortgage 80336\n",
      "Pensions 125159\n",
      "Loans 35857\n",
      "Taxes 716980\n",
      "Credit Card 605786\n",
      "Securities 349475\n",
      "Home Account 52511\n",
      "Payroll 745961.0\n",
      "Pension 810085.0\n",
      "Direct Debit 1745712\n"
     ]
    }
   ],
   "source": [
    "print(\"Primary Customer\", df[\"Primary Customer\"].sum())\n",
    "print('Activity Index', df[\"Activity Index\"].sum())\n",
    "print('Savings Account', df[\"Savings Account\"].sum())\n",
    "print('Guarantees', df[\"Guarantees\"].sum())\n",
    "print('Current Accounts', df[\"Current Accounts\"].sum())\n",
    "print('Derivative Account', df[\"Derivative Account\"].sum())\n",
    "print('Payroll Account', df[\"Payroll Account\"].sum())\n",
    "print('Junior Account', df[\"Junior Account\"].sum())\n",
    "print('Particular Account', df[\"Particular Account\"].sum())\n",
    "print('Short-Term Deposits', df[\"Short-Term Deposits\"].sum())\n",
    "print('Medium-Term Deposits', df[\"Medium-Term Deposits\"].sum())\n",
    "print(\"Long-Term Deposits\", df[\"Long-Term Deposits\"].sum())\n",
    "print(\"E-Account\", df[\"E-Account\"].sum())\n",
    "print(\"Funds\", df[\"Funds\"].sum())\n",
    "print(\"Mortgage\", df[\"Mortgage\"].sum())\n",
    "print(\"Pensions\", df[\"Pensions\"].sum())\n",
    "print(\"Loans\", df[\"Loans\"].sum())\n",
    "print(\"Taxes\", df[\"Taxes\"].sum())\n",
    "print(\"Credit Card\", df[\"Credit Card\"].sum())\n",
    "print(\"Securities\", df[\"Securities\"].sum())\n",
    "print(\"Home Account\", df[\"Home Account\"].sum())\n",
    "print(\"Payroll\", df[\"Payroll\"].sum())\n",
    "print(\"Pension\", df[\"Pension\"].sum())\n",
    "print(\"Direct Debit\", df[\"Direct Debit\"].sum())"
   ]
  },
  {
   "cell_type": "code",
   "execution_count": 40,
   "id": "eccf8674",
   "metadata": {},
   "outputs": [
    {
     "name": "stdout",
     "output_type": "stream",
     "text": [
      "Primary Customer 1.1783986651565852\n",
      "Activity Index 0.45781054107782365\n",
      "Gross Household Income 129729.61926942572\n",
      "Savings Account 0.00010229122825606132\n",
      "Guarantees 2.3154747943349124e-05\n",
      "Current Accounts 0.6554836561552171\n",
      "Derivative Account 0.0003939238131121674\n",
      "Payroll Account 0.08086722444695874\n",
      "Junior Account 0.00947417545832662\n",
      "More Partiuclar Account 0.00972660617562041\n",
      "Particular Account 0.12900829020578342\n",
      "Particular Plus Account 0.043305826811717976\n",
      "Short-Term Deposits 0.0017787389440658229\n",
      "Medium-Term Deposits 0.0016609867923412594\n",
      "Long-Term Deposits 0.042966785613193045\n",
      "E-Account 0.0827435650500769\n",
      "Funds 0.018485988702974337\n",
      "Mortgage 0.005886581742964858\n",
      "Pensions 0.00917096549949884\n",
      "Loans 0.002627404420900853\n",
      "Taxes 0.05253636449500777\n",
      "Credit Card 0.04438867765066359\n",
      "Securities 0.025607612460449163\n",
      "Home Account 0.0038477182571303985\n",
      "Payroll 0.054724344348271614\n",
      "Pension 0.05942853646687911\n",
      "Direct Debit 0.127916206777468\n"
     ]
    }
   ],
   "source": [
    "print(\"Primary Customer\", df[\"Primary Customer\"].mean())\n",
    "print('Activity Index', df[\"Activity Index\"].mean())\n",
    "print('Gross Household Income', df['Gross Household Income'].mean())\n",
    "print('Savings Account', df[\"Savings Account\"].mean())\n",
    "print('Guarantees', df[\"Guarantees\"].mean())\n",
    "print('Current Accounts', df[\"Current Accounts\"].mean())\n",
    "print('Derivative Account', df[\"Derivative Account\"].mean())\n",
    "print('Payroll Account', df[\"Payroll Account\"].mean())\n",
    "print('Junior Account', df[\"Junior Account\"].mean())\n",
    "print('More Partiuclar Account', df[\"More Partiuclar Account\"].mean())\n",
    "print('Particular Account', df[\"Particular Account\"].mean())\n",
    "print('Particular Plus Account', df[\"Particular Plus Account\"].mean())\n",
    "print('Short-Term Deposits', df[\"Short-Term Deposits\"].mean())\n",
    "print('Medium-Term Deposits', df[\"Medium-Term Deposits\"].mean())\n",
    "print(\"Long-Term Deposits\", df[\"Long-Term Deposits\"].mean())\n",
    "print(\"E-Account\", df[\"E-Account\"].mean())\n",
    "print(\"Funds\", df[\"Funds\"].mean())\n",
    "print(\"Mortgage\", df[\"Mortgage\"].mean())\n",
    "print(\"Pensions\", df[\"Pensions\"].mean())\n",
    "print(\"Loans\", df[\"Loans\"].mean())\n",
    "print(\"Taxes\", df[\"Taxes\"].mean())\n",
    "print(\"Credit Card\", df[\"Credit Card\"].mean())\n",
    "print(\"Securities\", df[\"Securities\"].mean())\n",
    "print(\"Home Account\", df[\"Home Account\"].mean())\n",
    "print(\"Payroll\", df[\"Payroll\"].mean())\n",
    "print(\"Pension\", df[\"Pension\"].mean())\n",
    "print(\"Direct Debit\", df[\"Direct Debit\"].mean())"
   ]
  },
  {
   "cell_type": "code",
   "execution_count": 41,
   "id": "111bef6c",
   "metadata": {},
   "outputs": [
    {
     "name": "stdout",
     "output_type": "stream",
     "text": [
      "Primary Customer 1.0\n",
      "Activity Index 0.0\n",
      "Gross Household Income 101850.0\n",
      "Savings Account 0.0\n",
      "Guarantees 0.0\n",
      "Current Accounts 1.0\n",
      "Derivative Account 0.0\n",
      "Payroll Account 0.0\n",
      "Junior Account 0.0\n",
      "More Partiuclar Account 0.0\n",
      "Particular Account 0.0\n",
      "Particular Plus Account 0.0\n",
      "Short-Term Deposits 0.0\n",
      "Medium-Term Deposits 0.0\n",
      "Long-Term Deposits 0.0\n",
      "E-Account 0.0\n",
      "Funds 0.0\n",
      "Mortgage 0.0\n",
      "Pensions 0.0\n",
      "Loans 0.0\n",
      "Taxes 0.0\n",
      "Credit Card 0.0\n",
      "Securities 0.0\n",
      "Home Account 0.0\n",
      "Payroll 0.0\n",
      "Pension 0.0\n",
      "Direct Debit 0.0\n"
     ]
    }
   ],
   "source": [
    "print(\"Primary Customer\", df[\"Primary Customer\"].median())\n",
    "print('Activity Index', df[\"Activity Index\"].median())\n",
    "print('Gross Household Income', df['Gross Household Income'].median())\n",
    "print('Savings Account', df[\"Savings Account\"].median())\n",
    "print('Guarantees', df[\"Guarantees\"].median())\n",
    "print('Current Accounts', df[\"Current Accounts\"].median())\n",
    "print('Derivative Account', df[\"Derivative Account\"].median())\n",
    "print('Payroll Account', df[\"Payroll Account\"].median())\n",
    "print('Junior Account', df[\"Junior Account\"].median())\n",
    "print('More Partiuclar Account', df[\"More Partiuclar Account\"].median())\n",
    "print('Particular Account', df[\"Particular Account\"].median())\n",
    "print('Particular Plus Account', df[\"Particular Plus Account\"].median())\n",
    "print('Short-Term Deposits', df[\"Short-Term Deposits\"].median())\n",
    "print('Medium-Term Deposits', df[\"Medium-Term Deposits\"].median())\n",
    "print(\"Long-Term Deposits\", df[\"Long-Term Deposits\"].median())\n",
    "print(\"E-Account\", df[\"E-Account\"].median())\n",
    "print(\"Funds\", df[\"Funds\"].median())\n",
    "print(\"Mortgage\", df[\"Mortgage\"].median())\n",
    "print(\"Pensions\", df[\"Pensions\"].median())\n",
    "print(\"Loans\", df[\"Loans\"].median())\n",
    "print(\"Taxes\", df[\"Taxes\"].median())\n",
    "print(\"Credit Card\", df[\"Credit Card\"].median())\n",
    "print(\"Securities\", df[\"Securities\"].median())\n",
    "print(\"Home Account\", df[\"Home Account\"].median())\n",
    "print(\"Payroll\", df[\"Payroll\"].median())\n",
    "print(\"Pension\", df[\"Pension\"].median())\n",
    "print(\"Direct Debit\", df[\"Direct Debit\"].median())"
   ]
  },
  {
   "cell_type": "code",
   "execution_count": null,
   "id": "9bc64fba",
   "metadata": {},
   "outputs": [],
   "source": []
  },
  {
   "cell_type": "code",
   "execution_count": null,
   "id": "b6aef211",
   "metadata": {},
   "outputs": [],
   "source": []
  },
  {
   "cell_type": "code",
   "execution_count": null,
   "id": "0e0c8110",
   "metadata": {},
   "outputs": [],
   "source": []
  },
  {
   "cell_type": "code",
   "execution_count": null,
   "id": "d17438f2",
   "metadata": {},
   "outputs": [],
   "source": [
    "# Creating scatterplots with some of the variables, comparing it with Gross Household Income. At this point, I thought\n",
    "#Gross Household Income would be a good indicator of profit for the credit union."
   ]
  },
  {
   "cell_type": "code",
   "execution_count": 49,
   "id": "862538c6",
   "metadata": {},
   "outputs": [
    {
     "data": {
      "image/png": "[encoded data removed]",
      "text/plain": [
       "<Figure size 432x288 with 1 Axes>"
      ]
     },
     "metadata": {
      "needs_background": "light"
     },
     "output_type": "display_data"
    }
   ],
   "source": [
    "fig, ax = plt.subplots()\n",
    "scatter_plot = ax.scatter(\n",
    "df[\"Age\"],\n",
    "df[\"Gross Household Income\"])"
   ]
  },
  {
   "cell_type": "code",
   "execution_count": 50,
   "id": "26749396",
   "metadata": {},
   "outputs": [
    {
     "data": {
      "image/png": "[encoded data removed]",
      "text/plain": [
       "<Figure size 432x288 with 1 Axes>"
      ]
     },
     "metadata": {
      "needs_background": "light"
     },
     "output_type": "display_data"
    }
   ],
   "source": [
    "fig, ax = plt.subplots()\n",
    "scatter_plot = ax.scatter(\n",
    "df[\"Seniority\"],\n",
    "df[\"Gross Household Income\"])"
   ]
  },
  {
   "cell_type": "code",
   "execution_count": 51,
   "id": "02b61f61",
   "metadata": {},
   "outputs": [
    {
     "data": {
      "image/png": "[encoded data removed]",
      "text/plain": [
       "<Figure size 432x288 with 1 Axes>"
      ]
     },
     "metadata": {
      "needs_background": "light"
     },
     "output_type": "display_data"
    }
   ],
   "source": [
    "fig, ax = plt.subplots()\n",
    "scatter_plot = ax.scatter(\n",
    "df[\"Primary Customer\"],\n",
    "df[\"Gross Household Income\"])"
   ]
  },
  {
   "cell_type": "code",
   "execution_count": 52,
   "id": "071589ff",
   "metadata": {},
   "outputs": [
    {
     "data": {
      "image/png": "[encoded data removed]",
      "text/plain": [
       "<Figure size 432x288 with 1 Axes>"
      ]
     },
     "metadata": {
      "needs_background": "light"
     },
     "output_type": "display_data"
    }
   ],
   "source": [
    "fig, ax = plt.subplots()\n",
    "scatter_plot = ax.scatter(\n",
    "df[\"Activity Index\"],\n",
    "df[\"Gross Household Income\"])"
   ]
  },
  {
   "cell_type": "code",
   "execution_count": 53,
   "id": "d1902a55",
   "metadata": {},
   "outputs": [
    {
     "data": {
      "image/png": "[encoded data removed]",
      "text/plain": [
       "<Figure size 432x288 with 1 Axes>"
      ]
     },
     "metadata": {
      "needs_background": "light"
     },
     "output_type": "display_data"
    }
   ],
   "source": [
    "fig, ax = plt.subplots()\n",
    "scatter_plot = ax.scatter(\n",
    "df[\"Savings Account\"],\n",
    "df[\"Gross Household Income\"])"
   ]
  },
  {
   "cell_type": "code",
   "execution_count": 54,
   "id": "aca70ceb",
   "metadata": {},
   "outputs": [
    {
     "data": {
      "image/png": "[encoded data removed]",
      "text/plain": [
       "<Figure size 432x288 with 1 Axes>"
      ]
     },
     "metadata": {
      "needs_background": "light"
     },
     "output_type": "display_data"
    }
   ],
   "source": [
    "fig, ax = plt.subplots()\n",
    "scatter_plot = ax.scatter(\n",
    "df[\"Guarantees\"],\n",
    "df[\"Gross Household Income\"])"
   ]
  },
  {
   "cell_type": "code",
   "execution_count": 55,
   "id": "b60583ba",
   "metadata": {},
   "outputs": [
    {
     "data": {
      "image/png": "[encoded data removed]",
      "text/plain": [
       "<Figure size 432x288 with 1 Axes>"
      ]
     },
     "metadata": {
      "needs_background": "light"
     },
     "output_type": "display_data"
    }
   ],
   "source": [
    "fig, ax = plt.subplots()\n",
    "scatter_plot = ax.scatter(\n",
    "df[\"Current Accounts\"],\n",
    "df[\"Gross Household Income\"])"
   ]
  },
  {
   "cell_type": "code",
   "execution_count": 56,
   "id": "69b67760",
   "metadata": {},
   "outputs": [
    {
     "data": {
      "image/png": "[encoded data removed]",
      "text/plain": [
       "<Figure size 432x288 with 1 Axes>"
      ]
     },
     "metadata": {
      "needs_background": "light"
     },
     "output_type": "display_data"
    }
   ],
   "source": [
    "fig, ax = plt.subplots()\n",
    "scatter_plot = ax.scatter(\n",
    "df[\"Derivative Account\"],\n",
    "df[\"Gross Household Income\"])"
   ]
  },
  {
   "cell_type": "code",
   "execution_count": 57,
   "id": "97b7b6f4",
   "metadata": {},
   "outputs": [
    {
     "data": {
      "image/png": "[encoded data removed]",
      "text/plain": [
       "<Figure size 432x288 with 1 Axes>"
      ]
     },
     "metadata": {
      "needs_background": "light"
     },
     "output_type": "display_data"
    }
   ],
   "source": [
    "fig, ax = plt.subplots()\n",
    "scatter_plot = ax.scatter(\n",
    "df[\"Payroll Account\"],\n",
    "df[\"Gross Household Income\"])"
   ]
  },
  {
   "cell_type": "code",
   "execution_count": 58,
   "id": "1ca66d53",
   "metadata": {},
   "outputs": [
    {
     "data": {
      "image/png": "[encoded data removed]",
      "text/plain": [
       "<Figure size 432x288 with 1 Axes>"
      ]
     },
     "metadata": {
      "needs_background": "light"
     },
     "output_type": "display_data"
    }
   ],
   "source": [
    "fig, ax = plt.subplots()\n",
    "scatter_plot = ax.scatter(\n",
    "df[\"Junior Account\"],\n",
    "df[\"Gross Household Income\"])"
   ]
  },
  {
   "cell_type": "code",
   "execution_count": 59,
   "id": "90f02800",
   "metadata": {},
   "outputs": [
    {
     "data": {
      "image/png": "[encoded data removed]",
      "text/plain": [
       "<Figure size 432x288 with 1 Axes>"
      ]
     },
     "metadata": {
      "needs_background": "light"
     },
     "output_type": "display_data"
    }
   ],
   "source": [
    "fig, ax = plt.subplots()\n",
    "scatter_plot = ax.scatter(\n",
    "df[\"More Partiuclar Account\"],\n",
    "df[\"Gross Household Income\"])"
   ]
  },
  {
   "cell_type": "code",
   "execution_count": 60,
   "id": "573d073c",
   "metadata": {},
   "outputs": [
    {
     "data": {
      "image/png": "[encoded data removed]",
      "text/plain": [
       "<Figure size 432x288 with 1 Axes>"
      ]
     },
     "metadata": {
      "needs_background": "light"
     },
     "output_type": "display_data"
    }
   ],
   "source": [
    "fig, ax = plt.subplots()\n",
    "scatter_plot = ax.scatter(\n",
    "df[\"Particular Account\"],\n",
    "df[\"Gross Household Income\"])"
   ]
  },
  {
   "cell_type": "code",
   "execution_count": 61,
   "id": "4cc3e3aa",
   "metadata": {},
   "outputs": [
    {
     "data": {
      "image/png": "[encoded data removed]",
      "text/plain": [
       "<Figure size 432x288 with 1 Axes>"
      ]
     },
     "metadata": {
      "needs_background": "light"
     },
     "output_type": "display_data"
    }
   ],
   "source": [
    "fig, ax = plt.subplots()\n",
    "scatter_plot = ax.scatter(\n",
    "df[\"Particular Plus Account\"],\n",
    "df[\"Gross Household Income\"])"
   ]
  },
  {
   "cell_type": "code",
   "execution_count": 62,
   "id": "7af0520d",
   "metadata": {},
   "outputs": [
    {
     "data": {
      "image/png": "[encoded data removed]",
      "text/plain": [
       "<Figure size 432x288 with 1 Axes>"
      ]
     },
     "metadata": {
      "needs_background": "light"
     },
     "output_type": "display_data"
    }
   ],
   "source": [
    "fig, ax = plt.subplots()\n",
    "scatter_plot = ax.scatter(\n",
    "df[\"Short-Term Deposits\"],\n",
    "df[\"Gross Household Income\"])"
   ]
  },
  {
   "cell_type": "code",
   "execution_count": 63,
   "id": "df771446",
   "metadata": {},
   "outputs": [
    {
     "data": {
      "image/png": "[encoded data removed]",
      "text/plain": [
       "<Figure size 432x288 with 1 Axes>"
      ]
     },
     "metadata": {
      "needs_background": "light"
     },
     "output_type": "display_data"
    }
   ],
   "source": [
    "fig, ax = plt.subplots()\n",
    "scatter_plot = ax.scatter(\n",
    "df[\"Medium-Term Deposits\"],\n",
    "df[\"Gross Household Income\"])"
   ]
  },
  {
   "cell_type": "code",
   "execution_count": 64,
   "id": "d6970bd3",
   "metadata": {},
   "outputs": [
    {
     "data": {
      "image/png": "[encoded data removed]",
      "text/plain": [
       "<Figure size 432x288 with 1 Axes>"
      ]
     },
     "metadata": {
      "needs_background": "light"
     },
     "output_type": "display_data"
    }
   ],
   "source": [
    "fig, ax = plt.subplots()\n",
    "scatter_plot = ax.scatter(\n",
    "df[\"Long-Term Deposits\"],\n",
    "df[\"Gross Household Income\"])"
   ]
  },
  {
   "cell_type": "code",
   "execution_count": 65,
   "id": "618436dc",
   "metadata": {},
   "outputs": [
    {
     "data": {
      "image/png": "[encoded data removed]",
      "text/plain": [
       "<Figure size 432x288 with 1 Axes>"
      ]
     },
     "metadata": {
      "needs_background": "light"
     },
     "output_type": "display_data"
    }
   ],
   "source": [
    "fig, ax = plt.subplots()\n",
    "scatter_plot = ax.scatter(\n",
    "df[\"E-Account\"],\n",
    "df[\"Gross Household Income\"])"
   ]
  },
  {
   "cell_type": "code",
   "execution_count": 66,
   "id": "8d37d37d",
   "metadata": {},
   "outputs": [
    {
     "data": {
      "image/png": "[encoded data removed]",
      "text/plain": [
       "<Figure size 432x288 with 1 Axes>"
      ]
     },
     "metadata": {
      "needs_background": "light"
     },
     "output_type": "display_data"
    }
   ],
   "source": [
    "fig, ax = plt.subplots()\n",
    "scatter_plot = ax.scatter(\n",
    "df[\"Funds\"],\n",
    "df[\"Gross Household Income\"])"
   ]
  },
  {
   "cell_type": "code",
   "execution_count": 67,
   "id": "083ee9bf",
   "metadata": {},
   "outputs": [
    {
     "data": {
      "image/png": "[encoded data removed]",
      "text/plain": [
       "<Figure size 432x288 with 1 Axes>"
      ]
     },
     "metadata": {
      "needs_background": "light"
     },
     "output_type": "display_data"
    }
   ],
   "source": [
    "fig, ax = plt.subplots()\n",
    "scatter_plot = ax.scatter(\n",
    "df[\"Mortgage\"],\n",
    "df[\"Gross Household Income\"])"
   ]
  },
  {
   "cell_type": "code",
   "execution_count": 68,
   "id": "e20e7040",
   "metadata": {},
   "outputs": [
    {
     "data": {
      "image/png": "[encoded data removed]",
      "text/plain": [
       "<Figure size 432x288 with 1 Axes>"
      ]
     },
     "metadata": {
      "needs_background": "light"
     },
     "output_type": "display_data"
    }
   ],
   "source": [
    "fig, ax = plt.subplots()\n",
    "scatter_plot = ax.scatter(\n",
    "df[\"Pensions\"],\n",
    "df[\"Gross Household Income\"])"
   ]
  },
  {
   "cell_type": "code",
   "execution_count": 69,
   "id": "299fc74b",
   "metadata": {},
   "outputs": [
    {
     "data": {
      "image/png": "[encoded data removed]",
      "text/plain": [
       "<Figure size 432x288 with 1 Axes>"
      ]
     },
     "metadata": {
      "needs_background": "light"
     },
     "output_type": "display_data"
    }
   ],
   "source": [
    "fig, ax = plt.subplots()\n",
    "scatter_plot = ax.scatter(\n",
    "df[\"Loans\"],\n",
    "df[\"Gross Household Income\"])"
   ]
  },
  {
   "cell_type": "code",
   "execution_count": 70,
   "id": "7db1861a",
   "metadata": {},
   "outputs": [
    {
     "data": {
      "image/png": "[encoded data removed]",
      "text/plain": [
       "<Figure size 432x288 with 1 Axes>"
      ]
     },
     "metadata": {
      "needs_background": "light"
     },
     "output_type": "display_data"
    }
   ],
   "source": [
    "fig, ax = plt.subplots()\n",
    "scatter_plot = ax.scatter(\n",
    "df[\"Taxes\"],\n",
    "df[\"Gross Household Income\"])"
   ]
  },
  {
   "cell_type": "code",
   "execution_count": 71,
   "id": "e73727d6",
   "metadata": {},
   "outputs": [
    {
     "data": {
      "image/png": "[encoded data removed]",
      "text/plain": [
       "<Figure size 432x288 with 1 Axes>"
      ]
     },
     "metadata": {
      "needs_background": "light"
     },
     "output_type": "display_data"
    }
   ],
   "source": [
    "fig, ax = plt.subplots()\n",
    "scatter_plot = ax.scatter(\n",
    "df[\"Credit Card\"],\n",
    "df[\"Gross Household Income\"])"
   ]
  },
  {
   "cell_type": "code",
   "execution_count": 72,
   "id": "ab16bcf0",
   "metadata": {},
   "outputs": [
    {
     "data": {
      "image/png": "[encoded data removed]",
      "text/plain": [
       "<Figure size 432x288 with 1 Axes>"
      ]
     },
     "metadata": {
      "needs_background": "light"
     },
     "output_type": "display_data"
    }
   ],
   "source": [
    "fig, ax = plt.subplots()\n",
    "scatter_plot = ax.scatter(\n",
    "df[\"Securities\"],\n",
    "df[\"Gross Household Income\"])"
   ]
  },
  {
   "cell_type": "code",
   "execution_count": 73,
   "id": "839186dc",
   "metadata": {},
   "outputs": [
    {
     "data": {
      "image/png": "[encoded data removed]",
      "text/plain": [
       "<Figure size 432x288 with 1 Axes>"
      ]
     },
     "metadata": {
      "needs_background": "light"
     },
     "output_type": "display_data"
    }
   ],
   "source": [
    "fig, ax = plt.subplots()\n",
    "scatter_plot = ax.scatter(\n",
    "df[\"Home Account\"],\n",
    "df[\"Gross Household Income\"])"
   ]
  },
  {
   "cell_type": "code",
   "execution_count": 74,
   "id": "a79b8a85",
   "metadata": {},
   "outputs": [
    {
     "data": {
      "image/png": "[encoded data removed]",
      "text/plain": [
       "<Figure size 432x288 with 1 Axes>"
      ]
     },
     "metadata": {
      "needs_background": "light"
     },
     "output_type": "display_data"
    }
   ],
   "source": [
    "fig, ax = plt.subplots()\n",
    "scatter_plot = ax.scatter(\n",
    "df[\"Payroll\"],\n",
    "df[\"Gross Household Income\"])"
   ]
  },
  {
   "cell_type": "code",
   "execution_count": 75,
   "id": "ac97c573",
   "metadata": {},
   "outputs": [
    {
     "data": {
      "image/png": "[encoded data removed]",
      "text/plain": [
       "<Figure size 432x288 with 1 Axes>"
      ]
     },
     "metadata": {
      "needs_background": "light"
     },
     "output_type": "display_data"
    }
   ],
   "source": [
    "fig, ax = plt.subplots()\n",
    "scatter_plot = ax.scatter(\n",
    "df[\"Pension\"],\n",
    "df[\"Gross Household Income\"])"
   ]
  },
  {
   "cell_type": "code",
   "execution_count": 76,
   "id": "fb193e5c",
   "metadata": {
    "scrolled": true
   },
   "outputs": [
    {
     "data": {
      "image/png": "[encoded data removed]",
      "text/plain": [
       "<Figure size 432x288 with 1 Axes>"
      ]
     },
     "metadata": {
      "needs_background": "light"
     },
     "output_type": "display_data"
    }
   ],
   "source": [
    "fig, ax = plt.subplots()\n",
    "scatter_plot = ax.scatter(\n",
    "df[\"Direct Debit\"],\n",
    "df[\"Gross Household Income\"])"
   ]
  },
  {
   "cell_type": "code",
   "execution_count": null,
   "id": "a4abf0b5",
   "metadata": {},
   "outputs": [],
   "source": []
  },
  {
   "cell_type": "code",
   "execution_count": null,
   "id": "ecfc994f",
   "metadata": {},
   "outputs": [],
   "source": []
  },
  {
   "cell_type": "code",
   "execution_count": null,
   "id": "ed77149b",
   "metadata": {},
   "outputs": [],
   "source": []
  },
  {
   "cell_type": "code",
   "execution_count": null,
   "id": "31617623",
   "metadata": {},
   "outputs": [],
   "source": [
    "# Some of the data had to be cleaned and transformed to be able to have analysis done on it.\n",
    "#One way of working around NA values is by filling them with the medians of each variable.  This keeps the variables\n",
    "#essentially the same with also giving us data that can be analyzed in many different ways.  The number of NA values is almost\n",
    "#negligible compared to the full amount of values per column.  Most having anywhere from 0.1% - 1% of NA values.  However, some\n",
    "#do have more than 1% NA values, one variable being close to 20%."
   ]
  },
  {
   "cell_type": "code",
   "execution_count": 5,
   "id": "6fea140f",
   "metadata": {},
   "outputs": [
    {
     "data": {
      "text/plain": [
       "array(['H', 'V', nan], dtype=object)"
      ]
     },
     "execution_count": 5,
     "metadata": {},
     "output_type": "execute_result"
    }
   ],
   "source": [
    "df['Sex'].unique()"
   ]
  },
  {
   "cell_type": "code",
   "execution_count": 6,
   "id": "72a49559",
   "metadata": {},
   "outputs": [],
   "source": [
    "df['Sex'] = df['Sex'].replace(['H'],['1'])\n",
    "df['Sex'] = df['Sex'].replace(['V'],['0'])"
   ]
  },
  {
   "cell_type": "code",
   "execution_count": 7,
   "id": "ec4c19d1",
   "metadata": {},
   "outputs": [],
   "source": [
    "df['Sex'] = df['Sex'].astype(float)"
   ]
  },
  {
   "cell_type": "code",
   "execution_count": 8,
   "id": "23f1d2d8",
   "metadata": {},
   "outputs": [
    {
     "name": "stdout",
     "output_type": "stream",
     "text": [
      "Sex Mean 0.4548809226179659\n",
      "Sex Median 0.0\n"
     ]
    }
   ],
   "source": [
    "print('Sex Mean', df['Sex'].mean())\n",
    "print('Sex Median', df['Sex'].median())"
   ]
  },
  {
   "cell_type": "code",
   "execution_count": 9,
   "id": "86d2cfed",
   "metadata": {},
   "outputs": [],
   "source": [
    "df['Sex'] = df['Sex'].fillna(0)"
   ]
  },
  {
   "cell_type": "code",
   "execution_count": 10,
   "id": "77da9ecb",
   "metadata": {},
   "outputs": [
    {
     "data": {
      "text/plain": [
       "array([1., 0.])"
      ]
     },
     "execution_count": 10,
     "metadata": {},
     "output_type": "execute_result"
    }
   ],
   "source": [
    "df['Sex'].unique()"
   ]
  },
  {
   "cell_type": "code",
   "execution_count": 11,
   "id": "17252842",
   "metadata": {},
   "outputs": [
    {
     "data": {
      "text/plain": [
       "array([' 35', ' 23', ' 22', ' 24', ' 65', ' 28', ' 25', ' 26', ' 53',\n",
       "       ' 27', ' 32', ' 37', ' 31', ' 39', ' 63', ' 33', ' 55', ' 42',\n",
       "       ' 58', ' 38', ' 50', ' 30', ' 45', ' 44', ' 36', ' 29', ' 60',\n",
       "       ' 57', ' 67', ' 47', ' NA', ' 34', ' 48', ' 46', ' 54', ' 84',\n",
       "       ' 15', ' 12', '  8', '  6', ' 83', ' 40', ' 77', ' 69', ' 52',\n",
       "       ' 59', ' 43', ' 10', '  9', ' 49', ' 41', ' 51', ' 78', ' 16',\n",
       "       ' 11', ' 73', ' 62', ' 66', ' 17', ' 68', ' 82', ' 95', ' 96',\n",
       "       ' 56', ' 61', ' 79', ' 72', ' 14', ' 19', ' 13', ' 86', ' 64',\n",
       "       ' 20', ' 89', ' 71', '  7', ' 70', ' 74', ' 21', ' 18', ' 75',\n",
       "       '  4', ' 80', ' 81', '  5', ' 76', ' 92', ' 93', ' 85', ' 91',\n",
       "       ' 87', ' 90', ' 94', ' 99', ' 98', ' 88', ' 97', '100', '101',\n",
       "       '106', '103', '  3', '  2', '102', '104', '111', '107', '109',\n",
       "       '105', '112', '115', '110', '116', '108', '113', '126', '117',\n",
       "       '163', '127', '114', '164'], dtype=object)"
      ]
     },
     "execution_count": 11,
     "metadata": {},
     "output_type": "execute_result"
    }
   ],
   "source": [
    "df['Age'].unique()"
   ]
  },
  {
   "cell_type": "code",
   "execution_count": 12,
   "id": "72989346",
   "metadata": {},
   "outputs": [],
   "source": [
    "df['Age'] = df['Age'].replace([' NA'],[' 39'])"
   ]
  },
  {
   "cell_type": "code",
   "execution_count": 13,
   "id": "568d07a4",
   "metadata": {},
   "outputs": [],
   "source": [
    "df['Age'] = df['Age'].astype(int)"
   ]
  },
  {
   "cell_type": "code",
   "execution_count": 14,
   "id": "0084987b",
   "metadata": {},
   "outputs": [
    {
     "name": "stdout",
     "output_type": "stream",
     "text": [
      "40.179063945866545\n",
      "39.0\n"
     ]
    }
   ],
   "source": [
    "print(df['Age'].mean())\n",
    "print(df['Age'].median())"
   ]
  },
  {
   "cell_type": "code",
   "execution_count": 15,
   "id": "8335a30d",
   "metadata": {},
   "outputs": [
    {
     "data": {
      "text/plain": [
       "array([ 35,  23,  22,  24,  65,  28,  25,  26,  53,  27,  32,  37,  31,\n",
       "        39,  63,  33,  55,  42,  58,  38,  50,  30,  45,  44,  36,  29,\n",
       "        60,  57,  67,  47,  34,  48,  46,  54,  84,  15,  12,   8,   6,\n",
       "        83,  40,  77,  69,  52,  59,  43,  10,   9,  49,  41,  51,  78,\n",
       "        16,  11,  73,  62,  66,  17,  68,  82,  95,  96,  56,  61,  79,\n",
       "        72,  14,  19,  13,  86,  64,  20,  89,  71,   7,  70,  74,  21,\n",
       "        18,  75,   4,  80,  81,   5,  76,  92,  93,  85,  91,  87,  90,\n",
       "        94,  99,  98,  88,  97, 100, 101, 106, 103,   3,   2, 102, 104,\n",
       "       111, 107, 109, 105, 112, 115, 110, 116, 108, 113, 126, 117, 163,\n",
       "       127, 114, 164])"
      ]
     },
     "execution_count": 15,
     "metadata": {},
     "output_type": "execute_result"
    }
   ],
   "source": [
    "df['Age'].unique()"
   ]
  },
  {
   "cell_type": "code",
   "execution_count": 16,
   "id": "c4d40a6b",
   "metadata": {
    "scrolled": false
   },
   "outputs": [
    {
     "data": {
      "text/plain": [
       "array(['      6', '     35', '     34', '     NA', '     33', '     31',\n",
       "       '     21', '     16', '     27', '      9', '     22', '     13',\n",
       "       '     29', '      8', '     11', '     10', '     28', '     24',\n",
       "       '      7', '     25', '     14', '     26', '     12', '     23',\n",
       "       '      1', '     18', '      4', '      3', '     17', '     32',\n",
       "       '     30', '     20', '     15', '     19', '    157', '     36',\n",
       "       '      5', '     40', '     38', '     37', '     39', '      0',\n",
       "       '      2', '     47', '     44', '     42', '     46', '     45',\n",
       "       '     43', '     41', '     57', '     48', '     52', '     49',\n",
       "       '     50', '     56', '     58', '     51', '     55', '     54',\n",
       "       '     53', '     59', '     62', '     61', '     60', '     63',\n",
       "       '    139', '    165', '    118', '    164', '    142', '     94',\n",
       "       '    159', '    143', '    105', '    151', '    162', '    137',\n",
       "       '    150', '    128', '    122', '    156', '    119', '    160',\n",
       "       '     79', '     95', '    132', '    161', '     98', '    127',\n",
       "       '     72', '    155', '    108', '    163', '    102', '    148',\n",
       "       '    115', '    146', '    107', '     81', '    216', '    135',\n",
       "       '     92', '    121', '    198', '    134', '     93', '    140',\n",
       "       '    110', '    120', '    147', '    116', '     64', '     77',\n",
       "       '     85', '     99', '     78', '    100', '    113', '    154',\n",
       "       '    166', '    133', '    124', '    141', '     66', '    117',\n",
       "       '     86', '    193', '     80', '    144', '     87', '    126',\n",
       "       '    158', '    101', '    235', '     88', '    145', '    103',\n",
       "       '    149', '    109', '    131', '     97', '     68', '     84',\n",
       "       '    232', '    125', '    177', '    112', '     96', '     69',\n",
       "       '    171', '    167', '    104', '     76', '     82', '    152',\n",
       "       '     70', '    138', '    169', '     65', '    129', '    190',\n",
       "       '    114', '    111', '    176', '    153', '     89', '    136',\n",
       "       '     83', '    123', '    187', '    106', '    231', '    189',\n",
       "       '    217', '    172', '    199', '    173', '    174', '    209',\n",
       "       '    180', '    178', '     91', '    168', '    130', '    225',\n",
       "       '     67', '     73', '    183', '     74', '    206', '     71',\n",
       "       '    179', '    184', '    192', '     90', '    194', '    182',\n",
       "       '    188', '    213', '    185', '    195', '    186', '    207',\n",
       "       '    208', '     75', '    175', '    201', '    203', '    212',\n",
       "       '    215', '    170', '    228', '    214', '    202', '    196',\n",
       "       '    181', '    211', '    191', '    205', '    200', '    227',\n",
       "       '    218', '    219', '    226', '    224', '    210', '    242',\n",
       "       '    223', '    237', '    204', '    233', '    220', '    222',\n",
       "       '    241', '    197', '    221', '    229', '    234', '    240',\n",
       "       '    243', '    230', '    238', '    246', '    236', '    244',\n",
       "       '    239', '    245', '-999999', '    247', '    248', '    249',\n",
       "       '    250', '    251', '    252', '    253', '    254', '    255',\n",
       "       '    256'], dtype=object)"
      ]
     },
     "execution_count": 16,
     "metadata": {},
     "output_type": "execute_result"
    }
   ],
   "source": [
    "df['Seniority'].unique()"
   ]
  },
  {
   "cell_type": "code",
   "execution_count": 17,
   "id": "bcac3a66",
   "metadata": {},
   "outputs": [],
   "source": [
    "df['Seniority'] = df['Seniority'].replace(['     NA'],['50'])"
   ]
  },
  {
   "cell_type": "code",
   "execution_count": 18,
   "id": "ffcabed2",
   "metadata": {},
   "outputs": [],
   "source": [
    "df['Seniority'] = df['Seniority'].replace(['-999999'],['50'])"
   ]
  },
  {
   "cell_type": "code",
   "execution_count": 19,
   "id": "9c9d2085",
   "metadata": {},
   "outputs": [],
   "source": [
    "df['Seniority'] = df['Seniority'].astype(int)"
   ]
  },
  {
   "cell_type": "code",
   "execution_count": 20,
   "id": "8326adb8",
   "metadata": {},
   "outputs": [
    {
     "name": "stdout",
     "output_type": "stream",
     "text": [
      "79.32246877388063\n",
      "50.0\n"
     ]
    }
   ],
   "source": [
    "print(df['Seniority'].mean())\n",
    "print(df['Seniority'].median())"
   ]
  },
  {
   "cell_type": "code",
   "execution_count": 21,
   "id": "9966582c",
   "metadata": {},
   "outputs": [
    {
     "data": {
      "text/plain": [
       "array([  6,  35,  34,  50,  33,  31,  21,  16,  27,   9,  22,  13,  29,\n",
       "         8,  11,  10,  28,  24,   7,  25,  14,  26,  12,  23,   1,  18,\n",
       "         4,   3,  17,  32,  30,  20,  15,  19, 157,  36,   5,  40,  38,\n",
       "        37,  39,   0,   2,  47,  44,  42,  46,  45,  43,  41,  57,  48,\n",
       "        52,  49,  56,  58,  51,  55,  54,  53,  59,  62,  61,  60,  63,\n",
       "       139, 165, 118, 164, 142,  94, 159, 143, 105, 151, 162, 137, 150,\n",
       "       128, 122, 156, 119, 160,  79,  95, 132, 161,  98, 127,  72, 155,\n",
       "       108, 163, 102, 148, 115, 146, 107,  81, 216, 135,  92, 121, 198,\n",
       "       134,  93, 140, 110, 120, 147, 116,  64,  77,  85,  99,  78, 100,\n",
       "       113, 154, 166, 133, 124, 141,  66, 117,  86, 193,  80, 144,  87,\n",
       "       126, 158, 101, 235,  88, 145, 103, 149, 109, 131,  97,  68,  84,\n",
       "       232, 125, 177, 112,  96,  69, 171, 167, 104,  76,  82, 152,  70,\n",
       "       138, 169,  65, 129, 190, 114, 111, 176, 153,  89, 136,  83, 123,\n",
       "       187, 106, 231, 189, 217, 172, 199, 173, 174, 209, 180, 178,  91,\n",
       "       168, 130, 225,  67,  73, 183,  74, 206,  71, 179, 184, 192,  90,\n",
       "       194, 182, 188, 213, 185, 195, 186, 207, 208,  75, 175, 201, 203,\n",
       "       212, 215, 170, 228, 214, 202, 196, 181, 211, 191, 205, 200, 227,\n",
       "       218, 219, 226, 224, 210, 242, 223, 237, 204, 233, 220, 222, 241,\n",
       "       197, 221, 229, 234, 240, 243, 230, 238, 246, 236, 244, 239, 245,\n",
       "       247, 248, 249, 250, 251, 252, 253, 254, 255, 256])"
      ]
     },
     "execution_count": 21,
     "metadata": {},
     "output_type": "execute_result"
    }
   ],
   "source": [
    "df['Seniority'].unique()"
   ]
  },
  {
   "cell_type": "code",
   "execution_count": 22,
   "id": "dbfb8033",
   "metadata": {},
   "outputs": [
    {
     "data": {
      "text/plain": [
       "array(['S', nan, 'N'], dtype=object)"
      ]
     },
     "execution_count": 22,
     "metadata": {},
     "output_type": "execute_result"
    }
   ],
   "source": [
    "df['Resident Country is Bank Country'].unique()"
   ]
  },
  {
   "cell_type": "code",
   "execution_count": 23,
   "id": "0648cd73",
   "metadata": {},
   "outputs": [],
   "source": [
    "df['Resident Country is Bank Country'] = df['Resident Country is Bank Country'].replace(['N'],['0'])"
   ]
  },
  {
   "cell_type": "code",
   "execution_count": 24,
   "id": "5db12a2c",
   "metadata": {},
   "outputs": [],
   "source": [
    "df['Resident Country is Bank Country'] = df['Resident Country is Bank Country'].replace(['S'],['1'])"
   ]
  },
  {
   "cell_type": "code",
   "execution_count": 25,
   "id": "3a6c1326",
   "metadata": {},
   "outputs": [],
   "source": [
    "df['Resident Country is Bank Country'] = df['Resident Country is Bank Country'].astype(float)"
   ]
  },
  {
   "cell_type": "code",
   "execution_count": 26,
   "id": "cb552887",
   "metadata": {},
   "outputs": [],
   "source": [
    "df['Resident Country is Bank Country'] = df['Resident Country is Bank Country'].fillna(1)"
   ]
  },
  {
   "cell_type": "code",
   "execution_count": 27,
   "id": "5189dc6b",
   "metadata": {},
   "outputs": [
    {
     "data": {
      "text/plain": [
       "array([1., 0.])"
      ]
     },
     "execution_count": 27,
     "metadata": {},
     "output_type": "execute_result"
    }
   ],
   "source": [
    "df['Resident Country is Bank Country'].unique()"
   ]
  },
  {
   "cell_type": "code",
   "execution_count": 28,
   "id": "acc46302",
   "metadata": {},
   "outputs": [
    {
     "data": {
      "text/plain": [
       "array(['N', 'S', nan], dtype=object)"
      ]
     },
     "execution_count": 28,
     "metadata": {},
     "output_type": "execute_result"
    }
   ],
   "source": [
    "df['Birth Country Different Than Bank Country'].unique()"
   ]
  },
  {
   "cell_type": "code",
   "execution_count": 29,
   "id": "0454fca0",
   "metadata": {},
   "outputs": [],
   "source": [
    "df['Birth Country Different Than Bank Country'] = df['Birth Country Different Than Bank Country'].replace(['N'],['0'])"
   ]
  },
  {
   "cell_type": "code",
   "execution_count": 30,
   "id": "c13b696f",
   "metadata": {},
   "outputs": [],
   "source": [
    "df['Birth Country Different Than Bank Country'] = df['Birth Country Different Than Bank Country'].replace(['S'],['1'])"
   ]
  },
  {
   "cell_type": "code",
   "execution_count": 31,
   "id": "a311cf7c",
   "metadata": {},
   "outputs": [],
   "source": [
    "df['Birth Country Different Than Bank Country'] = df['Birth Country Different Than Bank Country'].astype(float)"
   ]
  },
  {
   "cell_type": "code",
   "execution_count": 32,
   "id": "844ae5c6",
   "metadata": {},
   "outputs": [],
   "source": [
    "df['Birth Country Different Than Bank Country'] = df['Birth Country Different Than Bank Country'].fillna(0)"
   ]
  },
  {
   "cell_type": "code",
   "execution_count": 33,
   "id": "b91898da",
   "metadata": {},
   "outputs": [
    {
     "data": {
      "text/plain": [
       "array([0., 1.])"
      ]
     },
     "execution_count": 33,
     "metadata": {},
     "output_type": "execute_result"
    }
   ],
   "source": [
    "df['Birth Country Different Than Bank Country'].unique()"
   ]
  },
  {
   "cell_type": "code",
   "execution_count": 34,
   "id": "f106d80b",
   "metadata": {},
   "outputs": [
    {
     "data": {
      "text/plain": [
       "array([nan, 'N', 'S'], dtype=object)"
      ]
     },
     "execution_count": 34,
     "metadata": {},
     "output_type": "execute_result"
    }
   ],
   "source": [
    "df['Spouse Index'].unique()"
   ]
  },
  {
   "cell_type": "code",
   "execution_count": 35,
   "id": "2befba24",
   "metadata": {},
   "outputs": [],
   "source": [
    "df['Spouse Index'] = df['Spouse Index'].replace(['N'],['0'])"
   ]
  },
  {
   "cell_type": "code",
   "execution_count": 36,
   "id": "871e4523",
   "metadata": {},
   "outputs": [],
   "source": [
    "df['Spouse Index'] = df['Spouse Index'].replace(['S'],['1'])"
   ]
  },
  {
   "cell_type": "code",
   "execution_count": 37,
   "id": "a3d210be",
   "metadata": {},
   "outputs": [],
   "source": [
    "df['Spouse Index'] = df['Spouse Index'].astype(float)"
   ]
  },
  {
   "cell_type": "code",
   "execution_count": 38,
   "id": "7ad2b903",
   "metadata": {},
   "outputs": [
    {
     "data": {
      "text/plain": [
       "array([nan,  0.,  1.])"
      ]
     },
     "execution_count": 38,
     "metadata": {},
     "output_type": "execute_result"
    }
   ],
   "source": [
    "df['Spouse Index'].unique()"
   ]
  },
  {
   "cell_type": "code",
   "execution_count": 39,
   "id": "c705e600",
   "metadata": {},
   "outputs": [
    {
     "data": {
      "text/plain": [
       "array(['N', nan, 'S'], dtype=object)"
      ]
     },
     "execution_count": 39,
     "metadata": {},
     "output_type": "execute_result"
    }
   ],
   "source": [
    "df['Deceased'].unique()"
   ]
  },
  {
   "cell_type": "code",
   "execution_count": 40,
   "id": "18ed0693",
   "metadata": {},
   "outputs": [],
   "source": [
    "df['Deceased'] = df['Deceased'].replace(['N'],['0'])"
   ]
  },
  {
   "cell_type": "code",
   "execution_count": 41,
   "id": "c824275d",
   "metadata": {},
   "outputs": [],
   "source": [
    "df['Deceased'] = df['Deceased'].replace(['S'],['1'])"
   ]
  },
  {
   "cell_type": "code",
   "execution_count": 42,
   "id": "e585435b",
   "metadata": {},
   "outputs": [],
   "source": [
    "df['Deceased'] = df['Deceased'].astype(float)"
   ]
  },
  {
   "cell_type": "code",
   "execution_count": 43,
   "id": "ecb4edf6",
   "metadata": {},
   "outputs": [],
   "source": [
    "df['Deceased'] = df['Deceased'].fillna(0)"
   ]
  },
  {
   "cell_type": "code",
   "execution_count": 44,
   "id": "658d807e",
   "metadata": {},
   "outputs": [
    {
     "data": {
      "text/plain": [
       "array([0., 1.])"
      ]
     },
     "execution_count": 44,
     "metadata": {},
     "output_type": "execute_result"
    }
   ],
   "source": [
    "df['Deceased'].unique()"
   ]
  },
  {
   "cell_type": "code",
   "execution_count": 45,
   "id": "2468d41d",
   "metadata": {},
   "outputs": [
    {
     "data": {
      "text/plain": [
       "array([ 1.,  0., nan])"
      ]
     },
     "execution_count": 45,
     "metadata": {},
     "output_type": "execute_result"
    }
   ],
   "source": [
    "df['Activity Index'].unique()"
   ]
  },
  {
   "cell_type": "code",
   "execution_count": 46,
   "id": "ef5ed5e8",
   "metadata": {},
   "outputs": [],
   "source": [
    "df['Activity Index'] = df['Activity Index'].fillna(0)"
   ]
  },
  {
   "cell_type": "code",
   "execution_count": 47,
   "id": "a98a3309",
   "metadata": {},
   "outputs": [
    {
     "data": {
      "text/plain": [
       "array([1., 0.])"
      ]
     },
     "execution_count": 47,
     "metadata": {},
     "output_type": "execute_result"
    }
   ],
   "source": [
    "df['Activity Index'].unique()"
   ]
  },
  {
   "cell_type": "code",
   "execution_count": 48,
   "id": "238c8f6e",
   "metadata": {},
   "outputs": [
    {
     "data": {
      "text/plain": [
       "array([ 0.,  1., nan])"
      ]
     },
     "execution_count": 48,
     "metadata": {},
     "output_type": "execute_result"
    }
   ],
   "source": [
    "df['Payroll'].unique()"
   ]
  },
  {
   "cell_type": "code",
   "execution_count": 49,
   "id": "83362227",
   "metadata": {},
   "outputs": [],
   "source": [
    "df['Payroll'] = df['Payroll'].fillna(0)"
   ]
  },
  {
   "cell_type": "code",
   "execution_count": 50,
   "id": "e655daa1",
   "metadata": {},
   "outputs": [
    {
     "data": {
      "text/plain": [
       "array([0., 1.])"
      ]
     },
     "execution_count": 50,
     "metadata": {},
     "output_type": "execute_result"
    }
   ],
   "source": [
    "df['Payroll'].unique()"
   ]
  },
  {
   "cell_type": "code",
   "execution_count": 51,
   "id": "5a435967",
   "metadata": {},
   "outputs": [
    {
     "data": {
      "text/plain": [
       "array([ 0.,  1., nan])"
      ]
     },
     "execution_count": 51,
     "metadata": {},
     "output_type": "execute_result"
    }
   ],
   "source": [
    "df['Pension'].unique()"
   ]
  },
  {
   "cell_type": "code",
   "execution_count": 52,
   "id": "b2f6db7e",
   "metadata": {},
   "outputs": [],
   "source": [
    "df['Pension'] = df['Pension'].fillna(0)"
   ]
  },
  {
   "cell_type": "code",
   "execution_count": 53,
   "id": "a85b5fc9",
   "metadata": {},
   "outputs": [
    {
     "data": {
      "text/plain": [
       "array([0., 1.])"
      ]
     },
     "execution_count": 53,
     "metadata": {},
     "output_type": "execute_result"
    }
   ],
   "source": [
    "df['Pension'].unique()"
   ]
  },
  {
   "cell_type": "code",
   "execution_count": 54,
   "id": "3e018ab5",
   "metadata": {},
   "outputs": [],
   "source": [
    "df['New Customer Index'] = df['New Customer Index'].fillna(0)"
   ]
  },
  {
   "cell_type": "code",
   "execution_count": 55,
   "id": "50dc86bf",
   "metadata": {},
   "outputs": [],
   "source": [
    "df['Primary Customer'] = df['Primary Customer'].fillna(1)"
   ]
  },
  {
   "cell_type": "code",
   "execution_count": 56,
   "id": "4d564acf",
   "metadata": {},
   "outputs": [],
   "source": [
    "df['Gross Household Income'] = df['Gross Household Income'].fillna(101850)"
   ]
  },
  {
   "cell_type": "code",
   "execution_count": 57,
   "id": "81a19576",
   "metadata": {},
   "outputs": [],
   "source": [
    "df2 = df.drop(['Partitioned Date', 'Customer Code', 'Employee Index', 'Country Residence', \n",
    "            'Date Joined', 'Last Date as Primary Customer', 'Customer Type at Beginning of Month',\n",
    "            'Customer Relation Type at Beginning of Month', 'Spouse Index', 'Channel Used to Join', 'Address Type', \n",
    "            'Province Code', 'Province Name', 'Segmentation'], axis = 'columns')"
   ]
  },
  {
   "cell_type": "code",
   "execution_count": null,
   "id": "e87c0e7d",
   "metadata": {},
   "outputs": [],
   "source": []
  },
  {
   "cell_type": "code",
   "execution_count": null,
   "id": "8332aa22",
   "metadata": {},
   "outputs": [],
   "source": []
  },
  {
   "cell_type": "code",
   "execution_count": null,
   "id": "85ac0e7f",
   "metadata": {},
   "outputs": [],
   "source": []
  },
  {
   "cell_type": "code",
   "execution_count": null,
   "id": "026cc649",
   "metadata": {},
   "outputs": [],
   "source": [
    "# Reusing some of the code from earlier, now with more variables, to get a better understanding of the data."
   ]
  },
  {
   "cell_type": "code",
   "execution_count": 117,
   "id": "40993169",
   "metadata": {},
   "outputs": [
    {
     "data": {
      "text/plain": [
       "Partitioned Date                                13647309\n",
       "Customer Code                                   13647309\n",
       "Employee Index                                  13619575\n",
       "Country Residence                               13619575\n",
       "Sex                                             13619505\n",
       "Age                                             13647309\n",
       "Date Joined                                     13619575\n",
       "New Customer Index                              13619575\n",
       "Seniority                                       13647309\n",
       "Primary Customer                                13619575\n",
       "Last Date as Primary Customer                      24793\n",
       "Customer Type at Beginning of Month             13497528\n",
       "Customer Relation Type at Beginning of Month    13497528\n",
       "Resident Country is Bank Country                13619575\n",
       "Birth Country Different Than Bank Country       13619575\n",
       "Spouse Index                                        1808\n",
       "Channel Used to Join                            13461183\n",
       "Deceased                                        13619575\n",
       "Address Type                                    13619574\n",
       "Province Code                                   13553718\n",
       "Province Name                                   13553718\n",
       "Activity Index                                  13647309\n",
       "Gross Household Income                          10852934\n",
       "Segmentation                                    13457941\n",
       "Savings Account                                 13647309\n",
       "Guarantees                                      13647309\n",
       "Current Accounts                                13647309\n",
       "Derivative Account                              13647309\n",
       "Payroll Account                                 13647309\n",
       "Junior Account                                  13647309\n",
       "More Partiuclar Account                         13647309\n",
       "Particular Account                              13647309\n",
       "Particular Plus Account                         13647309\n",
       "Short-Term Deposits                             13647309\n",
       "Medium-Term Deposits                            13647309\n",
       "Long-Term Deposits                              13647309\n",
       "E-Account                                       13647309\n",
       "Funds                                           13647309\n",
       "Mortgage                                        13647309\n",
       "Pensions                                        13647309\n",
       "Loans                                           13647309\n",
       "Taxes                                           13647309\n",
       "Credit Card                                     13647309\n",
       "Securities                                      13647309\n",
       "Home Account                                    13647309\n",
       "Payroll                                         13647309\n",
       "Pension                                         13647309\n",
       "Direct Debit                                    13647309\n",
       "dtype: int64"
      ]
     },
     "execution_count": 117,
     "metadata": {},
     "output_type": "execute_result"
    }
   ],
   "source": [
    "df.count()"
   ]
  },
  {
   "cell_type": "code",
   "execution_count": 132,
   "id": "91e8cb7f",
   "metadata": {},
   "outputs": [
    {
     "data": {
      "text/plain": [
       "Sex                                          6.195253e+06\n",
       "Age                                          5.483361e+08\n",
       "New Customer Index                           8.112070e+05\n",
       "Seniority                                    1.082538e+09\n",
       "Primary Customer                             1.607702e+07\n",
       "Resident Country is Bank Country             1.358144e+07\n",
       "Birth Country Different Than Bank Country    6.447360e+05\n",
       "Deceased                                     3.476200e+04\n",
       "Activity Index                               6.235185e+06\n",
       "Gross Household Income                       1.741660e+12\n",
       "Savings Account                              1.396000e+03\n",
       "Guarantees                                   3.160000e+02\n",
       "Current Accounts                             8.945588e+06\n",
       "Derivative Account                           5.376000e+03\n",
       "Payroll Account                              1.103620e+06\n",
       "Junior Account                               1.292970e+05\n",
       "More Partiuclar Account                      1.327420e+05\n",
       "Particular Account                           1.760616e+06\n",
       "Particular Plus Account                      5.910080e+05\n",
       "Short-Term Deposits                          2.427500e+04\n",
       "Medium-Term Deposits                         2.266800e+04\n",
       "Long-Term Deposits                           5.863810e+05\n",
       "E-Account                                    1.129227e+06\n",
       "Funds                                        2.522840e+05\n",
       "Mortgage                                     8.033600e+04\n",
       "Pensions                                     1.251590e+05\n",
       "Loans                                        3.585700e+04\n",
       "Taxes                                        7.169800e+05\n",
       "Credit Card                                  6.057860e+05\n",
       "Securities                                   3.494750e+05\n",
       "Home Account                                 5.251100e+04\n",
       "Payroll                                      7.459610e+05\n",
       "Pension                                      8.100850e+05\n",
       "Direct Debit                                 1.745712e+06\n",
       "dtype: float64"
      ]
     },
     "execution_count": 132,
     "metadata": {},
     "output_type": "execute_result"
    }
   ],
   "source": [
    "df2.sum()"
   ]
  },
  {
   "cell_type": "code",
   "execution_count": 133,
   "id": "0709c1b4",
   "metadata": {},
   "outputs": [
    {
     "data": {
      "text/plain": [
       "Sex                                               0.453954\n",
       "Age                                              40.179064\n",
       "New Customer Index                                0.059441\n",
       "Seniority                                        79.322469\n",
       "Primary Customer                                  1.178036\n",
       "Resident Country is Bank Country                  0.995174\n",
       "Birth Country Different Than Bank Country         0.047243\n",
       "Deceased                                          0.002547\n",
       "Activity Index                                    0.456880\n",
       "Gross Household Income                       127619.323986\n",
       "Savings Account                                   0.000102\n",
       "Guarantees                                        0.000023\n",
       "Current Accounts                                  0.655484\n",
       "Derivative Account                                0.000394\n",
       "Payroll Account                                   0.080867\n",
       "Junior Account                                    0.009474\n",
       "More Partiuclar Account                           0.009727\n",
       "Particular Account                                0.129008\n",
       "Particular Plus Account                           0.043306\n",
       "Short-Term Deposits                               0.001779\n",
       "Medium-Term Deposits                              0.001661\n",
       "Long-Term Deposits                                0.042967\n",
       "E-Account                                         0.082744\n",
       "Funds                                             0.018486\n",
       "Mortgage                                          0.005887\n",
       "Pensions                                          0.009171\n",
       "Loans                                             0.002627\n",
       "Taxes                                             0.052536\n",
       "Credit Card                                       0.044389\n",
       "Securities                                        0.025608\n",
       "Home Account                                      0.003848\n",
       "Payroll                                           0.054660\n",
       "Pension                                           0.059359\n",
       "Direct Debit                                      0.127916\n",
       "dtype: float64"
      ]
     },
     "execution_count": 133,
     "metadata": {},
     "output_type": "execute_result"
    }
   ],
   "source": [
    "df2.mean()"
   ]
  },
  {
   "cell_type": "code",
   "execution_count": 134,
   "id": "a0efd5b3",
   "metadata": {},
   "outputs": [
    {
     "data": {
      "text/plain": [
       "Sex                                               0.0\n",
       "Age                                              39.0\n",
       "New Customer Index                                0.0\n",
       "Seniority                                        50.0\n",
       "Primary Customer                                  1.0\n",
       "Resident Country is Bank Country                  1.0\n",
       "Birth Country Different Than Bank Country         0.0\n",
       "Deceased                                          0.0\n",
       "Activity Index                                    0.0\n",
       "Gross Household Income                       101850.0\n",
       "Savings Account                                   0.0\n",
       "Guarantees                                        0.0\n",
       "Current Accounts                                  1.0\n",
       "Derivative Account                                0.0\n",
       "Payroll Account                                   0.0\n",
       "Junior Account                                    0.0\n",
       "More Partiuclar Account                           0.0\n",
       "Particular Account                                0.0\n",
       "Particular Plus Account                           0.0\n",
       "Short-Term Deposits                               0.0\n",
       "Medium-Term Deposits                              0.0\n",
       "Long-Term Deposits                                0.0\n",
       "E-Account                                         0.0\n",
       "Funds                                             0.0\n",
       "Mortgage                                          0.0\n",
       "Pensions                                          0.0\n",
       "Loans                                             0.0\n",
       "Taxes                                             0.0\n",
       "Credit Card                                       0.0\n",
       "Securities                                        0.0\n",
       "Home Account                                      0.0\n",
       "Payroll                                           0.0\n",
       "Pension                                           0.0\n",
       "Direct Debit                                      0.0\n",
       "dtype: float64"
      ]
     },
     "execution_count": 134,
     "metadata": {},
     "output_type": "execute_result"
    }
   ],
   "source": [
    "df2.median()"
   ]
  },
  {
   "cell_type": "code",
   "execution_count": 121,
   "id": "4de3f7cd",
   "metadata": {},
   "outputs": [
    {
     "data": {
      "text/plain": [
       "Partitioned Date                                 object\n",
       "Customer Code                                     int64\n",
       "Employee Index                                   object\n",
       "Country Residence                                object\n",
       "Sex                                             float64\n",
       "Age                                               int32\n",
       "Date Joined                                      object\n",
       "New Customer Index                              float64\n",
       "Seniority                                         int32\n",
       "Primary Customer                                float64\n",
       "Last Date as Primary Customer                    object\n",
       "Customer Type at Beginning of Month              object\n",
       "Customer Relation Type at Beginning of Month     object\n",
       "Resident Country is Bank Country                float64\n",
       "Birth Country Different Than Bank Country       float64\n",
       "Spouse Index                                    float64\n",
       "Channel Used to Join                             object\n",
       "Deceased                                        float64\n",
       "Address Type                                    float64\n",
       "Province Code                                   float64\n",
       "Province Name                                    object\n",
       "Activity Index                                  float64\n",
       "Gross Household Income                          float64\n",
       "Segmentation                                     object\n",
       "Savings Account                                   int64\n",
       "Guarantees                                        int64\n",
       "Current Accounts                                  int64\n",
       "Derivative Account                                int64\n",
       "Payroll Account                                   int64\n",
       "Junior Account                                    int64\n",
       "More Partiuclar Account                           int64\n",
       "Particular Account                                int64\n",
       "Particular Plus Account                           int64\n",
       "Short-Term Deposits                               int64\n",
       "Medium-Term Deposits                              int64\n",
       "Long-Term Deposits                                int64\n",
       "E-Account                                         int64\n",
       "Funds                                             int64\n",
       "Mortgage                                          int64\n",
       "Pensions                                          int64\n",
       "Loans                                             int64\n",
       "Taxes                                             int64\n",
       "Credit Card                                       int64\n",
       "Securities                                        int64\n",
       "Home Account                                      int64\n",
       "Payroll                                         float64\n",
       "Pension                                         float64\n",
       "Direct Debit                                      int64\n",
       "dtype: object"
      ]
     },
     "execution_count": 121,
     "metadata": {},
     "output_type": "execute_result"
    }
   ],
   "source": [
    "df.dtypes"
   ]
  },
  {
   "cell_type": "code",
   "execution_count": 135,
   "id": "875d7e79",
   "metadata": {},
   "outputs": [
    {
     "data": {
      "text/plain": [
       "Partitioned Date                                       0\n",
       "Customer Code                                          0\n",
       "Employee Index                                     27734\n",
       "Country Residence                                  27734\n",
       "Sex                                                    0\n",
       "Age                                                    0\n",
       "Date Joined                                        27734\n",
       "New Customer Index                                     0\n",
       "Seniority                                              0\n",
       "Primary Customer                                       0\n",
       "Last Date as Primary Customer                   13622516\n",
       "Customer Type at Beginning of Month               149781\n",
       "Customer Relation Type at Beginning of Month      149781\n",
       "Resident Country is Bank Country                       0\n",
       "Birth Country Different Than Bank Country              0\n",
       "Spouse Index                                    13645501\n",
       "Channel Used to Join                              186126\n",
       "Deceased                                               0\n",
       "Address Type                                       27735\n",
       "Province Code                                      93591\n",
       "Province Name                                      93591\n",
       "Activity Index                                         0\n",
       "Gross Household Income                                 0\n",
       "Segmentation                                      189368\n",
       "Savings Account                                        0\n",
       "Guarantees                                             0\n",
       "Current Accounts                                       0\n",
       "Derivative Account                                     0\n",
       "Payroll Account                                        0\n",
       "Junior Account                                         0\n",
       "More Partiuclar Account                                0\n",
       "Particular Account                                     0\n",
       "Particular Plus Account                                0\n",
       "Short-Term Deposits                                    0\n",
       "Medium-Term Deposits                                   0\n",
       "Long-Term Deposits                                     0\n",
       "E-Account                                              0\n",
       "Funds                                                  0\n",
       "Mortgage                                               0\n",
       "Pensions                                               0\n",
       "Loans                                                  0\n",
       "Taxes                                                  0\n",
       "Credit Card                                            0\n",
       "Securities                                             0\n",
       "Home Account                                           0\n",
       "Payroll                                                0\n",
       "Pension                                                0\n",
       "Direct Debit                                           0\n",
       "dtype: int64"
      ]
     },
     "execution_count": 135,
     "metadata": {},
     "output_type": "execute_result"
    }
   ],
   "source": [
    " df.isna().sum()"
   ]
  },
  {
   "cell_type": "code",
   "execution_count": null,
   "id": "84526561",
   "metadata": {},
   "outputs": [],
   "source": []
  },
  {
   "cell_type": "code",
   "execution_count": null,
   "id": "855b2972",
   "metadata": {},
   "outputs": [],
   "source": []
  },
  {
   "cell_type": "code",
   "execution_count": null,
   "id": "d915d823",
   "metadata": {},
   "outputs": [],
   "source": []
  },
  {
   "cell_type": "code",
   "execution_count": null,
   "id": "f248ab9e",
   "metadata": {},
   "outputs": [],
   "source": [
    "# Setting up a Pearson's r correlation coefficient table to find statistically significant relationships between variables."
   ]
  },
  {
   "cell_type": "code",
   "execution_count": 122,
   "id": "b7ff1d11",
   "metadata": {
    "scrolled": false
   },
   "outputs": [
    {
     "data": {
      "text/html": [
       "<div>\n",
       "<style scoped>\n",
       "    .dataframe tbody tr th:only-of-type {\n",
       "        vertical-align: middle;\n",
       "    }\n",
       "\n",
       "    .dataframe tbody tr th {\n",
       "        vertical-align: top;\n",
       "    }\n",
       "\n",
       "    .dataframe thead th {\n",
       "        text-align: right;\n",
       "    }\n",
       "</style>\n",
       "<table border=\"1\" class=\"dataframe\">\n",
       "  <thead>\n",
       "    <tr style=\"text-align: right;\">\n",
       "      <th></th>\n",
       "      <th>Customer Code</th>\n",
       "      <th>Sex</th>\n",
       "      <th>Age</th>\n",
       "      <th>New Customer Index</th>\n",
       "      <th>Seniority</th>\n",
       "      <th>Primary Customer</th>\n",
       "      <th>Resident Country is Bank Country</th>\n",
       "      <th>Birth Country Different Than Bank Country</th>\n",
       "      <th>Spouse Index</th>\n",
       "      <th>Deceased</th>\n",
       "      <th>Address Type</th>\n",
       "      <th>Province Code</th>\n",
       "      <th>Activity Index</th>\n",
       "      <th>Gross Household Income</th>\n",
       "      <th>Savings Account</th>\n",
       "      <th>Guarantees</th>\n",
       "      <th>Current Accounts</th>\n",
       "      <th>Derivative Account</th>\n",
       "      <th>Payroll Account</th>\n",
       "      <th>Junior Account</th>\n",
       "      <th>More Partiuclar Account</th>\n",
       "      <th>Particular Account</th>\n",
       "      <th>Particular Plus Account</th>\n",
       "      <th>Short-Term Deposits</th>\n",
       "      <th>Medium-Term Deposits</th>\n",
       "      <th>Long-Term Deposits</th>\n",
       "      <th>E-Account</th>\n",
       "      <th>Funds</th>\n",
       "      <th>Mortgage</th>\n",
       "      <th>Pensions</th>\n",
       "      <th>Loans</th>\n",
       "      <th>Taxes</th>\n",
       "      <th>Credit Card</th>\n",
       "      <th>Securities</th>\n",
       "      <th>Home Account</th>\n",
       "      <th>Payroll</th>\n",
       "      <th>Pension</th>\n",
       "      <th>Direct Debit</th>\n",
       "    </tr>\n",
       "  </thead>\n",
       "  <tbody>\n",
       "    <tr>\n",
       "      <th>Customer Code</th>\n",
       "      <td>1.000000</td>\n",
       "      <td>0.135935</td>\n",
       "      <td>-0.608691</td>\n",
       "      <td>0.347430</td>\n",
       "      <td>-0.957147</td>\n",
       "      <td>0.028580</td>\n",
       "      <td>0.050913</td>\n",
       "      <td>0.038427</td>\n",
       "      <td>-0.017794</td>\n",
       "      <td>-0.055377</td>\n",
       "      <td>NaN</td>\n",
       "      <td>-0.040821</td>\n",
       "      <td>-0.139885</td>\n",
       "      <td>-0.178484</td>\n",
       "      <td>-0.013037</td>\n",
       "      <td>-0.005278</td>\n",
       "      <td>0.161721</td>\n",
       "      <td>-0.018765</td>\n",
       "      <td>-0.129753</td>\n",
       "      <td>-0.016439</td>\n",
       "      <td>0.023673</td>\n",
       "      <td>-0.446639</td>\n",
       "      <td>-0.155942</td>\n",
       "      <td>0.020474</td>\n",
       "      <td>-0.035326</td>\n",
       "      <td>-0.135388</td>\n",
       "      <td>-0.146260</td>\n",
       "      <td>-0.144393</td>\n",
       "      <td>-0.096869</td>\n",
       "      <td>-0.119479</td>\n",
       "      <td>-0.035985</td>\n",
       "      <td>-0.189476</td>\n",
       "      <td>-0.188148</td>\n",
       "      <td>-0.173800</td>\n",
       "      <td>-0.074148</td>\n",
       "      <td>-0.119074</td>\n",
       "      <td>-0.130896</td>\n",
       "      <td>-0.143262</td>\n",
       "    </tr>\n",
       "    <tr>\n",
       "      <th>Sex</th>\n",
       "      <td>0.135935</td>\n",
       "      <td>1.000000</td>\n",
       "      <td>-0.123592</td>\n",
       "      <td>0.024902</td>\n",
       "      <td>-0.138221</td>\n",
       "      <td>-0.000591</td>\n",
       "      <td>0.012855</td>\n",
       "      <td>0.010159</td>\n",
       "      <td>0.113889</td>\n",
       "      <td>-0.014827</td>\n",
       "      <td>NaN</td>\n",
       "      <td>-0.000792</td>\n",
       "      <td>-0.052120</td>\n",
       "      <td>-0.020159</td>\n",
       "      <td>-0.004268</td>\n",
       "      <td>-0.001921</td>\n",
       "      <td>0.036655</td>\n",
       "      <td>-0.012628</td>\n",
       "      <td>-0.027191</td>\n",
       "      <td>0.005916</td>\n",
       "      <td>-0.010492</td>\n",
       "      <td>-0.062419</td>\n",
       "      <td>-0.029367</td>\n",
       "      <td>-0.002071</td>\n",
       "      <td>-0.003285</td>\n",
       "      <td>-0.023505</td>\n",
       "      <td>-0.042111</td>\n",
       "      <td>-0.041566</td>\n",
       "      <td>-0.026636</td>\n",
       "      <td>-0.016253</td>\n",
       "      <td>-0.014515</td>\n",
       "      <td>-0.051078</td>\n",
       "      <td>-0.047341</td>\n",
       "      <td>-0.054630</td>\n",
       "      <td>-0.010212</td>\n",
       "      <td>-0.019857</td>\n",
       "      <td>-0.021055</td>\n",
       "      <td>-0.047290</td>\n",
       "    </tr>\n",
       "    <tr>\n",
       "      <th>Age</th>\n",
       "      <td>-0.608691</td>\n",
       "      <td>-0.123592</td>\n",
       "      <td>1.000000</td>\n",
       "      <td>-0.152788</td>\n",
       "      <td>0.597369</td>\n",
       "      <td>-0.000869</td>\n",
       "      <td>-0.029461</td>\n",
       "      <td>-0.016520</td>\n",
       "      <td>-0.082814</td>\n",
       "      <td>0.109344</td>\n",
       "      <td>NaN</td>\n",
       "      <td>0.051155</td>\n",
       "      <td>0.135261</td>\n",
       "      <td>0.143206</td>\n",
       "      <td>0.004932</td>\n",
       "      <td>0.000894</td>\n",
       "      <td>-0.172363</td>\n",
       "      <td>0.013379</td>\n",
       "      <td>0.068340</td>\n",
       "      <td>-0.153257</td>\n",
       "      <td>0.036045</td>\n",
       "      <td>0.317593</td>\n",
       "      <td>0.117444</td>\n",
       "      <td>0.019375</td>\n",
       "      <td>0.028522</td>\n",
       "      <td>0.175602</td>\n",
       "      <td>0.142944</td>\n",
       "      <td>0.115562</td>\n",
       "      <td>0.038053</td>\n",
       "      <td>0.065997</td>\n",
       "      <td>0.023775</td>\n",
       "      <td>0.094443</td>\n",
       "      <td>0.100561</td>\n",
       "      <td>0.110126</td>\n",
       "      <td>0.017248</td>\n",
       "      <td>0.043045</td>\n",
       "      <td>0.071267</td>\n",
       "      <td>0.087815</td>\n",
       "    </tr>\n",
       "    <tr>\n",
       "      <th>New Customer Index</th>\n",
       "      <td>0.347430</td>\n",
       "      <td>0.024902</td>\n",
       "      <td>-0.152788</td>\n",
       "      <td>1.000000</td>\n",
       "      <td>-0.291244</td>\n",
       "      <td>0.063021</td>\n",
       "      <td>0.016940</td>\n",
       "      <td>0.016996</td>\n",
       "      <td>-0.026208</td>\n",
       "      <td>-0.012626</td>\n",
       "      <td>NaN</td>\n",
       "      <td>-0.004372</td>\n",
       "      <td>-0.004244</td>\n",
       "      <td>-0.030742</td>\n",
       "      <td>-0.002548</td>\n",
       "      <td>-0.001019</td>\n",
       "      <td>0.002846</td>\n",
       "      <td>-0.004593</td>\n",
       "      <td>-0.046988</td>\n",
       "      <td>-0.011222</td>\n",
       "      <td>0.041261</td>\n",
       "      <td>-0.096910</td>\n",
       "      <td>-0.053555</td>\n",
       "      <td>0.087791</td>\n",
       "      <td>-0.010054</td>\n",
       "      <td>-0.039550</td>\n",
       "      <td>-0.059726</td>\n",
       "      <td>-0.032735</td>\n",
       "      <td>-0.019311</td>\n",
       "      <td>-0.023275</td>\n",
       "      <td>-0.012582</td>\n",
       "      <td>-0.055008</td>\n",
       "      <td>-0.051815</td>\n",
       "      <td>-0.038225</td>\n",
       "      <td>-0.015613</td>\n",
       "      <td>-0.036880</td>\n",
       "      <td>-0.039378</td>\n",
       "      <td>-0.053103</td>\n",
       "    </tr>\n",
       "    <tr>\n",
       "      <th>Seniority</th>\n",
       "      <td>-0.957147</td>\n",
       "      <td>-0.138221</td>\n",
       "      <td>0.597369</td>\n",
       "      <td>-0.291244</td>\n",
       "      <td>1.000000</td>\n",
       "      <td>-0.027625</td>\n",
       "      <td>-0.052300</td>\n",
       "      <td>-0.032052</td>\n",
       "      <td>0.030794</td>\n",
       "      <td>0.052835</td>\n",
       "      <td>NaN</td>\n",
       "      <td>0.041921</td>\n",
       "      <td>0.135305</td>\n",
       "      <td>0.174128</td>\n",
       "      <td>0.013630</td>\n",
       "      <td>0.005586</td>\n",
       "      <td>-0.168033</td>\n",
       "      <td>0.019395</td>\n",
       "      <td>0.131204</td>\n",
       "      <td>0.016500</td>\n",
       "      <td>-0.045788</td>\n",
       "      <td>0.468618</td>\n",
       "      <td>0.153142</td>\n",
       "      <td>-0.023523</td>\n",
       "      <td>0.035536</td>\n",
       "      <td>0.124481</td>\n",
       "      <td>0.133965</td>\n",
       "      <td>0.151544</td>\n",
       "      <td>0.102617</td>\n",
       "      <td>0.128061</td>\n",
       "      <td>0.034706</td>\n",
       "      <td>0.187820</td>\n",
       "      <td>0.191678</td>\n",
       "      <td>0.183577</td>\n",
       "      <td>0.080254</td>\n",
       "      <td>0.122376</td>\n",
       "      <td>0.133696</td>\n",
       "      <td>0.145049</td>\n",
       "    </tr>\n",
       "    <tr>\n",
       "      <th>Primary Customer</th>\n",
       "      <td>0.028580</td>\n",
       "      <td>-0.000591</td>\n",
       "      <td>-0.000869</td>\n",
       "      <td>0.063021</td>\n",
       "      <td>-0.027625</td>\n",
       "      <td>1.000000</td>\n",
       "      <td>0.002058</td>\n",
       "      <td>0.004602</td>\n",
       "      <td>-0.005622</td>\n",
       "      <td>0.017776</td>\n",
       "      <td>NaN</td>\n",
       "      <td>-0.000410</td>\n",
       "      <td>-0.033029</td>\n",
       "      <td>-0.000249</td>\n",
       "      <td>-0.000432</td>\n",
       "      <td>-0.000206</td>\n",
       "      <td>-0.046953</td>\n",
       "      <td>-0.000848</td>\n",
       "      <td>-0.011541</td>\n",
       "      <td>-0.002559</td>\n",
       "      <td>-0.000962</td>\n",
       "      <td>-0.014245</td>\n",
       "      <td>-0.008019</td>\n",
       "      <td>0.006660</td>\n",
       "      <td>-0.001152</td>\n",
       "      <td>-0.008047</td>\n",
       "      <td>-0.009846</td>\n",
       "      <td>-0.005303</td>\n",
       "      <td>-0.003150</td>\n",
       "      <td>-0.004021</td>\n",
       "      <td>-0.001879</td>\n",
       "      <td>-0.006023</td>\n",
       "      <td>-0.008518</td>\n",
       "      <td>-0.006373</td>\n",
       "      <td>-0.002656</td>\n",
       "      <td>-0.009256</td>\n",
       "      <td>-0.009653</td>\n",
       "      <td>-0.011989</td>\n",
       "    </tr>\n",
       "    <tr>\n",
       "      <th>Resident Country is Bank Country</th>\n",
       "      <td>0.050913</td>\n",
       "      <td>0.012855</td>\n",
       "      <td>-0.029461</td>\n",
       "      <td>0.016940</td>\n",
       "      <td>-0.052300</td>\n",
       "      <td>0.002058</td>\n",
       "      <td>1.000000</td>\n",
       "      <td>-0.246658</td>\n",
       "      <td>NaN</td>\n",
       "      <td>-0.000375</td>\n",
       "      <td>NaN</td>\n",
       "      <td>-0.000254</td>\n",
       "      <td>-0.013759</td>\n",
       "      <td>-0.003600</td>\n",
       "      <td>0.000706</td>\n",
       "      <td>-0.003400</td>\n",
       "      <td>-0.012507</td>\n",
       "      <td>0.000479</td>\n",
       "      <td>0.016264</td>\n",
       "      <td>0.006632</td>\n",
       "      <td>0.003698</td>\n",
       "      <td>-0.020207</td>\n",
       "      <td>0.004040</td>\n",
       "      <td>0.000918</td>\n",
       "      <td>-0.005957</td>\n",
       "      <td>0.001642</td>\n",
       "      <td>0.004881</td>\n",
       "      <td>-0.007927</td>\n",
       "      <td>0.003300</td>\n",
       "      <td>-0.001753</td>\n",
       "      <td>0.002083</td>\n",
       "      <td>0.007568</td>\n",
       "      <td>0.003258</td>\n",
       "      <td>-0.018717</td>\n",
       "      <td>0.003174</td>\n",
       "      <td>0.014824</td>\n",
       "      <td>0.014919</td>\n",
       "      <td>0.011704</td>\n",
       "    </tr>\n",
       "    <tr>\n",
       "      <th>Birth Country Different Than Bank Country</th>\n",
       "      <td>0.038427</td>\n",
       "      <td>0.010159</td>\n",
       "      <td>-0.016520</td>\n",
       "      <td>0.016996</td>\n",
       "      <td>-0.032052</td>\n",
       "      <td>0.004602</td>\n",
       "      <td>-0.246658</td>\n",
       "      <td>1.000000</td>\n",
       "      <td>-0.012439</td>\n",
       "      <td>-0.007117</td>\n",
       "      <td>NaN</td>\n",
       "      <td>-0.017906</td>\n",
       "      <td>-0.021085</td>\n",
       "      <td>-0.017033</td>\n",
       "      <td>0.000578</td>\n",
       "      <td>-0.001074</td>\n",
       "      <td>-0.023655</td>\n",
       "      <td>-0.003244</td>\n",
       "      <td>-0.004743</td>\n",
       "      <td>-0.019236</td>\n",
       "      <td>-0.000673</td>\n",
       "      <td>-0.034163</td>\n",
       "      <td>-0.012588</td>\n",
       "      <td>-0.005495</td>\n",
       "      <td>-0.003027</td>\n",
       "      <td>-0.031540</td>\n",
       "      <td>-0.028999</td>\n",
       "      <td>-0.016804</td>\n",
       "      <td>-0.011434</td>\n",
       "      <td>-0.004954</td>\n",
       "      <td>0.031036</td>\n",
       "      <td>0.007773</td>\n",
       "      <td>-0.001367</td>\n",
       "      <td>-0.017942</td>\n",
       "      <td>-0.002788</td>\n",
       "      <td>-0.006888</td>\n",
       "      <td>-0.008560</td>\n",
       "      <td>-0.003418</td>\n",
       "    </tr>\n",
       "    <tr>\n",
       "      <th>Spouse Index</th>\n",
       "      <td>-0.017794</td>\n",
       "      <td>0.113889</td>\n",
       "      <td>-0.082814</td>\n",
       "      <td>-0.026208</td>\n",
       "      <td>0.030794</td>\n",
       "      <td>-0.005622</td>\n",
       "      <td>NaN</td>\n",
       "      <td>-0.012439</td>\n",
       "      <td>1.000000</td>\n",
       "      <td>-0.003972</td>\n",
       "      <td>NaN</td>\n",
       "      <td>0.002049</td>\n",
       "      <td>0.041176</td>\n",
       "      <td>-0.054521</td>\n",
       "      <td>NaN</td>\n",
       "      <td>-0.009492</td>\n",
       "      <td>-0.118529</td>\n",
       "      <td>NaN</td>\n",
       "      <td>0.172047</td>\n",
       "      <td>NaN</td>\n",
       "      <td>-0.010304</td>\n",
       "      <td>-0.060070</td>\n",
       "      <td>-0.054257</td>\n",
       "      <td>-0.004588</td>\n",
       "      <td>-0.005622</td>\n",
       "      <td>-0.043020</td>\n",
       "      <td>0.053851</td>\n",
       "      <td>-0.043541</td>\n",
       "      <td>-0.031994</td>\n",
       "      <td>0.143582</td>\n",
       "      <td>-0.025036</td>\n",
       "      <td>-0.054590</td>\n",
       "      <td>-0.074667</td>\n",
       "      <td>0.132255</td>\n",
       "      <td>-0.013488</td>\n",
       "      <td>0.227114</td>\n",
       "      <td>0.212514</td>\n",
       "      <td>0.049243</td>\n",
       "    </tr>\n",
       "    <tr>\n",
       "      <th>Deceased</th>\n",
       "      <td>-0.055377</td>\n",
       "      <td>-0.014827</td>\n",
       "      <td>0.109344</td>\n",
       "      <td>-0.012626</td>\n",
       "      <td>0.052835</td>\n",
       "      <td>0.017776</td>\n",
       "      <td>-0.000375</td>\n",
       "      <td>-0.007117</td>\n",
       "      <td>-0.003972</td>\n",
       "      <td>1.000000</td>\n",
       "      <td>NaN</td>\n",
       "      <td>0.002308</td>\n",
       "      <td>0.001147</td>\n",
       "      <td>0.018446</td>\n",
       "      <td>-0.000512</td>\n",
       "      <td>-0.000244</td>\n",
       "      <td>-0.013936</td>\n",
       "      <td>0.000241</td>\n",
       "      <td>-0.010568</td>\n",
       "      <td>-0.004948</td>\n",
       "      <td>-0.002472</td>\n",
       "      <td>0.031835</td>\n",
       "      <td>0.001911</td>\n",
       "      <td>0.000250</td>\n",
       "      <td>-0.000102</td>\n",
       "      <td>-0.001407</td>\n",
       "      <td>-0.006030</td>\n",
       "      <td>0.009688</td>\n",
       "      <td>0.003282</td>\n",
       "      <td>0.002177</td>\n",
       "      <td>0.003296</td>\n",
       "      <td>0.001010</td>\n",
       "      <td>-0.010262</td>\n",
       "      <td>0.007082</td>\n",
       "      <td>-0.001831</td>\n",
       "      <td>-0.011465</td>\n",
       "      <td>-0.011021</td>\n",
       "      <td>-0.012925</td>\n",
       "    </tr>\n",
       "    <tr>\n",
       "      <th>Address Type</th>\n",
       "      <td>NaN</td>\n",
       "      <td>NaN</td>\n",
       "      <td>NaN</td>\n",
       "      <td>NaN</td>\n",
       "      <td>NaN</td>\n",
       "      <td>NaN</td>\n",
       "      <td>NaN</td>\n",
       "      <td>NaN</td>\n",
       "      <td>NaN</td>\n",
       "      <td>NaN</td>\n",
       "      <td>NaN</td>\n",
       "      <td>NaN</td>\n",
       "      <td>NaN</td>\n",
       "      <td>NaN</td>\n",
       "      <td>NaN</td>\n",
       "      <td>NaN</td>\n",
       "      <td>NaN</td>\n",
       "      <td>NaN</td>\n",
       "      <td>NaN</td>\n",
       "      <td>NaN</td>\n",
       "      <td>NaN</td>\n",
       "      <td>NaN</td>\n",
       "      <td>NaN</td>\n",
       "      <td>NaN</td>\n",
       "      <td>NaN</td>\n",
       "      <td>NaN</td>\n",
       "      <td>NaN</td>\n",
       "      <td>NaN</td>\n",
       "      <td>NaN</td>\n",
       "      <td>NaN</td>\n",
       "      <td>NaN</td>\n",
       "      <td>NaN</td>\n",
       "      <td>NaN</td>\n",
       "      <td>NaN</td>\n",
       "      <td>NaN</td>\n",
       "      <td>NaN</td>\n",
       "      <td>NaN</td>\n",
       "      <td>NaN</td>\n",
       "    </tr>\n",
       "    <tr>\n",
       "      <th>Province Code</th>\n",
       "      <td>-0.040821</td>\n",
       "      <td>-0.000792</td>\n",
       "      <td>0.051155</td>\n",
       "      <td>-0.004372</td>\n",
       "      <td>0.041921</td>\n",
       "      <td>-0.000410</td>\n",
       "      <td>-0.000254</td>\n",
       "      <td>-0.017906</td>\n",
       "      <td>0.002049</td>\n",
       "      <td>0.002308</td>\n",
       "      <td>NaN</td>\n",
       "      <td>1.000000</td>\n",
       "      <td>0.028168</td>\n",
       "      <td>-0.036649</td>\n",
       "      <td>0.001366</td>\n",
       "      <td>0.000525</td>\n",
       "      <td>-0.005369</td>\n",
       "      <td>0.000880</td>\n",
       "      <td>0.012170</td>\n",
       "      <td>0.009280</td>\n",
       "      <td>0.007044</td>\n",
       "      <td>0.041671</td>\n",
       "      <td>0.014831</td>\n",
       "      <td>0.001307</td>\n",
       "      <td>0.004255</td>\n",
       "      <td>0.016327</td>\n",
       "      <td>0.019168</td>\n",
       "      <td>0.007011</td>\n",
       "      <td>-0.003413</td>\n",
       "      <td>0.003345</td>\n",
       "      <td>-0.008385</td>\n",
       "      <td>0.007107</td>\n",
       "      <td>0.008992</td>\n",
       "      <td>0.013285</td>\n",
       "      <td>0.004053</td>\n",
       "      <td>0.010347</td>\n",
       "      <td>0.011307</td>\n",
       "      <td>0.014927</td>\n",
       "    </tr>\n",
       "    <tr>\n",
       "      <th>Activity Index</th>\n",
       "      <td>-0.139885</td>\n",
       "      <td>-0.052120</td>\n",
       "      <td>0.135261</td>\n",
       "      <td>-0.004244</td>\n",
       "      <td>0.135305</td>\n",
       "      <td>-0.033029</td>\n",
       "      <td>-0.013759</td>\n",
       "      <td>-0.021085</td>\n",
       "      <td>0.041176</td>\n",
       "      <td>0.001147</td>\n",
       "      <td>NaN</td>\n",
       "      <td>0.028168</td>\n",
       "      <td>1.000000</td>\n",
       "      <td>0.060746</td>\n",
       "      <td>0.005588</td>\n",
       "      <td>0.005247</td>\n",
       "      <td>0.171263</td>\n",
       "      <td>0.017901</td>\n",
       "      <td>0.315467</td>\n",
       "      <td>0.071344</td>\n",
       "      <td>0.065847</td>\n",
       "      <td>0.169616</td>\n",
       "      <td>0.156306</td>\n",
       "      <td>0.035946</td>\n",
       "      <td>0.044187</td>\n",
       "      <td>0.228985</td>\n",
       "      <td>0.284368</td>\n",
       "      <td>0.147612</td>\n",
       "      <td>0.083113</td>\n",
       "      <td>0.103705</td>\n",
       "      <td>0.034084</td>\n",
       "      <td>0.218655</td>\n",
       "      <td>0.232400</td>\n",
       "      <td>0.173369</td>\n",
       "      <td>0.039856</td>\n",
       "      <td>0.260630</td>\n",
       "      <td>0.272183</td>\n",
       "      <td>0.412244</td>\n",
       "    </tr>\n",
       "    <tr>\n",
       "      <th>Gross Household Income</th>\n",
       "      <td>-0.178484</td>\n",
       "      <td>-0.020159</td>\n",
       "      <td>0.143206</td>\n",
       "      <td>-0.030742</td>\n",
       "      <td>0.174128</td>\n",
       "      <td>-0.000249</td>\n",
       "      <td>-0.003600</td>\n",
       "      <td>-0.017033</td>\n",
       "      <td>-0.054521</td>\n",
       "      <td>0.018446</td>\n",
       "      <td>NaN</td>\n",
       "      <td>-0.036649</td>\n",
       "      <td>0.060746</td>\n",
       "      <td>1.000000</td>\n",
       "      <td>0.006067</td>\n",
       "      <td>0.004039</td>\n",
       "      <td>-0.053887</td>\n",
       "      <td>0.004521</td>\n",
       "      <td>0.034652</td>\n",
       "      <td>0.024020</td>\n",
       "      <td>0.007335</td>\n",
       "      <td>0.085797</td>\n",
       "      <td>0.051297</td>\n",
       "      <td>0.000305</td>\n",
       "      <td>0.006347</td>\n",
       "      <td>0.045854</td>\n",
       "      <td>0.054914</td>\n",
       "      <td>0.055592</td>\n",
       "      <td>0.008116</td>\n",
       "      <td>0.044143</td>\n",
       "      <td>-0.010625</td>\n",
       "      <td>0.072117</td>\n",
       "      <td>0.056060</td>\n",
       "      <td>0.067869</td>\n",
       "      <td>0.023001</td>\n",
       "      <td>0.026594</td>\n",
       "      <td>0.032055</td>\n",
       "      <td>0.038665</td>\n",
       "    </tr>\n",
       "    <tr>\n",
       "      <th>Savings Account</th>\n",
       "      <td>-0.013037</td>\n",
       "      <td>-0.004268</td>\n",
       "      <td>0.004932</td>\n",
       "      <td>-0.002548</td>\n",
       "      <td>0.013630</td>\n",
       "      <td>-0.000432</td>\n",
       "      <td>0.000706</td>\n",
       "      <td>0.000578</td>\n",
       "      <td>NaN</td>\n",
       "      <td>-0.000512</td>\n",
       "      <td>NaN</td>\n",
       "      <td>0.001366</td>\n",
       "      <td>0.005588</td>\n",
       "      <td>0.006067</td>\n",
       "      <td>1.000000</td>\n",
       "      <td>-0.000049</td>\n",
       "      <td>-0.001083</td>\n",
       "      <td>-0.000201</td>\n",
       "      <td>0.001146</td>\n",
       "      <td>-0.000989</td>\n",
       "      <td>-0.000707</td>\n",
       "      <td>0.009616</td>\n",
       "      <td>0.004184</td>\n",
       "      <td>-0.000427</td>\n",
       "      <td>-0.000413</td>\n",
       "      <td>0.002037</td>\n",
       "      <td>0.001565</td>\n",
       "      <td>0.001355</td>\n",
       "      <td>0.002442</td>\n",
       "      <td>0.005639</td>\n",
       "      <td>-0.000519</td>\n",
       "      <td>0.007620</td>\n",
       "      <td>0.001444</td>\n",
       "      <td>0.006250</td>\n",
       "      <td>0.014351</td>\n",
       "      <td>0.000245</td>\n",
       "      <td>0.000096</td>\n",
       "      <td>0.003220</td>\n",
       "    </tr>\n",
       "    <tr>\n",
       "      <th>Guarantees</th>\n",
       "      <td>-0.005278</td>\n",
       "      <td>-0.001921</td>\n",
       "      <td>0.000894</td>\n",
       "      <td>-0.001019</td>\n",
       "      <td>0.005586</td>\n",
       "      <td>-0.000206</td>\n",
       "      <td>-0.003400</td>\n",
       "      <td>-0.001074</td>\n",
       "      <td>-0.009492</td>\n",
       "      <td>-0.000244</td>\n",
       "      <td>NaN</td>\n",
       "      <td>0.000525</td>\n",
       "      <td>0.005247</td>\n",
       "      <td>0.004039</td>\n",
       "      <td>-0.000049</td>\n",
       "      <td>1.000000</td>\n",
       "      <td>-0.001767</td>\n",
       "      <td>-0.000096</td>\n",
       "      <td>0.010302</td>\n",
       "      <td>-0.000471</td>\n",
       "      <td>0.001695</td>\n",
       "      <td>0.001828</td>\n",
       "      <td>0.008702</td>\n",
       "      <td>-0.000203</td>\n",
       "      <td>0.000552</td>\n",
       "      <td>0.001609</td>\n",
       "      <td>0.011931</td>\n",
       "      <td>0.003975</td>\n",
       "      <td>-0.000370</td>\n",
       "      <td>0.002253</td>\n",
       "      <td>-0.000247</td>\n",
       "      <td>0.011016</td>\n",
       "      <td>0.010423</td>\n",
       "      <td>0.013198</td>\n",
       "      <td>-0.000299</td>\n",
       "      <td>0.011705</td>\n",
       "      <td>0.011164</td>\n",
       "      <td>0.011151</td>\n",
       "    </tr>\n",
       "    <tr>\n",
       "      <th>Current Accounts</th>\n",
       "      <td>0.161721</td>\n",
       "      <td>0.036655</td>\n",
       "      <td>-0.172363</td>\n",
       "      <td>0.002846</td>\n",
       "      <td>-0.168033</td>\n",
       "      <td>-0.046953</td>\n",
       "      <td>-0.012507</td>\n",
       "      <td>-0.023655</td>\n",
       "      <td>-0.118529</td>\n",
       "      <td>-0.013936</td>\n",
       "      <td>NaN</td>\n",
       "      <td>-0.005369</td>\n",
       "      <td>0.171263</td>\n",
       "      <td>-0.053887</td>\n",
       "      <td>-0.001083</td>\n",
       "      <td>-0.001767</td>\n",
       "      <td>1.000000</td>\n",
       "      <td>0.003210</td>\n",
       "      <td>-0.345474</td>\n",
       "      <td>-0.134816</td>\n",
       "      <td>-0.024654</td>\n",
       "      <td>0.003798</td>\n",
       "      <td>-0.050776</td>\n",
       "      <td>-0.003055</td>\n",
       "      <td>0.012498</td>\n",
       "      <td>0.010251</td>\n",
       "      <td>-0.076882</td>\n",
       "      <td>0.010201</td>\n",
       "      <td>-0.046969</td>\n",
       "      <td>-0.030727</td>\n",
       "      <td>-0.028756</td>\n",
       "      <td>-0.091579</td>\n",
       "      <td>-0.095949</td>\n",
       "      <td>0.014066</td>\n",
       "      <td>-0.005507</td>\n",
       "      <td>-0.257046</td>\n",
       "      <td>-0.270173</td>\n",
       "      <td>-0.069308</td>\n",
       "    </tr>\n",
       "    <tr>\n",
       "      <th>Derivative Account</th>\n",
       "      <td>-0.018765</td>\n",
       "      <td>-0.012628</td>\n",
       "      <td>0.013379</td>\n",
       "      <td>-0.004593</td>\n",
       "      <td>0.019395</td>\n",
       "      <td>-0.000848</td>\n",
       "      <td>0.000479</td>\n",
       "      <td>-0.003244</td>\n",
       "      <td>NaN</td>\n",
       "      <td>0.000241</td>\n",
       "      <td>NaN</td>\n",
       "      <td>0.000880</td>\n",
       "      <td>0.017901</td>\n",
       "      <td>0.004521</td>\n",
       "      <td>-0.000201</td>\n",
       "      <td>-0.000096</td>\n",
       "      <td>0.003210</td>\n",
       "      <td>1.000000</td>\n",
       "      <td>0.008509</td>\n",
       "      <td>-0.001941</td>\n",
       "      <td>-0.001516</td>\n",
       "      <td>0.012585</td>\n",
       "      <td>0.007151</td>\n",
       "      <td>0.000652</td>\n",
       "      <td>0.001095</td>\n",
       "      <td>0.004279</td>\n",
       "      <td>0.010484</td>\n",
       "      <td>0.017096</td>\n",
       "      <td>0.001513</td>\n",
       "      <td>0.013004</td>\n",
       "      <td>0.001434</td>\n",
       "      <td>0.011231</td>\n",
       "      <td>0.009599</td>\n",
       "      <td>0.033319</td>\n",
       "      <td>0.004790</td>\n",
       "      <td>0.006874</td>\n",
       "      <td>0.007406</td>\n",
       "      <td>0.009136</td>\n",
       "    </tr>\n",
       "    <tr>\n",
       "      <th>Payroll Account</th>\n",
       "      <td>-0.129753</td>\n",
       "      <td>-0.027191</td>\n",
       "      <td>0.068340</td>\n",
       "      <td>-0.046988</td>\n",
       "      <td>0.131204</td>\n",
       "      <td>-0.011541</td>\n",
       "      <td>0.016264</td>\n",
       "      <td>-0.004743</td>\n",
       "      <td>0.172047</td>\n",
       "      <td>-0.010568</td>\n",
       "      <td>NaN</td>\n",
       "      <td>0.012170</td>\n",
       "      <td>0.315467</td>\n",
       "      <td>0.034652</td>\n",
       "      <td>0.001146</td>\n",
       "      <td>0.010302</td>\n",
       "      <td>-0.345474</td>\n",
       "      <td>0.008509</td>\n",
       "      <td>1.000000</td>\n",
       "      <td>-0.029009</td>\n",
       "      <td>0.024416</td>\n",
       "      <td>0.021291</td>\n",
       "      <td>0.186533</td>\n",
       "      <td>-0.002743</td>\n",
       "      <td>0.014493</td>\n",
       "      <td>0.095624</td>\n",
       "      <td>0.306321</td>\n",
       "      <td>0.085948</td>\n",
       "      <td>0.155558</td>\n",
       "      <td>0.102922</td>\n",
       "      <td>0.002517</td>\n",
       "      <td>0.319811</td>\n",
       "      <td>0.386592</td>\n",
       "      <td>0.122338</td>\n",
       "      <td>0.030378</td>\n",
       "      <td>0.757918</td>\n",
       "      <td>0.790085</td>\n",
       "      <td>0.535626</td>\n",
       "    </tr>\n",
       "    <tr>\n",
       "      <th>Junior Account</th>\n",
       "      <td>-0.016439</td>\n",
       "      <td>0.005916</td>\n",
       "      <td>-0.153257</td>\n",
       "      <td>-0.011222</td>\n",
       "      <td>0.016500</td>\n",
       "      <td>-0.002559</td>\n",
       "      <td>0.006632</td>\n",
       "      <td>-0.019236</td>\n",
       "      <td>NaN</td>\n",
       "      <td>-0.004948</td>\n",
       "      <td>NaN</td>\n",
       "      <td>0.009280</td>\n",
       "      <td>0.071344</td>\n",
       "      <td>0.024020</td>\n",
       "      <td>-0.000989</td>\n",
       "      <td>-0.000471</td>\n",
       "      <td>-0.134816</td>\n",
       "      <td>-0.001941</td>\n",
       "      <td>-0.029009</td>\n",
       "      <td>1.000000</td>\n",
       "      <td>-0.009693</td>\n",
       "      <td>-0.037639</td>\n",
       "      <td>-0.020808</td>\n",
       "      <td>-0.004128</td>\n",
       "      <td>-0.003989</td>\n",
       "      <td>-0.019685</td>\n",
       "      <td>-0.029327</td>\n",
       "      <td>-0.013422</td>\n",
       "      <td>-0.007526</td>\n",
       "      <td>-0.009409</td>\n",
       "      <td>-0.005020</td>\n",
       "      <td>-0.022413</td>\n",
       "      <td>-0.021078</td>\n",
       "      <td>-0.015855</td>\n",
       "      <td>-0.006078</td>\n",
       "      <td>-0.023237</td>\n",
       "      <td>-0.023185</td>\n",
       "      <td>-0.037449</td>\n",
       "    </tr>\n",
       "    <tr>\n",
       "      <th>More Partiuclar Account</th>\n",
       "      <td>0.023673</td>\n",
       "      <td>-0.010492</td>\n",
       "      <td>0.036045</td>\n",
       "      <td>0.041261</td>\n",
       "      <td>-0.045788</td>\n",
       "      <td>-0.000962</td>\n",
       "      <td>0.003698</td>\n",
       "      <td>-0.000673</td>\n",
       "      <td>-0.010304</td>\n",
       "      <td>-0.002472</td>\n",
       "      <td>NaN</td>\n",
       "      <td>0.007044</td>\n",
       "      <td>0.065847</td>\n",
       "      <td>0.007335</td>\n",
       "      <td>-0.000707</td>\n",
       "      <td>0.001695</td>\n",
       "      <td>-0.024654</td>\n",
       "      <td>-0.001516</td>\n",
       "      <td>0.024416</td>\n",
       "      <td>-0.009693</td>\n",
       "      <td>1.000000</td>\n",
       "      <td>-0.036033</td>\n",
       "      <td>-0.018302</td>\n",
       "      <td>0.016547</td>\n",
       "      <td>-0.000742</td>\n",
       "      <td>0.007782</td>\n",
       "      <td>-0.011362</td>\n",
       "      <td>-0.002150</td>\n",
       "      <td>-0.005069</td>\n",
       "      <td>-0.002635</td>\n",
       "      <td>-0.004168</td>\n",
       "      <td>0.013283</td>\n",
       "      <td>0.020310</td>\n",
       "      <td>0.001634</td>\n",
       "      <td>-0.005641</td>\n",
       "      <td>0.021872</td>\n",
       "      <td>0.021823</td>\n",
       "      <td>0.029004</td>\n",
       "    </tr>\n",
       "    <tr>\n",
       "      <th>Particular Account</th>\n",
       "      <td>-0.446639</td>\n",
       "      <td>-0.062419</td>\n",
       "      <td>0.317593</td>\n",
       "      <td>-0.096910</td>\n",
       "      <td>0.468618</td>\n",
       "      <td>-0.014245</td>\n",
       "      <td>-0.020207</td>\n",
       "      <td>-0.034163</td>\n",
       "      <td>-0.060070</td>\n",
       "      <td>0.031835</td>\n",
       "      <td>NaN</td>\n",
       "      <td>0.041671</td>\n",
       "      <td>0.169616</td>\n",
       "      <td>0.085797</td>\n",
       "      <td>0.009616</td>\n",
       "      <td>0.001828</td>\n",
       "      <td>0.003798</td>\n",
       "      <td>0.012585</td>\n",
       "      <td>0.021291</td>\n",
       "      <td>-0.037639</td>\n",
       "      <td>-0.036033</td>\n",
       "      <td>1.000000</td>\n",
       "      <td>0.037871</td>\n",
       "      <td>0.000567</td>\n",
       "      <td>0.040650</td>\n",
       "      <td>0.077666</td>\n",
       "      <td>-0.010200</td>\n",
       "      <td>0.087223</td>\n",
       "      <td>0.018857</td>\n",
       "      <td>0.049246</td>\n",
       "      <td>-0.009112</td>\n",
       "      <td>0.061071</td>\n",
       "      <td>0.063697</td>\n",
       "      <td>0.096055</td>\n",
       "      <td>0.062589</td>\n",
       "      <td>0.027174</td>\n",
       "      <td>0.028225</td>\n",
       "      <td>0.043040</td>\n",
       "    </tr>\n",
       "    <tr>\n",
       "      <th>Particular Plus Account</th>\n",
       "      <td>-0.155942</td>\n",
       "      <td>-0.029367</td>\n",
       "      <td>0.117444</td>\n",
       "      <td>-0.053555</td>\n",
       "      <td>0.153142</td>\n",
       "      <td>-0.008019</td>\n",
       "      <td>0.004040</td>\n",
       "      <td>-0.012588</td>\n",
       "      <td>-0.054257</td>\n",
       "      <td>0.001911</td>\n",
       "      <td>NaN</td>\n",
       "      <td>0.014831</td>\n",
       "      <td>0.156306</td>\n",
       "      <td>0.051297</td>\n",
       "      <td>0.004184</td>\n",
       "      <td>0.008702</td>\n",
       "      <td>-0.050776</td>\n",
       "      <td>0.007151</td>\n",
       "      <td>0.186533</td>\n",
       "      <td>-0.020808</td>\n",
       "      <td>-0.018302</td>\n",
       "      <td>0.037871</td>\n",
       "      <td>1.000000</td>\n",
       "      <td>-0.000412</td>\n",
       "      <td>0.022891</td>\n",
       "      <td>0.074684</td>\n",
       "      <td>0.067205</td>\n",
       "      <td>0.067732</td>\n",
       "      <td>0.070650</td>\n",
       "      <td>0.062644</td>\n",
       "      <td>-0.001848</td>\n",
       "      <td>0.168267</td>\n",
       "      <td>0.167066</td>\n",
       "      <td>0.092291</td>\n",
       "      <td>0.040633</td>\n",
       "      <td>0.172592</td>\n",
       "      <td>0.179870</td>\n",
       "      <td>0.201764</td>\n",
       "    </tr>\n",
       "    <tr>\n",
       "      <th>Short-Term Deposits</th>\n",
       "      <td>0.020474</td>\n",
       "      <td>-0.002071</td>\n",
       "      <td>0.019375</td>\n",
       "      <td>0.087791</td>\n",
       "      <td>-0.023523</td>\n",
       "      <td>0.006660</td>\n",
       "      <td>0.000918</td>\n",
       "      <td>-0.005495</td>\n",
       "      <td>-0.004588</td>\n",
       "      <td>0.000250</td>\n",
       "      <td>NaN</td>\n",
       "      <td>0.001307</td>\n",
       "      <td>0.035946</td>\n",
       "      <td>0.000305</td>\n",
       "      <td>-0.000427</td>\n",
       "      <td>-0.000203</td>\n",
       "      <td>-0.003055</td>\n",
       "      <td>0.000652</td>\n",
       "      <td>-0.002743</td>\n",
       "      <td>-0.004128</td>\n",
       "      <td>0.016547</td>\n",
       "      <td>0.000567</td>\n",
       "      <td>-0.000412</td>\n",
       "      <td>1.000000</td>\n",
       "      <td>0.050163</td>\n",
       "      <td>0.014158</td>\n",
       "      <td>-0.003400</td>\n",
       "      <td>0.003708</td>\n",
       "      <td>-0.001316</td>\n",
       "      <td>-0.001982</td>\n",
       "      <td>-0.002167</td>\n",
       "      <td>-0.001522</td>\n",
       "      <td>-0.001279</td>\n",
       "      <td>0.001050</td>\n",
       "      <td>-0.001163</td>\n",
       "      <td>-0.001269</td>\n",
       "      <td>-0.001552</td>\n",
       "      <td>-0.004947</td>\n",
       "    </tr>\n",
       "    <tr>\n",
       "      <th>Medium-Term Deposits</th>\n",
       "      <td>-0.035326</td>\n",
       "      <td>-0.003285</td>\n",
       "      <td>0.028522</td>\n",
       "      <td>-0.010054</td>\n",
       "      <td>0.035536</td>\n",
       "      <td>-0.001152</td>\n",
       "      <td>-0.005957</td>\n",
       "      <td>-0.003027</td>\n",
       "      <td>-0.005622</td>\n",
       "      <td>-0.000102</td>\n",
       "      <td>NaN</td>\n",
       "      <td>0.004255</td>\n",
       "      <td>0.044187</td>\n",
       "      <td>0.006347</td>\n",
       "      <td>-0.000413</td>\n",
       "      <td>0.000552</td>\n",
       "      <td>0.012498</td>\n",
       "      <td>0.001095</td>\n",
       "      <td>0.014493</td>\n",
       "      <td>-0.003989</td>\n",
       "      <td>-0.000742</td>\n",
       "      <td>0.040650</td>\n",
       "      <td>0.022891</td>\n",
       "      <td>0.050163</td>\n",
       "      <td>1.000000</td>\n",
       "      <td>0.079801</td>\n",
       "      <td>0.016717</td>\n",
       "      <td>0.030270</td>\n",
       "      <td>0.004506</td>\n",
       "      <td>0.011215</td>\n",
       "      <td>-0.001496</td>\n",
       "      <td>0.011550</td>\n",
       "      <td>0.015925</td>\n",
       "      <td>0.017594</td>\n",
       "      <td>0.007144</td>\n",
       "      <td>0.015800</td>\n",
       "      <td>0.016178</td>\n",
       "      <td>0.014645</td>\n",
       "    </tr>\n",
       "    <tr>\n",
       "      <th>Long-Term Deposits</th>\n",
       "      <td>-0.135388</td>\n",
       "      <td>-0.023505</td>\n",
       "      <td>0.175602</td>\n",
       "      <td>-0.039550</td>\n",
       "      <td>0.124481</td>\n",
       "      <td>-0.008047</td>\n",
       "      <td>0.001642</td>\n",
       "      <td>-0.031540</td>\n",
       "      <td>-0.043020</td>\n",
       "      <td>-0.001407</td>\n",
       "      <td>NaN</td>\n",
       "      <td>0.016327</td>\n",
       "      <td>0.228985</td>\n",
       "      <td>0.045854</td>\n",
       "      <td>0.002037</td>\n",
       "      <td>0.001609</td>\n",
       "      <td>0.010251</td>\n",
       "      <td>0.004279</td>\n",
       "      <td>0.095624</td>\n",
       "      <td>-0.019685</td>\n",
       "      <td>0.007782</td>\n",
       "      <td>0.077666</td>\n",
       "      <td>0.074684</td>\n",
       "      <td>0.014158</td>\n",
       "      <td>0.079801</td>\n",
       "      <td>1.000000</td>\n",
       "      <td>0.222120</td>\n",
       "      <td>0.177314</td>\n",
       "      <td>0.016609</td>\n",
       "      <td>0.060747</td>\n",
       "      <td>-0.009541</td>\n",
       "      <td>0.063987</td>\n",
       "      <td>0.106513</td>\n",
       "      <td>0.081671</td>\n",
       "      <td>0.007073</td>\n",
       "      <td>0.078193</td>\n",
       "      <td>0.090551</td>\n",
       "      <td>0.093920</td>\n",
       "    </tr>\n",
       "    <tr>\n",
       "      <th>E-Account</th>\n",
       "      <td>-0.146260</td>\n",
       "      <td>-0.042111</td>\n",
       "      <td>0.142944</td>\n",
       "      <td>-0.059726</td>\n",
       "      <td>0.133965</td>\n",
       "      <td>-0.009846</td>\n",
       "      <td>0.004881</td>\n",
       "      <td>-0.028999</td>\n",
       "      <td>0.053851</td>\n",
       "      <td>-0.006030</td>\n",
       "      <td>NaN</td>\n",
       "      <td>0.019168</td>\n",
       "      <td>0.284368</td>\n",
       "      <td>0.054914</td>\n",
       "      <td>0.001565</td>\n",
       "      <td>0.011931</td>\n",
       "      <td>-0.076882</td>\n",
       "      <td>0.010484</td>\n",
       "      <td>0.306321</td>\n",
       "      <td>-0.029327</td>\n",
       "      <td>-0.011362</td>\n",
       "      <td>-0.010200</td>\n",
       "      <td>0.067205</td>\n",
       "      <td>-0.003400</td>\n",
       "      <td>0.016717</td>\n",
       "      <td>0.222120</td>\n",
       "      <td>1.000000</td>\n",
       "      <td>0.142475</td>\n",
       "      <td>0.066474</td>\n",
       "      <td>0.090767</td>\n",
       "      <td>-0.008074</td>\n",
       "      <td>0.200133</td>\n",
       "      <td>0.255686</td>\n",
       "      <td>0.150803</td>\n",
       "      <td>0.010380</td>\n",
       "      <td>0.263105</td>\n",
       "      <td>0.282031</td>\n",
       "      <td>0.296159</td>\n",
       "    </tr>\n",
       "    <tr>\n",
       "      <th>Funds</th>\n",
       "      <td>-0.144393</td>\n",
       "      <td>-0.041566</td>\n",
       "      <td>0.115562</td>\n",
       "      <td>-0.032735</td>\n",
       "      <td>0.151544</td>\n",
       "      <td>-0.005303</td>\n",
       "      <td>-0.007927</td>\n",
       "      <td>-0.016804</td>\n",
       "      <td>-0.043541</td>\n",
       "      <td>0.009688</td>\n",
       "      <td>NaN</td>\n",
       "      <td>0.007011</td>\n",
       "      <td>0.147612</td>\n",
       "      <td>0.055592</td>\n",
       "      <td>0.001355</td>\n",
       "      <td>0.003975</td>\n",
       "      <td>0.010201</td>\n",
       "      <td>0.017096</td>\n",
       "      <td>0.085948</td>\n",
       "      <td>-0.013422</td>\n",
       "      <td>-0.002150</td>\n",
       "      <td>0.087223</td>\n",
       "      <td>0.067732</td>\n",
       "      <td>0.003708</td>\n",
       "      <td>0.030270</td>\n",
       "      <td>0.177314</td>\n",
       "      <td>0.142475</td>\n",
       "      <td>1.000000</td>\n",
       "      <td>0.019263</td>\n",
       "      <td>0.126414</td>\n",
       "      <td>0.001723</td>\n",
       "      <td>0.069055</td>\n",
       "      <td>0.100685</td>\n",
       "      <td>0.179663</td>\n",
       "      <td>0.018472</td>\n",
       "      <td>0.072970</td>\n",
       "      <td>0.082404</td>\n",
       "      <td>0.093503</td>\n",
       "    </tr>\n",
       "    <tr>\n",
       "      <th>Mortgage</th>\n",
       "      <td>-0.096869</td>\n",
       "      <td>-0.026636</td>\n",
       "      <td>0.038053</td>\n",
       "      <td>-0.019311</td>\n",
       "      <td>0.102617</td>\n",
       "      <td>-0.003150</td>\n",
       "      <td>0.003300</td>\n",
       "      <td>-0.011434</td>\n",
       "      <td>-0.031994</td>\n",
       "      <td>0.003282</td>\n",
       "      <td>NaN</td>\n",
       "      <td>-0.003413</td>\n",
       "      <td>0.083113</td>\n",
       "      <td>0.008116</td>\n",
       "      <td>0.002442</td>\n",
       "      <td>-0.000370</td>\n",
       "      <td>-0.046969</td>\n",
       "      <td>0.001513</td>\n",
       "      <td>0.155558</td>\n",
       "      <td>-0.007526</td>\n",
       "      <td>-0.005069</td>\n",
       "      <td>0.018857</td>\n",
       "      <td>0.070650</td>\n",
       "      <td>-0.001316</td>\n",
       "      <td>0.004506</td>\n",
       "      <td>0.016609</td>\n",
       "      <td>0.066474</td>\n",
       "      <td>0.019263</td>\n",
       "      <td>1.000000</td>\n",
       "      <td>0.041512</td>\n",
       "      <td>0.010664</td>\n",
       "      <td>0.089504</td>\n",
       "      <td>0.119200</td>\n",
       "      <td>0.044399</td>\n",
       "      <td>0.006017</td>\n",
       "      <td>0.164654</td>\n",
       "      <td>0.161889</td>\n",
       "      <td>0.169577</td>\n",
       "    </tr>\n",
       "    <tr>\n",
       "      <th>Pensions</th>\n",
       "      <td>-0.119479</td>\n",
       "      <td>-0.016253</td>\n",
       "      <td>0.065997</td>\n",
       "      <td>-0.023275</td>\n",
       "      <td>0.128061</td>\n",
       "      <td>-0.004021</td>\n",
       "      <td>-0.001753</td>\n",
       "      <td>-0.004954</td>\n",
       "      <td>0.143582</td>\n",
       "      <td>0.002177</td>\n",
       "      <td>NaN</td>\n",
       "      <td>0.003345</td>\n",
       "      <td>0.103705</td>\n",
       "      <td>0.044143</td>\n",
       "      <td>0.005639</td>\n",
       "      <td>0.002253</td>\n",
       "      <td>-0.030727</td>\n",
       "      <td>0.013004</td>\n",
       "      <td>0.102922</td>\n",
       "      <td>-0.009409</td>\n",
       "      <td>-0.002635</td>\n",
       "      <td>0.049246</td>\n",
       "      <td>0.062644</td>\n",
       "      <td>-0.001982</td>\n",
       "      <td>0.011215</td>\n",
       "      <td>0.060747</td>\n",
       "      <td>0.090767</td>\n",
       "      <td>0.126414</td>\n",
       "      <td>0.041512</td>\n",
       "      <td>1.000000</td>\n",
       "      <td>0.005768</td>\n",
       "      <td>0.082939</td>\n",
       "      <td>0.110744</td>\n",
       "      <td>0.116294</td>\n",
       "      <td>0.022068</td>\n",
       "      <td>0.099066</td>\n",
       "      <td>0.099780</td>\n",
       "      <td>0.104648</td>\n",
       "    </tr>\n",
       "    <tr>\n",
       "      <th>Loans</th>\n",
       "      <td>-0.035985</td>\n",
       "      <td>-0.014515</td>\n",
       "      <td>0.023775</td>\n",
       "      <td>-0.012582</td>\n",
       "      <td>0.034706</td>\n",
       "      <td>-0.001879</td>\n",
       "      <td>0.002083</td>\n",
       "      <td>0.031036</td>\n",
       "      <td>-0.025036</td>\n",
       "      <td>0.003296</td>\n",
       "      <td>NaN</td>\n",
       "      <td>-0.008385</td>\n",
       "      <td>0.034084</td>\n",
       "      <td>-0.010625</td>\n",
       "      <td>-0.000519</td>\n",
       "      <td>-0.000247</td>\n",
       "      <td>-0.028756</td>\n",
       "      <td>0.001434</td>\n",
       "      <td>0.002517</td>\n",
       "      <td>-0.005020</td>\n",
       "      <td>-0.004168</td>\n",
       "      <td>-0.009112</td>\n",
       "      <td>-0.001848</td>\n",
       "      <td>-0.002167</td>\n",
       "      <td>-0.001496</td>\n",
       "      <td>-0.009541</td>\n",
       "      <td>-0.008074</td>\n",
       "      <td>0.001723</td>\n",
       "      <td>0.010664</td>\n",
       "      <td>0.005768</td>\n",
       "      <td>1.000000</td>\n",
       "      <td>0.029758</td>\n",
       "      <td>0.011665</td>\n",
       "      <td>0.008507</td>\n",
       "      <td>-0.000369</td>\n",
       "      <td>0.004698</td>\n",
       "      <td>0.004983</td>\n",
       "      <td>0.004047</td>\n",
       "    </tr>\n",
       "    <tr>\n",
       "      <th>Taxes</th>\n",
       "      <td>-0.189476</td>\n",
       "      <td>-0.051078</td>\n",
       "      <td>0.094443</td>\n",
       "      <td>-0.055008</td>\n",
       "      <td>0.187820</td>\n",
       "      <td>-0.006023</td>\n",
       "      <td>0.007568</td>\n",
       "      <td>0.007773</td>\n",
       "      <td>-0.054590</td>\n",
       "      <td>0.001010</td>\n",
       "      <td>NaN</td>\n",
       "      <td>0.007107</td>\n",
       "      <td>0.218655</td>\n",
       "      <td>0.072117</td>\n",
       "      <td>0.007620</td>\n",
       "      <td>0.011016</td>\n",
       "      <td>-0.091579</td>\n",
       "      <td>0.011231</td>\n",
       "      <td>0.319811</td>\n",
       "      <td>-0.022413</td>\n",
       "      <td>0.013283</td>\n",
       "      <td>0.061071</td>\n",
       "      <td>0.168267</td>\n",
       "      <td>-0.001522</td>\n",
       "      <td>0.011550</td>\n",
       "      <td>0.063987</td>\n",
       "      <td>0.200133</td>\n",
       "      <td>0.069055</td>\n",
       "      <td>0.089504</td>\n",
       "      <td>0.082939</td>\n",
       "      <td>0.029758</td>\n",
       "      <td>1.000000</td>\n",
       "      <td>0.269161</td>\n",
       "      <td>0.113165</td>\n",
       "      <td>0.052966</td>\n",
       "      <td>0.275447</td>\n",
       "      <td>0.292074</td>\n",
       "      <td>0.343852</td>\n",
       "    </tr>\n",
       "    <tr>\n",
       "      <th>Credit Card</th>\n",
       "      <td>-0.188148</td>\n",
       "      <td>-0.047341</td>\n",
       "      <td>0.100561</td>\n",
       "      <td>-0.051815</td>\n",
       "      <td>0.191678</td>\n",
       "      <td>-0.008518</td>\n",
       "      <td>0.003258</td>\n",
       "      <td>-0.001367</td>\n",
       "      <td>-0.074667</td>\n",
       "      <td>-0.010262</td>\n",
       "      <td>NaN</td>\n",
       "      <td>0.008992</td>\n",
       "      <td>0.232400</td>\n",
       "      <td>0.056060</td>\n",
       "      <td>0.001444</td>\n",
       "      <td>0.010423</td>\n",
       "      <td>-0.095949</td>\n",
       "      <td>0.009599</td>\n",
       "      <td>0.386592</td>\n",
       "      <td>-0.021078</td>\n",
       "      <td>0.020310</td>\n",
       "      <td>0.063697</td>\n",
       "      <td>0.167066</td>\n",
       "      <td>-0.001279</td>\n",
       "      <td>0.015925</td>\n",
       "      <td>0.106513</td>\n",
       "      <td>0.255686</td>\n",
       "      <td>0.100685</td>\n",
       "      <td>0.119200</td>\n",
       "      <td>0.110744</td>\n",
       "      <td>0.011665</td>\n",
       "      <td>0.269161</td>\n",
       "      <td>1.000000</td>\n",
       "      <td>0.140177</td>\n",
       "      <td>0.033704</td>\n",
       "      <td>0.356698</td>\n",
       "      <td>0.370481</td>\n",
       "      <td>0.374660</td>\n",
       "    </tr>\n",
       "    <tr>\n",
       "      <th>Securities</th>\n",
       "      <td>-0.173800</td>\n",
       "      <td>-0.054630</td>\n",
       "      <td>0.110126</td>\n",
       "      <td>-0.038225</td>\n",
       "      <td>0.183577</td>\n",
       "      <td>-0.006373</td>\n",
       "      <td>-0.018717</td>\n",
       "      <td>-0.017942</td>\n",
       "      <td>0.132255</td>\n",
       "      <td>0.007082</td>\n",
       "      <td>NaN</td>\n",
       "      <td>0.013285</td>\n",
       "      <td>0.173369</td>\n",
       "      <td>0.067869</td>\n",
       "      <td>0.006250</td>\n",
       "      <td>0.013198</td>\n",
       "      <td>0.014066</td>\n",
       "      <td>0.033319</td>\n",
       "      <td>0.122338</td>\n",
       "      <td>-0.015855</td>\n",
       "      <td>0.001634</td>\n",
       "      <td>0.096055</td>\n",
       "      <td>0.092291</td>\n",
       "      <td>0.001050</td>\n",
       "      <td>0.017594</td>\n",
       "      <td>0.081671</td>\n",
       "      <td>0.150803</td>\n",
       "      <td>0.179663</td>\n",
       "      <td>0.044399</td>\n",
       "      <td>0.116294</td>\n",
       "      <td>0.008507</td>\n",
       "      <td>0.113165</td>\n",
       "      <td>0.140177</td>\n",
       "      <td>1.000000</td>\n",
       "      <td>0.033142</td>\n",
       "      <td>0.113381</td>\n",
       "      <td>0.122850</td>\n",
       "      <td>0.144288</td>\n",
       "    </tr>\n",
       "    <tr>\n",
       "      <th>Home Account</th>\n",
       "      <td>-0.074148</td>\n",
       "      <td>-0.010212</td>\n",
       "      <td>0.017248</td>\n",
       "      <td>-0.015613</td>\n",
       "      <td>0.080254</td>\n",
       "      <td>-0.002656</td>\n",
       "      <td>0.003174</td>\n",
       "      <td>-0.002788</td>\n",
       "      <td>-0.013488</td>\n",
       "      <td>-0.001831</td>\n",
       "      <td>NaN</td>\n",
       "      <td>0.004053</td>\n",
       "      <td>0.039856</td>\n",
       "      <td>0.023001</td>\n",
       "      <td>0.014351</td>\n",
       "      <td>-0.000299</td>\n",
       "      <td>-0.005507</td>\n",
       "      <td>0.004790</td>\n",
       "      <td>0.030378</td>\n",
       "      <td>-0.006078</td>\n",
       "      <td>-0.005641</td>\n",
       "      <td>0.062589</td>\n",
       "      <td>0.040633</td>\n",
       "      <td>-0.001163</td>\n",
       "      <td>0.007144</td>\n",
       "      <td>0.007073</td>\n",
       "      <td>0.010380</td>\n",
       "      <td>0.018472</td>\n",
       "      <td>0.006017</td>\n",
       "      <td>0.022068</td>\n",
       "      <td>-0.000369</td>\n",
       "      <td>0.052966</td>\n",
       "      <td>0.033704</td>\n",
       "      <td>0.033142</td>\n",
       "      <td>1.000000</td>\n",
       "      <td>0.030479</td>\n",
       "      <td>0.028856</td>\n",
       "      <td>0.035847</td>\n",
       "    </tr>\n",
       "    <tr>\n",
       "      <th>Payroll</th>\n",
       "      <td>-0.119074</td>\n",
       "      <td>-0.019857</td>\n",
       "      <td>0.043045</td>\n",
       "      <td>-0.036880</td>\n",
       "      <td>0.122376</td>\n",
       "      <td>-0.009256</td>\n",
       "      <td>0.014824</td>\n",
       "      <td>-0.006888</td>\n",
       "      <td>0.227114</td>\n",
       "      <td>-0.011465</td>\n",
       "      <td>NaN</td>\n",
       "      <td>0.010347</td>\n",
       "      <td>0.260630</td>\n",
       "      <td>0.026594</td>\n",
       "      <td>0.000245</td>\n",
       "      <td>0.011705</td>\n",
       "      <td>-0.257046</td>\n",
       "      <td>0.006874</td>\n",
       "      <td>0.757918</td>\n",
       "      <td>-0.023237</td>\n",
       "      <td>0.021872</td>\n",
       "      <td>0.027174</td>\n",
       "      <td>0.172592</td>\n",
       "      <td>-0.001269</td>\n",
       "      <td>0.015800</td>\n",
       "      <td>0.078193</td>\n",
       "      <td>0.263105</td>\n",
       "      <td>0.072970</td>\n",
       "      <td>0.164654</td>\n",
       "      <td>0.099066</td>\n",
       "      <td>0.004698</td>\n",
       "      <td>0.275447</td>\n",
       "      <td>0.356698</td>\n",
       "      <td>0.113381</td>\n",
       "      <td>0.030479</td>\n",
       "      <td>1.000000</td>\n",
       "      <td>0.957218</td>\n",
       "      <td>0.471170</td>\n",
       "    </tr>\n",
       "    <tr>\n",
       "      <th>Pension</th>\n",
       "      <td>-0.130896</td>\n",
       "      <td>-0.021055</td>\n",
       "      <td>0.071267</td>\n",
       "      <td>-0.039378</td>\n",
       "      <td>0.133696</td>\n",
       "      <td>-0.009653</td>\n",
       "      <td>0.014919</td>\n",
       "      <td>-0.008560</td>\n",
       "      <td>0.212514</td>\n",
       "      <td>-0.011021</td>\n",
       "      <td>NaN</td>\n",
       "      <td>0.011307</td>\n",
       "      <td>0.272183</td>\n",
       "      <td>0.032055</td>\n",
       "      <td>0.000096</td>\n",
       "      <td>0.011164</td>\n",
       "      <td>-0.270173</td>\n",
       "      <td>0.007406</td>\n",
       "      <td>0.790085</td>\n",
       "      <td>-0.023185</td>\n",
       "      <td>0.021823</td>\n",
       "      <td>0.028225</td>\n",
       "      <td>0.179870</td>\n",
       "      <td>-0.001552</td>\n",
       "      <td>0.016178</td>\n",
       "      <td>0.090551</td>\n",
       "      <td>0.282031</td>\n",
       "      <td>0.082404</td>\n",
       "      <td>0.161889</td>\n",
       "      <td>0.099780</td>\n",
       "      <td>0.004983</td>\n",
       "      <td>0.292074</td>\n",
       "      <td>0.370481</td>\n",
       "      <td>0.122850</td>\n",
       "      <td>0.028856</td>\n",
       "      <td>0.957218</td>\n",
       "      <td>1.000000</td>\n",
       "      <td>0.490920</td>\n",
       "    </tr>\n",
       "    <tr>\n",
       "      <th>Direct Debit</th>\n",
       "      <td>-0.143262</td>\n",
       "      <td>-0.047290</td>\n",
       "      <td>0.087815</td>\n",
       "      <td>-0.053103</td>\n",
       "      <td>0.145049</td>\n",
       "      <td>-0.011989</td>\n",
       "      <td>0.011704</td>\n",
       "      <td>-0.003418</td>\n",
       "      <td>0.049243</td>\n",
       "      <td>-0.012925</td>\n",
       "      <td>NaN</td>\n",
       "      <td>0.014927</td>\n",
       "      <td>0.412244</td>\n",
       "      <td>0.038665</td>\n",
       "      <td>0.003220</td>\n",
       "      <td>0.011151</td>\n",
       "      <td>-0.069308</td>\n",
       "      <td>0.009136</td>\n",
       "      <td>0.535626</td>\n",
       "      <td>-0.037449</td>\n",
       "      <td>0.029004</td>\n",
       "      <td>0.043040</td>\n",
       "      <td>0.201764</td>\n",
       "      <td>-0.004947</td>\n",
       "      <td>0.014645</td>\n",
       "      <td>0.093920</td>\n",
       "      <td>0.296159</td>\n",
       "      <td>0.093503</td>\n",
       "      <td>0.169577</td>\n",
       "      <td>0.104648</td>\n",
       "      <td>0.004047</td>\n",
       "      <td>0.343852</td>\n",
       "      <td>0.374660</td>\n",
       "      <td>0.144288</td>\n",
       "      <td>0.035847</td>\n",
       "      <td>0.471170</td>\n",
       "      <td>0.490920</td>\n",
       "      <td>1.000000</td>\n",
       "    </tr>\n",
       "  </tbody>\n",
       "</table>\n",
       "</div>"
      ],
      "text/plain": [
       "                                           Customer Code       Sex       Age  \\\n",
       "Customer Code                                   1.000000  0.135935 -0.608691   \n",
       "Sex                                             0.135935  1.000000 -0.123592   \n",
       "Age                                            -0.608691 -0.123592  1.000000   \n",
       "New Customer Index                              0.347430  0.024902 -0.152788   \n",
       "Seniority                                      -0.957147 -0.138221  0.597369   \n",
       "Primary Customer                                0.028580 -0.000591 -0.000869   \n",
       "Resident Country is Bank Country                0.050913  0.012855 -0.029461   \n",
       "Birth Country Different Than Bank Country       0.038427  0.010159 -0.016520   \n",
       "Spouse Index                                   -0.017794  0.113889 -0.082814   \n",
       "Deceased                                       -0.055377 -0.014827  0.109344   \n",
       "Address Type                                         NaN       NaN       NaN   \n",
       "Province Code                                  -0.040821 -0.000792  0.051155   \n",
       "Activity Index                                 -0.139885 -0.052120  0.135261   \n",
       "Gross Household Income                         -0.178484 -0.020159  0.143206   \n",
       "Savings Account                                -0.013037 -0.004268  0.004932   \n",
       "Guarantees                                     -0.005278 -0.001921  0.000894   \n",
       "Current Accounts                                0.161721  0.036655 -0.172363   \n",
       "Derivative Account                             -0.018765 -0.012628  0.013379   \n",
       "Payroll Account                                -0.129753 -0.027191  0.068340   \n",
       "Junior Account                                 -0.016439  0.005916 -0.153257   \n",
       "More Partiuclar Account                         0.023673 -0.010492  0.036045   \n",
       "Particular Account                             -0.446639 -0.062419  0.317593   \n",
       "Particular Plus Account                        -0.155942 -0.029367  0.117444   \n",
       "Short-Term Deposits                             0.020474 -0.002071  0.019375   \n",
       "Medium-Term Deposits                           -0.035326 -0.003285  0.028522   \n",
       "Long-Term Deposits                             -0.135388 -0.023505  0.175602   \n",
       "E-Account                                      -0.146260 -0.042111  0.142944   \n",
       "Funds                                          -0.144393 -0.041566  0.115562   \n",
       "Mortgage                                       -0.096869 -0.026636  0.038053   \n",
       "Pensions                                       -0.119479 -0.016253  0.065997   \n",
       "Loans                                          -0.035985 -0.014515  0.023775   \n",
       "Taxes                                          -0.189476 -0.051078  0.094443   \n",
       "Credit Card                                    -0.188148 -0.047341  0.100561   \n",
       "Securities                                     -0.173800 -0.054630  0.110126   \n",
       "Home Account                                   -0.074148 -0.010212  0.017248   \n",
       "Payroll                                        -0.119074 -0.019857  0.043045   \n",
       "Pension                                        -0.130896 -0.021055  0.071267   \n",
       "Direct Debit                                   -0.143262 -0.047290  0.087815   \n",
       "\n",
       "                                           New Customer Index  Seniority  \\\n",
       "Customer Code                                        0.347430  -0.957147   \n",
       "Sex                                                  0.024902  -0.138221   \n",
       "Age                                                 -0.152788   0.597369   \n",
       "New Customer Index                                   1.000000  -0.291244   \n",
       "Seniority                                           -0.291244   1.000000   \n",
       "Primary Customer                                     0.063021  -0.027625   \n",
       "Resident Country is Bank Country                     0.016940  -0.052300   \n",
       "Birth Country Different Than Bank Country            0.016996  -0.032052   \n",
       "Spouse Index                                        -0.026208   0.030794   \n",
       "Deceased                                            -0.012626   0.052835   \n",
       "Address Type                                              NaN        NaN   \n",
       "Province Code                                       -0.004372   0.041921   \n",
       "Activity Index                                      -0.004244   0.135305   \n",
       "Gross Household Income                              -0.030742   0.174128   \n",
       "Savings Account                                     -0.002548   0.013630   \n",
       "Guarantees                                          -0.001019   0.005586   \n",
       "Current Accounts                                     0.002846  -0.168033   \n",
       "Derivative Account                                  -0.004593   0.019395   \n",
       "Payroll Account                                     -0.046988   0.131204   \n",
       "Junior Account                                      -0.011222   0.016500   \n",
       "More Partiuclar Account                              0.041261  -0.045788   \n",
       "Particular Account                                  -0.096910   0.468618   \n",
       "Particular Plus Account                             -0.053555   0.153142   \n",
       "Short-Term Deposits                                  0.087791  -0.023523   \n",
       "Medium-Term Deposits                                -0.010054   0.035536   \n",
       "Long-Term Deposits                                  -0.039550   0.124481   \n",
       "E-Account                                           -0.059726   0.133965   \n",
       "Funds                                               -0.032735   0.151544   \n",
       "Mortgage                                            -0.019311   0.102617   \n",
       "Pensions                                            -0.023275   0.128061   \n",
       "Loans                                               -0.012582   0.034706   \n",
       "Taxes                                               -0.055008   0.187820   \n",
       "Credit Card                                         -0.051815   0.191678   \n",
       "Securities                                          -0.038225   0.183577   \n",
       "Home Account                                        -0.015613   0.080254   \n",
       "Payroll                                             -0.036880   0.122376   \n",
       "Pension                                             -0.039378   0.133696   \n",
       "Direct Debit                                        -0.053103   0.145049   \n",
       "\n",
       "                                           Primary Customer  \\\n",
       "Customer Code                                      0.028580   \n",
       "Sex                                               -0.000591   \n",
       "Age                                               -0.000869   \n",
       "New Customer Index                                 0.063021   \n",
       "Seniority                                         -0.027625   \n",
       "Primary Customer                                   1.000000   \n",
       "Resident Country is Bank Country                   0.002058   \n",
       "Birth Country Different Than Bank Country          0.004602   \n",
       "Spouse Index                                      -0.005622   \n",
       "Deceased                                           0.017776   \n",
       "Address Type                                            NaN   \n",
       "Province Code                                     -0.000410   \n",
       "Activity Index                                    -0.033029   \n",
       "Gross Household Income                            -0.000249   \n",
       "Savings Account                                   -0.000432   \n",
       "Guarantees                                        -0.000206   \n",
       "Current Accounts                                  -0.046953   \n",
       "Derivative Account                                -0.000848   \n",
       "Payroll Account                                   -0.011541   \n",
       "Junior Account                                    -0.002559   \n",
       "More Partiuclar Account                           -0.000962   \n",
       "Particular Account                                -0.014245   \n",
       "Particular Plus Account                           -0.008019   \n",
       "Short-Term Deposits                                0.006660   \n",
       "Medium-Term Deposits                              -0.001152   \n",
       "Long-Term Deposits                                -0.008047   \n",
       "E-Account                                         -0.009846   \n",
       "Funds                                             -0.005303   \n",
       "Mortgage                                          -0.003150   \n",
       "Pensions                                          -0.004021   \n",
       "Loans                                             -0.001879   \n",
       "Taxes                                             -0.006023   \n",
       "Credit Card                                       -0.008518   \n",
       "Securities                                        -0.006373   \n",
       "Home Account                                      -0.002656   \n",
       "Payroll                                           -0.009256   \n",
       "Pension                                           -0.009653   \n",
       "Direct Debit                                      -0.011989   \n",
       "\n",
       "                                           Resident Country is Bank Country  \\\n",
       "Customer Code                                                      0.050913   \n",
       "Sex                                                                0.012855   \n",
       "Age                                                               -0.029461   \n",
       "New Customer Index                                                 0.016940   \n",
       "Seniority                                                         -0.052300   \n",
       "Primary Customer                                                   0.002058   \n",
       "Resident Country is Bank Country                                   1.000000   \n",
       "Birth Country Different Than Bank Country                         -0.246658   \n",
       "Spouse Index                                                            NaN   \n",
       "Deceased                                                          -0.000375   \n",
       "Address Type                                                            NaN   \n",
       "Province Code                                                     -0.000254   \n",
       "Activity Index                                                    -0.013759   \n",
       "Gross Household Income                                            -0.003600   \n",
       "Savings Account                                                    0.000706   \n",
       "Guarantees                                                        -0.003400   \n",
       "Current Accounts                                                  -0.012507   \n",
       "Derivative Account                                                 0.000479   \n",
       "Payroll Account                                                    0.016264   \n",
       "Junior Account                                                     0.006632   \n",
       "More Partiuclar Account                                            0.003698   \n",
       "Particular Account                                                -0.020207   \n",
       "Particular Plus Account                                            0.004040   \n",
       "Short-Term Deposits                                                0.000918   \n",
       "Medium-Term Deposits                                              -0.005957   \n",
       "Long-Term Deposits                                                 0.001642   \n",
       "E-Account                                                          0.004881   \n",
       "Funds                                                             -0.007927   \n",
       "Mortgage                                                           0.003300   \n",
       "Pensions                                                          -0.001753   \n",
       "Loans                                                              0.002083   \n",
       "Taxes                                                              0.007568   \n",
       "Credit Card                                                        0.003258   \n",
       "Securities                                                        -0.018717   \n",
       "Home Account                                                       0.003174   \n",
       "Payroll                                                            0.014824   \n",
       "Pension                                                            0.014919   \n",
       "Direct Debit                                                       0.011704   \n",
       "\n",
       "                                           Birth Country Different Than Bank Country  \\\n",
       "Customer Code                                                               0.038427   \n",
       "Sex                                                                         0.010159   \n",
       "Age                                                                        -0.016520   \n",
       "New Customer Index                                                          0.016996   \n",
       "Seniority                                                                  -0.032052   \n",
       "Primary Customer                                                            0.004602   \n",
       "Resident Country is Bank Country                                           -0.246658   \n",
       "Birth Country Different Than Bank Country                                   1.000000   \n",
       "Spouse Index                                                               -0.012439   \n",
       "Deceased                                                                   -0.007117   \n",
       "Address Type                                                                     NaN   \n",
       "Province Code                                                              -0.017906   \n",
       "Activity Index                                                             -0.021085   \n",
       "Gross Household Income                                                     -0.017033   \n",
       "Savings Account                                                             0.000578   \n",
       "Guarantees                                                                 -0.001074   \n",
       "Current Accounts                                                           -0.023655   \n",
       "Derivative Account                                                         -0.003244   \n",
       "Payroll Account                                                            -0.004743   \n",
       "Junior Account                                                             -0.019236   \n",
       "More Partiuclar Account                                                    -0.000673   \n",
       "Particular Account                                                         -0.034163   \n",
       "Particular Plus Account                                                    -0.012588   \n",
       "Short-Term Deposits                                                        -0.005495   \n",
       "Medium-Term Deposits                                                       -0.003027   \n",
       "Long-Term Deposits                                                         -0.031540   \n",
       "E-Account                                                                  -0.028999   \n",
       "Funds                                                                      -0.016804   \n",
       "Mortgage                                                                   -0.011434   \n",
       "Pensions                                                                   -0.004954   \n",
       "Loans                                                                       0.031036   \n",
       "Taxes                                                                       0.007773   \n",
       "Credit Card                                                                -0.001367   \n",
       "Securities                                                                 -0.017942   \n",
       "Home Account                                                               -0.002788   \n",
       "Payroll                                                                    -0.006888   \n",
       "Pension                                                                    -0.008560   \n",
       "Direct Debit                                                               -0.003418   \n",
       "\n",
       "                                           Spouse Index  Deceased  \\\n",
       "Customer Code                                 -0.017794 -0.055377   \n",
       "Sex                                            0.113889 -0.014827   \n",
       "Age                                           -0.082814  0.109344   \n",
       "New Customer Index                            -0.026208 -0.012626   \n",
       "Seniority                                      0.030794  0.052835   \n",
       "Primary Customer                              -0.005622  0.017776   \n",
       "Resident Country is Bank Country                    NaN -0.000375   \n",
       "Birth Country Different Than Bank Country     -0.012439 -0.007117   \n",
       "Spouse Index                                   1.000000 -0.003972   \n",
       "Deceased                                      -0.003972  1.000000   \n",
       "Address Type                                        NaN       NaN   \n",
       "Province Code                                  0.002049  0.002308   \n",
       "Activity Index                                 0.041176  0.001147   \n",
       "Gross Household Income                        -0.054521  0.018446   \n",
       "Savings Account                                     NaN -0.000512   \n",
       "Guarantees                                    -0.009492 -0.000244   \n",
       "Current Accounts                              -0.118529 -0.013936   \n",
       "Derivative Account                                  NaN  0.000241   \n",
       "Payroll Account                                0.172047 -0.010568   \n",
       "Junior Account                                      NaN -0.004948   \n",
       "More Partiuclar Account                       -0.010304 -0.002472   \n",
       "Particular Account                            -0.060070  0.031835   \n",
       "Particular Plus Account                       -0.054257  0.001911   \n",
       "Short-Term Deposits                           -0.004588  0.000250   \n",
       "Medium-Term Deposits                          -0.005622 -0.000102   \n",
       "Long-Term Deposits                            -0.043020 -0.001407   \n",
       "E-Account                                      0.053851 -0.006030   \n",
       "Funds                                         -0.043541  0.009688   \n",
       "Mortgage                                      -0.031994  0.003282   \n",
       "Pensions                                       0.143582  0.002177   \n",
       "Loans                                         -0.025036  0.003296   \n",
       "Taxes                                         -0.054590  0.001010   \n",
       "Credit Card                                   -0.074667 -0.010262   \n",
       "Securities                                     0.132255  0.007082   \n",
       "Home Account                                  -0.013488 -0.001831   \n",
       "Payroll                                        0.227114 -0.011465   \n",
       "Pension                                        0.212514 -0.011021   \n",
       "Direct Debit                                   0.049243 -0.012925   \n",
       "\n",
       "                                           Address Type  Province Code  \\\n",
       "Customer Code                                       NaN      -0.040821   \n",
       "Sex                                                 NaN      -0.000792   \n",
       "Age                                                 NaN       0.051155   \n",
       "New Customer Index                                  NaN      -0.004372   \n",
       "Seniority                                           NaN       0.041921   \n",
       "Primary Customer                                    NaN      -0.000410   \n",
       "Resident Country is Bank Country                    NaN      -0.000254   \n",
       "Birth Country Different Than Bank Country           NaN      -0.017906   \n",
       "Spouse Index                                        NaN       0.002049   \n",
       "Deceased                                            NaN       0.002308   \n",
       "Address Type                                        NaN            NaN   \n",
       "Province Code                                       NaN       1.000000   \n",
       "Activity Index                                      NaN       0.028168   \n",
       "Gross Household Income                              NaN      -0.036649   \n",
       "Savings Account                                     NaN       0.001366   \n",
       "Guarantees                                          NaN       0.000525   \n",
       "Current Accounts                                    NaN      -0.005369   \n",
       "Derivative Account                                  NaN       0.000880   \n",
       "Payroll Account                                     NaN       0.012170   \n",
       "Junior Account                                      NaN       0.009280   \n",
       "More Partiuclar Account                             NaN       0.007044   \n",
       "Particular Account                                  NaN       0.041671   \n",
       "Particular Plus Account                             NaN       0.014831   \n",
       "Short-Term Deposits                                 NaN       0.001307   \n",
       "Medium-Term Deposits                                NaN       0.004255   \n",
       "Long-Term Deposits                                  NaN       0.016327   \n",
       "E-Account                                           NaN       0.019168   \n",
       "Funds                                               NaN       0.007011   \n",
       "Mortgage                                            NaN      -0.003413   \n",
       "Pensions                                            NaN       0.003345   \n",
       "Loans                                               NaN      -0.008385   \n",
       "Taxes                                               NaN       0.007107   \n",
       "Credit Card                                         NaN       0.008992   \n",
       "Securities                                          NaN       0.013285   \n",
       "Home Account                                        NaN       0.004053   \n",
       "Payroll                                             NaN       0.010347   \n",
       "Pension                                             NaN       0.011307   \n",
       "Direct Debit                                        NaN       0.014927   \n",
       "\n",
       "                                           Activity Index  \\\n",
       "Customer Code                                   -0.139885   \n",
       "Sex                                             -0.052120   \n",
       "Age                                              0.135261   \n",
       "New Customer Index                              -0.004244   \n",
       "Seniority                                        0.135305   \n",
       "Primary Customer                                -0.033029   \n",
       "Resident Country is Bank Country                -0.013759   \n",
       "Birth Country Different Than Bank Country       -0.021085   \n",
       "Spouse Index                                     0.041176   \n",
       "Deceased                                         0.001147   \n",
       "Address Type                                          NaN   \n",
       "Province Code                                    0.028168   \n",
       "Activity Index                                   1.000000   \n",
       "Gross Household Income                           0.060746   \n",
       "Savings Account                                  0.005588   \n",
       "Guarantees                                       0.005247   \n",
       "Current Accounts                                 0.171263   \n",
       "Derivative Account                               0.017901   \n",
       "Payroll Account                                  0.315467   \n",
       "Junior Account                                   0.071344   \n",
       "More Partiuclar Account                          0.065847   \n",
       "Particular Account                               0.169616   \n",
       "Particular Plus Account                          0.156306   \n",
       "Short-Term Deposits                              0.035946   \n",
       "Medium-Term Deposits                             0.044187   \n",
       "Long-Term Deposits                               0.228985   \n",
       "E-Account                                        0.284368   \n",
       "Funds                                            0.147612   \n",
       "Mortgage                                         0.083113   \n",
       "Pensions                                         0.103705   \n",
       "Loans                                            0.034084   \n",
       "Taxes                                            0.218655   \n",
       "Credit Card                                      0.232400   \n",
       "Securities                                       0.173369   \n",
       "Home Account                                     0.039856   \n",
       "Payroll                                          0.260630   \n",
       "Pension                                          0.272183   \n",
       "Direct Debit                                     0.412244   \n",
       "\n",
       "                                           Gross Household Income  \\\n",
       "Customer Code                                           -0.178484   \n",
       "Sex                                                     -0.020159   \n",
       "Age                                                      0.143206   \n",
       "New Customer Index                                      -0.030742   \n",
       "Seniority                                                0.174128   \n",
       "Primary Customer                                        -0.000249   \n",
       "Resident Country is Bank Country                        -0.003600   \n",
       "Birth Country Different Than Bank Country               -0.017033   \n",
       "Spouse Index                                            -0.054521   \n",
       "Deceased                                                 0.018446   \n",
       "Address Type                                                  NaN   \n",
       "Province Code                                           -0.036649   \n",
       "Activity Index                                           0.060746   \n",
       "Gross Household Income                                   1.000000   \n",
       "Savings Account                                          0.006067   \n",
       "Guarantees                                               0.004039   \n",
       "Current Accounts                                        -0.053887   \n",
       "Derivative Account                                       0.004521   \n",
       "Payroll Account                                          0.034652   \n",
       "Junior Account                                           0.024020   \n",
       "More Partiuclar Account                                  0.007335   \n",
       "Particular Account                                       0.085797   \n",
       "Particular Plus Account                                  0.051297   \n",
       "Short-Term Deposits                                      0.000305   \n",
       "Medium-Term Deposits                                     0.006347   \n",
       "Long-Term Deposits                                       0.045854   \n",
       "E-Account                                                0.054914   \n",
       "Funds                                                    0.055592   \n",
       "Mortgage                                                 0.008116   \n",
       "Pensions                                                 0.044143   \n",
       "Loans                                                   -0.010625   \n",
       "Taxes                                                    0.072117   \n",
       "Credit Card                                              0.056060   \n",
       "Securities                                               0.067869   \n",
       "Home Account                                             0.023001   \n",
       "Payroll                                                  0.026594   \n",
       "Pension                                                  0.032055   \n",
       "Direct Debit                                             0.038665   \n",
       "\n",
       "                                           Savings Account  Guarantees  \\\n",
       "Customer Code                                    -0.013037   -0.005278   \n",
       "Sex                                              -0.004268   -0.001921   \n",
       "Age                                               0.004932    0.000894   \n",
       "New Customer Index                               -0.002548   -0.001019   \n",
       "Seniority                                         0.013630    0.005586   \n",
       "Primary Customer                                 -0.000432   -0.000206   \n",
       "Resident Country is Bank Country                  0.000706   -0.003400   \n",
       "Birth Country Different Than Bank Country         0.000578   -0.001074   \n",
       "Spouse Index                                           NaN   -0.009492   \n",
       "Deceased                                         -0.000512   -0.000244   \n",
       "Address Type                                           NaN         NaN   \n",
       "Province Code                                     0.001366    0.000525   \n",
       "Activity Index                                    0.005588    0.005247   \n",
       "Gross Household Income                            0.006067    0.004039   \n",
       "Savings Account                                   1.000000   -0.000049   \n",
       "Guarantees                                       -0.000049    1.000000   \n",
       "Current Accounts                                 -0.001083   -0.001767   \n",
       "Derivative Account                               -0.000201   -0.000096   \n",
       "Payroll Account                                   0.001146    0.010302   \n",
       "Junior Account                                   -0.000989   -0.000471   \n",
       "More Partiuclar Account                          -0.000707    0.001695   \n",
       "Particular Account                                0.009616    0.001828   \n",
       "Particular Plus Account                           0.004184    0.008702   \n",
       "Short-Term Deposits                              -0.000427   -0.000203   \n",
       "Medium-Term Deposits                             -0.000413    0.000552   \n",
       "Long-Term Deposits                                0.002037    0.001609   \n",
       "E-Account                                         0.001565    0.011931   \n",
       "Funds                                             0.001355    0.003975   \n",
       "Mortgage                                          0.002442   -0.000370   \n",
       "Pensions                                          0.005639    0.002253   \n",
       "Loans                                            -0.000519   -0.000247   \n",
       "Taxes                                             0.007620    0.011016   \n",
       "Credit Card                                       0.001444    0.010423   \n",
       "Securities                                        0.006250    0.013198   \n",
       "Home Account                                      0.014351   -0.000299   \n",
       "Payroll                                           0.000245    0.011705   \n",
       "Pension                                           0.000096    0.011164   \n",
       "Direct Debit                                      0.003220    0.011151   \n",
       "\n",
       "                                           Current Accounts  \\\n",
       "Customer Code                                      0.161721   \n",
       "Sex                                                0.036655   \n",
       "Age                                               -0.172363   \n",
       "New Customer Index                                 0.002846   \n",
       "Seniority                                         -0.168033   \n",
       "Primary Customer                                  -0.046953   \n",
       "Resident Country is Bank Country                  -0.012507   \n",
       "Birth Country Different Than Bank Country         -0.023655   \n",
       "Spouse Index                                      -0.118529   \n",
       "Deceased                                          -0.013936   \n",
       "Address Type                                            NaN   \n",
       "Province Code                                     -0.005369   \n",
       "Activity Index                                     0.171263   \n",
       "Gross Household Income                            -0.053887   \n",
       "Savings Account                                   -0.001083   \n",
       "Guarantees                                        -0.001767   \n",
       "Current Accounts                                   1.000000   \n",
       "Derivative Account                                 0.003210   \n",
       "Payroll Account                                   -0.345474   \n",
       "Junior Account                                    -0.134816   \n",
       "More Partiuclar Account                           -0.024654   \n",
       "Particular Account                                 0.003798   \n",
       "Particular Plus Account                           -0.050776   \n",
       "Short-Term Deposits                               -0.003055   \n",
       "Medium-Term Deposits                               0.012498   \n",
       "Long-Term Deposits                                 0.010251   \n",
       "E-Account                                         -0.076882   \n",
       "Funds                                              0.010201   \n",
       "Mortgage                                          -0.046969   \n",
       "Pensions                                          -0.030727   \n",
       "Loans                                             -0.028756   \n",
       "Taxes                                             -0.091579   \n",
       "Credit Card                                       -0.095949   \n",
       "Securities                                         0.014066   \n",
       "Home Account                                      -0.005507   \n",
       "Payroll                                           -0.257046   \n",
       "Pension                                           -0.270173   \n",
       "Direct Debit                                      -0.069308   \n",
       "\n",
       "                                           Derivative Account  \\\n",
       "Customer Code                                       -0.018765   \n",
       "Sex                                                 -0.012628   \n",
       "Age                                                  0.013379   \n",
       "New Customer Index                                  -0.004593   \n",
       "Seniority                                            0.019395   \n",
       "Primary Customer                                    -0.000848   \n",
       "Resident Country is Bank Country                     0.000479   \n",
       "Birth Country Different Than Bank Country           -0.003244   \n",
       "Spouse Index                                              NaN   \n",
       "Deceased                                             0.000241   \n",
       "Address Type                                              NaN   \n",
       "Province Code                                        0.000880   \n",
       "Activity Index                                       0.017901   \n",
       "Gross Household Income                               0.004521   \n",
       "Savings Account                                     -0.000201   \n",
       "Guarantees                                          -0.000096   \n",
       "Current Accounts                                     0.003210   \n",
       "Derivative Account                                   1.000000   \n",
       "Payroll Account                                      0.008509   \n",
       "Junior Account                                      -0.001941   \n",
       "More Partiuclar Account                             -0.001516   \n",
       "Particular Account                                   0.012585   \n",
       "Particular Plus Account                              0.007151   \n",
       "Short-Term Deposits                                  0.000652   \n",
       "Medium-Term Deposits                                 0.001095   \n",
       "Long-Term Deposits                                   0.004279   \n",
       "E-Account                                            0.010484   \n",
       "Funds                                                0.017096   \n",
       "Mortgage                                             0.001513   \n",
       "Pensions                                             0.013004   \n",
       "Loans                                                0.001434   \n",
       "Taxes                                                0.011231   \n",
       "Credit Card                                          0.009599   \n",
       "Securities                                           0.033319   \n",
       "Home Account                                         0.004790   \n",
       "Payroll                                              0.006874   \n",
       "Pension                                              0.007406   \n",
       "Direct Debit                                         0.009136   \n",
       "\n",
       "                                           Payroll Account  Junior Account  \\\n",
       "Customer Code                                    -0.129753       -0.016439   \n",
       "Sex                                              -0.027191        0.005916   \n",
       "Age                                               0.068340       -0.153257   \n",
       "New Customer Index                               -0.046988       -0.011222   \n",
       "Seniority                                         0.131204        0.016500   \n",
       "Primary Customer                                 -0.011541       -0.002559   \n",
       "Resident Country is Bank Country                  0.016264        0.006632   \n",
       "Birth Country Different Than Bank Country        -0.004743       -0.019236   \n",
       "Spouse Index                                      0.172047             NaN   \n",
       "Deceased                                         -0.010568       -0.004948   \n",
       "Address Type                                           NaN             NaN   \n",
       "Province Code                                     0.012170        0.009280   \n",
       "Activity Index                                    0.315467        0.071344   \n",
       "Gross Household Income                            0.034652        0.024020   \n",
       "Savings Account                                   0.001146       -0.000989   \n",
       "Guarantees                                        0.010302       -0.000471   \n",
       "Current Accounts                                 -0.345474       -0.134816   \n",
       "Derivative Account                                0.008509       -0.001941   \n",
       "Payroll Account                                   1.000000       -0.029009   \n",
       "Junior Account                                   -0.029009        1.000000   \n",
       "More Partiuclar Account                           0.024416       -0.009693   \n",
       "Particular Account                                0.021291       -0.037639   \n",
       "Particular Plus Account                           0.186533       -0.020808   \n",
       "Short-Term Deposits                              -0.002743       -0.004128   \n",
       "Medium-Term Deposits                              0.014493       -0.003989   \n",
       "Long-Term Deposits                                0.095624       -0.019685   \n",
       "E-Account                                         0.306321       -0.029327   \n",
       "Funds                                             0.085948       -0.013422   \n",
       "Mortgage                                          0.155558       -0.007526   \n",
       "Pensions                                          0.102922       -0.009409   \n",
       "Loans                                             0.002517       -0.005020   \n",
       "Taxes                                             0.319811       -0.022413   \n",
       "Credit Card                                       0.386592       -0.021078   \n",
       "Securities                                        0.122338       -0.015855   \n",
       "Home Account                                      0.030378       -0.006078   \n",
       "Payroll                                           0.757918       -0.023237   \n",
       "Pension                                           0.790085       -0.023185   \n",
       "Direct Debit                                      0.535626       -0.037449   \n",
       "\n",
       "                                           More Partiuclar Account  \\\n",
       "Customer Code                                             0.023673   \n",
       "Sex                                                      -0.010492   \n",
       "Age                                                       0.036045   \n",
       "New Customer Index                                        0.041261   \n",
       "Seniority                                                -0.045788   \n",
       "Primary Customer                                         -0.000962   \n",
       "Resident Country is Bank Country                          0.003698   \n",
       "Birth Country Different Than Bank Country                -0.000673   \n",
       "Spouse Index                                             -0.010304   \n",
       "Deceased                                                 -0.002472   \n",
       "Address Type                                                   NaN   \n",
       "Province Code                                             0.007044   \n",
       "Activity Index                                            0.065847   \n",
       "Gross Household Income                                    0.007335   \n",
       "Savings Account                                          -0.000707   \n",
       "Guarantees                                                0.001695   \n",
       "Current Accounts                                         -0.024654   \n",
       "Derivative Account                                       -0.001516   \n",
       "Payroll Account                                           0.024416   \n",
       "Junior Account                                           -0.009693   \n",
       "More Partiuclar Account                                   1.000000   \n",
       "Particular Account                                       -0.036033   \n",
       "Particular Plus Account                                  -0.018302   \n",
       "Short-Term Deposits                                       0.016547   \n",
       "Medium-Term Deposits                                     -0.000742   \n",
       "Long-Term Deposits                                        0.007782   \n",
       "E-Account                                                -0.011362   \n",
       "Funds                                                    -0.002150   \n",
       "Mortgage                                                 -0.005069   \n",
       "Pensions                                                 -0.002635   \n",
       "Loans                                                    -0.004168   \n",
       "Taxes                                                     0.013283   \n",
       "Credit Card                                               0.020310   \n",
       "Securities                                                0.001634   \n",
       "Home Account                                             -0.005641   \n",
       "Payroll                                                   0.021872   \n",
       "Pension                                                   0.021823   \n",
       "Direct Debit                                              0.029004   \n",
       "\n",
       "                                           Particular Account  \\\n",
       "Customer Code                                       -0.446639   \n",
       "Sex                                                 -0.062419   \n",
       "Age                                                  0.317593   \n",
       "New Customer Index                                  -0.096910   \n",
       "Seniority                                            0.468618   \n",
       "Primary Customer                                    -0.014245   \n",
       "Resident Country is Bank Country                    -0.020207   \n",
       "Birth Country Different Than Bank Country           -0.034163   \n",
       "Spouse Index                                        -0.060070   \n",
       "Deceased                                             0.031835   \n",
       "Address Type                                              NaN   \n",
       "Province Code                                        0.041671   \n",
       "Activity Index                                       0.169616   \n",
       "Gross Household Income                               0.085797   \n",
       "Savings Account                                      0.009616   \n",
       "Guarantees                                           0.001828   \n",
       "Current Accounts                                     0.003798   \n",
       "Derivative Account                                   0.012585   \n",
       "Payroll Account                                      0.021291   \n",
       "Junior Account                                      -0.037639   \n",
       "More Partiuclar Account                             -0.036033   \n",
       "Particular Account                                   1.000000   \n",
       "Particular Plus Account                              0.037871   \n",
       "Short-Term Deposits                                  0.000567   \n",
       "Medium-Term Deposits                                 0.040650   \n",
       "Long-Term Deposits                                   0.077666   \n",
       "E-Account                                           -0.010200   \n",
       "Funds                                                0.087223   \n",
       "Mortgage                                             0.018857   \n",
       "Pensions                                             0.049246   \n",
       "Loans                                               -0.009112   \n",
       "Taxes                                                0.061071   \n",
       "Credit Card                                          0.063697   \n",
       "Securities                                           0.096055   \n",
       "Home Account                                         0.062589   \n",
       "Payroll                                              0.027174   \n",
       "Pension                                              0.028225   \n",
       "Direct Debit                                         0.043040   \n",
       "\n",
       "                                           Particular Plus Account  \\\n",
       "Customer Code                                            -0.155942   \n",
       "Sex                                                      -0.029367   \n",
       "Age                                                       0.117444   \n",
       "New Customer Index                                       -0.053555   \n",
       "Seniority                                                 0.153142   \n",
       "Primary Customer                                         -0.008019   \n",
       "Resident Country is Bank Country                          0.004040   \n",
       "Birth Country Different Than Bank Country                -0.012588   \n",
       "Spouse Index                                             -0.054257   \n",
       "Deceased                                                  0.001911   \n",
       "Address Type                                                   NaN   \n",
       "Province Code                                             0.014831   \n",
       "Activity Index                                            0.156306   \n",
       "Gross Household Income                                    0.051297   \n",
       "Savings Account                                           0.004184   \n",
       "Guarantees                                                0.008702   \n",
       "Current Accounts                                         -0.050776   \n",
       "Derivative Account                                        0.007151   \n",
       "Payroll Account                                           0.186533   \n",
       "Junior Account                                           -0.020808   \n",
       "More Partiuclar Account                                  -0.018302   \n",
       "Particular Account                                        0.037871   \n",
       "Particular Plus Account                                   1.000000   \n",
       "Short-Term Deposits                                      -0.000412   \n",
       "Medium-Term Deposits                                      0.022891   \n",
       "Long-Term Deposits                                        0.074684   \n",
       "E-Account                                                 0.067205   \n",
       "Funds                                                     0.067732   \n",
       "Mortgage                                                  0.070650   \n",
       "Pensions                                                  0.062644   \n",
       "Loans                                                    -0.001848   \n",
       "Taxes                                                     0.168267   \n",
       "Credit Card                                               0.167066   \n",
       "Securities                                                0.092291   \n",
       "Home Account                                              0.040633   \n",
       "Payroll                                                   0.172592   \n",
       "Pension                                                   0.179870   \n",
       "Direct Debit                                              0.201764   \n",
       "\n",
       "                                           Short-Term Deposits  \\\n",
       "Customer Code                                         0.020474   \n",
       "Sex                                                  -0.002071   \n",
       "Age                                                   0.019375   \n",
       "New Customer Index                                    0.087791   \n",
       "Seniority                                            -0.023523   \n",
       "Primary Customer                                      0.006660   \n",
       "Resident Country is Bank Country                      0.000918   \n",
       "Birth Country Different Than Bank Country            -0.005495   \n",
       "Spouse Index                                         -0.004588   \n",
       "Deceased                                              0.000250   \n",
       "Address Type                                               NaN   \n",
       "Province Code                                         0.001307   \n",
       "Activity Index                                        0.035946   \n",
       "Gross Household Income                                0.000305   \n",
       "Savings Account                                      -0.000427   \n",
       "Guarantees                                           -0.000203   \n",
       "Current Accounts                                     -0.003055   \n",
       "Derivative Account                                    0.000652   \n",
       "Payroll Account                                      -0.002743   \n",
       "Junior Account                                       -0.004128   \n",
       "More Partiuclar Account                               0.016547   \n",
       "Particular Account                                    0.000567   \n",
       "Particular Plus Account                              -0.000412   \n",
       "Short-Term Deposits                                   1.000000   \n",
       "Medium-Term Deposits                                  0.050163   \n",
       "Long-Term Deposits                                    0.014158   \n",
       "E-Account                                            -0.003400   \n",
       "Funds                                                 0.003708   \n",
       "Mortgage                                             -0.001316   \n",
       "Pensions                                             -0.001982   \n",
       "Loans                                                -0.002167   \n",
       "Taxes                                                -0.001522   \n",
       "Credit Card                                          -0.001279   \n",
       "Securities                                            0.001050   \n",
       "Home Account                                         -0.001163   \n",
       "Payroll                                              -0.001269   \n",
       "Pension                                              -0.001552   \n",
       "Direct Debit                                         -0.004947   \n",
       "\n",
       "                                           Medium-Term Deposits  \\\n",
       "Customer Code                                         -0.035326   \n",
       "Sex                                                   -0.003285   \n",
       "Age                                                    0.028522   \n",
       "New Customer Index                                    -0.010054   \n",
       "Seniority                                              0.035536   \n",
       "Primary Customer                                      -0.001152   \n",
       "Resident Country is Bank Country                      -0.005957   \n",
       "Birth Country Different Than Bank Country             -0.003027   \n",
       "Spouse Index                                          -0.005622   \n",
       "Deceased                                              -0.000102   \n",
       "Address Type                                                NaN   \n",
       "Province Code                                          0.004255   \n",
       "Activity Index                                         0.044187   \n",
       "Gross Household Income                                 0.006347   \n",
       "Savings Account                                       -0.000413   \n",
       "Guarantees                                             0.000552   \n",
       "Current Accounts                                       0.012498   \n",
       "Derivative Account                                     0.001095   \n",
       "Payroll Account                                        0.014493   \n",
       "Junior Account                                        -0.003989   \n",
       "More Partiuclar Account                               -0.000742   \n",
       "Particular Account                                     0.040650   \n",
       "Particular Plus Account                                0.022891   \n",
       "Short-Term Deposits                                    0.050163   \n",
       "Medium-Term Deposits                                   1.000000   \n",
       "Long-Term Deposits                                     0.079801   \n",
       "E-Account                                              0.016717   \n",
       "Funds                                                  0.030270   \n",
       "Mortgage                                               0.004506   \n",
       "Pensions                                               0.011215   \n",
       "Loans                                                 -0.001496   \n",
       "Taxes                                                  0.011550   \n",
       "Credit Card                                            0.015925   \n",
       "Securities                                             0.017594   \n",
       "Home Account                                           0.007144   \n",
       "Payroll                                                0.015800   \n",
       "Pension                                                0.016178   \n",
       "Direct Debit                                           0.014645   \n",
       "\n",
       "                                           Long-Term Deposits  E-Account  \\\n",
       "Customer Code                                       -0.135388  -0.146260   \n",
       "Sex                                                 -0.023505  -0.042111   \n",
       "Age                                                  0.175602   0.142944   \n",
       "New Customer Index                                  -0.039550  -0.059726   \n",
       "Seniority                                            0.124481   0.133965   \n",
       "Primary Customer                                    -0.008047  -0.009846   \n",
       "Resident Country is Bank Country                     0.001642   0.004881   \n",
       "Birth Country Different Than Bank Country           -0.031540  -0.028999   \n",
       "Spouse Index                                        -0.043020   0.053851   \n",
       "Deceased                                            -0.001407  -0.006030   \n",
       "Address Type                                              NaN        NaN   \n",
       "Province Code                                        0.016327   0.019168   \n",
       "Activity Index                                       0.228985   0.284368   \n",
       "Gross Household Income                               0.045854   0.054914   \n",
       "Savings Account                                      0.002037   0.001565   \n",
       "Guarantees                                           0.001609   0.011931   \n",
       "Current Accounts                                     0.010251  -0.076882   \n",
       "Derivative Account                                   0.004279   0.010484   \n",
       "Payroll Account                                      0.095624   0.306321   \n",
       "Junior Account                                      -0.019685  -0.029327   \n",
       "More Partiuclar Account                              0.007782  -0.011362   \n",
       "Particular Account                                   0.077666  -0.010200   \n",
       "Particular Plus Account                              0.074684   0.067205   \n",
       "Short-Term Deposits                                  0.014158  -0.003400   \n",
       "Medium-Term Deposits                                 0.079801   0.016717   \n",
       "Long-Term Deposits                                   1.000000   0.222120   \n",
       "E-Account                                            0.222120   1.000000   \n",
       "Funds                                                0.177314   0.142475   \n",
       "Mortgage                                             0.016609   0.066474   \n",
       "Pensions                                             0.060747   0.090767   \n",
       "Loans                                               -0.009541  -0.008074   \n",
       "Taxes                                                0.063987   0.200133   \n",
       "Credit Card                                          0.106513   0.255686   \n",
       "Securities                                           0.081671   0.150803   \n",
       "Home Account                                         0.007073   0.010380   \n",
       "Payroll                                              0.078193   0.263105   \n",
       "Pension                                              0.090551   0.282031   \n",
       "Direct Debit                                         0.093920   0.296159   \n",
       "\n",
       "                                              Funds  Mortgage  Pensions  \\\n",
       "Customer Code                             -0.144393 -0.096869 -0.119479   \n",
       "Sex                                       -0.041566 -0.026636 -0.016253   \n",
       "Age                                        0.115562  0.038053  0.065997   \n",
       "New Customer Index                        -0.032735 -0.019311 -0.023275   \n",
       "Seniority                                  0.151544  0.102617  0.128061   \n",
       "Primary Customer                          -0.005303 -0.003150 -0.004021   \n",
       "Resident Country is Bank Country          -0.007927  0.003300 -0.001753   \n",
       "Birth Country Different Than Bank Country -0.016804 -0.011434 -0.004954   \n",
       "Spouse Index                              -0.043541 -0.031994  0.143582   \n",
       "Deceased                                   0.009688  0.003282  0.002177   \n",
       "Address Type                                    NaN       NaN       NaN   \n",
       "Province Code                              0.007011 -0.003413  0.003345   \n",
       "Activity Index                             0.147612  0.083113  0.103705   \n",
       "Gross Household Income                     0.055592  0.008116  0.044143   \n",
       "Savings Account                            0.001355  0.002442  0.005639   \n",
       "Guarantees                                 0.003975 -0.000370  0.002253   \n",
       "Current Accounts                           0.010201 -0.046969 -0.030727   \n",
       "Derivative Account                         0.017096  0.001513  0.013004   \n",
       "Payroll Account                            0.085948  0.155558  0.102922   \n",
       "Junior Account                            -0.013422 -0.007526 -0.009409   \n",
       "More Partiuclar Account                   -0.002150 -0.005069 -0.002635   \n",
       "Particular Account                         0.087223  0.018857  0.049246   \n",
       "Particular Plus Account                    0.067732  0.070650  0.062644   \n",
       "Short-Term Deposits                        0.003708 -0.001316 -0.001982   \n",
       "Medium-Term Deposits                       0.030270  0.004506  0.011215   \n",
       "Long-Term Deposits                         0.177314  0.016609  0.060747   \n",
       "E-Account                                  0.142475  0.066474  0.090767   \n",
       "Funds                                      1.000000  0.019263  0.126414   \n",
       "Mortgage                                   0.019263  1.000000  0.041512   \n",
       "Pensions                                   0.126414  0.041512  1.000000   \n",
       "Loans                                      0.001723  0.010664  0.005768   \n",
       "Taxes                                      0.069055  0.089504  0.082939   \n",
       "Credit Card                                0.100685  0.119200  0.110744   \n",
       "Securities                                 0.179663  0.044399  0.116294   \n",
       "Home Account                               0.018472  0.006017  0.022068   \n",
       "Payroll                                    0.072970  0.164654  0.099066   \n",
       "Pension                                    0.082404  0.161889  0.099780   \n",
       "Direct Debit                               0.093503  0.169577  0.104648   \n",
       "\n",
       "                                              Loans     Taxes  Credit Card  \\\n",
       "Customer Code                             -0.035985 -0.189476    -0.188148   \n",
       "Sex                                       -0.014515 -0.051078    -0.047341   \n",
       "Age                                        0.023775  0.094443     0.100561   \n",
       "New Customer Index                        -0.012582 -0.055008    -0.051815   \n",
       "Seniority                                  0.034706  0.187820     0.191678   \n",
       "Primary Customer                          -0.001879 -0.006023    -0.008518   \n",
       "Resident Country is Bank Country           0.002083  0.007568     0.003258   \n",
       "Birth Country Different Than Bank Country  0.031036  0.007773    -0.001367   \n",
       "Spouse Index                              -0.025036 -0.054590    -0.074667   \n",
       "Deceased                                   0.003296  0.001010    -0.010262   \n",
       "Address Type                                    NaN       NaN          NaN   \n",
       "Province Code                             -0.008385  0.007107     0.008992   \n",
       "Activity Index                             0.034084  0.218655     0.232400   \n",
       "Gross Household Income                    -0.010625  0.072117     0.056060   \n",
       "Savings Account                           -0.000519  0.007620     0.001444   \n",
       "Guarantees                                -0.000247  0.011016     0.010423   \n",
       "Current Accounts                          -0.028756 -0.091579    -0.095949   \n",
       "Derivative Account                         0.001434  0.011231     0.009599   \n",
       "Payroll Account                            0.002517  0.319811     0.386592   \n",
       "Junior Account                            -0.005020 -0.022413    -0.021078   \n",
       "More Partiuclar Account                   -0.004168  0.013283     0.020310   \n",
       "Particular Account                        -0.009112  0.061071     0.063697   \n",
       "Particular Plus Account                   -0.001848  0.168267     0.167066   \n",
       "Short-Term Deposits                       -0.002167 -0.001522    -0.001279   \n",
       "Medium-Term Deposits                      -0.001496  0.011550     0.015925   \n",
       "Long-Term Deposits                        -0.009541  0.063987     0.106513   \n",
       "E-Account                                 -0.008074  0.200133     0.255686   \n",
       "Funds                                      0.001723  0.069055     0.100685   \n",
       "Mortgage                                   0.010664  0.089504     0.119200   \n",
       "Pensions                                   0.005768  0.082939     0.110744   \n",
       "Loans                                      1.000000  0.029758     0.011665   \n",
       "Taxes                                      0.029758  1.000000     0.269161   \n",
       "Credit Card                                0.011665  0.269161     1.000000   \n",
       "Securities                                 0.008507  0.113165     0.140177   \n",
       "Home Account                              -0.000369  0.052966     0.033704   \n",
       "Payroll                                    0.004698  0.275447     0.356698   \n",
       "Pension                                    0.004983  0.292074     0.370481   \n",
       "Direct Debit                               0.004047  0.343852     0.374660   \n",
       "\n",
       "                                           Securities  Home Account   Payroll  \\\n",
       "Customer Code                               -0.173800     -0.074148 -0.119074   \n",
       "Sex                                         -0.054630     -0.010212 -0.019857   \n",
       "Age                                          0.110126      0.017248  0.043045   \n",
       "New Customer Index                          -0.038225     -0.015613 -0.036880   \n",
       "Seniority                                    0.183577      0.080254  0.122376   \n",
       "Primary Customer                            -0.006373     -0.002656 -0.009256   \n",
       "Resident Country is Bank Country            -0.018717      0.003174  0.014824   \n",
       "Birth Country Different Than Bank Country   -0.017942     -0.002788 -0.006888   \n",
       "Spouse Index                                 0.132255     -0.013488  0.227114   \n",
       "Deceased                                     0.007082     -0.001831 -0.011465   \n",
       "Address Type                                      NaN           NaN       NaN   \n",
       "Province Code                                0.013285      0.004053  0.010347   \n",
       "Activity Index                               0.173369      0.039856  0.260630   \n",
       "Gross Household Income                       0.067869      0.023001  0.026594   \n",
       "Savings Account                              0.006250      0.014351  0.000245   \n",
       "Guarantees                                   0.013198     -0.000299  0.011705   \n",
       "Current Accounts                             0.014066     -0.005507 -0.257046   \n",
       "Derivative Account                           0.033319      0.004790  0.006874   \n",
       "Payroll Account                              0.122338      0.030378  0.757918   \n",
       "Junior Account                              -0.015855     -0.006078 -0.023237   \n",
       "More Partiuclar Account                      0.001634     -0.005641  0.021872   \n",
       "Particular Account                           0.096055      0.062589  0.027174   \n",
       "Particular Plus Account                      0.092291      0.040633  0.172592   \n",
       "Short-Term Deposits                          0.001050     -0.001163 -0.001269   \n",
       "Medium-Term Deposits                         0.017594      0.007144  0.015800   \n",
       "Long-Term Deposits                           0.081671      0.007073  0.078193   \n",
       "E-Account                                    0.150803      0.010380  0.263105   \n",
       "Funds                                        0.179663      0.018472  0.072970   \n",
       "Mortgage                                     0.044399      0.006017  0.164654   \n",
       "Pensions                                     0.116294      0.022068  0.099066   \n",
       "Loans                                        0.008507     -0.000369  0.004698   \n",
       "Taxes                                        0.113165      0.052966  0.275447   \n",
       "Credit Card                                  0.140177      0.033704  0.356698   \n",
       "Securities                                   1.000000      0.033142  0.113381   \n",
       "Home Account                                 0.033142      1.000000  0.030479   \n",
       "Payroll                                      0.113381      0.030479  1.000000   \n",
       "Pension                                      0.122850      0.028856  0.957218   \n",
       "Direct Debit                                 0.144288      0.035847  0.471170   \n",
       "\n",
       "                                            Pension  Direct Debit  \n",
       "Customer Code                             -0.130896     -0.143262  \n",
       "Sex                                       -0.021055     -0.047290  \n",
       "Age                                        0.071267      0.087815  \n",
       "New Customer Index                        -0.039378     -0.053103  \n",
       "Seniority                                  0.133696      0.145049  \n",
       "Primary Customer                          -0.009653     -0.011989  \n",
       "Resident Country is Bank Country           0.014919      0.011704  \n",
       "Birth Country Different Than Bank Country -0.008560     -0.003418  \n",
       "Spouse Index                               0.212514      0.049243  \n",
       "Deceased                                  -0.011021     -0.012925  \n",
       "Address Type                                    NaN           NaN  \n",
       "Province Code                              0.011307      0.014927  \n",
       "Activity Index                             0.272183      0.412244  \n",
       "Gross Household Income                     0.032055      0.038665  \n",
       "Savings Account                            0.000096      0.003220  \n",
       "Guarantees                                 0.011164      0.011151  \n",
       "Current Accounts                          -0.270173     -0.069308  \n",
       "Derivative Account                         0.007406      0.009136  \n",
       "Payroll Account                            0.790085      0.535626  \n",
       "Junior Account                            -0.023185     -0.037449  \n",
       "More Partiuclar Account                    0.021823      0.029004  \n",
       "Particular Account                         0.028225      0.043040  \n",
       "Particular Plus Account                    0.179870      0.201764  \n",
       "Short-Term Deposits                       -0.001552     -0.004947  \n",
       "Medium-Term Deposits                       0.016178      0.014645  \n",
       "Long-Term Deposits                         0.090551      0.093920  \n",
       "E-Account                                  0.282031      0.296159  \n",
       "Funds                                      0.082404      0.093503  \n",
       "Mortgage                                   0.161889      0.169577  \n",
       "Pensions                                   0.099780      0.104648  \n",
       "Loans                                      0.004983      0.004047  \n",
       "Taxes                                      0.292074      0.343852  \n",
       "Credit Card                                0.370481      0.374660  \n",
       "Securities                                 0.122850      0.144288  \n",
       "Home Account                               0.028856      0.035847  \n",
       "Payroll                                    0.957218      0.471170  \n",
       "Pension                                    1.000000      0.490920  \n",
       "Direct Debit                               0.490920      1.000000  "
      ]
     },
     "execution_count": 122,
     "metadata": {},
     "output_type": "execute_result"
    }
   ],
   "source": [
    "pd.set_option(\"display.max_rows\", None, \"display.max_columns\", None)\n",
    "df.corr()"
   ]
  },
  {
   "cell_type": "code",
   "execution_count": null,
   "id": "eeeed125",
   "metadata": {},
   "outputs": [],
   "source": []
  },
  {
   "cell_type": "code",
   "execution_count": null,
   "id": "e92e46fe",
   "metadata": {},
   "outputs": [],
   "source": []
  },
  {
   "cell_type": "code",
   "execution_count": null,
   "id": "4c76b0ce",
   "metadata": {},
   "outputs": [],
   "source": []
  },
  {
   "cell_type": "code",
   "execution_count": null,
   "id": "e864fbe1",
   "metadata": {},
   "outputs": [],
   "source": [
    "# Linear Regression\n",
    "#\n",
    "# These next few lines of code will be linear regression. Getting visualizations, but mostly finding the prediction equation for\n",
    "# statistically significant pairs of variables."
   ]
  },
  {
   "cell_type": "code",
   "execution_count": 126,
   "id": "89e169dc",
   "metadata": {},
   "outputs": [
    {
     "data": {
      "image/png": "[encoded data removed]",
      "text/plain": [
       "<Figure size 432x288 with 1 Axes>"
      ]
     },
     "metadata": {
      "needs_background": "light"
     },
     "output_type": "display_data"
    }
   ],
   "source": [
    "df.plot(kind='scatter', x='Age', y='Seniority')\n",
    "plt.show()"
   ]
  },
  {
   "cell_type": "code",
   "execution_count": 127,
   "id": "79516674",
   "metadata": {},
   "outputs": [],
   "source": [
    "X_train, X_test, y_train, y_test = train_test_split(df['Age'], df['Seniority'])"
   ]
  },
  {
   "cell_type": "code",
   "execution_count": 128,
   "id": "ca3ebb70",
   "metadata": {},
   "outputs": [
    {
     "data": {
      "image/png": "[encoded data removed]",
      "text/plain": [
       "<Figure size 432x288 with 1 Axes>"
      ]
     },
     "metadata": {
      "needs_background": "light"
     },
     "output_type": "display_data"
    }
   ],
   "source": [
    "plt.scatter(X_train, y_train, label='Training Data', color='r', alpha=.7)\n",
    "plt.scatter(X_test, y_test, label='Testing Data', color='g', alpha=.7)\n",
    "plt.legend()\n",
    "plt.title('Test Train Split')\n",
    "plt.show()"
   ]
  },
  {
   "cell_type": "code",
   "execution_count": 129,
   "id": "05f2d1a2",
   "metadata": {},
   "outputs": [
    {
     "data": {
      "text/html": [
       "<style>#sk-container-id-1 {color: black;background-color: white;}#sk-container-id-1 pre{padding: 0;}#sk-container-id-1 div.sk-toggleable {background-color: white;}#sk-container-id-1 label.sk-toggleable__label {cursor: pointer;display: block;width: 100%;margin-bottom: 0;padding: 0.3em;box-sizing: border-box;text-align: center;}#sk-container-id-1 label.sk-toggleable__label-arrow:before {content: \"▸\";float: left;margin-right: 0.25em;color: #696969;}#sk-container-id-1 label.sk-toggleable__label-arrow:hover:before {color: black;}#sk-container-id-1 div.sk-estimator:hover label.sk-toggleable__label-arrow:before {color: black;}#sk-container-id-1 div.sk-toggleable__content {max-height: 0;max-width: 0;overflow: hidden;text-align: left;background-color: #f0f8ff;}#sk-container-id-1 div.sk-toggleable__content pre {margin: 0.2em;color: black;border-radius: 0.25em;background-color: #f0f8ff;}#sk-container-id-1 input.sk-toggleable__control:checked~div.sk-toggleable__content {max-height: 200px;max-width: 100%;overflow: auto;}#sk-container-id-1 input.sk-toggleable__control:checked~label.sk-toggleable__label-arrow:before {content: \"▾\";}#sk-container-id-1 div.sk-estimator input.sk-toggleable__control:checked~label.sk-toggleable__label {background-color: #d4ebff;}#sk-container-id-1 div.sk-label input.sk-toggleable__control:checked~label.sk-toggleable__label {background-color: #d4ebff;}#sk-container-id-1 input.sk-hidden--visually {border: 0;clip: rect(1px 1px 1px 1px);clip: rect(1px, 1px, 1px, 1px);height: 1px;margin: -1px;overflow: hidden;padding: 0;position: absolute;width: 1px;}#sk-container-id-1 div.sk-estimator {font-family: monospace;background-color: #f0f8ff;border: 1px dotted black;border-radius: 0.25em;box-sizing: border-box;margin-bottom: 0.5em;}#sk-container-id-1 div.sk-estimator:hover {background-color: #d4ebff;}#sk-container-id-1 div.sk-parallel-item::after {content: \"\";width: 100%;border-bottom: 1px solid gray;flex-grow: 1;}#sk-container-id-1 div.sk-label:hover label.sk-toggleable__label {background-color: #d4ebff;}#sk-container-id-1 div.sk-serial::before {content: \"\";position: absolute;border-left: 1px solid gray;box-sizing: border-box;top: 0;bottom: 0;left: 50%;z-index: 0;}#sk-container-id-1 div.sk-serial {display: flex;flex-direction: column;align-items: center;background-color: white;padding-right: 0.2em;padding-left: 0.2em;position: relative;}#sk-container-id-1 div.sk-item {position: relative;z-index: 1;}#sk-container-id-1 div.sk-parallel {display: flex;align-items: stretch;justify-content: center;background-color: white;position: relative;}#sk-container-id-1 div.sk-item::before, #sk-container-id-1 div.sk-parallel-item::before {content: \"\";position: absolute;border-left: 1px solid gray;box-sizing: border-box;top: 0;bottom: 0;left: 50%;z-index: -1;}#sk-container-id-1 div.sk-parallel-item {display: flex;flex-direction: column;z-index: 1;position: relative;background-color: white;}#sk-container-id-1 div.sk-parallel-item:first-child::after {align-self: flex-end;width: 50%;}#sk-container-id-1 div.sk-parallel-item:last-child::after {align-self: flex-start;width: 50%;}#sk-container-id-1 div.sk-parallel-item:only-child::after {width: 0;}#sk-container-id-1 div.sk-dashed-wrapped {border: 1px dashed gray;margin: 0 0.4em 0.5em 0.4em;box-sizing: border-box;padding-bottom: 0.4em;background-color: white;}#sk-container-id-1 div.sk-label label {font-family: monospace;font-weight: bold;display: inline-block;line-height: 1.2em;}#sk-container-id-1 div.sk-label-container {text-align: center;}#sk-container-id-1 div.sk-container {/* jupyter's `normalize.less` sets `[hidden] { display: none; }` but bootstrap.min.css set `[hidden] { display: none !important; }` so we also need the `!important` here to be able to override the default hidden behavior on the sphinx rendered scikit-learn.org. See: https://github.com/scikit-learn/scikit-learn/issues/21755 */display: inline-block !important;position: relative;}#sk-container-id-1 div.sk-text-repr-fallback {display: none;}</style><div id=\"sk-container-id-1\" class=\"sk-top-container\"><div class=\"sk-text-repr-fallback\"><pre>LinearRegression()</pre><b>In a Jupyter environment, please rerun this cell to show the HTML representation or trust the notebook. <br />On GitHub, the HTML representation is unable to render, please try loading this page with nbviewer.org.</b></div><div class=\"sk-container\" hidden><div class=\"sk-item\"><div class=\"sk-estimator sk-toggleable\"><input class=\"sk-toggleable__control sk-hidden--visually\" id=\"sk-estimator-id-1\" type=\"checkbox\" checked><label for=\"sk-estimator-id-1\" class=\"sk-toggleable__label sk-toggleable__label-arrow\">LinearRegression</label><div class=\"sk-toggleable__content\"><pre>LinearRegression()</pre></div></div></div></div></div>"
      ],
      "text/plain": [
       "LinearRegression()"
      ]
     },
     "execution_count": 129,
     "metadata": {},
     "output_type": "execute_result"
    }
   ],
   "source": [
    "LR = LinearRegression()\n",
    "LR.fit(X_train.values.reshape(-1,1), y_train.values)"
   ]
  },
  {
   "cell_type": "code",
   "execution_count": 130,
   "id": "22c49427",
   "metadata": {},
   "outputs": [
    {
     "data": {
      "image/png": "[encoded data removed]",
      "text/plain": [
       "<Figure size 432x288 with 1 Axes>"
      ]
     },
     "metadata": {
      "needs_background": "light"
     },
     "output_type": "display_data"
    }
   ],
   "source": [
    "prediction = LR.predict(X_test.values.reshape(-1,1))\n",
    "\n",
    "plt.plot(X_test, prediction, label='Linear Regression', color='b')\n",
    "plt.scatter(X_test, y_test, label='Actual Test Data', color='g', alpha=.7)\n",
    "plt.legend()\n",
    "plt.show()"
   ]
  },
  {
   "cell_type": "code",
   "execution_count": 131,
   "id": "18f8e9da",
   "metadata": {},
   "outputs": [
    {
     "data": {
      "text/plain": [
       "101.97008572081027"
      ]
     },
     "execution_count": 131,
     "metadata": {},
     "output_type": "execute_result"
    }
   ],
   "source": [
    "LR.predict(np.array([[50]]))[0]"
   ]
  },
  {
   "cell_type": "code",
   "execution_count": 132,
   "id": "e4cfd4bb",
   "metadata": {},
   "outputs": [
    {
     "data": {
      "text/plain": [
       "0.35751671110777117"
      ]
     },
     "execution_count": 132,
     "metadata": {},
     "output_type": "execute_result"
    }
   ],
   "source": [
    "LR.score(X_test.values.reshape(-1,1), y_test.values)"
   ]
  },
  {
   "cell_type": "code",
   "execution_count": 133,
   "id": "aafad5c3",
   "metadata": {},
   "outputs": [
    {
     "data": {
      "text/plain": [
       "-13.380759903495772"
      ]
     },
     "execution_count": 133,
     "metadata": {},
     "output_type": "execute_result"
    }
   ],
   "source": [
    "LR.intercept_"
   ]
  },
  {
   "cell_type": "code",
   "execution_count": 134,
   "id": "6d918b3c",
   "metadata": {},
   "outputs": [
    {
     "data": {
      "text/plain": [
       "array([2.30701691])"
      ]
     },
     "execution_count": 134,
     "metadata": {},
     "output_type": "execute_result"
    }
   ],
   "source": [
    "LR.coef_"
   ]
  },
  {
   "cell_type": "code",
   "execution_count": null,
   "id": "b6e45b5d",
   "metadata": {},
   "outputs": [],
   "source": []
  },
  {
   "cell_type": "code",
   "execution_count": 57,
   "id": "8d3ed238",
   "metadata": {},
   "outputs": [
    {
     "name": "stdout",
     "output_type": "stream",
     "text": [
      "Prediction 0.18992530501250196\n",
      "Intercept -0.12023618614249285\n",
      "Slope [0.00620323]\n"
     ]
    }
   ],
   "source": [
    "X_train, X_test, y_train, y_test = train_test_split(df['Age'], df['Particular Account'])\n",
    "LR = LinearRegression()\n",
    "LR.fit(X_train.values.reshape(-1,1), y_train.values)\n",
    "prediction = LR.predict(X_test.values.reshape(-1,1))\n",
    "print(\"Prediction\", LR.predict(np.array([[50]]))[0])\n",
    "print(\"Intercept\", LR.intercept_)\n",
    "print(\"Slope\", LR.coef_)"
   ]
  },
  {
   "cell_type": "code",
   "execution_count": 58,
   "id": "0852cac3",
   "metadata": {},
   "outputs": [
    {
     "name": "stdout",
     "output_type": "stream",
     "text": [
      "Prediction 0.18993595689775208\n",
      "Intercept -0.12016394257993027\n",
      "Slope [0.006202]\n",
      "Regression Equation: y = [0.006202] x + -0.12016394257993027\n",
      "Linear Regression Score 0.10090753170178268\n"
     ]
    }
   ],
   "source": [
    "X_train, X_test, y_train, y_test = train_test_split(df['Age'], df['Particular Account'])\n",
    "LR = LinearRegression()\n",
    "LR.fit(X_train.values.reshape(-1,1), y_train.values)\n",
    "prediction = LR.predict(X_test.values.reshape(-1,1))\n",
    "print(\"Prediction\", LR.predict(np.array([[50]]))[0])\n",
    "print(\"Intercept\", LR.intercept_)\n",
    "print(\"Slope\", LR.coef_)\n",
    "print(\"Regression Equation: y =\", LR.coef_, \"x +\", LR.intercept_)\n",
    "print(\"Linear Regression Score\", LR.score(X_test.values.reshape(-1,1), y_test.values))"
   ]
  },
  {
   "cell_type": "code",
   "execution_count": 59,
   "id": "3999be0b",
   "metadata": {},
   "outputs": [
    {
     "name": "stdout",
     "output_type": "stream",
     "text": [
      "Prediction 8.636447219483152\n",
      "Intercept 0.0019644877458432908\n",
      "Slope [0.17268965]\n",
      "Regression Equation: y = [0.17268965] x + 0.0019644877458432908\n",
      "Linear Regression Score 0.0994055693161221\n"
     ]
    }
   ],
   "source": [
    "X_train, X_test, y_train, y_test = train_test_split(df['Activity Index'], df['Payroll Account'])\n",
    "LR = LinearRegression()\n",
    "LR.fit(X_train.values.reshape(-1,1), y_train.values)\n",
    "prediction = LR.predict(X_test.values.reshape(-1,1))\n",
    "print(\"Prediction\", LR.predict(np.array([[50]]))[0])\n",
    "print(\"Intercept\", LR.intercept_)\n",
    "print(\"Slope\", LR.coef_)\n",
    "print(\"Regression Equation: y =\", LR.coef_, \"x +\", LR.intercept_)\n",
    "print(\"Linear Regression Score\", LR.score(X_test.values.reshape(-1,1), y_test.values))"
   ]
  },
  {
   "cell_type": "code",
   "execution_count": 60,
   "id": "11cc0a75",
   "metadata": {},
   "outputs": [
    {
     "name": "stdout",
     "output_type": "stream",
     "text": [
      "Prediction 4.660806614432947\n",
      "Intercept 0.00038146422120716866\n",
      "Slope [0.0932085]\n",
      "Regression Equation: y = [0.0932085] x + 0.00038146422120716866\n",
      "Linear Regression Score 0.052497453679293815\n"
     ]
    }
   ],
   "source": [
    "X_train, X_test, y_train, y_test = train_test_split(df['Activity Index'], df['Long-Term Deposits'])\n",
    "LR = LinearRegression()\n",
    "LR.fit(X_train.values.reshape(-1,1), y_train.values)\n",
    "prediction = LR.predict(X_test.values.reshape(-1,1))\n",
    "print(\"Prediction\", LR.predict(np.array([[50]]))[0])\n",
    "print(\"Intercept\", LR.intercept_)\n",
    "print(\"Slope\", LR.coef_)\n",
    "print(\"Regression Equation: y =\", LR.coef_, \"x +\", LR.intercept_)\n",
    "print(\"Linear Regression Score\", LR.score(X_test.values.reshape(-1,1), y_test.values))"
   ]
  },
  {
   "cell_type": "code",
   "execution_count": 61,
   "id": "c88632f7",
   "metadata": {},
   "outputs": [
    {
     "name": "stdout",
     "output_type": "stream",
     "text": [
      "Prediction 7.87270694754353\n",
      "Intercept 0.01091195672425943\n",
      "Slope [0.1572359]\n",
      "Regression Equation: y = [0.1572359] x + 0.01091195672425943\n",
      "Linear Regression Score 0.08099044585694937\n"
     ]
    }
   ],
   "source": [
    "X_train, X_test, y_train, y_test = train_test_split(df['Activity Index'], df['E-Account'])\n",
    "LR = LinearRegression()\n",
    "LR.fit(X_train.values.reshape(-1,1), y_train.values)\n",
    "prediction = LR.predict(X_test.values.reshape(-1,1))\n",
    "print(\"Prediction\", LR.predict(np.array([[50]]))[0])\n",
    "print(\"Intercept\", LR.intercept_)\n",
    "print(\"Slope\", LR.coef_)\n",
    "print(\"Regression Equation: y =\", LR.coef_, \"x +\", LR.intercept_)\n",
    "print(\"Linear Regression Score\", LR.score(X_test.values.reshape(-1,1), y_test.values))"
   ]
  },
  {
   "cell_type": "code",
   "execution_count": 62,
   "id": "85cd196d",
   "metadata": {},
   "outputs": [
    {
     "name": "stdout",
     "output_type": "stream",
     "text": [
      "Prediction 4.901014036374913\n",
      "Intercept 0.007782067556946978\n",
      "Slope [0.09786464]\n",
      "Regression Equation: y = [0.09786464] x + 0.007782067556946978\n",
      "Linear Regression Score 0.0479409421797965\n"
     ]
    }
   ],
   "source": [
    "X_train, X_test, y_train, y_test = train_test_split(df['Activity Index'], df['Taxes'])\n",
    "LR = LinearRegression()\n",
    "LR.fit(X_train.values.reshape(-1,1), y_train.values)\n",
    "prediction = LR.predict(X_test.values.reshape(-1,1))\n",
    "print(\"Prediction\", LR.predict(np.array([[50]]))[0])\n",
    "print(\"Intercept\", LR.intercept_)\n",
    "print(\"Slope\", LR.coef_)\n",
    "print(\"Regression Equation: y =\", LR.coef_, \"x +\", LR.intercept_)\n",
    "print(\"Linear Regression Score\", LR.score(X_test.values.reshape(-1,1), y_test.values))"
   ]
  },
  {
   "cell_type": "code",
   "execution_count": 63,
   "id": "71a4bd5d",
   "metadata": {},
   "outputs": [
    {
     "name": "stdout",
     "output_type": "stream",
     "text": [
      "Prediction 4.809639720100664\n",
      "Intercept 0.00048658132654713637\n",
      "Slope [0.09618306]\n",
      "Regression Equation: y = [0.09618306] x + 0.00048658132654713637\n",
      "Linear Regression Score 0.05382713944494466\n"
     ]
    }
   ],
   "source": [
    "X_train, X_test, y_train, y_test = train_test_split(df['Activity Index'], df['Credit Card'])\n",
    "LR = LinearRegression()\n",
    "LR.fit(X_train.values.reshape(-1,1), y_train.values)\n",
    "prediction = LR.predict(X_test.values.reshape(-1,1))\n",
    "print(\"Prediction\", LR.predict(np.array([[50]]))[0])\n",
    "print(\"Intercept\", LR.intercept_)\n",
    "print(\"Slope\", LR.coef_)\n",
    "print(\"Regression Equation: y =\", LR.coef_, \"x +\", LR.intercept_)\n",
    "print(\"Linear Regression Score\", LR.score(X_test.values.reshape(-1,1), y_test.values))"
   ]
  },
  {
   "cell_type": "code",
   "execution_count": 64,
   "id": "593e3566",
   "metadata": {},
   "outputs": [
    {
     "name": "stdout",
     "output_type": "stream",
     "text": [
      "Prediction 5.943351476912353\n",
      "Intercept 0.00032739807408547345\n",
      "Slope [0.11886048]\n",
      "Regression Equation: y = [0.11886048] x + 0.00032739807408547345\n",
      "Linear Regression Score 0.0680840926195706\n"
     ]
    }
   ],
   "source": [
    "X_train, X_test, y_train, y_test = train_test_split(df['Activity Index'], df['Payroll'])\n",
    "LR = LinearRegression()\n",
    "LR.fit(X_train.values.reshape(-1,1), y_train.values)\n",
    "prediction = LR.predict(X_test.values.reshape(-1,1))\n",
    "print(\"Prediction\", LR.predict(np.array([[50]]))[0])\n",
    "print(\"Intercept\", LR.intercept_)\n",
    "print(\"Slope\", LR.coef_)\n",
    "print(\"Regression Equation: y =\", LR.coef_, \"x +\", LR.intercept_)\n",
    "print(\"Linear Regression Score\", LR.score(X_test.values.reshape(-1,1), y_test.values))"
   ]
  },
  {
   "cell_type": "code",
   "execution_count": 65,
   "id": "299ac006",
   "metadata": {},
   "outputs": [
    {
     "name": "stdout",
     "output_type": "stream",
     "text": [
      "Prediction 6.457117891757284\n",
      "Intercept 0.00036931700823294306\n",
      "Slope [0.12913497]\n",
      "Regression Equation: y = [0.12913497] x + 0.00036931700823294306\n",
      "Linear Regression Score 0.07404564832173488\n"
     ]
    }
   ],
   "source": [
    "X_train, X_test, y_train, y_test = train_test_split(df['Activity Index'], df['Pension'])\n",
    "LR = LinearRegression()\n",
    "LR.fit(X_train.values.reshape(-1,1), y_train.values)\n",
    "prediction = LR.predict(X_test.values.reshape(-1,1))\n",
    "print(\"Prediction\", LR.predict(np.array([[50]]))[0])\n",
    "print(\"Intercept\", LR.intercept_)\n",
    "print(\"Slope\", LR.coef_)\n",
    "print(\"Regression Equation: y =\", LR.coef_, \"x +\", LR.intercept_)\n",
    "print(\"Linear Regression Score\", LR.score(X_test.values.reshape(-1,1), y_test.values))"
   ]
  },
  {
   "cell_type": "code",
   "execution_count": 66,
   "id": "6c34f38c",
   "metadata": {},
   "outputs": [
    {
     "name": "stdout",
     "output_type": "stream",
     "text": [
      "Prediction 13.822168540222355\n",
      "Intercept 0.0016231649739001652\n",
      "Slope [0.27641091]\n",
      "Regression Equation: y = [0.27641091] x + 0.0016231649739001652\n",
      "Linear Regression Score 0.1697811254304158\n"
     ]
    }
   ],
   "source": [
    "X_train, X_test, y_train, y_test = train_test_split(df['Activity Index'], df['Direct Debit'])\n",
    "LR = LinearRegression()\n",
    "LR.fit(X_train.values.reshape(-1,1), y_train.values)\n",
    "prediction = LR.predict(X_test.values.reshape(-1,1))\n",
    "print(\"Prediction\", LR.predict(np.array([[50]]))[0])\n",
    "print(\"Intercept\", LR.intercept_)\n",
    "print(\"Slope\", LR.coef_)\n",
    "print(\"Regression Equation: y =\", LR.coef_, \"x +\", LR.intercept_)\n",
    "print(\"Linear Regression Score\", LR.score(X_test.values.reshape(-1,1), y_test.values))"
   ]
  },
  {
   "cell_type": "code",
   "execution_count": 67,
   "id": "690ee43f",
   "metadata": {},
   "outputs": [
    {
     "name": "stdout",
     "output_type": "stream",
     "text": [
      "Prediction -9.700183530419206\n",
      "Intercept 0.21080546698301145\n",
      "Slope [-0.19821978]\n",
      "Regression Equation: y = [-0.19821978] x + 0.21080546698301145\n",
      "Linear Regression Score 0.11928180975289648\n"
     ]
    }
   ],
   "source": [
    "X_train, X_test, y_train, y_test = train_test_split(df['Current Accounts'], df['Payroll Account'])\n",
    "LR = LinearRegression()\n",
    "LR.fit(X_train.values.reshape(-1,1), y_train.values)\n",
    "prediction = LR.predict(X_test.values.reshape(-1,1))\n",
    "print(\"Prediction\", LR.predict(np.array([[50]]))[0])\n",
    "print(\"Intercept\", LR.intercept_)\n",
    "print(\"Slope\", LR.coef_)\n",
    "print(\"Regression Equation: y =\", LR.coef_, \"x +\", LR.intercept_)\n",
    "print(\"Linear Regression Score\", LR.score(X_test.values.reshape(-1,1), y_test.values))"
   ]
  },
  {
   "cell_type": "code",
   "execution_count": 68,
   "id": "e7ce2667",
   "metadata": {},
   "outputs": [
    {
     "name": "stdout",
     "output_type": "stream",
     "text": [
      "Prediction -6.009416858615071\n",
      "Intercept 0.1352058710812256\n",
      "Slope [-0.12289245]\n",
      "Regression Equation: y = [-0.12289245] x + 0.1352058710812256\n",
      "Linear Regression Score 0.06624102987068059\n"
     ]
    }
   ],
   "source": [
    "X_train, X_test, y_train, y_test = train_test_split(df['Current Accounts'], df['Payroll'])\n",
    "LR = LinearRegression()\n",
    "LR.fit(X_train.values.reshape(-1,1), y_train.values)\n",
    "prediction = LR.predict(X_test.values.reshape(-1,1))\n",
    "print(\"Prediction\", LR.predict(np.array([[50]]))[0])\n",
    "print(\"Intercept\", LR.intercept_)\n",
    "print(\"Slope\", LR.coef_)\n",
    "print(\"Regression Equation: y =\", LR.coef_, \"x +\", LR.intercept_)\n",
    "print(\"Linear Regression Score\", LR.score(X_test.values.reshape(-1,1), y_test.values))"
   ]
  },
  {
   "cell_type": "code",
   "execution_count": 69,
   "id": "5059cc0e",
   "metadata": {},
   "outputs": [
    {
     "name": "stdout",
     "output_type": "stream",
     "text": [
      "Prediction -6.568248234192501\n",
      "Intercept 0.14735505593266657\n",
      "Slope [-0.13431207]\n",
      "Regression Equation: y = [-0.13431207] x + 0.14735505593266657\n",
      "Linear Regression Score 0.07297404589954504\n"
     ]
    }
   ],
   "source": [
    "X_train, X_test, y_train, y_test = train_test_split(df['Current Accounts'], df['Pension'])\n",
    "LR = LinearRegression()\n",
    "LR.fit(X_train.values.reshape(-1,1), y_train.values)\n",
    "prediction = LR.predict(X_test.values.reshape(-1,1))\n",
    "print(\"Prediction\", LR.predict(np.array([[50]]))[0])\n",
    "print(\"Intercept\", LR.intercept_)\n",
    "print(\"Slope\", LR.coef_)\n",
    "print(\"Regression Equation: y =\", LR.coef_, \"x +\", LR.intercept_)\n",
    "print(\"Linear Regression Score\", LR.score(X_test.values.reshape(-1,1), y_test.values))"
   ]
  },
  {
   "cell_type": "code",
   "execution_count": 70,
   "id": "44a23b9d",
   "metadata": {},
   "outputs": [
    {
     "name": "stdout",
     "output_type": "stream",
     "text": [
      "Prediction 29.24382372355644\n",
      "Intercept 0.4101312089457024\n",
      "Slope [0.57667385]\n",
      "Regression Equation: y = [0.57667385] x + 0.4101312089457024\n",
      "Linear Regression Score 0.09904835541166057\n"
     ]
    }
   ],
   "source": [
    "X_train, X_test, y_train, y_test = train_test_split(df['Payroll Account'], df['Activity Index'])\n",
    "LR = LinearRegression()\n",
    "LR.fit(X_train.values.reshape(-1,1), y_train.values)\n",
    "prediction = LR.predict(X_test.values.reshape(-1,1))\n",
    "print(\"Prediction\", LR.predict(np.array([[50]]))[0])\n",
    "print(\"Intercept\", LR.intercept_)\n",
    "print(\"Slope\", LR.coef_)\n",
    "print(\"Regression Equation: y =\", LR.coef_, \"x +\", LR.intercept_)\n",
    "print(\"Linear Regression Score\", LR.score(X_test.values.reshape(-1,1), y_test.values))"
   ]
  },
  {
   "cell_type": "code",
   "execution_count": 71,
   "id": "a9a74617",
   "metadata": {},
   "outputs": [
    {
     "name": "stdout",
     "output_type": "stream",
     "text": [
      "Prediction -29.408876260331226\n",
      "Intercept 0.7041994810901341\n",
      "Slope [-0.60226151]\n",
      "Regression Equation: y = [-0.60226151] x + 0.7041994810901341\n",
      "Linear Regression Score 0.11913083180436312\n"
     ]
    }
   ],
   "source": [
    "X_train, X_test, y_train, y_test = train_test_split(df['Payroll Account'], df['Current Accounts'])\n",
    "LR = LinearRegression()\n",
    "LR.fit(X_train.values.reshape(-1,1), y_train.values)\n",
    "prediction = LR.predict(X_test.values.reshape(-1,1))\n",
    "print(\"Prediction\", LR.predict(np.array([[50]]))[0])\n",
    "print(\"Intercept\", LR.intercept_)\n",
    "print(\"Slope\", LR.coef_)\n",
    "print(\"Regression Equation: y =\", LR.coef_, \"x +\", LR.intercept_)\n",
    "print(\"Linear Regression Score\", LR.score(X_test.values.reshape(-1,1), y_test.values))"
   ]
  },
  {
   "cell_type": "code",
   "execution_count": 72,
   "id": "8e90149f",
   "metadata": {},
   "outputs": [
    {
     "name": "stdout",
     "output_type": "stream",
     "text": [
      "Prediction 15.519875517590044\n",
      "Intercept 0.05766299852978891\n",
      "Slope [0.30924425]\n",
      "Regression Equation: y = [0.30924425] x + 0.05766299852978891\n",
      "Linear Regression Score 0.09425673816001023\n"
     ]
    }
   ],
   "source": [
    "X_train, X_test, y_train, y_test = train_test_split(df['Payroll Account'], df['E-Account'])\n",
    "LR = LinearRegression()\n",
    "LR.fit(X_train.values.reshape(-1,1), y_train.values)\n",
    "prediction = LR.predict(X_test.values.reshape(-1,1))\n",
    "print(\"Prediction\", LR.predict(np.array([[50]]))[0])\n",
    "print(\"Intercept\", LR.intercept_)\n",
    "print(\"Slope\", LR.coef_)\n",
    "print(\"Regression Equation: y =\", LR.coef_, \"x +\", LR.intercept_)\n",
    "print(\"Linear Regression Score\", LR.score(X_test.values.reshape(-1,1), y_test.values))"
   ]
  },
  {
   "cell_type": "code",
   "execution_count": 73,
   "id": "881adedc",
   "metadata": {},
   "outputs": [
    {
     "name": "stdout",
     "output_type": "stream",
     "text": [
      "Prediction 13.08561735028301\n",
      "Intercept 0.031356921847346494\n",
      "Slope [0.26108521]\n",
      "Regression Equation: y = [0.26108521] x + 0.031356921847346494\n",
      "Linear Regression Score 0.10351267353849158\n"
     ]
    }
   ],
   "source": [
    "X_train, X_test, y_train, y_test = train_test_split(df['Payroll Account'], df['Taxes'])\n",
    "LR = LinearRegression()\n",
    "LR.fit(X_train.values.reshape(-1,1), y_train.values)\n",
    "prediction = LR.predict(X_test.values.reshape(-1,1))\n",
    "print(\"Prediction\", LR.predict(np.array([[50]]))[0])\n",
    "print(\"Intercept\", LR.intercept_)\n",
    "print(\"Slope\", LR.coef_)\n",
    "print(\"Regression Equation: y =\", LR.coef_, \"x +\", LR.intercept_)\n",
    "print(\"Linear Regression Score\", LR.score(X_test.values.reshape(-1,1), y_test.values))"
   ]
  },
  {
   "cell_type": "code",
   "execution_count": 74,
   "id": "f376f67b",
   "metadata": {},
   "outputs": [
    {
     "name": "stdout",
     "output_type": "stream",
     "text": [
      "Prediction 14.611360816212095\n",
      "Intercept 0.020790364674140787\n",
      "Slope [0.29181141]\n",
      "Regression Equation: y = [0.29181141] x + 0.020790364674140787\n",
      "Linear Regression Score 0.150020316460599\n"
     ]
    }
   ],
   "source": [
    "X_train, X_test, y_train, y_test = train_test_split(df['Payroll Account'], df['Credit Card'])\n",
    "LR = LinearRegression()\n",
    "LR.fit(X_train.values.reshape(-1,1), y_train.values)\n",
    "prediction = LR.predict(X_test.values.reshape(-1,1))\n",
    "print(\"Prediction\", LR.predict(np.array([[50]]))[0])\n",
    "print(\"Intercept\", LR.intercept_)\n",
    "print(\"Slope\", LR.coef_)\n",
    "print(\"Regression Equation: y =\", LR.coef_, \"x +\", LR.intercept_)\n",
    "print(\"Linear Regression Score\", LR.score(X_test.values.reshape(-1,1), y_test.values))"
   ]
  },
  {
   "cell_type": "code",
   "execution_count": 75,
   "id": "8d7182bc",
   "metadata": {},
   "outputs": [
    {
     "name": "stdout",
     "output_type": "stream",
     "text": [
      "Prediction 31.607023889702855\n",
      "Intercept 0.003536507952146363\n",
      "Slope [0.63206975]\n",
      "Regression Equation: y = [0.63206975] x + 0.003536507952146363\n",
      "Linear Regression Score 0.5734461305324217\n"
     ]
    }
   ],
   "source": [
    "X_train, X_test, y_train, y_test = train_test_split(df['Payroll Account'], df['Payroll'])\n",
    "LR = LinearRegression()\n",
    "LR.fit(X_train.values.reshape(-1,1), y_train.values)\n",
    "prediction = LR.predict(X_test.values.reshape(-1,1))\n",
    "print(\"Prediction\", LR.predict(np.array([[50]]))[0])\n",
    "print(\"Intercept\", LR.intercept_)\n",
    "print(\"Slope\", LR.coef_)\n",
    "print(\"Regression Equation: y =\", LR.coef_, \"x +\", LR.intercept_)\n",
    "print(\"Linear Regression Score\", LR.score(X_test.values.reshape(-1,1), y_test.values))"
   ]
  },
  {
   "cell_type": "code",
   "execution_count": 76,
   "id": "a00b717e",
   "metadata": {},
   "outputs": [
    {
     "name": "stdout",
     "output_type": "stream",
     "text": [
      "Prediction 34.248886171882944\n",
      "Intercept 0.003971222930101888\n",
      "Slope [0.6848983]\n",
      "Regression Equation: y = [0.6848983] x + 0.003971222930101888\n",
      "Linear Regression Score 0.6235903984950154\n"
     ]
    }
   ],
   "source": [
    "X_train, X_test, y_train, y_test = train_test_split(df['Payroll Account'], df['Pension'])\n",
    "LR = LinearRegression()\n",
    "LR.fit(X_train.values.reshape(-1,1), y_train.values)\n",
    "prediction = LR.predict(X_test.values.reshape(-1,1))\n",
    "print(\"Prediction\", LR.predict(np.array([[50]]))[0])\n",
    "print(\"Intercept\", LR.intercept_)\n",
    "print(\"Slope\", LR.coef_)\n",
    "print(\"Regression Equation: y =\", LR.coef_, \"x +\", LR.intercept_)\n",
    "print(\"Linear Regression Score\", LR.score(X_test.values.reshape(-1,1), y_test.values))"
   ]
  },
  {
   "cell_type": "code",
   "execution_count": 77,
   "id": "f1f5b350",
   "metadata": {},
   "outputs": [
    {
     "name": "stdout",
     "output_type": "stream",
     "text": [
      "Prediction 32.90179231801218\n",
      "Intercept 0.07485933489296069\n",
      "Slope [0.65653866]\n",
      "Regression Equation: y = [0.65653866] x + 0.07485933489296069\n",
      "Linear Regression Score 0.2865105265534593\n"
     ]
    }
   ],
   "source": [
    "X_train, X_test, y_train, y_test = train_test_split(df['Payroll Account'], df['Direct Debit'])\n",
    "LR = LinearRegression()\n",
    "LR.fit(X_train.values.reshape(-1,1), y_train.values)\n",
    "prediction = LR.predict(X_test.values.reshape(-1,1))\n",
    "print(\"Prediction\", LR.predict(np.array([[50]]))[0])\n",
    "print(\"Intercept\", LR.intercept_)\n",
    "print(\"Slope\", LR.coef_)\n",
    "print(\"Regression Equation: y =\", LR.coef_, \"x +\", LR.intercept_)\n",
    "print(\"Linear Regression Score\", LR.score(X_test.values.reshape(-1,1), y_test.values))"
   ]
  },
  {
   "cell_type": "code",
   "execution_count": 78,
   "id": "41cd5ef1",
   "metadata": {},
   "outputs": [
    {
     "name": "stdout",
     "output_type": "stream",
     "text": [
      "Prediction 851.244528716994\n",
      "Intercept 38.08602675573674\n",
      "Slope [16.26317004]\n",
      "Regression Equation: y = [16.26317004] x + 38.08602675573674\n",
      "Linear Regression Score 0.10090057569298083\n"
     ]
    }
   ],
   "source": [
    "X_train, X_test, y_train, y_test = train_test_split(df['Particular Account'], df['Age'])\n",
    "LR = LinearRegression()\n",
    "LR.fit(X_train.values.reshape(-1,1), y_train.values)\n",
    "prediction = LR.predict(X_test.values.reshape(-1,1))\n",
    "print(\"Prediction\", LR.predict(np.array([[50]]))[0])\n",
    "print(\"Intercept\", LR.intercept_)\n",
    "print(\"Slope\", LR.coef_)\n",
    "print(\"Regression Equation: y =\", LR.coef_, \"x +\", LR.intercept_)\n",
    "print(\"Linear Regression Score\", LR.score(X_test.values.reshape(-1,1), y_test.values))"
   ]
  },
  {
   "cell_type": "code",
   "execution_count": 79,
   "id": "8075f67e",
   "metadata": {},
   "outputs": [
    {
     "name": "stdout",
     "output_type": "stream",
     "text": [
      "Prediction 16.653408384488667\n",
      "Intercept 0.11356078776336936\n",
      "Slope [0.33079695]\n",
      "Regression Equation: y = [0.33079695] x + 0.11356078776336936\n",
      "Linear Regression Score 0.04085644578241876\n"
     ]
    }
   ],
   "source": [
    "X_train, X_test, y_train, y_test = train_test_split(df['Particular Plus Account'], df['Direct Debit'])\n",
    "LR = LinearRegression()\n",
    "LR.fit(X_train.values.reshape(-1,1), y_train.values)\n",
    "prediction = LR.predict(X_test.values.reshape(-1,1))\n",
    "print(\"Prediction\", LR.predict(np.array([[50]]))[0])\n",
    "print(\"Intercept\", LR.intercept_)\n",
    "print(\"Slope\", LR.coef_)\n",
    "print(\"Regression Equation: y =\", LR.coef_, \"x +\", LR.intercept_)\n",
    "print(\"Linear Regression Score\", LR.score(X_test.values.reshape(-1,1), y_test.values))"
   ]
  },
  {
   "cell_type": "code",
   "execution_count": 80,
   "id": "cc4fa6ef",
   "metadata": {},
   "outputs": [
    {
     "name": "stdout",
     "output_type": "stream",
     "text": [
      "Prediction 28.550339451807048\n",
      "Intercept 0.432785174222946\n",
      "Slope [0.56235109]\n",
      "Regression Equation: y = [0.56235109] x + 0.432785174222946\n",
      "Linear Regression Score 0.05252279359021572\n"
     ]
    }
   ],
   "source": [
    "X_train, X_test, y_train, y_test = train_test_split(df['Long-Term Deposits'], df['Activity Index'])\n",
    "LR = LinearRegression()\n",
    "LR.fit(X_train.values.reshape(-1,1), y_train.values)\n",
    "prediction = LR.predict(X_test.values.reshape(-1,1))\n",
    "print(\"Prediction\", LR.predict(np.array([[50]]))[0])\n",
    "print(\"Intercept\", LR.intercept_)\n",
    "print(\"Slope\", LR.coef_)\n",
    "print(\"Regression Equation: y =\", LR.coef_, \"x +\", LR.intercept_)\n",
    "print(\"Linear Regression Score\", LR.score(X_test.values.reshape(-1,1), y_test.values))"
   ]
  },
  {
   "cell_type": "code",
   "execution_count": 81,
   "id": "f2fd9f41",
   "metadata": {},
   "outputs": [
    {
     "name": "stdout",
     "output_type": "stream",
     "text": [
      "Prediction 15.158271415242718\n",
      "Intercept 0.06990543993496444\n",
      "Slope [0.30176732]\n",
      "Regression Equation: y = [0.30176732] x + 0.06990543993496444\n",
      "Linear Regression Score 0.049594918103427865\n"
     ]
    }
   ],
   "source": [
    "X_train, X_test, y_train, y_test = train_test_split(df['Long-Term Deposits'], df['E-Account'])\n",
    "LR = LinearRegression()\n",
    "LR.fit(X_train.values.reshape(-1,1), y_train.values)\n",
    "prediction = LR.predict(X_test.values.reshape(-1,1))\n",
    "print(\"Prediction\", LR.predict(np.array([[50]]))[0])\n",
    "print(\"Intercept\", LR.intercept_)\n",
    "print(\"Slope\", LR.coef_)\n",
    "print(\"Regression Equation: y =\", LR.coef_, \"x +\", LR.intercept_)\n",
    "print(\"Linear Regression Score\", LR.score(X_test.values.reshape(-1,1), y_test.values))"
   ]
  },
  {
   "cell_type": "code",
   "execution_count": 82,
   "id": "fcdfaf3a",
   "metadata": {},
   "outputs": [
    {
     "name": "stdout",
     "output_type": "stream",
     "text": [
      "Prediction 26.119876583692434\n",
      "Intercept 0.4144075061447807\n",
      "Slope [0.51410938]\n",
      "Regression Equation: y = [0.51410938] x + 0.4144075061447807\n",
      "Linear Regression Score 0.08083368584056538\n"
     ]
    }
   ],
   "source": [
    "X_train, X_test, y_train, y_test = train_test_split(df['E-Account'], df['Activity Index'])\n",
    "LR = LinearRegression()\n",
    "LR.fit(X_train.values.reshape(-1,1), y_train.values)\n",
    "prediction = LR.predict(X_test.values.reshape(-1,1))\n",
    "print(\"Prediction\", LR.predict(np.array([[50]]))[0])\n",
    "print(\"Intercept\", LR.intercept_)\n",
    "print(\"Slope\", LR.coef_)\n",
    "print(\"Regression Equation: y =\", LR.coef_, \"x +\", LR.intercept_)\n",
    "print(\"Linear Regression Score\", LR.score(X_test.values.reshape(-1,1), y_test.values))"
   ]
  },
  {
   "cell_type": "code",
   "execution_count": 83,
   "id": "72c1f063",
   "metadata": {},
   "outputs": [
    {
     "name": "stdout",
     "output_type": "stream",
     "text": [
      "Prediction 15.22061586754666\n",
      "Intercept 0.05569317699696229\n",
      "Slope [0.30329845]\n",
      "Regression Equation: y = [0.30329845] x + 0.05569317699696229\n",
      "Linear Regression Score 0.09343475474625895\n"
     ]
    }
   ],
   "source": [
    "X_train, X_test, y_train, y_test = train_test_split(df['E-Account'], df['Payroll Account'])\n",
    "LR = LinearRegression()\n",
    "LR.fit(X_train.values.reshape(-1,1), y_train.values)\n",
    "prediction = LR.predict(X_test.values.reshape(-1,1))\n",
    "print(\"Prediction\", LR.predict(np.array([[50]]))[0])\n",
    "print(\"Intercept\", LR.intercept_)\n",
    "print(\"Slope\", LR.coef_)\n",
    "print(\"Regression Equation: y =\", LR.coef_, \"x +\", LR.intercept_)\n",
    "print(\"Linear Regression Score\", LR.score(X_test.values.reshape(-1,1), y_test.values))"
   ]
  },
  {
   "cell_type": "code",
   "execution_count": 84,
   "id": "346d16e7",
   "metadata": {},
   "outputs": [
    {
     "name": "stdout",
     "output_type": "stream",
     "text": [
      "Prediction 8.19760030547057\n",
      "Intercept 0.029466214065687717\n",
      "Slope [0.16336268]\n",
      "Regression Equation: y = [0.16336268] x + 0.029466214065687717\n",
      "Linear Regression Score 0.049583677080148325\n"
     ]
    }
   ],
   "source": [
    "X_train, X_test, y_train, y_test = train_test_split(df['E-Account'], df['Long-Term Deposits'])\n",
    "LR = LinearRegression()\n",
    "LR.fit(X_train.values.reshape(-1,1), y_train.values)\n",
    "prediction = LR.predict(X_test.values.reshape(-1,1))\n",
    "print(\"Prediction\", LR.predict(np.array([[50]]))[0])\n",
    "print(\"Intercept\", LR.intercept_)\n",
    "print(\"Slope\", LR.coef_)\n",
    "print(\"Regression Equation: y =\", LR.coef_, \"x +\", LR.intercept_)\n",
    "print(\"Linear Regression Score\", LR.score(X_test.values.reshape(-1,1), y_test.values))"
   ]
  },
  {
   "cell_type": "code",
   "execution_count": 85,
   "id": "608d5bb0",
   "metadata": {},
   "outputs": [
    {
     "name": "stdout",
     "output_type": "stream",
     "text": [
      "Prediction 8.12576412226098\n",
      "Intercept 0.039147284840146464\n",
      "Slope [0.16173234]\n",
      "Regression Equation: y = [0.16173234] x + 0.039147284840146464\n",
      "Linear Regression Score 0.040607078262598795\n"
     ]
    }
   ],
   "source": [
    "X_train, X_test, y_train, y_test = train_test_split(df['E-Account'], df['Taxes'])\n",
    "LR = LinearRegression()\n",
    "LR.fit(X_train.values.reshape(-1,1), y_train.values)\n",
    "prediction = LR.predict(X_test.values.reshape(-1,1))\n",
    "print(\"Prediction\", LR.predict(np.array([[50]]))[0])\n",
    "print(\"Intercept\", LR.intercept_)\n",
    "print(\"Slope\", LR.coef_)\n",
    "print(\"Regression Equation: y =\", LR.coef_, \"x +\", LR.intercept_)\n",
    "print(\"Linear Regression Score\", LR.score(X_test.values.reshape(-1,1), y_test.values))"
   ]
  },
  {
   "cell_type": "code",
   "execution_count": 86,
   "id": "dc80b051",
   "metadata": {},
   "outputs": [
    {
     "name": "stdout",
     "output_type": "stream",
     "text": [
      "Prediction 9.58319963563103\n",
      "Intercept 0.02858026625795804\n",
      "Slope [0.19109239]\n",
      "Regression Equation: y = [0.19109239] x + 0.02858026625795804\n",
      "Linear Regression Score 0.06547908499718835\n"
     ]
    }
   ],
   "source": [
    "X_train, X_test, y_train, y_test = train_test_split(df['E-Account'], df['Credit Card'])\n",
    "LR = LinearRegression()\n",
    "LR.fit(X_train.values.reshape(-1,1), y_train.values)\n",
    "prediction = LR.predict(X_test.values.reshape(-1,1))\n",
    "print(\"Prediction\", LR.predict(np.array([[50]]))[0])\n",
    "print(\"Intercept\", LR.intercept_)\n",
    "print(\"Slope\", LR.coef_)\n",
    "print(\"Regression Equation: y =\", LR.coef_, \"x +\", LR.intercept_)\n",
    "print(\"Linear Regression Score\", LR.score(X_test.values.reshape(-1,1), y_test.values))"
   ]
  },
  {
   "cell_type": "code",
   "execution_count": 87,
   "id": "d695cf32",
   "metadata": {},
   "outputs": [
    {
     "name": "stdout",
     "output_type": "stream",
     "text": [
      "Prediction 10.8800726402861\n",
      "Intercept 0.03668368019616507\n",
      "Slope [0.21686778]\n",
      "Regression Equation: y = [0.21686778] x + 0.03668368019616507\n",
      "Linear Regression Score 0.06960280399460328\n"
     ]
    }
   ],
   "source": [
    "X_train, X_test, y_train, y_test = train_test_split(df['E-Account'], df['Payroll'])\n",
    "LR = LinearRegression()\n",
    "LR.fit(X_train.values.reshape(-1,1), y_train.values)\n",
    "prediction = LR.predict(X_test.values.reshape(-1,1))\n",
    "print(\"Prediction\", LR.predict(np.array([[50]]))[0])\n",
    "print(\"Intercept\", LR.intercept_)\n",
    "print(\"Slope\", LR.coef_)\n",
    "print(\"Regression Equation: y =\", LR.coef_, \"x +\", LR.intercept_)\n",
    "print(\"Linear Regression Score\", LR.score(X_test.values.reshape(-1,1), y_test.values))"
   ]
  },
  {
   "cell_type": "code",
   "execution_count": 88,
   "id": "cda3e5cc",
   "metadata": {},
   "outputs": [
    {
     "name": "stdout",
     "output_type": "stream",
     "text": [
      "Prediction 12.134438823724162\n",
      "Intercept 0.039354700585426436\n",
      "Slope [0.24190168]\n",
      "Regression Equation: y = [0.24190168] x + 0.039354700585426436\n",
      "Linear Regression Score 0.07957597518225357\n"
     ]
    }
   ],
   "source": [
    "X_train, X_test, y_train, y_test = train_test_split(df['E-Account'], df['Pension'])\n",
    "LR = LinearRegression()\n",
    "LR.fit(X_train.values.reshape(-1,1), y_train.values)\n",
    "prediction = LR.predict(X_test.values.reshape(-1,1))\n",
    "print(\"Prediction\", LR.predict(np.array([[50]]))[0])\n",
    "print(\"Intercept\", LR.intercept_)\n",
    "print(\"Slope\", LR.coef_)\n",
    "print(\"Regression Equation: y =\", LR.coef_, \"x +\", LR.intercept_)\n",
    "print(\"Linear Regression Score\", LR.score(X_test.values.reshape(-1,1), y_test.values))"
   ]
  },
  {
   "cell_type": "code",
   "execution_count": 89,
   "id": "d79737e7",
   "metadata": {},
   "outputs": [
    {
     "name": "stdout",
     "output_type": "stream",
     "text": [
      "Prediction 18.039694775896717\n",
      "Intercept 0.09819596396789795\n",
      "Slope [0.35882998]\n",
      "Regression Equation: y = [0.35882998] x + 0.09819596396789795\n",
      "Linear Regression Score 0.08801513259310512\n"
     ]
    }
   ],
   "source": [
    "X_train, X_test, y_train, y_test = train_test_split(df['E-Account'], df['Direct Debit'])\n",
    "LR = LinearRegression()\n",
    "LR.fit(X_train.values.reshape(-1,1), y_train.values)\n",
    "prediction = LR.predict(X_test.values.reshape(-1,1))\n",
    "print(\"Prediction\", LR.predict(np.array([[50]]))[0])\n",
    "print(\"Intercept\", LR.intercept_)\n",
    "print(\"Slope\", LR.coef_)\n",
    "print(\"Regression Equation: y =\", LR.coef_, \"x +\", LR.intercept_)\n",
    "print(\"Linear Regression Score\", LR.score(X_test.values.reshape(-1,1), y_test.values))"
   ]
  },
  {
   "cell_type": "code",
   "execution_count": 90,
   "id": "35900eae",
   "metadata": {},
   "outputs": [
    {
     "name": "stdout",
     "output_type": "stream",
     "text": [
      "Prediction 24.83569312868166\n",
      "Intercept 0.43105639931162937\n",
      "Slope [0.48809273]\n",
      "Regression Equation: y = [0.48809273] x + 0.43105639931162937\n",
      "Linear Regression Score 0.04778587621013963\n"
     ]
    }
   ],
   "source": [
    "X_train, X_test, y_train, y_test = train_test_split(df['Taxes'], df['Activity Index'])\n",
    "LR = LinearRegression()\n",
    "LR.fit(X_train.values.reshape(-1,1), y_train.values)\n",
    "prediction = LR.predict(X_test.values.reshape(-1,1))\n",
    "print(\"Prediction\", LR.predict(np.array([[50]]))[0])\n",
    "print(\"Intercept\", LR.intercept_)\n",
    "print(\"Slope\", LR.coef_)\n",
    "print(\"Regression Equation: y =\", LR.coef_, \"x +\", LR.intercept_)\n",
    "print(\"Linear Regression Score\", LR.score(X_test.values.reshape(-1,1), y_test.values))"
   ]
  },
  {
   "cell_type": "code",
   "execution_count": 91,
   "id": "1f9ac513",
   "metadata": {},
   "outputs": [
    {
     "name": "stdout",
     "output_type": "stream",
     "text": [
      "Prediction 19.6024233881717\n",
      "Intercept 0.06034294307642457\n",
      "Slope [0.39084161]\n",
      "Regression Equation: y = [0.39084161] x + 0.06034294307642457\n",
      "Linear Regression Score 0.10232581379899242\n"
     ]
    }
   ],
   "source": [
    "X_train, X_test, y_train, y_test = train_test_split(df['Taxes'], df['Payroll Account'])\n",
    "LR = LinearRegression()\n",
    "LR.fit(X_train.values.reshape(-1,1), y_train.values)\n",
    "prediction = LR.predict(X_test.values.reshape(-1,1))\n",
    "print(\"Prediction\", LR.predict(np.array([[50]]))[0])\n",
    "print(\"Intercept\", LR.intercept_)\n",
    "print(\"Slope\", LR.coef_)\n",
    "print(\"Regression Equation: y =\", LR.coef_, \"x +\", LR.intercept_)\n",
    "print(\"Linear Regression Score\", LR.score(X_test.values.reshape(-1,1), y_test.values))"
   ]
  },
  {
   "cell_type": "code",
   "execution_count": 92,
   "id": "bd4fd9b8",
   "metadata": {},
   "outputs": [
    {
     "name": "stdout",
     "output_type": "stream",
     "text": [
      "Prediction 12.43420577224566\n",
      "Intercept 0.06975130950066616\n",
      "Slope [0.24728909]\n",
      "Regression Equation: y = [0.24728909] x + 0.06975130950066616\n",
      "Linear Regression Score 0.03983182386807249\n"
     ]
    }
   ],
   "source": [
    "X_train, X_test, y_train, y_test = train_test_split(df['Taxes'], df['E-Account'])\n",
    "LR = LinearRegression()\n",
    "LR.fit(X_train.values.reshape(-1,1), y_train.values)\n",
    "prediction = LR.predict(X_test.values.reshape(-1,1))\n",
    "print(\"Prediction\", LR.predict(np.array([[50]]))[0])\n",
    "print(\"Intercept\", LR.intercept_)\n",
    "print(\"Slope\", LR.coef_)\n",
    "print(\"Regression Equation: y =\", LR.coef_, \"x +\", LR.intercept_)\n",
    "print(\"Linear Regression Score\", LR.score(X_test.values.reshape(-1,1), y_test.values))"
   ]
  },
  {
   "cell_type": "code",
   "execution_count": 93,
   "id": "38bb2bfd",
   "metadata": {},
   "outputs": [
    {
     "name": "stdout",
     "output_type": "stream",
     "text": [
      "Prediction 12.477194586575171\n",
      "Intercept 0.03130081183384929\n",
      "Slope [0.24891788]\n",
      "Regression Equation: y = [0.24891788] x + 0.03130081183384929\n",
      "Linear Regression Score 0.07156242427727477\n"
     ]
    }
   ],
   "source": [
    "X_train, X_test, y_train, y_test = train_test_split(df['Taxes'], df['Credit Card'])\n",
    "LR = LinearRegression()\n",
    "LR.fit(X_train.values.reshape(-1,1), y_train.values)\n",
    "prediction = LR.predict(X_test.values.reshape(-1,1))\n",
    "print(\"Prediction\", LR.predict(np.array([[50]]))[0])\n",
    "print(\"Intercept\", LR.intercept_)\n",
    "print(\"Slope\", LR.coef_)\n",
    "print(\"Regression Equation: y =\", LR.coef_, \"x +\", LR.intercept_)\n",
    "print(\"Linear Regression Score\", LR.score(X_test.values.reshape(-1,1), y_test.values))"
   ]
  },
  {
   "cell_type": "code",
   "execution_count": 94,
   "id": "0c44f077",
   "metadata": {},
   "outputs": [
    {
     "name": "stdout",
     "output_type": "stream",
     "text": [
      "Prediction 14.066772528739524\n",
      "Intercept 0.03989828683809723\n",
      "Slope [0.28053748]\n",
      "Regression Equation: y = [0.28053748] x + 0.03989828683809723\n",
      "Linear Regression Score 0.07598553227482019\n"
     ]
    }
   ],
   "source": [
    "X_train, X_test, y_train, y_test = train_test_split(df['Taxes'], df['Payroll'])\n",
    "LR = LinearRegression()\n",
    "LR.fit(X_train.values.reshape(-1,1), y_train.values)\n",
    "prediction = LR.predict(X_test.values.reshape(-1,1))\n",
    "print(\"Prediction\", LR.predict(np.array([[50]]))[0])\n",
    "print(\"Intercept\", LR.intercept_)\n",
    "print(\"Slope\", LR.coef_)\n",
    "print(\"Regression Equation: y =\", LR.coef_, \"x +\", LR.intercept_)\n",
    "print(\"Linear Regression Score\", LR.score(X_test.values.reshape(-1,1), y_test.values))"
   ]
  },
  {
   "cell_type": "code",
   "execution_count": 95,
   "id": "f5024716",
   "metadata": {},
   "outputs": [
    {
     "name": "stdout",
     "output_type": "stream",
     "text": [
      "Prediction 15.522059386882255\n",
      "Intercept 0.043063523225648694\n",
      "Slope [0.30957992]\n",
      "Regression Equation: y = [0.30957992] x + 0.043063523225648694\n",
      "Linear Regression Score 0.08476845485480888\n"
     ]
    }
   ],
   "source": [
    "X_train, X_test, y_train, y_test = train_test_split(df['Taxes'], df['Pension'])\n",
    "LR = LinearRegression()\n",
    "LR.fit(X_train.values.reshape(-1,1), y_train.values)\n",
    "prediction = LR.predict(X_test.values.reshape(-1,1))\n",
    "print(\"Prediction\", LR.predict(np.array([[50]]))[0])\n",
    "print(\"Intercept\", LR.intercept_)\n",
    "print(\"Slope\", LR.coef_)\n",
    "print(\"Regression Equation: y =\", LR.coef_, \"x +\", LR.intercept_)\n",
    "print(\"Linear Regression Score\", LR.score(X_test.values.reshape(-1,1), y_test.values))"
   ]
  },
  {
   "cell_type": "code",
   "execution_count": 96,
   "id": "18a4d278",
   "metadata": {},
   "outputs": [
    {
     "name": "stdout",
     "output_type": "stream",
     "text": [
      "Prediction 25.847381443356703\n",
      "Intercept 0.10084724388447647\n",
      "Slope [0.51493068]\n",
      "Regression Equation: y = [0.51493068] x + 0.10084724388447647\n",
      "Linear Regression Score 0.11810070417458074\n"
     ]
    }
   ],
   "source": [
    "X_train, X_test, y_train, y_test = train_test_split(df['Taxes'], df['Direct Debit'])\n",
    "LR = LinearRegression()\n",
    "LR.fit(X_train.values.reshape(-1,1), y_train.values)\n",
    "prediction = LR.predict(X_test.values.reshape(-1,1))\n",
    "print(\"Prediction\", LR.predict(np.array([[50]]))[0])\n",
    "print(\"Intercept\", LR.intercept_)\n",
    "print(\"Slope\", LR.coef_)\n",
    "print(\"Regression Equation: y =\", LR.coef_, \"x +\", LR.intercept_)\n",
    "print(\"Linear Regression Score\", LR.score(X_test.values.reshape(-1,1), y_test.values))"
   ]
  },
  {
   "cell_type": "code",
   "execution_count": 97,
   "id": "decae67d",
   "metadata": {},
   "outputs": [
    {
     "name": "stdout",
     "output_type": "stream",
     "text": [
      "Prediction 28.531115947564828\n",
      "Intercept 0.432059898949255\n",
      "Slope [0.56198112]\n",
      "Regression Equation: y = [0.56198112] x + 0.432059898949255\n",
      "Linear Regression Score 0.05398966288565188\n"
     ]
    }
   ],
   "source": [
    "X_train, X_test, y_train, y_test = train_test_split(df['Credit Card'], df['Activity Index'])\n",
    "LR = LinearRegression()\n",
    "LR.fit(X_train.values.reshape(-1,1), y_train.values)\n",
    "prediction = LR.predict(X_test.values.reshape(-1,1))\n",
    "print(\"Prediction\", LR.predict(np.array([[50]]))[0])\n",
    "print(\"Intercept\", LR.intercept_)\n",
    "print(\"Slope\", LR.coef_)\n",
    "print(\"Regression Equation: y =\", LR.coef_, \"x +\", LR.intercept_)\n",
    "print(\"Linear Regression Score\", LR.score(X_test.values.reshape(-1,1), y_test.values))"
   ]
  },
  {
   "cell_type": "code",
   "execution_count": 98,
   "id": "0d42c42a",
   "metadata": {},
   "outputs": [
    {
     "name": "stdout",
     "output_type": "stream",
     "text": [
      "Prediction 25.650131480758816\n",
      "Intercept 0.058192490711966124\n",
      "Slope [0.51183878]\n",
      "Regression Equation: y = [0.51183878] x + 0.058192490711966124\n",
      "Linear Regression Score 0.14901415856838152\n"
     ]
    }
   ],
   "source": [
    "X_train, X_test, y_train, y_test = train_test_split(df['Credit Card'], df['Payroll Account'])\n",
    "LR = LinearRegression()\n",
    "LR.fit(X_train.values.reshape(-1,1), y_train.values)\n",
    "prediction = LR.predict(X_test.values.reshape(-1,1))\n",
    "print(\"Prediction\", LR.predict(np.array([[50]]))[0])\n",
    "print(\"Intercept\", LR.intercept_)\n",
    "print(\"Slope\", LR.coef_)\n",
    "print(\"Regression Equation: y =\", LR.coef_, \"x +\", LR.intercept_)\n",
    "print(\"Linear Regression Score\", LR.score(X_test.values.reshape(-1,1), y_test.values))"
   ]
  },
  {
   "cell_type": "code",
   "execution_count": 99,
   "id": "e7d019c1",
   "metadata": {},
   "outputs": [
    {
     "name": "stdout",
     "output_type": "stream",
     "text": [
      "Prediction 17.170383784844955\n",
      "Intercept 0.06758133712403958\n",
      "Slope [0.34205605]\n",
      "Regression Equation: y = [0.34205605] x + 0.06758133712403958\n",
      "Linear Regression Score 0.06554985276307668\n"
     ]
    }
   ],
   "source": [
    "X_train, X_test, y_train, y_test = train_test_split(df['Credit Card'], df['E-Account'])\n",
    "LR = LinearRegression()\n",
    "LR.fit(X_train.values.reshape(-1,1), y_train.values)\n",
    "prediction = LR.predict(X_test.values.reshape(-1,1))\n",
    "print(\"Prediction\", LR.predict(np.array([[50]]))[0])\n",
    "print(\"Intercept\", LR.intercept_)\n",
    "print(\"Slope\", LR.coef_)\n",
    "print(\"Regression Equation: y =\", LR.coef_, \"x +\", LR.intercept_)\n",
    "print(\"Linear Regression Score\", LR.score(X_test.values.reshape(-1,1), y_test.values))"
   ]
  },
  {
   "cell_type": "code",
   "execution_count": 100,
   "id": "7c70ca0c",
   "metadata": {},
   "outputs": [
    {
     "name": "stdout",
     "output_type": "stream",
     "text": [
      "Prediction 14.611682622945093\n",
      "Intercept 0.03962253426146392\n",
      "Slope [0.2914412]\n",
      "Regression Equation: y = [0.2914412] x + 0.03962253426146392\n",
      "Linear Regression Score 0.07291017311400882\n"
     ]
    }
   ],
   "source": [
    "X_train, X_test, y_train, y_test = train_test_split(df['Credit Card'], df['Taxes'])\n",
    "LR = LinearRegression()\n",
    "LR.fit(X_train.values.reshape(-1,1), y_train.values)\n",
    "prediction = LR.predict(X_test.values.reshape(-1,1))\n",
    "print(\"Prediction\", LR.predict(np.array([[50]]))[0])\n",
    "print(\"Intercept\", LR.intercept_)\n",
    "print(\"Slope\", LR.coef_)\n",
    "print(\"Regression Equation: y =\", LR.coef_, \"x +\", LR.intercept_)\n",
    "print(\"Linear Regression Score\", LR.score(X_test.values.reshape(-1,1), y_test.values))"
   ]
  },
  {
   "cell_type": "code",
   "execution_count": 101,
   "id": "3e850e85",
   "metadata": {},
   "outputs": [
    {
     "name": "stdout",
     "output_type": "stream",
     "text": [
      "Prediction 19.705527779586866\n",
      "Intercept 0.037246061777520975\n",
      "Slope [0.39336563]\n",
      "Regression Equation: y = [0.39336563] x + 0.037246061777520975\n",
      "Linear Regression Score 0.12850843240332432\n"
     ]
    }
   ],
   "source": [
    "X_train, X_test, y_train, y_test = train_test_split(df['Credit Card'], df['Payroll'])\n",
    "LR = LinearRegression()\n",
    "LR.fit(X_train.values.reshape(-1,1), y_train.values)\n",
    "prediction = LR.predict(X_test.values.reshape(-1,1))\n",
    "print(\"Prediction\", LR.predict(np.array([[50]]))[0])\n",
    "print(\"Intercept\", LR.intercept_)\n",
    "print(\"Slope\", LR.coef_)\n",
    "print(\"Regression Equation: y =\", LR.coef_, \"x +\", LR.intercept_)\n",
    "print(\"Linear Regression Score\", LR.score(X_test.values.reshape(-1,1), y_test.values))"
   ]
  },
  {
   "cell_type": "code",
   "execution_count": 102,
   "id": "9de0765a",
   "metadata": {},
   "outputs": [
    {
     "name": "stdout",
     "output_type": "stream",
     "text": [
      "Prediction 21.271276674499074\n",
      "Intercept 0.04045348423010925\n",
      "Slope [0.42461646]\n",
      "Regression Equation: y = [0.42461646] x + 0.04045348423010925\n",
      "Linear Regression Score 0.13747683838210756\n"
     ]
    }
   ],
   "source": [
    "X_train, X_test, y_train, y_test = train_test_split(df['Credit Card'], df['Pension'])\n",
    "LR = LinearRegression()\n",
    "LR.fit(X_train.values.reshape(-1,1), y_train.values)\n",
    "prediction = LR.predict(X_test.values.reshape(-1,1))\n",
    "print(\"Prediction\", LR.predict(np.array([[50]]))[0])\n",
    "print(\"Intercept\", LR.intercept_)\n",
    "print(\"Slope\", LR.coef_)\n",
    "print(\"Regression Equation: y =\", LR.coef_, \"x +\", LR.intercept_)\n",
    "print(\"Linear Regression Score\", LR.score(X_test.values.reshape(-1,1), y_test.values))"
   ]
  },
  {
   "cell_type": "code",
   "execution_count": 103,
   "id": "941746a3",
   "metadata": {},
   "outputs": [
    {
     "name": "stdout",
     "output_type": "stream",
     "text": [
      "Prediction 30.480188871149817\n",
      "Intercept 0.10090922307543537\n",
      "Slope [0.60758559]\n",
      "Regression Equation: y = [0.60758559] x + 0.10090922307543537\n",
      "Linear Regression Score 0.14022615533195393\n"
     ]
    }
   ],
   "source": [
    "X_train, X_test, y_train, y_test = train_test_split(df['Credit Card'], df['Direct Debit'])\n",
    "LR = LinearRegression()\n",
    "LR.fit(X_train.values.reshape(-1,1), y_train.values)\n",
    "prediction = LR.predict(X_test.values.reshape(-1,1))\n",
    "print(\"Prediction\", LR.predict(np.array([[50]]))[0])\n",
    "print(\"Intercept\", LR.intercept_)\n",
    "print(\"Slope\", LR.coef_)\n",
    "print(\"Regression Equation: y =\", LR.coef_, \"x +\", LR.intercept_)\n",
    "print(\"Linear Regression Score\", LR.score(X_test.values.reshape(-1,1), y_test.values))"
   ]
  },
  {
   "cell_type": "code",
   "execution_count": 104,
   "id": "0e3c7f72",
   "metadata": {},
   "outputs": [
    {
     "name": "stdout",
     "output_type": "stream",
     "text": [
      "Prediction 28.98703144831219\n",
      "Intercept 0.4255952147197849\n",
      "Slope [0.57122872]\n",
      "Regression Equation: y = [0.57122872] x + 0.4255952147197849\n",
      "Linear Regression Score 0.06774575780340952\n"
     ]
    }
   ],
   "source": [
    "X_train, X_test, y_train, y_test = train_test_split(df['Payroll'], df['Activity Index'])\n",
    "LR = LinearRegression()\n",
    "LR.fit(X_train.values.reshape(-1,1), y_train.values)\n",
    "prediction = LR.predict(X_test.values.reshape(-1,1))\n",
    "print(\"Prediction\", LR.predict(np.array([[50]]))[0])\n",
    "print(\"Intercept\", LR.intercept_)\n",
    "print(\"Slope\", LR.coef_)\n",
    "print(\"Regression Equation: y =\", LR.coef_, \"x +\", LR.intercept_)\n",
    "print(\"Linear Regression Score\", LR.score(X_test.values.reshape(-1,1), y_test.values))"
   ]
  },
  {
   "cell_type": "code",
   "execution_count": 105,
   "id": "ad99f906",
   "metadata": {},
   "outputs": [
    {
     "name": "stdout",
     "output_type": "stream",
     "text": [
      "Prediction -26.180064461427133\n",
      "Intercept 0.6849243305216866\n",
      "Slope [-0.53729978]\n",
      "Regression Equation: y = [-0.53729978] x + 0.6849243305216866\n",
      "Linear Regression Score 0.06610474790165477\n"
     ]
    }
   ],
   "source": [
    "X_train, X_test, y_train, y_test = train_test_split(df['Payroll'], df['Current Accounts'])\n",
    "LR = LinearRegression()\n",
    "LR.fit(X_train.values.reshape(-1,1), y_train.values)\n",
    "prediction = LR.predict(X_test.values.reshape(-1,1))\n",
    "print(\"Prediction\", LR.predict(np.array([[50]]))[0])\n",
    "print(\"Intercept\", LR.intercept_)\n",
    "print(\"Slope\", LR.coef_)\n",
    "print(\"Regression Equation: y =\", LR.coef_, \"x +\", LR.intercept_)\n",
    "print(\"Linear Regression Score\", LR.score(X_test.values.reshape(-1,1), y_test.values))"
   ]
  },
  {
   "cell_type": "code",
   "execution_count": 106,
   "id": "35eb9193",
   "metadata": {},
   "outputs": [
    {
     "name": "stdout",
     "output_type": "stream",
     "text": [
      "Prediction 45.492596639333144\n",
      "Intercept 0.031184571383809652\n",
      "Slope [0.90922824]\n",
      "Regression Equation: y = [0.90922824] x + 0.031184571383809652\n",
      "Linear Regression Score 0.5740228281749634\n"
     ]
    }
   ],
   "source": [
    "X_train, X_test, y_train, y_test = train_test_split(df['Payroll'], df['Payroll Account'])\n",
    "LR = LinearRegression()\n",
    "LR.fit(X_train.values.reshape(-1,1), y_train.values)\n",
    "prediction = LR.predict(X_test.values.reshape(-1,1))\n",
    "print(\"Prediction\", LR.predict(np.array([[50]]))[0])\n",
    "print(\"Intercept\", LR.intercept_)\n",
    "print(\"Slope\", LR.coef_)\n",
    "print(\"Regression Equation: y =\", LR.coef_, \"x +\", LR.intercept_)\n",
    "print(\"Linear Regression Score\", LR.score(X_test.values.reshape(-1,1), y_test.values))"
   ]
  },
  {
   "cell_type": "code",
   "execution_count": 107,
   "id": "ccea8394",
   "metadata": {},
   "outputs": [
    {
     "name": "stdout",
     "output_type": "stream",
     "text": [
      "Prediction 16.012512428667396\n",
      "Intercept 0.06533492712746128\n",
      "Slope [0.31894355]\n",
      "Regression Equation: y = [0.31894355] x + 0.06533492712746128\n",
      "Linear Regression Score 0.06914380633362582\n"
     ]
    }
   ],
   "source": [
    "X_train, X_test, y_train, y_test = train_test_split(df['Payroll'], df['E-Account'])\n",
    "LR = LinearRegression()\n",
    "LR.fit(X_train.values.reshape(-1,1), y_train.values)\n",
    "prediction = LR.predict(X_test.values.reshape(-1,1))\n",
    "print(\"Prediction\", LR.predict(np.array([[50]]))[0])\n",
    "print(\"Intercept\", LR.intercept_)\n",
    "print(\"Slope\", LR.coef_)\n",
    "print(\"Regression Equation: y =\", LR.coef_, \"x +\", LR.intercept_)\n",
    "print(\"Linear Regression Score\", LR.score(X_test.values.reshape(-1,1), y_test.values))"
   ]
  },
  {
   "cell_type": "code",
   "execution_count": 108,
   "id": "b0c2e65c",
   "metadata": {},
   "outputs": [
    {
     "name": "stdout",
     "output_type": "stream",
     "text": [
      "Prediction 13.542265015664945\n",
      "Intercept 0.03777421494359774\n",
      "Slope [0.27008982]\n",
      "Regression Equation: y = [0.27008982] x + 0.03777421494359774\n",
      "Linear Regression Score 0.07642528433400586\n"
     ]
    }
   ],
   "source": [
    "X_train, X_test, y_train, y_test = train_test_split(df['Payroll'], df['Taxes'])\n",
    "LR = LinearRegression()\n",
    "LR.fit(X_train.values.reshape(-1,1), y_train.values)\n",
    "prediction = LR.predict(X_test.values.reshape(-1,1))\n",
    "print(\"Prediction\", LR.predict(np.array([[50]]))[0])\n",
    "print(\"Intercept\", LR.intercept_)\n",
    "print(\"Slope\", LR.coef_)\n",
    "print(\"Regression Equation: y =\", LR.coef_, \"x +\", LR.intercept_)\n",
    "print(\"Linear Regression Score\", LR.score(X_test.values.reshape(-1,1), y_test.values))"
   ]
  },
  {
   "cell_type": "code",
   "execution_count": 109,
   "id": "35685d31",
   "metadata": {},
   "outputs": [
    {
     "name": "stdout",
     "output_type": "stream",
     "text": [
      "Prediction 16.19109105725899\n",
      "Intercept 0.02673065874471666\n",
      "Slope [0.32328721]\n",
      "Regression Equation: y = [0.32328721] x + 0.02673065874471666\n",
      "Linear Regression Score 0.1270055021304597\n"
     ]
    }
   ],
   "source": [
    "X_train, X_test, y_train, y_test = train_test_split(df['Payroll'], df['Credit Card'])\n",
    "LR = LinearRegression()\n",
    "LR.fit(X_train.values.reshape(-1,1), y_train.values)\n",
    "prediction = LR.predict(X_test.values.reshape(-1,1))\n",
    "print(\"Prediction\", LR.predict(np.array([[50]]))[0])\n",
    "print(\"Intercept\", LR.intercept_)\n",
    "print(\"Slope\", LR.coef_)\n",
    "print(\"Regression Equation: y =\", LR.coef_, \"x +\", LR.intercept_)\n",
    "print(\"Linear Regression Score\", LR.score(X_test.values.reshape(-1,1), y_test.values))"
   ]
  },
  {
   "cell_type": "code",
   "execution_count": 110,
   "id": "46106d2c",
   "metadata": {},
   "outputs": [
    {
     "name": "stdout",
     "output_type": "stream",
     "text": [
      "Prediction 49.75721412313062\n",
      "Intercept 0.00495481375935744\n",
      "Slope [0.99504519]\n",
      "Regression Equation: y = [0.99504519] x + 0.00495481375935744\n",
      "Linear Regression Score 0.9154748031392702\n"
     ]
    }
   ],
   "source": [
    "X_train, X_test, y_train, y_test = train_test_split(df['Payroll'], df['Pension'])\n",
    "LR = LinearRegression()\n",
    "LR.fit(X_train.values.reshape(-1,1), y_train.values)\n",
    "prediction = LR.predict(X_test.values.reshape(-1,1))\n",
    "print(\"Prediction\", LR.predict(np.array([[50]]))[0])\n",
    "print(\"Intercept\", LR.intercept_)\n",
    "print(\"Slope\", LR.coef_)\n",
    "print(\"Regression Equation: y =\", LR.coef_, \"x +\", LR.intercept_)\n",
    "print(\"Linear Regression Score\", LR.score(X_test.values.reshape(-1,1), y_test.values))"
   ]
  },
  {
   "cell_type": "code",
   "execution_count": 111,
   "id": "3a0beeb4",
   "metadata": {},
   "outputs": [
    {
     "name": "stdout",
     "output_type": "stream",
     "text": [
      "Prediction 34.71088001840047\n",
      "Intercept 0.09011991441322895\n",
      "Slope [0.6924152]\n",
      "Regression Equation: y = [0.6924152] x + 0.09011991441322895\n",
      "Linear Regression Score 0.22238770025664434\n"
     ]
    }
   ],
   "source": [
    "X_train, X_test, y_train, y_test = train_test_split(df['Payroll'], df['Direct Debit'])\n",
    "LR = LinearRegression()\n",
    "LR.fit(X_train.values.reshape(-1,1), y_train.values)\n",
    "prediction = LR.predict(X_test.values.reshape(-1,1))\n",
    "print(\"Prediction\", LR.predict(np.array([[50]]))[0])\n",
    "print(\"Intercept\", LR.intercept_)\n",
    "print(\"Slope\", LR.coef_)\n",
    "print(\"Regression Equation: y =\", LR.coef_, \"x +\", LR.intercept_)\n",
    "print(\"Linear Regression Score\", LR.score(X_test.values.reshape(-1,1), y_test.values))"
   ]
  },
  {
   "cell_type": "code",
   "execution_count": 112,
   "id": "23dec76a",
   "metadata": {},
   "outputs": [
    {
     "name": "stdout",
     "output_type": "stream",
     "text": [
      "Prediction 29.115902134646223\n",
      "Intercept 0.422769869444704\n",
      "Slope [0.57386265]\n",
      "Regression Equation: y = [0.57386265] x + 0.422769869444704\n",
      "Linear Regression Score 0.0739229817902548\n"
     ]
    }
   ],
   "source": [
    "X_train, X_test, y_train, y_test = train_test_split(df['Pension'], df['Activity Index'])\n",
    "LR = LinearRegression()\n",
    "LR.fit(X_train.values.reshape(-1,1), y_train.values)\n",
    "prediction = LR.predict(X_test.values.reshape(-1,1))\n",
    "print(\"Prediction\", LR.predict(np.array([[50]]))[0])\n",
    "print(\"Intercept\", LR.intercept_)\n",
    "print(\"Slope\", LR.coef_)\n",
    "print(\"Regression Equation: y =\", LR.coef_, \"x +\", LR.intercept_)\n",
    "print(\"Linear Regression Score\", LR.score(X_test.values.reshape(-1,1), y_test.values))"
   ]
  },
  {
   "cell_type": "code",
   "execution_count": 113,
   "id": "90af7726",
   "metadata": {},
   "outputs": [
    {
     "name": "stdout",
     "output_type": "stream",
     "text": [
      "Prediction -26.462552157661445\n",
      "Intercept 0.6877190981681465\n",
      "Slope [-0.54300543]\n",
      "Regression Equation: y = [-0.54300543] x + 0.6877190981681465\n",
      "Linear Regression Score 0.07323192092997766\n"
     ]
    }
   ],
   "source": [
    "X_train, X_test, y_train, y_test = train_test_split(df['Pension'], df['Current Accounts'])\n",
    "LR = LinearRegression()\n",
    "LR.fit(X_train.values.reshape(-1,1), y_train.values)\n",
    "prediction = LR.predict(X_test.values.reshape(-1,1))\n",
    "print(\"Prediction\", LR.predict(np.array([[50]]))[0])\n",
    "print(\"Intercept\", LR.intercept_)\n",
    "print(\"Slope\", LR.coef_)\n",
    "print(\"Regression Equation: y =\", LR.coef_, \"x +\", LR.intercept_)\n",
    "print(\"Linear Regression Score\", LR.score(X_test.values.reshape(-1,1), y_test.values))"
   ]
  },
  {
   "cell_type": "code",
   "execution_count": 114,
   "id": "d16bd464",
   "metadata": {},
   "outputs": [
    {
     "name": "stdout",
     "output_type": "stream",
     "text": [
      "Prediction 45.59012317884538\n",
      "Intercept 0.026742597900602613\n",
      "Slope [0.91126761]\n",
      "Regression Equation: y = [0.91126761] x + 0.026742597900602613\n",
      "Linear Regression Score 0.6249176826823089\n"
     ]
    }
   ],
   "source": [
    "X_train, X_test, y_train, y_test = train_test_split(df['Pension'], df['Payroll Account'])\n",
    "LR = LinearRegression()\n",
    "LR.fit(X_train.values.reshape(-1,1), y_train.values)\n",
    "prediction = LR.predict(X_test.values.reshape(-1,1))\n",
    "print(\"Prediction\", LR.predict(np.array([[50]]))[0])\n",
    "print(\"Intercept\", LR.intercept_)\n",
    "print(\"Slope\", LR.coef_)\n",
    "print(\"Regression Equation: y =\", LR.coef_, \"x +\", LR.intercept_)\n",
    "print(\"Linear Regression Score\", LR.score(X_test.values.reshape(-1,1), y_test.values))"
   ]
  },
  {
   "cell_type": "code",
   "execution_count": 115,
   "id": "91348942",
   "metadata": {},
   "outputs": [
    {
     "name": "stdout",
     "output_type": "stream",
     "text": [
      "Prediction 16.517290154370407\n",
      "Intercept 0.06326917226380169\n",
      "Slope [0.32908042]\n",
      "Regression Equation: y = [0.32908042] x + 0.06326917226380169\n",
      "Linear Regression Score 0.07928044342165097\n"
     ]
    }
   ],
   "source": [
    "X_train, X_test, y_train, y_test = train_test_split(df['Pension'], df['E-Account'])\n",
    "LR = LinearRegression()\n",
    "LR.fit(X_train.values.reshape(-1,1), y_train.values)\n",
    "prediction = LR.predict(X_test.values.reshape(-1,1))\n",
    "print(\"Prediction\", LR.predict(np.array([[50]]))[0])\n",
    "print(\"Intercept\", LR.intercept_)\n",
    "print(\"Slope\", LR.coef_)\n",
    "print(\"Regression Equation: y =\", LR.coef_, \"x +\", LR.intercept_)\n",
    "print(\"Linear Regression Score\", LR.score(X_test.values.reshape(-1,1), y_test.values))"
   ]
  },
  {
   "cell_type": "code",
   "execution_count": 116,
   "id": "7552ce71",
   "metadata": {},
   "outputs": [
    {
     "name": "stdout",
     "output_type": "stream",
     "text": [
      "Prediction 13.830875169599889\n",
      "Intercept 0.03614321564581805\n",
      "Slope [0.27589464]\n",
      "Regression Equation: y = [0.27589464] x + 0.03614321564581805\n",
      "Linear Regression Score 0.08516939847135829\n"
     ]
    }
   ],
   "source": [
    "X_train, X_test, y_train, y_test = train_test_split(df['Pension'], df['Taxes'])\n",
    "LR = LinearRegression()\n",
    "LR.fit(X_train.values.reshape(-1,1), y_train.values)\n",
    "prediction = LR.predict(X_test.values.reshape(-1,1))\n",
    "print(\"Prediction\", LR.predict(np.array([[50]]))[0])\n",
    "print(\"Intercept\", LR.intercept_)\n",
    "print(\"Slope\", LR.coef_)\n",
    "print(\"Regression Equation: y =\", LR.coef_, \"x +\", LR.intercept_)\n",
    "print(\"Linear Regression Score\", LR.score(X_test.values.reshape(-1,1), y_test.values))"
   ]
  },
  {
   "cell_type": "code",
   "execution_count": 117,
   "id": "ef9b2baf",
   "metadata": {},
   "outputs": [
    {
     "name": "stdout",
     "output_type": "stream",
     "text": [
      "Prediction 16.185470608772246\n",
      "Intercept 0.025240126216632703\n",
      "Slope [0.32320461]\n",
      "Regression Equation: y = [0.32320461] x + 0.025240126216632703\n",
      "Linear Regression Score 0.13703961409705034\n"
     ]
    }
   ],
   "source": [
    "X_train, X_test, y_train, y_test = train_test_split(df['Pension'], df['Credit Card'])\n",
    "LR = LinearRegression()\n",
    "LR.fit(X_train.values.reshape(-1,1), y_train.values)\n",
    "prediction = LR.predict(X_test.values.reshape(-1,1))\n",
    "print(\"Prediction\", LR.predict(np.array([[50]]))[0])\n",
    "print(\"Intercept\", LR.intercept_)\n",
    "print(\"Slope\", LR.coef_)\n",
    "print(\"Regression Equation: y =\", LR.coef_, \"x +\", LR.intercept_)\n",
    "print(\"Linear Regression Score\", LR.score(X_test.values.reshape(-1,1), y_test.values))"
   ]
  },
  {
   "cell_type": "code",
   "execution_count": 118,
   "id": "f45d1080",
   "metadata": {},
   "outputs": [
    {
     "name": "stdout",
     "output_type": "stream",
     "text": [
      "Prediction 46.052029495177685\n",
      "Intercept 9.776693343788168e-13\n",
      "Slope [0.92104059]\n",
      "Regression Equation: y = [0.92104059] x + 9.776693343788168e-13\n",
      "Linear Regression Score 0.9156404864391162\n"
     ]
    }
   ],
   "source": [
    "X_train, X_test, y_train, y_test = train_test_split(df['Pension'], df['Payroll'])\n",
    "LR = LinearRegression()\n",
    "LR.fit(X_train.values.reshape(-1,1), y_train.values)\n",
    "prediction = LR.predict(X_test.values.reshape(-1,1))\n",
    "print(\"Prediction\", LR.predict(np.array([[50]]))[0])\n",
    "print(\"Intercept\", LR.intercept_)\n",
    "print(\"Slope\", LR.coef_)\n",
    "print(\"Regression Equation: y =\", LR.coef_, \"x +\", LR.intercept_)\n",
    "print(\"Linear Regression Score\", LR.score(X_test.values.reshape(-1,1), y_test.values))"
   ]
  },
  {
   "cell_type": "code",
   "execution_count": 119,
   "id": "43e4bbd0",
   "metadata": {},
   "outputs": [
    {
     "name": "stdout",
     "output_type": "stream",
     "text": [
      "Prediction 34.7891400501112\n",
      "Intercept 0.08669669105187976\n",
      "Slope [0.69404887]\n",
      "Regression Equation: y = [0.69404887] x + 0.08669669105187976\n",
      "Linear Regression Score 0.24027086691610722\n"
     ]
    }
   ],
   "source": [
    "X_train, X_test, y_train, y_test = train_test_split(df['Pension'], df['Direct Debit'])\n",
    "LR = LinearRegression()\n",
    "LR.fit(X_train.values.reshape(-1,1), y_train.values)\n",
    "prediction = LR.predict(X_test.values.reshape(-1,1))\n",
    "print(\"Prediction\", LR.predict(np.array([[50]]))[0])\n",
    "print(\"Intercept\", LR.intercept_)\n",
    "print(\"Slope\", LR.coef_)\n",
    "print(\"Regression Equation: y =\", LR.coef_, \"x +\", LR.intercept_)\n",
    "print(\"Linear Regression Score\", LR.score(X_test.values.reshape(-1,1), y_test.values))"
   ]
  },
  {
   "cell_type": "code",
   "execution_count": 120,
   "id": "63910f0d",
   "metadata": {},
   "outputs": [
    {
     "name": "stdout",
     "output_type": "stream",
     "text": [
      "Prediction 31.11983339832013\n",
      "Intercept 0.37821925151401703\n",
      "Slope [0.61483228]\n",
      "Regression Equation: y = [0.61483228] x + 0.37821925151401703\n",
      "Linear Regression Score 0.170023094587873\n"
     ]
    }
   ],
   "source": [
    "X_train, X_test, y_train, y_test = train_test_split(df['Direct Debit'], df['Activity Index'])\n",
    "LR = LinearRegression()\n",
    "LR.fit(X_train.values.reshape(-1,1), y_train.values)\n",
    "prediction = LR.predict(X_test.values.reshape(-1,1))\n",
    "print(\"Prediction\", LR.predict(np.array([[50]]))[0])\n",
    "print(\"Intercept\", LR.intercept_)\n",
    "print(\"Slope\", LR.coef_)\n",
    "print(\"Regression Equation: y =\", LR.coef_, \"x +\", LR.intercept_)\n",
    "print(\"Linear Regression Score\", LR.score(X_test.values.reshape(-1,1), y_test.values))"
   ]
  },
  {
   "cell_type": "code",
   "execution_count": 121,
   "id": "d1ec87ab",
   "metadata": {},
   "outputs": [
    {
     "name": "stdout",
     "output_type": "stream",
     "text": [
      "Prediction 21.884297241126195\n",
      "Intercept 0.024874168260548432\n",
      "Slope [0.43718846]\n",
      "Regression Equation: y = [0.43718846] x + 0.024874168260548432\n",
      "Linear Regression Score 0.2862965709237508\n"
     ]
    }
   ],
   "source": [
    "X_train, X_test, y_train, y_test = train_test_split(df['Direct Debit'], df['Payroll Account'])\n",
    "LR = LinearRegression()\n",
    "LR.fit(X_train.values.reshape(-1,1), y_train.values)\n",
    "prediction = LR.predict(X_test.values.reshape(-1,1))\n",
    "print(\"Prediction\", LR.predict(np.array([[50]]))[0])\n",
    "print(\"Intercept\", LR.intercept_)\n",
    "print(\"Slope\", LR.coef_)\n",
    "print(\"Regression Equation: y =\", LR.coef_, \"x +\", LR.intercept_)\n",
    "print(\"Linear Regression Score\", LR.score(X_test.values.reshape(-1,1), y_test.values))"
   ]
  },
  {
   "cell_type": "code",
   "execution_count": 122,
   "id": "88395be3",
   "metadata": {},
   "outputs": [
    {
     "name": "stdout",
     "output_type": "stream",
     "text": [
      "Prediction 6.1777176580382385\n",
      "Intercept 0.027531213332301387\n",
      "Slope [0.12300373]\n",
      "Regression Equation: y = [0.12300373] x + 0.027531213332301387\n",
      "Linear Regression Score 0.040476083472102964\n"
     ]
    }
   ],
   "source": [
    "X_train, X_test, y_train, y_test = train_test_split(df['Direct Debit'], df['Particular Plus Account'])\n",
    "LR = LinearRegression()\n",
    "LR.fit(X_train.values.reshape(-1,1), y_train.values)\n",
    "prediction = LR.predict(X_test.values.reshape(-1,1))\n",
    "print(\"Prediction\", LR.predict(np.array([[50]]))[0])\n",
    "print(\"Intercept\", LR.intercept_)\n",
    "print(\"Slope\", LR.coef_)\n",
    "print(\"Regression Equation: y =\", LR.coef_, \"x +\", LR.intercept_)\n",
    "print(\"Linear Regression Score\", LR.score(X_test.values.reshape(-1,1), y_test.values))"
   ]
  },
  {
   "cell_type": "code",
   "execution_count": 123,
   "id": "6194c347",
   "metadata": {},
   "outputs": [
    {
     "name": "stdout",
     "output_type": "stream",
     "text": [
      "Prediction 12.264278543886176\n",
      "Intercept 0.05146018259754905\n",
      "Slope [0.24425637]\n",
      "Regression Equation: y = [0.24425637] x + 0.05146018259754905\n",
      "Linear Regression Score 0.08772392155383202\n"
     ]
    }
   ],
   "source": [
    "X_train, X_test, y_train, y_test = train_test_split(df['Direct Debit'], df['E-Account'])\n",
    "LR = LinearRegression()\n",
    "LR.fit(X_train.values.reshape(-1,1), y_train.values)\n",
    "prediction = LR.predict(X_test.values.reshape(-1,1))\n",
    "print(\"Prediction\", LR.predict(np.array([[50]]))[0])\n",
    "print(\"Intercept\", LR.intercept_)\n",
    "print(\"Slope\", LR.coef_)\n",
    "print(\"Regression Equation: y =\", LR.coef_, \"x +\", LR.intercept_)\n",
    "print(\"Linear Regression Score\", LR.score(X_test.values.reshape(-1,1), y_test.values))"
   ]
  },
  {
   "cell_type": "code",
   "execution_count": 124,
   "id": "5d93717c",
   "metadata": {},
   "outputs": [
    {
     "name": "stdout",
     "output_type": "stream",
     "text": [
      "Prediction 11.509941776567358\n",
      "Intercept 0.023144343078753904\n",
      "Slope [0.22973595]\n",
      "Regression Equation: y = [0.22973595] x + 0.023144343078753904\n",
      "Linear Regression Score 0.11812257423700978\n"
     ]
    }
   ],
   "source": [
    "X_train, X_test, y_train, y_test = train_test_split(df['Direct Debit'], df['Taxes'])\n",
    "LR = LinearRegression()\n",
    "LR.fit(X_train.values.reshape(-1,1), y_train.values)\n",
    "prediction = LR.predict(X_test.values.reshape(-1,1))\n",
    "print(\"Prediction\", LR.predict(np.array([[50]]))[0])\n",
    "print(\"Intercept\", LR.intercept_)\n",
    "print(\"Slope\", LR.coef_)\n",
    "print(\"Regression Equation: y =\", LR.coef_, \"x +\", LR.intercept_)\n",
    "print(\"Linear Regression Score\", LR.score(X_test.values.reshape(-1,1), y_test.values))"
   ]
  },
  {
   "cell_type": "code",
   "execution_count": 125,
   "id": "06c3558c",
   "metadata": {},
   "outputs": [
    {
     "name": "stdout",
     "output_type": "stream",
     "text": [
      "Prediction 11.55792886887417\n",
      "Intercept 0.014837805190752222\n",
      "Slope [0.23086182]\n",
      "Regression Equation: y = [0.23086182] x + 0.014837805190752222\n",
      "Linear Regression Score 0.14080494442632074\n"
     ]
    }
   ],
   "source": [
    "X_train, X_test, y_train, y_test = train_test_split(df['Direct Debit'], df['Credit Card'])\n",
    "LR = LinearRegression()\n",
    "LR.fit(X_train.values.reshape(-1,1), y_train.values)\n",
    "prediction = LR.predict(X_test.values.reshape(-1,1))\n",
    "print(\"Prediction\", LR.predict(np.array([[50]]))[0])\n",
    "print(\"Intercept\", LR.intercept_)\n",
    "print(\"Slope\", LR.coef_)\n",
    "print(\"Regression Equation: y =\", LR.coef_, \"x +\", LR.intercept_)\n",
    "print(\"Linear Regression Score\", LR.score(X_test.values.reshape(-1,1), y_test.values))"
   ]
  },
  {
   "cell_type": "code",
   "execution_count": 126,
   "id": "a1114d58",
   "metadata": {},
   "outputs": [
    {
     "name": "stdout",
     "output_type": "stream",
     "text": [
      "Prediction 16.040770498780383\n",
      "Intercept 0.013633469534247412\n",
      "Slope [0.32054274]\n",
      "Regression Equation: y = [0.32054274] x + 0.013633469534247412\n",
      "Linear Regression Score 0.22223733637665977\n"
     ]
    }
   ],
   "source": [
    "X_train, X_test, y_train, y_test = train_test_split(df['Direct Debit'], df['Payroll'])\n",
    "LR = LinearRegression()\n",
    "LR.fit(X_train.values.reshape(-1,1), y_train.values)\n",
    "prediction = LR.predict(X_test.values.reshape(-1,1))\n",
    "print(\"Prediction\", LR.predict(np.array([[50]]))[0])\n",
    "print(\"Intercept\", LR.intercept_)\n",
    "print(\"Slope\", LR.coef_)\n",
    "print(\"Regression Equation: y =\", LR.coef_, \"x +\", LR.intercept_)\n",
    "print(\"Linear Regression Score\", LR.score(X_test.values.reshape(-1,1), y_test.values))"
   ]
  },
  {
   "cell_type": "code",
   "execution_count": 127,
   "id": "b75a000d",
   "metadata": {},
   "outputs": [
    {
     "name": "stdout",
     "output_type": "stream",
     "text": [
      "Prediction 17.38648728805738\n",
      "Intercept 0.014917204570774285\n",
      "Slope [0.3474314]\n",
      "Regression Equation: y = [0.3474314] x + 0.014917204570774285\n",
      "Linear Regression Score 0.24048437899538988\n"
     ]
    }
   ],
   "source": [
    "X_train, X_test, y_train, y_test = train_test_split(df['Direct Debit'], df['Pension'])\n",
    "LR = LinearRegression()\n",
    "LR.fit(X_train.values.reshape(-1,1), y_train.values)\n",
    "prediction = LR.predict(X_test.values.reshape(-1,1))\n",
    "print(\"Prediction\", LR.predict(np.array([[50]]))[0])\n",
    "print(\"Intercept\", LR.intercept_)\n",
    "print(\"Slope\", LR.coef_)\n",
    "print(\"Regression Equation: y =\", LR.coef_, \"x +\", LR.intercept_)\n",
    "print(\"Linear Regression Score\", LR.score(X_test.values.reshape(-1,1), y_test.values))"
   ]
  },
  {
   "cell_type": "code",
   "execution_count": null,
   "id": "6003fdce",
   "metadata": {},
   "outputs": [],
   "source": []
  },
  {
   "cell_type": "code",
   "execution_count": null,
   "id": "2868fc4f",
   "metadata": {},
   "outputs": [],
   "source": []
  },
  {
   "cell_type": "code",
   "execution_count": null,
   "id": "02604df9",
   "metadata": {},
   "outputs": [],
   "source": []
  },
  {
   "cell_type": "code",
   "execution_count": null,
   "id": "8a03ba17",
   "metadata": {},
   "outputs": [],
   "source": [
    "# Multiple Regression\n",
    "#\n",
    "# Making predictive equations to try and predict a variable by using multiple variables."
   ]
  },
  {
   "cell_type": "code",
   "execution_count": 49,
   "id": "5222b6da",
   "metadata": {},
   "outputs": [
    {
     "data": {
      "text/html": [
       "<style>#sk-container-id-1 {color: black;background-color: white;}#sk-container-id-1 pre{padding: 0;}#sk-container-id-1 div.sk-toggleable {background-color: white;}#sk-container-id-1 label.sk-toggleable__label {cursor: pointer;display: block;width: 100%;margin-bottom: 0;padding: 0.3em;box-sizing: border-box;text-align: center;}#sk-container-id-1 label.sk-toggleable__label-arrow:before {content: \"▸\";float: left;margin-right: 0.25em;color: #696969;}#sk-container-id-1 label.sk-toggleable__label-arrow:hover:before {color: black;}#sk-container-id-1 div.sk-estimator:hover label.sk-toggleable__label-arrow:before {color: black;}#sk-container-id-1 div.sk-toggleable__content {max-height: 0;max-width: 0;overflow: hidden;text-align: left;background-color: #f0f8ff;}#sk-container-id-1 div.sk-toggleable__content pre {margin: 0.2em;color: black;border-radius: 0.25em;background-color: #f0f8ff;}#sk-container-id-1 input.sk-toggleable__control:checked~div.sk-toggleable__content {max-height: 200px;max-width: 100%;overflow: auto;}#sk-container-id-1 input.sk-toggleable__control:checked~label.sk-toggleable__label-arrow:before {content: \"▾\";}#sk-container-id-1 div.sk-estimator input.sk-toggleable__control:checked~label.sk-toggleable__label {background-color: #d4ebff;}#sk-container-id-1 div.sk-label input.sk-toggleable__control:checked~label.sk-toggleable__label {background-color: #d4ebff;}#sk-container-id-1 input.sk-hidden--visually {border: 0;clip: rect(1px 1px 1px 1px);clip: rect(1px, 1px, 1px, 1px);height: 1px;margin: -1px;overflow: hidden;padding: 0;position: absolute;width: 1px;}#sk-container-id-1 div.sk-estimator {font-family: monospace;background-color: #f0f8ff;border: 1px dotted black;border-radius: 0.25em;box-sizing: border-box;margin-bottom: 0.5em;}#sk-container-id-1 div.sk-estimator:hover {background-color: #d4ebff;}#sk-container-id-1 div.sk-parallel-item::after {content: \"\";width: 100%;border-bottom: 1px solid gray;flex-grow: 1;}#sk-container-id-1 div.sk-label:hover label.sk-toggleable__label {background-color: #d4ebff;}#sk-container-id-1 div.sk-serial::before {content: \"\";position: absolute;border-left: 1px solid gray;box-sizing: border-box;top: 0;bottom: 0;left: 50%;z-index: 0;}#sk-container-id-1 div.sk-serial {display: flex;flex-direction: column;align-items: center;background-color: white;padding-right: 0.2em;padding-left: 0.2em;position: relative;}#sk-container-id-1 div.sk-item {position: relative;z-index: 1;}#sk-container-id-1 div.sk-parallel {display: flex;align-items: stretch;justify-content: center;background-color: white;position: relative;}#sk-container-id-1 div.sk-item::before, #sk-container-id-1 div.sk-parallel-item::before {content: \"\";position: absolute;border-left: 1px solid gray;box-sizing: border-box;top: 0;bottom: 0;left: 50%;z-index: -1;}#sk-container-id-1 div.sk-parallel-item {display: flex;flex-direction: column;z-index: 1;position: relative;background-color: white;}#sk-container-id-1 div.sk-parallel-item:first-child::after {align-self: flex-end;width: 50%;}#sk-container-id-1 div.sk-parallel-item:last-child::after {align-self: flex-start;width: 50%;}#sk-container-id-1 div.sk-parallel-item:only-child::after {width: 0;}#sk-container-id-1 div.sk-dashed-wrapped {border: 1px dashed gray;margin: 0 0.4em 0.5em 0.4em;box-sizing: border-box;padding-bottom: 0.4em;background-color: white;}#sk-container-id-1 div.sk-label label {font-family: monospace;font-weight: bold;display: inline-block;line-height: 1.2em;}#sk-container-id-1 div.sk-label-container {text-align: center;}#sk-container-id-1 div.sk-container {/* jupyter's `normalize.less` sets `[hidden] { display: none; }` but bootstrap.min.css set `[hidden] { display: none !important; }` so we also need the `!important` here to be able to override the default hidden behavior on the sphinx rendered scikit-learn.org. See: https://github.com/scikit-learn/scikit-learn/issues/21755 */display: inline-block !important;position: relative;}#sk-container-id-1 div.sk-text-repr-fallback {display: none;}</style><div id=\"sk-container-id-1\" class=\"sk-top-container\"><div class=\"sk-text-repr-fallback\"><pre>LinearRegression()</pre><b>In a Jupyter environment, please rerun this cell to show the HTML representation or trust the notebook. <br />On GitHub, the HTML representation is unable to render, please try loading this page with nbviewer.org.</b></div><div class=\"sk-container\" hidden><div class=\"sk-item\"><div class=\"sk-estimator sk-toggleable\"><input class=\"sk-toggleable__control sk-hidden--visually\" id=\"sk-estimator-id-1\" type=\"checkbox\" checked><label for=\"sk-estimator-id-1\" class=\"sk-toggleable__label sk-toggleable__label-arrow\">LinearRegression</label><div class=\"sk-toggleable__content\"><pre>LinearRegression()</pre></div></div></div></div></div>"
      ],
      "text/plain": [
       "LinearRegression()"
      ]
     },
     "execution_count": 49,
     "metadata": {},
     "output_type": "execute_result"
    }
   ],
   "source": [
    "reg = linear_model.LinearRegression()\n",
    "reg.fit(df[['Payroll Account', 'Long-Term Deposits', 'E-Account', 'Taxes', 'Credit Card', \n",
    "            'Payroll', 'Pension', 'Direct Debit']], df['Activity Index'])"
   ]
  },
  {
   "cell_type": "code",
   "execution_count": 50,
   "id": "66005179",
   "metadata": {},
   "outputs": [
    {
     "data": {
      "text/plain": [
       "array([ 0.17393528,  0.39572238,  0.21857327,  0.11444358,  0.07900486,\n",
       "        0.05001841, -0.09175267,  0.43412084])"
      ]
     },
     "execution_count": 50,
     "metadata": {},
     "output_type": "execute_result"
    }
   ],
   "source": [
    "reg.coef_"
   ]
  },
  {
   "cell_type": "code",
   "execution_count": 51,
   "id": "4a93fe3d",
   "metadata": {},
   "outputs": [
    {
     "data": {
      "text/plain": [
       "0.34538791145545256"
      ]
     },
     "execution_count": 51,
     "metadata": {},
     "output_type": "execute_result"
    }
   ],
   "source": [
    "reg.intercept_"
   ]
  },
  {
   "cell_type": "code",
   "execution_count": 52,
   "id": "5fd575db",
   "metadata": {},
   "outputs": [
    {
     "name": "stderr",
     "output_type": "stream",
     "text": [
      "C:\\Users\\Colt\\AppData\\Local\\Programs\\Python\\Python310\\lib\\site-packages\\sklearn\\base.py:450: UserWarning: X does not have valid feature names, but LinearRegression was fitted with feature names\n",
      "  warnings.warn(\n"
     ]
    },
    {
     "data": {
      "text/plain": [
       "array([1.25102216])"
      ]
     },
     "execution_count": 52,
     "metadata": {},
     "output_type": "execute_result"
    }
   ],
   "source": [
    "reg.predict([[1, 0, 1, 0, 1, 0, 0, 1]])"
   ]
  },
  {
   "cell_type": "code",
   "execution_count": 53,
   "id": "7ded0cf9",
   "metadata": {},
   "outputs": [
    {
     "name": "stderr",
     "output_type": "stream",
     "text": [
      "C:\\Users\\Colt\\AppData\\Local\\Programs\\Python\\Python310\\lib\\site-packages\\sklearn\\base.py:450: UserWarning: X does not have valid feature names, but LinearRegression was fitted with feature names\n",
      "  warnings.warn(\n"
     ]
    },
    {
     "data": {
      "text/plain": [
       "array([0.51932319])"
      ]
     },
     "execution_count": 53,
     "metadata": {},
     "output_type": "execute_result"
    }
   ],
   "source": [
    "reg.predict([[1, 0, 0, 0, 0, 0, 0, 0]])"
   ]
  },
  {
   "cell_type": "code",
   "execution_count": null,
   "id": "6903a01d",
   "metadata": {},
   "outputs": [],
   "source": []
  },
  {
   "cell_type": "code",
   "execution_count": 54,
   "id": "0fc785fb",
   "metadata": {},
   "outputs": [
    {
     "name": "stdout",
     "output_type": "stream",
     "text": [
      "Prediction [1.25102216]\n",
      "Coefficients [ 0.17393528  0.39572238  0.21857327  0.11444358  0.07900486  0.05001841\n",
      " -0.09175267  0.43412084]\n",
      "Intercept 0.34538791145545256\n"
     ]
    },
    {
     "name": "stderr",
     "output_type": "stream",
     "text": [
      "C:\\Users\\Colt\\AppData\\Local\\Programs\\Python\\Python310\\lib\\site-packages\\sklearn\\base.py:450: UserWarning: X does not have valid feature names, but LinearRegression was fitted with feature names\n",
      "  warnings.warn(\n"
     ]
    }
   ],
   "source": [
    "reg = linear_model.LinearRegression()\n",
    "reg.fit(df[['Payroll Account', 'Long-Term Deposits', 'E-Account', 'Taxes', 'Credit Card', \n",
    "            'Payroll', 'Pension', 'Direct Debit']], df['Activity Index'])\n",
    "print('Prediction', reg.predict([[1, 0, 1, 0, 1, 0, 0, 1]]))\n",
    "print(\"Coefficients\", reg.coef_)\n",
    "print('Intercept', reg.intercept_)"
   ]
  },
  {
   "cell_type": "code",
   "execution_count": 55,
   "id": "9ec07490",
   "metadata": {},
   "outputs": [
    {
     "name": "stdout",
     "output_type": "stream",
     "text": [
      "Prediction [1.25102216]\n",
      "Coefficients [ 0.17393528  0.39572238  0.21857327  0.11444358  0.07900486  0.05001841\n",
      " -0.09175267  0.43412084]\n",
      "Intercept 0.34538791145545256\n",
      "Regression Equation: y = [ 0.17393528  0.39572238  0.21857327  0.11444358  0.07900486  0.05001841\n",
      " -0.09175267  0.43412084] x + 0.34538791145545256\n"
     ]
    },
    {
     "name": "stderr",
     "output_type": "stream",
     "text": [
      "C:\\Users\\Colt\\AppData\\Local\\Programs\\Python\\Python310\\lib\\site-packages\\sklearn\\base.py:450: UserWarning: X does not have valid feature names, but LinearRegression was fitted with feature names\n",
      "  warnings.warn(\n"
     ]
    }
   ],
   "source": [
    "reg = linear_model.LinearRegression()\n",
    "reg.fit(df[['Payroll Account', 'Long-Term Deposits', 'E-Account', 'Taxes', 'Credit Card', \n",
    "            'Payroll', 'Pension', 'Direct Debit']], df['Activity Index'])\n",
    "print('Prediction', reg.predict([[1, 0, 1, 0, 1, 0, 0, 1]]))\n",
    "print(\"Coefficients\", reg.coef_)\n",
    "print('Intercept', reg.intercept_)\n",
    "print(\"Regression Equation: y =\", reg.coef_, \"x +\", reg.intercept_)"
   ]
  },
  {
   "cell_type": "code",
   "execution_count": 58,
   "id": "5a091ba6",
   "metadata": {},
   "outputs": [
    {
     "name": "stdout",
     "output_type": "stream",
     "text": [
      "Prediction [0.05736317]\n",
      "Coefficients [-0.61256443  0.05349307 -0.03419848]\n",
      "Intercept 0.7041260872192255\n",
      "Regression Equation: y = [-0.61256443  0.05349307 -0.03419848] x + 0.7041260872192255\n"
     ]
    },
    {
     "name": "stderr",
     "output_type": "stream",
     "text": [
      "C:\\Users\\Colt\\AppData\\Local\\Programs\\Python\\Python310\\lib\\site-packages\\sklearn\\base.py:450: UserWarning: X does not have valid feature names, but LinearRegression was fitted with feature names\n",
      "  warnings.warn(\n"
     ]
    }
   ],
   "source": [
    "reg = linear_model.LinearRegression()\n",
    "reg.fit(df[['Payroll Account', 'Payroll', 'Pension']], df['Current Accounts'])\n",
    "print('Prediction', reg.predict([[1, 0, 1]]))\n",
    "print(\"Coefficients\", reg.coef_)\n",
    "print('Intercept', reg.intercept_)\n",
    "print(\"Regression Equation: y =\", reg.coef_, \"x +\", reg.intercept_)"
   ]
  },
  {
   "cell_type": "code",
   "execution_count": 59,
   "id": "7c9e53a0",
   "metadata": {},
   "outputs": [
    {
     "name": "stdout",
     "output_type": "stream",
     "text": [
      "Prediction [0.22690748]\n",
      "Coefficients [ 0.04983139 -0.1011096   0.03181126  0.04391294  0.06692502  0.02839656\n",
      "  0.67451382  0.11991249]\n",
      "Intercept 0.05953692798789799\n",
      "Regression Equation: y = [ 0.04983139 -0.1011096   0.03181126  0.04391294  0.06692502  0.02839656\n",
      "  0.67451382  0.11991249] x + 0.05953692798789799\n"
     ]
    },
    {
     "name": "stderr",
     "output_type": "stream",
     "text": [
      "C:\\Users\\Colt\\AppData\\Local\\Programs\\Python\\Python310\\lib\\site-packages\\sklearn\\base.py:450: UserWarning: X does not have valid feature names, but LinearRegression was fitted with feature names\n",
      "  warnings.warn(\n"
     ]
    }
   ],
   "source": [
    "reg = linear_model.LinearRegression()\n",
    "reg.fit(df[['Activity Index', 'Current Accounts', 'E-Account', 'Taxes', 'Credit Card', \n",
    "            'Payroll', 'Pension', 'Direct Debit']], df['Payroll Account'])\n",
    "print('Prediction', reg.predict([[1, 1, 1, 0, 1, 0, 0, 1]]))\n",
    "print(\"Coefficients\", reg.coef_)\n",
    "print('Intercept', reg.intercept_)\n",
    "print(\"Regression Equation: y =\", reg.coef_, \"x +\", reg.intercept_)"
   ]
  },
  {
   "cell_type": "code",
   "execution_count": 61,
   "id": "bcf5202a",
   "metadata": {},
   "outputs": [
    {
     "name": "stdout",
     "output_type": "stream",
     "text": [
      "Prediction [0.19818352]\n",
      "Coefficients [0.07344134 0.12573287]\n",
      "Intercept -0.0009906954589123315\n",
      "Regression Equation: y = [0.07344134 0.12573287] x + -0.0009906954589123315\n"
     ]
    },
    {
     "name": "stderr",
     "output_type": "stream",
     "text": [
      "C:\\Users\\Colt\\AppData\\Local\\Programs\\Python\\Python310\\lib\\site-packages\\sklearn\\base.py:450: UserWarning: X does not have valid feature names, but LinearRegression was fitted with feature names\n",
      "  warnings.warn(\n"
     ]
    }
   ],
   "source": [
    "reg = linear_model.LinearRegression()\n",
    "reg.fit(df[['Activity Index', 'E-Account']], df['Long-Term Deposits'])\n",
    "print('Prediction', reg.predict([[1, 1]]))\n",
    "print(\"Coefficients\", reg.coef_)\n",
    "print('Intercept', reg.intercept_)\n",
    "print(\"Regression Equation: y =\", reg.coef_, \"x +\", reg.intercept_)"
   ]
  },
  {
   "cell_type": "code",
   "execution_count": 62,
   "id": "7d760e37",
   "metadata": {},
   "outputs": [
    {
     "name": "stdout",
     "output_type": "stream",
     "text": [
      "Prediction [0.60601549]\n",
      "Coefficients [ 0.07142447  0.10559897  0.20986961  0.06764832  0.13505848 -0.08433393\n",
      "  0.13916534  0.07420132]\n",
      "Intercept 0.009862632917611497\n",
      "Regression Equation: y = [ 0.07142447  0.10559897  0.20986961  0.06764832  0.13505848 -0.08433393\n",
      "  0.13916534  0.07420132] x + 0.009862632917611497\n"
     ]
    },
    {
     "name": "stderr",
     "output_type": "stream",
     "text": [
      "C:\\Users\\Colt\\AppData\\Local\\Programs\\Python\\Python310\\lib\\site-packages\\sklearn\\base.py:450: UserWarning: X does not have valid feature names, but LinearRegression was fitted with feature names\n",
      "  warnings.warn(\n"
     ]
    }
   ],
   "source": [
    "reg = linear_model.LinearRegression()\n",
    "reg.fit(df[['Activity Index', 'Payroll Account', 'Long-Term Deposits', 'Taxes', 'Credit Card', \n",
    "            'Payroll', 'Pension', 'Direct Debit']], df['E-Account'])\n",
    "print('Prediction', reg.predict([[1, 1, 1, 0, 1, 0, 0, 1]]))\n",
    "print(\"Coefficients\", reg.coef_)\n",
    "print('Intercept', reg.intercept_)\n",
    "print(\"Regression Equation: y =\", reg.coef_, \"x +\", reg.intercept_)"
   ]
  },
  {
   "cell_type": "code",
   "execution_count": 64,
   "id": "25874d0f",
   "metadata": {},
   "outputs": [
    {
     "name": "stdout",
     "output_type": "stream",
     "text": [
      "Prediction [0.11420174]\n",
      "Coefficients [ 0.02457041  0.08988897  0.04453374  0.12578175 -0.05164602  0.08777736\n",
      "  0.12141838]\n",
      "Intercept 0.006854641887861376\n",
      "Regression Equation: y = [ 0.02457041  0.08988897  0.04453374  0.12578175 -0.05164602  0.08777736\n",
      "  0.12141838] x + 0.006854641887861376\n"
     ]
    },
    {
     "name": "stderr",
     "output_type": "stream",
     "text": [
      "C:\\Users\\Colt\\AppData\\Local\\Programs\\Python\\Python310\\lib\\site-packages\\sklearn\\base.py:450: UserWarning: X does not have valid feature names, but LinearRegression was fitted with feature names\n",
      "  warnings.warn(\n"
     ]
    }
   ],
   "source": [
    "reg = linear_model.LinearRegression()\n",
    "reg.fit(df[['Activity Index', 'Payroll Account', 'E-Account', 'Credit Card', \n",
    "            'Payroll', 'Pension', 'Direct Debit']], df['Taxes'])\n",
    "print('Prediction', reg.predict([[1, 1, 1, 0, 1, 0, 0]]))\n",
    "print(\"Coefficients\", reg.coef_)\n",
    "print('Intercept', reg.intercept_)\n",
    "print(\"Regression Equation: y =\", reg.coef_, \"x +\", reg.intercept_)"
   ]
  },
  {
   "cell_type": "code",
   "execution_count": 65,
   "id": "f407e67a",
   "metadata": {},
   "outputs": [
    {
     "name": "stdout",
     "output_type": "stream",
     "text": [
      "Prediction [0.31823735]\n",
      "Coefficients [0.01636733 0.09505429 0.07625999 0.10019424 0.03029152 0.07564898\n",
      " 0.10177949]\n",
      "Intercept -0.0015152680316857584\n",
      "Regression Equation: y = [0.01636733 0.09505429 0.07625999 0.10019424 0.03029152 0.07564898\n",
      " 0.10177949] x + -0.0015152680316857584\n"
     ]
    },
    {
     "name": "stderr",
     "output_type": "stream",
     "text": [
      "C:\\Users\\Colt\\AppData\\Local\\Programs\\Python\\Python310\\lib\\site-packages\\sklearn\\base.py:450: UserWarning: X does not have valid feature names, but LinearRegression was fitted with feature names\n",
      "  warnings.warn(\n"
     ]
    }
   ],
   "source": [
    "reg = linear_model.LinearRegression()\n",
    "reg.fit(df[['Activity Index', 'Payroll Account', 'E-Account', 'Taxes', \n",
    "            'Payroll', 'Pension', 'Direct Debit']], df['Credit Card'])\n",
    "print('Prediction', reg.predict([[1, 1, 1, 0, 1, 0, 1]]))\n",
    "print(\"Coefficients\", reg.coef_)\n",
    "print('Intercept', reg.intercept_)\n",
    "print(\"Regression Equation: y =\", reg.coef_, \"x +\", reg.intercept_)"
   ]
  },
  {
   "cell_type": "code",
   "execution_count": 66,
   "id": "1cf712e4",
   "metadata": {},
   "outputs": [
    {
     "name": "stdout",
     "output_type": "stream",
     "text": [
      "Prediction [0.00225895]\n",
      "Coefficients [ 1.19581867e-04  1.08886768e-03  5.30887903e-03 -6.93892752e-03\n",
      " -5.30160829e-03  3.94513291e-03  9.17891599e-01  1.59178175e-03]\n",
      "Intercept -0.0005485553778106292\n",
      "Regression Equation: y = [ 1.19581867e-04  1.08886768e-03  5.30887903e-03 -6.93892752e-03\n",
      " -5.30160829e-03  3.94513291e-03  9.17891599e-01  1.59178175e-03] x + -0.0005485553778106292\n"
     ]
    },
    {
     "name": "stderr",
     "output_type": "stream",
     "text": [
      "C:\\Users\\Colt\\AppData\\Local\\Programs\\Python\\Python310\\lib\\site-packages\\sklearn\\base.py:450: UserWarning: X does not have valid feature names, but LinearRegression was fitted with feature names\n",
      "  warnings.warn(\n"
     ]
    }
   ],
   "source": [
    "reg = linear_model.LinearRegression()\n",
    "reg.fit(df[['Activity Index', 'Current Accounts', 'Payroll Account', 'E-Account', 'Taxes', 'Credit Card', \n",
    "            'Pension', 'Direct Debit']], df['Payroll'])\n",
    "print('Prediction', reg.predict([[1, 1, 1, 0, 1, 0, 0, 1]]))\n",
    "print(\"Coefficients\", reg.coef_)\n",
    "print('Intercept', reg.intercept_)\n",
    "print(\"Regression Equation: y =\", reg.coef_, \"x +\", reg.intercept_)"
   ]
  },
  {
   "cell_type": "code",
   "execution_count": 67,
   "id": "25a2f393",
   "metadata": {},
   "outputs": [
    {
     "name": "stdout",
     "output_type": "stream",
     "text": [
      "Prediction [0.1358107]\n",
      "Coefficients [-7.65423289e-04 -1.77457075e-03  1.19607975e-01  1.02070594e-02\n",
      "  8.54529162e-03  9.37071321e-03  8.70609879e-01  9.51197124e-03]\n",
      "Intercept 0.0006854586501053306\n",
      "Regression Equation: y = [-7.65423289e-04 -1.77457075e-03  1.19607975e-01  1.02070594e-02\n",
      "  8.54529162e-03  9.37071321e-03  8.70609879e-01  9.51197124e-03] x + 0.0006854586501053306\n"
     ]
    },
    {
     "name": "stderr",
     "output_type": "stream",
     "text": [
      "C:\\Users\\Colt\\AppData\\Local\\Programs\\Python\\Python310\\lib\\site-packages\\sklearn\\base.py:450: UserWarning: X does not have valid feature names, but LinearRegression was fitted with feature names\n",
      "  warnings.warn(\n"
     ]
    }
   ],
   "source": [
    "reg = linear_model.LinearRegression()\n",
    "reg.fit(df[['Activity Index', 'Current Accounts', 'Payroll Account', 'E-Account', 'Taxes', 'Credit Card', \n",
    "            'Payroll', 'Direct Debit']], df['Pension'])\n",
    "print('Prediction', reg.predict([[1, 1, 1, 0, 1, 0, 0, 1]]))\n",
    "print(\"Coefficients\", reg.coef_)\n",
    "print('Intercept', reg.intercept_)\n",
    "print(\"Regression Equation: y =\", reg.coef_, \"x +\", reg.intercept_)"
   ]
  },
  {
   "cell_type": "code",
   "execution_count": 68,
   "id": "e2d9a716",
   "metadata": {},
   "outputs": [
    {
     "name": "stdout",
     "output_type": "stream",
     "text": [
      "Prediction [0.8769215]\n",
      "Coefficients [0.14549388 0.31222555 0.08657338 0.07561974 0.18745619 0.19809647\n",
      " 0.02609673 0.14782732]\n",
      "Intercept -0.0026548301643343764\n",
      "Regression Equation: y = [0.14549388 0.31222555 0.08657338 0.07561974 0.18745619 0.19809647\n",
      " 0.02609673 0.14782732] x + -0.0026548301643343764\n"
     ]
    },
    {
     "name": "stderr",
     "output_type": "stream",
     "text": [
      "C:\\Users\\Colt\\AppData\\Local\\Programs\\Python\\Python310\\lib\\site-packages\\sklearn\\base.py:450: UserWarning: X does not have valid feature names, but LinearRegression was fitted with feature names\n",
      "  warnings.warn(\n"
     ]
    }
   ],
   "source": [
    "reg = linear_model.LinearRegression()\n",
    "reg.fit(df[['Activity Index', 'Payroll Account', 'Particular Plus Account', 'E-Account', 'Taxes', 'Credit Card', \n",
    "            'Payroll', 'Pension']], df['Direct Debit'])\n",
    "print('Prediction', reg.predict([[1, 1, 1, 0, 1, 0, 0, 1]]))\n",
    "print(\"Coefficients\", reg.coef_)\n",
    "print('Intercept', reg.intercept_)\n",
    "print(\"Regression Equation: y =\", reg.coef_, \"x +\", reg.intercept_)"
   ]
  },
  {
   "cell_type": "code",
   "execution_count": null,
   "id": "81fa6e4a",
   "metadata": {},
   "outputs": [],
   "source": []
  },
  {
   "cell_type": "code",
   "execution_count": null,
   "id": "cdd67d1e",
   "metadata": {},
   "outputs": [],
   "source": []
  },
  {
   "cell_type": "code",
   "execution_count": null,
   "id": "acde9fdd",
   "metadata": {},
   "outputs": [],
   "source": []
  },
  {
   "cell_type": "code",
   "execution_count": null,
   "id": "146b206a",
   "metadata": {},
   "outputs": [],
   "source": [
    "# Ensemble Model (Each model takes about 30 minutes to run)\n",
    "#\n",
    "# Testing the accuracy of a normal model and comparing it to the accuracy of the enemble model and seeing which is a \n",
    "# better predictor."
   ]
  },
  {
   "cell_type": "code",
   "execution_count": 64,
   "id": "6bf45be1",
   "metadata": {},
   "outputs": [],
   "source": [
    "X = df.drop(['Activity Index', 'Partitioned Date', 'Customer Code', 'Employee Index', 'Country Residence', \n",
    "            'Date Joined', 'Last Date as Primary Customer', 'Customer Type at Beginning of Month',\n",
    "            'Customer Relation Type at Beginning of Month', 'Spouse Index', 'Channel Used to Join', 'Address Type', \n",
    "            'Province Code', 'Province Name', 'Segmentation'], axis = 'columns')\n",
    "y = df['Activity Index']"
   ]
  },
  {
   "cell_type": "code",
   "execution_count": 65,
   "id": "b5a2a37f",
   "metadata": {},
   "outputs": [
    {
     "data": {
      "text/plain": [
       "array([[ 1.09675224, -0.30167492, -0.25139073, -1.10558411, -0.04266148,\n",
       "         0.06963877, -0.22267749, -0.05053388, -0.19605188, -0.01011443,\n",
       "        -0.00481199,  0.72497659, -0.01985142, -0.29661775, -0.09779976,\n",
       "        -0.09910672, -0.38485913, -0.21275834, -0.04221266, -0.04078909,\n",
       "        -0.21188632, -0.30034592, -0.13723759, -0.07695089, -0.09620733,\n",
       "        -0.05132568, -0.23547713, -0.21552391, -0.16211291, -0.06214966,\n",
       "        -0.24045871, -0.25120584, -0.38298669],\n",
       "       [-0.91178295, -1.00066204, -0.25139073, -0.66831106, -0.04266148,\n",
       "         0.06963877,  4.49079975, -0.05053388, -0.44678377, -0.01011443,\n",
       "        -0.00481199,  0.72497659, -0.01985142, -0.29661775, -0.09779976,\n",
       "        -0.09910672, -0.38485913, -0.21275834, -0.04221266, -0.04078909,\n",
       "        -0.21188632, -0.30034592, -0.13723759, -0.07695089, -0.09620733,\n",
       "        -0.05132568, -0.23547713, -0.21552391, -0.16211291, -0.06214966,\n",
       "        -0.24045871, -0.25120584, -0.38298669],\n",
       "       [-0.91178295, -1.00066204, -0.25139073, -0.66831106, -0.04266148,\n",
       "         0.06963877, -0.22267749, -0.05053388, -0.0263993 , -0.01011443,\n",
       "        -0.00481199,  0.72497659, -0.01985142, -0.29661775, -0.09779976,\n",
       "        -0.09910672, -0.38485913, -0.21275834, -0.04221266, -0.04078909,\n",
       "        -0.21188632, -0.30034592, -0.13723759, -0.07695089, -0.09620733,\n",
       "        -0.05132568, -0.23547713, -0.21552391, -0.16211291, -0.06214966,\n",
       "        -0.24045871, -0.25120584, -0.38298669]])"
      ]
     },
     "execution_count": 65,
     "metadata": {},
     "output_type": "execute_result"
    }
   ],
   "source": [
    "scaler = StandardScaler()\n",
    "X_scaled = scaler.fit_transform(X)\n",
    "X_scaled[:3]"
   ]
  },
  {
   "cell_type": "code",
   "execution_count": 66,
   "id": "7a12fb39",
   "metadata": {},
   "outputs": [],
   "source": [
    "A_train, A_test, b_train, b_test = train_test_split(X_scaled, y, stratify = y, random_state = 10)"
   ]
  },
  {
   "cell_type": "code",
   "execution_count": 67,
   "id": "84524a55",
   "metadata": {},
   "outputs": [
    {
     "data": {
      "text/plain": [
       "(10235481, 33)"
      ]
     },
     "execution_count": 67,
     "metadata": {},
     "output_type": "execute_result"
    }
   ],
   "source": [
    "A_train.shape"
   ]
  },
  {
   "cell_type": "code",
   "execution_count": 68,
   "id": "67d6ca7e",
   "metadata": {},
   "outputs": [
    {
     "data": {
      "text/plain": [
       "(3411828, 33)"
      ]
     },
     "execution_count": 68,
     "metadata": {},
     "output_type": "execute_result"
    }
   ],
   "source": [
    "A_test.shape"
   ]
  },
  {
   "cell_type": "code",
   "execution_count": 69,
   "id": "75e54a7d",
   "metadata": {},
   "outputs": [
    {
     "data": {
      "text/plain": [
       "0.0    5559093\n",
       "1.0    4676388\n",
       "Name: Activity Index, dtype: int64"
      ]
     },
     "execution_count": 69,
     "metadata": {},
     "output_type": "execute_result"
    }
   ],
   "source": [
    "b_train.value_counts()"
   ]
  },
  {
   "cell_type": "code",
   "execution_count": 70,
   "id": "c030c92d",
   "metadata": {},
   "outputs": [
    {
     "data": {
      "text/plain": [
       "0.8412142052669384"
      ]
     },
     "execution_count": 70,
     "metadata": {},
     "output_type": "execute_result"
    }
   ],
   "source": [
    "4676388/5559093"
   ]
  },
  {
   "cell_type": "code",
   "execution_count": 71,
   "id": "ab84d055",
   "metadata": {},
   "outputs": [
    {
     "data": {
      "text/plain": [
       "array([0.95989613, 0.94839166, 0.85662523, 0.8607656 , 0.85344396])"
      ]
     },
     "execution_count": 71,
     "metadata": {},
     "output_type": "execute_result"
    }
   ],
   "source": [
    "scores = cross_val_score(DecisionTreeClassifier(), X, y, cv = 5)\n",
    "scores"
   ]
  },
  {
   "cell_type": "code",
   "execution_count": 72,
   "id": "cc4ff4d5",
   "metadata": {},
   "outputs": [
    {
     "data": {
      "text/plain": [
       "0.8958245143873743"
      ]
     },
     "execution_count": 72,
     "metadata": {},
     "output_type": "execute_result"
    }
   ],
   "source": [
    "scores.mean()"
   ]
  },
  {
   "cell_type": "code",
   "execution_count": 73,
   "id": "6873ffa6",
   "metadata": {},
   "outputs": [],
   "source": [
    "bag_model = BaggingClassifier(\n",
    "    base_estimator = DecisionTreeClassifier(),\n",
    "    n_estimators = 10,\n",
    "    max_samples = 0.8,\n",
    "    oob_score = True,\n",
    "    random_state = 0)"
   ]
  },
  {
   "cell_type": "code",
   "execution_count": 74,
   "id": "11c18046",
   "metadata": {},
   "outputs": [
    {
     "name": "stderr",
     "output_type": "stream",
     "text": [
      "C:\\Users\\Colt\\AppData\\Local\\Programs\\Python\\Python310\\lib\\site-packages\\sklearn\\ensemble\\_bagging.py:747: UserWarning: Some inputs do not have OOB scores. This probably means too few estimators were used to compute any reliable oob estimates.\n",
      "  warn(\n",
      "C:\\Users\\Colt\\AppData\\Local\\Programs\\Python\\Python310\\lib\\site-packages\\sklearn\\ensemble\\_bagging.py:753: RuntimeWarning: invalid value encountered in divide\n",
      "  oob_decision_function = predictions / predictions.sum(axis=1)[:, np.newaxis]\n"
     ]
    },
    {
     "data": {
      "text/plain": [
       "0.9294587132739536"
      ]
     },
     "execution_count": 74,
     "metadata": {},
     "output_type": "execute_result"
    }
   ],
   "source": [
    "bag_model.fit(A_train, b_train)\n",
    "bag_model.oob_score_"
   ]
  },
  {
   "cell_type": "code",
   "execution_count": 75,
   "id": "2cba184d",
   "metadata": {},
   "outputs": [
    {
     "data": {
      "text/plain": [
       "0.9360720997658734"
      ]
     },
     "execution_count": 75,
     "metadata": {},
     "output_type": "execute_result"
    }
   ],
   "source": [
    "bag_model.score(A_test, b_test)"
   ]
  },
  {
   "cell_type": "code",
   "execution_count": 57,
   "id": "4e2df1b3",
   "metadata": {},
   "outputs": [
    {
     "name": "stdout",
     "output_type": "stream",
     "text": [
      "[[ 1.09675224 -0.30167492 -0.25139073 -1.10558411 -0.04266148  0.06963877\n",
      "  -0.22267749 -0.05053388  1.09030164 -0.19605188 -0.01011443 -0.00481199\n",
      "   0.72497659 -0.01985142 -0.09779976 -0.09910672 -0.38485913 -0.21275834\n",
      "  -0.04221266 -0.04078909 -0.21188632 -0.30034592 -0.13723759 -0.07695089\n",
      "  -0.09620733 -0.05132568 -0.23547713 -0.21552391 -0.16211291 -0.06214966\n",
      "  -0.24045871 -0.25120584 -0.38298669]\n",
      " [-0.91178295 -1.00066204 -0.25139073 -0.66831106 -0.04266148  0.06963877\n",
      "   4.49079975 -0.05053388 -0.91717738 -0.44678377 -0.01011443 -0.00481199\n",
      "   0.72497659 -0.01985142 -0.09779976 -0.09910672 -0.38485913 -0.21275834\n",
      "  -0.04221266 -0.04078909 -0.21188632 -0.30034592 -0.13723759 -0.07695089\n",
      "  -0.09620733 -0.05132568 -0.23547713 -0.21552391 -0.16211291 -0.06214966\n",
      "  -0.24045871 -0.25120584 -0.38298669]\n",
      " [-0.91178295 -1.00066204 -0.25139073 -0.66831106 -0.04266148  0.06963877\n",
      "  -0.22267749 -0.05053388 -0.91717738 -0.0263993  -0.01011443 -0.00481199\n",
      "   0.72497659 -0.01985142 -0.09779976 -0.09910672 -0.38485913 -0.21275834\n",
      "  -0.04221266 -0.04078909 -0.21188632 -0.30034592 -0.13723759 -0.07695089\n",
      "  -0.09620733 -0.05132568 -0.23547713 -0.21552391 -0.16211291 -0.06214966\n",
      "  -0.24045871 -0.25120584 -0.38298669]]\n",
      "(10235481, 33)\n",
      "(3411828, 33)\n",
      "0    9407766\n",
      "1     827715\n",
      "Name: Payroll Account, dtype: int64\n",
      "0.08798209904455531\n",
      "[0.99263664 0.99325471 0.9915335  0.99045453 0.98692782]\n",
      "0.9909614412604257\n"
     ]
    },
    {
     "name": "stderr",
     "output_type": "stream",
     "text": [
      "C:\\Users\\Colt\\AppData\\Local\\Programs\\Python\\Python310\\lib\\site-packages\\sklearn\\ensemble\\_bagging.py:747: UserWarning: Some inputs do not have OOB scores. This probably means too few estimators were used to compute any reliable oob estimates.\n",
      "  warn(\n",
      "C:\\Users\\Colt\\AppData\\Local\\Programs\\Python\\Python310\\lib\\site-packages\\sklearn\\ensemble\\_bagging.py:753: RuntimeWarning: invalid value encountered in divide\n",
      "  oob_decision_function = predictions / predictions.sum(axis=1)[:, np.newaxis]\n"
     ]
    },
    {
     "name": "stdout",
     "output_type": "stream",
     "text": [
      "0.9929895820235513\n",
      "0.9940671100653374\n"
     ]
    }
   ],
   "source": [
    "X = df.drop(['Payroll Account', 'Partitioned Date', 'Customer Code', 'Employee Index', 'Country Residence', \n",
    "            'Date Joined', 'Last Date as Primary Customer', 'Customer Type at Beginning of Month',\n",
    "            'Customer Relation Type at Beginning of Month', 'Spouse Index', 'Channel Used to Join', 'Address Type', \n",
    "            'Province Code', 'Province Name', 'Segmentation'], axis = 'columns')\n",
    "y = df['Payroll Account']\n",
    "\n",
    "scaler = StandardScaler()\n",
    "X_scaled = scaler.fit_transform(X)\n",
    "print(X_scaled[:3])\n",
    "\n",
    "A_train, A_test, b_train, b_test = train_test_split(X_scaled, y, stratify = y, random_state = 10)\n",
    "\n",
    "print(A_train.shape)\n",
    "\n",
    "print(A_test.shape)\n",
    "\n",
    "print(b_train.value_counts())\n",
    "\n",
    "print(827715/9407766)\n",
    "\n",
    "scores = cross_val_score(DecisionTreeClassifier(), X, y, cv = 5)\n",
    "print(scores)\n",
    "\n",
    "print(scores.mean())\n",
    "\n",
    "bag_model = BaggingClassifier(\n",
    "    base_estimator = DecisionTreeClassifier(),\n",
    "    n_estimators = 10,\n",
    "    max_samples = 0.8,\n",
    "    oob_score = True,\n",
    "    random_state = 0)\n",
    "\n",
    "bag_model.fit(A_train, b_train)\n",
    "print(bag_model.oob_score_)\n",
    "\n",
    "print(bag_model.score(A_test, b_test))"
   ]
  },
  {
   "cell_type": "code",
   "execution_count": 57,
   "id": "0047ef97",
   "metadata": {},
   "outputs": [
    {
     "name": "stdout",
     "output_type": "stream",
     "text": [
      "[[ 1.09675224 -0.30167492 -0.25139073 -1.10558411 -0.04266148  0.06963877\n",
      "  -0.22267749 -0.05053388  1.09030164 -0.19605188 -0.01011443 -0.00481199\n",
      "   0.72497659 -0.01985142 -0.29661775 -0.09779976 -0.09910672 -0.38485913\n",
      "  -0.21275834 -0.04221266 -0.04078909 -0.21188632 -0.13723759 -0.07695089\n",
      "  -0.09620733 -0.05132568 -0.23547713 -0.21552391 -0.16211291 -0.06214966\n",
      "  -0.24045871 -0.25120584 -0.38298669]\n",
      " [-0.91178295 -1.00066204 -0.25139073 -0.66831106 -0.04266148  0.06963877\n",
      "   4.49079975 -0.05053388 -0.91717738 -0.44678377 -0.01011443 -0.00481199\n",
      "   0.72497659 -0.01985142 -0.29661775 -0.09779976 -0.09910672 -0.38485913\n",
      "  -0.21275834 -0.04221266 -0.04078909 -0.21188632 -0.13723759 -0.07695089\n",
      "  -0.09620733 -0.05132568 -0.23547713 -0.21552391 -0.16211291 -0.06214966\n",
      "  -0.24045871 -0.25120584 -0.38298669]\n",
      " [-0.91178295 -1.00066204 -0.25139073 -0.66831106 -0.04266148  0.06963877\n",
      "  -0.22267749 -0.05053388 -0.91717738 -0.0263993  -0.01011443 -0.00481199\n",
      "   0.72497659 -0.01985142 -0.29661775 -0.09779976 -0.09910672 -0.38485913\n",
      "  -0.21275834 -0.04221266 -0.04078909 -0.21188632 -0.13723759 -0.07695089\n",
      "  -0.09620733 -0.05132568 -0.23547713 -0.21552391 -0.16211291 -0.06214966\n",
      "  -0.24045871 -0.25120584 -0.38298669]]\n",
      "(10235481, 33)\n",
      "(3411828, 33)\n",
      "0    9388561\n",
      "1     846920\n",
      "Name: E-Account, dtype: int64\n",
      "0.09020764737002827\n",
      "[0.98285926 0.98572283 0.97271001 0.97122473 0.95016965]\n",
      "0.9725372949079085\n"
     ]
    },
    {
     "name": "stderr",
     "output_type": "stream",
     "text": [
      "C:\\Users\\Colt\\AppData\\Local\\Programs\\Python\\Python310\\lib\\site-packages\\sklearn\\ensemble\\_bagging.py:747: UserWarning: Some inputs do not have OOB scores. This probably means too few estimators were used to compute any reliable oob estimates.\n",
      "  warn(\n",
      "C:\\Users\\Colt\\AppData\\Local\\Programs\\Python\\Python310\\lib\\site-packages\\sklearn\\ensemble\\_bagging.py:753: RuntimeWarning: invalid value encountered in divide\n",
      "  oob_decision_function = predictions / predictions.sum(axis=1)[:, np.newaxis]\n"
     ]
    },
    {
     "name": "stdout",
     "output_type": "stream",
     "text": [
      "0.9817326611226185\n",
      "0.9846891461117032\n"
     ]
    }
   ],
   "source": [
    "X = df.drop(['E-Account', 'Partitioned Date', 'Customer Code', 'Employee Index', 'Country Residence', \n",
    "            'Date Joined', 'Last Date as Primary Customer', 'Customer Type at Beginning of Month',\n",
    "            'Customer Relation Type at Beginning of Month', 'Spouse Index', 'Channel Used to Join', 'Address Type', \n",
    "            'Province Code', 'Province Name', 'Segmentation'], axis = 'columns')\n",
    "y = df['E-Account']\n",
    "\n",
    "scaler = StandardScaler()\n",
    "X_scaled = scaler.fit_transform(X)\n",
    "print(X_scaled[:3])\n",
    "\n",
    "A_train, A_test, b_train, b_test = train_test_split(X_scaled, y, stratify = y, random_state = 10)\n",
    "\n",
    "print(A_train.shape)\n",
    "\n",
    "print(A_test.shape)\n",
    "\n",
    "print(b_train.value_counts())\n",
    "\n",
    "print(846920/9388561)\n",
    "\n",
    "scores = cross_val_score(DecisionTreeClassifier(), X, y, cv = 5)\n",
    "print(scores)\n",
    "\n",
    "print(scores.mean())\n",
    "\n",
    "bag_model = BaggingClassifier(\n",
    "    base_estimator = DecisionTreeClassifier(),\n",
    "    n_estimators = 10,\n",
    "    max_samples = 0.8,\n",
    "    oob_score = True,\n",
    "    random_state = 0)\n",
    "\n",
    "bag_model.fit(A_train, b_train)\n",
    "print(bag_model.oob_score_)\n",
    "\n",
    "print(bag_model.score(A_test, b_test))"
   ]
  },
  {
   "cell_type": "code",
   "execution_count": 58,
   "id": "4e56b201",
   "metadata": {},
   "outputs": [
    {
     "name": "stdout",
     "output_type": "stream",
     "text": [
      "[[ 1.09675224 -0.30167492 -0.25139073 -1.10558411 -0.04266148  0.06963877\n",
      "  -0.22267749 -0.05053388  1.09030164 -0.19605188 -0.01011443 -0.00481199\n",
      "   0.72497659 -0.01985142 -0.29661775 -0.09779976 -0.09910672 -0.38485913\n",
      "  -0.21275834 -0.04221266 -0.04078909 -0.21188632 -0.30034592 -0.13723759\n",
      "  -0.07695089 -0.09620733 -0.05132568 -0.21552391 -0.16211291 -0.06214966\n",
      "  -0.24045871 -0.25120584 -0.38298669]\n",
      " [-0.91178295 -1.00066204 -0.25139073 -0.66831106 -0.04266148  0.06963877\n",
      "   4.49079975 -0.05053388 -0.91717738 -0.44678377 -0.01011443 -0.00481199\n",
      "   0.72497659 -0.01985142 -0.29661775 -0.09779976 -0.09910672 -0.38485913\n",
      "  -0.21275834 -0.04221266 -0.04078909 -0.21188632 -0.30034592 -0.13723759\n",
      "  -0.07695089 -0.09620733 -0.05132568 -0.21552391 -0.16211291 -0.06214966\n",
      "  -0.24045871 -0.25120584 -0.38298669]\n",
      " [-0.91178295 -1.00066204 -0.25139073 -0.66831106 -0.04266148  0.06963877\n",
      "  -0.22267749 -0.05053388 -0.91717738 -0.0263993  -0.01011443 -0.00481199\n",
      "   0.72497659 -0.01985142 -0.29661775 -0.09779976 -0.09910672 -0.38485913\n",
      "  -0.21275834 -0.04221266 -0.04078909 -0.21188632 -0.30034592 -0.13723759\n",
      "  -0.07695089 -0.09620733 -0.05132568 -0.21552391 -0.16211291 -0.06214966\n",
      "  -0.24045871 -0.25120584 -0.38298669]]\n",
      "(10235481, 33)\n",
      "(3411828, 33)\n",
      "0    9697746\n",
      "1     537735\n",
      "Name: Taxes, dtype: int64\n",
      "0.055449482797342804\n",
      "[0.98585252 0.99032373 0.98687214 0.98690804 0.97347132]\n",
      "0.9846855514728776\n"
     ]
    },
    {
     "name": "stderr",
     "output_type": "stream",
     "text": [
      "C:\\Users\\Colt\\AppData\\Local\\Programs\\Python\\Python310\\lib\\site-packages\\sklearn\\ensemble\\_bagging.py:747: UserWarning: Some inputs do not have OOB scores. This probably means too few estimators were used to compute any reliable oob estimates.\n",
      "  warn(\n",
      "C:\\Users\\Colt\\AppData\\Local\\Programs\\Python\\Python310\\lib\\site-packages\\sklearn\\ensemble\\_bagging.py:753: RuntimeWarning: invalid value encountered in divide\n",
      "  oob_decision_function = predictions / predictions.sum(axis=1)[:, np.newaxis]\n"
     ]
    },
    {
     "name": "stdout",
     "output_type": "stream",
     "text": [
      "0.9897621811813241\n",
      "0.9916478790841742\n"
     ]
    }
   ],
   "source": [
    "X = df.drop(['Taxes', 'Partitioned Date', 'Customer Code', 'Employee Index', 'Country Residence', \n",
    "            'Date Joined', 'Last Date as Primary Customer', 'Customer Type at Beginning of Month',\n",
    "            'Customer Relation Type at Beginning of Month', 'Spouse Index', 'Channel Used to Join', 'Address Type', \n",
    "            'Province Code', 'Province Name', 'Segmentation'], axis = 'columns')\n",
    "y = df['Taxes']\n",
    "\n",
    "scaler = StandardScaler()\n",
    "X_scaled = scaler.fit_transform(X)\n",
    "print(X_scaled[:3])\n",
    "\n",
    "A_train, A_test, b_train, b_test = train_test_split(X_scaled, y, stratify = y, random_state = 10)\n",
    "\n",
    "print(A_train.shape)\n",
    "\n",
    "print(A_test.shape)\n",
    "\n",
    "print(b_train.value_counts())\n",
    "\n",
    "print(537735/9697746)\n",
    "\n",
    "scores = cross_val_score(DecisionTreeClassifier(), X, y, cv = 5)\n",
    "print(scores)\n",
    "\n",
    "print(scores.mean())\n",
    "\n",
    "bag_model = BaggingClassifier(\n",
    "    base_estimator = DecisionTreeClassifier(),\n",
    "    n_estimators = 10,\n",
    "    max_samples = 0.8,\n",
    "    oob_score = True,\n",
    "    random_state = 0)\n",
    "\n",
    "bag_model.fit(A_train, b_train)\n",
    "print(bag_model.oob_score_)\n",
    "\n",
    "print(bag_model.score(A_test, b_test))"
   ]
  },
  {
   "cell_type": "code",
   "execution_count": 59,
   "id": "d8585fac",
   "metadata": {},
   "outputs": [
    {
     "name": "stdout",
     "output_type": "stream",
     "text": [
      "[[ 1.09675224 -0.30167492 -0.25139073 -1.10558411 -0.04266148  0.06963877\n",
      "  -0.22267749 -0.05053388  1.09030164 -0.19605188 -0.01011443 -0.00481199\n",
      "   0.72497659 -0.01985142 -0.29661775 -0.09779976 -0.09910672 -0.38485913\n",
      "  -0.21275834 -0.04221266 -0.04078909 -0.21188632 -0.30034592 -0.13723759\n",
      "  -0.07695089 -0.09620733 -0.05132568 -0.23547713 -0.16211291 -0.06214966\n",
      "  -0.24045871 -0.25120584 -0.38298669]\n",
      " [-0.91178295 -1.00066204 -0.25139073 -0.66831106 -0.04266148  0.06963877\n",
      "   4.49079975 -0.05053388 -0.91717738 -0.44678377 -0.01011443 -0.00481199\n",
      "   0.72497659 -0.01985142 -0.29661775 -0.09779976 -0.09910672 -0.38485913\n",
      "  -0.21275834 -0.04221266 -0.04078909 -0.21188632 -0.30034592 -0.13723759\n",
      "  -0.07695089 -0.09620733 -0.05132568 -0.23547713 -0.16211291 -0.06214966\n",
      "  -0.24045871 -0.25120584 -0.38298669]\n",
      " [-0.91178295 -1.00066204 -0.25139073 -0.66831106 -0.04266148  0.06963877\n",
      "  -0.22267749 -0.05053388 -0.91717738 -0.0263993  -0.01011443 -0.00481199\n",
      "   0.72497659 -0.01985142 -0.29661775 -0.09779976 -0.09910672 -0.38485913\n",
      "  -0.21275834 -0.04221266 -0.04078909 -0.21188632 -0.30034592 -0.13723759\n",
      "  -0.07695089 -0.09620733 -0.05132568 -0.23547713 -0.16211291 -0.06214966\n",
      "  -0.24045871 -0.25120584 -0.38298669]]\n",
      "(10235481, 33)\n",
      "(3411828, 33)\n",
      "0    9781142\n",
      "1     454339\n",
      "Name: Credit Card, dtype: int64\n",
      "0.04645050649504935\n",
      "[0.97926331 0.98246175 0.98030015 0.98047051 0.97098328]\n",
      "0.9786957994640175\n"
     ]
    },
    {
     "name": "stderr",
     "output_type": "stream",
     "text": [
      "C:\\Users\\Colt\\AppData\\Local\\Programs\\Python\\Python310\\lib\\site-packages\\sklearn\\ensemble\\_bagging.py:747: UserWarning: Some inputs do not have OOB scores. This probably means too few estimators were used to compute any reliable oob estimates.\n",
      "  warn(\n",
      "C:\\Users\\Colt\\AppData\\Local\\Programs\\Python\\Python310\\lib\\site-packages\\sklearn\\ensemble\\_bagging.py:753: RuntimeWarning: invalid value encountered in divide\n",
      "  oob_decision_function = predictions / predictions.sum(axis=1)[:, np.newaxis]\n"
     ]
    },
    {
     "name": "stdout",
     "output_type": "stream",
     "text": [
      "0.9832882304212182\n",
      "0.9848550395858173\n"
     ]
    }
   ],
   "source": [
    "X = df.drop(['Credit Card', 'Partitioned Date', 'Customer Code', 'Employee Index', 'Country Residence', \n",
    "            'Date Joined', 'Last Date as Primary Customer', 'Customer Type at Beginning of Month',\n",
    "            'Customer Relation Type at Beginning of Month', 'Spouse Index', 'Channel Used to Join', 'Address Type', \n",
    "            'Province Code', 'Province Name', 'Segmentation'], axis = 'columns')\n",
    "y = df['Credit Card']\n",
    "\n",
    "scaler = StandardScaler()\n",
    "X_scaled = scaler.fit_transform(X)\n",
    "print(X_scaled[:3])\n",
    "\n",
    "A_train, A_test, b_train, b_test = train_test_split(X_scaled, y, stratify = y, random_state = 10)\n",
    "\n",
    "print(A_train.shape)\n",
    "\n",
    "print(A_test.shape)\n",
    "\n",
    "print(b_train.value_counts())\n",
    "\n",
    "print(454339/9781142)\n",
    "\n",
    "scores = cross_val_score(DecisionTreeClassifier(), X, y, cv = 5)\n",
    "print(scores)\n",
    "\n",
    "print(scores.mean())\n",
    "\n",
    "bag_model = BaggingClassifier(\n",
    "    base_estimator = DecisionTreeClassifier(),\n",
    "    n_estimators = 10,\n",
    "    max_samples = 0.8,\n",
    "    oob_score = True,\n",
    "    random_state = 0)\n",
    "\n",
    "bag_model.fit(A_train, b_train)\n",
    "print(bag_model.oob_score_)\n",
    "\n",
    "print(bag_model.score(A_test, b_test))"
   ]
  },
  {
   "cell_type": "code",
   "execution_count": 60,
   "id": "d69e70aa",
   "metadata": {},
   "outputs": [
    {
     "name": "stdout",
     "output_type": "stream",
     "text": [
      "[[ 1.09675224 -0.30167492 -0.25139073 -1.10558411 -0.04266148  0.06963877\n",
      "  -0.22267749 -0.05053388  1.09030164 -0.19605188 -0.01011443 -0.00481199\n",
      "   0.72497659 -0.01985142 -0.29661775 -0.09779976 -0.09910672 -0.38485913\n",
      "  -0.21275834 -0.04221266 -0.04078909 -0.21188632 -0.30034592 -0.13723759\n",
      "  -0.07695089 -0.09620733 -0.05132568 -0.23547713 -0.21552391 -0.16211291\n",
      "  -0.06214966 -0.25120584 -0.38298669]\n",
      " [-0.91178295 -1.00066204 -0.25139073 -0.66831106 -0.04266148  0.06963877\n",
      "   4.49079975 -0.05053388 -0.91717738 -0.44678377 -0.01011443 -0.00481199\n",
      "   0.72497659 -0.01985142 -0.29661775 -0.09779976 -0.09910672 -0.38485913\n",
      "  -0.21275834 -0.04221266 -0.04078909 -0.21188632 -0.30034592 -0.13723759\n",
      "  -0.07695089 -0.09620733 -0.05132568 -0.23547713 -0.21552391 -0.16211291\n",
      "  -0.06214966 -0.25120584 -0.38298669]\n",
      " [-0.91178295 -1.00066204 -0.25139073 -0.66831106 -0.04266148  0.06963877\n",
      "  -0.22267749 -0.05053388 -0.91717738 -0.0263993  -0.01011443 -0.00481199\n",
      "   0.72497659 -0.01985142 -0.29661775 -0.09779976 -0.09910672 -0.38485913\n",
      "  -0.21275834 -0.04221266 -0.04078909 -0.21188632 -0.30034592 -0.13723759\n",
      "  -0.07695089 -0.09620733 -0.05132568 -0.23547713 -0.21552391 -0.16211291\n",
      "  -0.06214966 -0.25120584 -0.38298669]]\n",
      "(10235481, 33)\n",
      "(3411828, 33)\n",
      "0.0    9676010\n",
      "1.0     559471\n",
      "Name: Payroll, dtype: int64\n",
      "0.05782042391440274\n",
      "[0.99925993 0.99942186 0.99914379 0.99908114 0.99830553]\n",
      "0.9990424485342185\n"
     ]
    },
    {
     "name": "stderr",
     "output_type": "stream",
     "text": [
      "C:\\Users\\Colt\\AppData\\Local\\Programs\\Python\\Python310\\lib\\site-packages\\sklearn\\ensemble\\_bagging.py:747: UserWarning: Some inputs do not have OOB scores. This probably means too few estimators were used to compute any reliable oob estimates.\n",
      "  warn(\n",
      "C:\\Users\\Colt\\AppData\\Local\\Programs\\Python\\Python310\\lib\\site-packages\\sklearn\\ensemble\\_bagging.py:753: RuntimeWarning: invalid value encountered in divide\n",
      "  oob_decision_function = predictions / predictions.sum(axis=1)[:, np.newaxis]\n"
     ]
    },
    {
     "name": "stdout",
     "output_type": "stream",
     "text": [
      "0.9992179165786151\n",
      "0.9995131642040572\n"
     ]
    }
   ],
   "source": [
    "X = df.drop(['Payroll', 'Partitioned Date', 'Customer Code', 'Employee Index', 'Country Residence', \n",
    "            'Date Joined', 'Last Date as Primary Customer', 'Customer Type at Beginning of Month',\n",
    "            'Customer Relation Type at Beginning of Month', 'Spouse Index', 'Channel Used to Join', 'Address Type', \n",
    "            'Province Code', 'Province Name', 'Segmentation'], axis = 'columns')\n",
    "y = df['Payroll']\n",
    "\n",
    "scaler = StandardScaler()\n",
    "X_scaled = scaler.fit_transform(X)\n",
    "print(X_scaled[:3])\n",
    "\n",
    "A_train, A_test, b_train, b_test = train_test_split(X_scaled, y, stratify = y, random_state = 10)\n",
    "\n",
    "print(A_train.shape)\n",
    "\n",
    "print(A_test.shape)\n",
    "\n",
    "print(b_train.value_counts())\n",
    "\n",
    "print(559471/9676010)\n",
    "\n",
    "scores = cross_val_score(DecisionTreeClassifier(), X, y, cv = 5)\n",
    "print(scores)\n",
    "\n",
    "print(scores.mean())\n",
    "\n",
    "bag_model = BaggingClassifier(\n",
    "    base_estimator = DecisionTreeClassifier(),\n",
    "    n_estimators = 10,\n",
    "    max_samples = 0.8,\n",
    "    oob_score = True,\n",
    "    random_state = 0)\n",
    "\n",
    "bag_model.fit(A_train, b_train)\n",
    "print(bag_model.oob_score_)\n",
    "\n",
    "print(bag_model.score(A_test, b_test))"
   ]
  },
  {
   "cell_type": "code",
   "execution_count": 61,
   "id": "bb16386a",
   "metadata": {},
   "outputs": [
    {
     "name": "stdout",
     "output_type": "stream",
     "text": [
      "[[ 1.09675224 -0.30167492 -0.25139073 -1.10558411 -0.04266148  0.06963877\n",
      "  -0.22267749 -0.05053388  1.09030164 -0.19605188 -0.01011443 -0.00481199\n",
      "   0.72497659 -0.01985142 -0.29661775 -0.09779976 -0.09910672 -0.38485913\n",
      "  -0.21275834 -0.04221266 -0.04078909 -0.21188632 -0.30034592 -0.13723759\n",
      "  -0.07695089 -0.09620733 -0.05132568 -0.23547713 -0.21552391 -0.16211291\n",
      "  -0.06214966 -0.24045871 -0.38298669]\n",
      " [-0.91178295 -1.00066204 -0.25139073 -0.66831106 -0.04266148  0.06963877\n",
      "   4.49079975 -0.05053388 -0.91717738 -0.44678377 -0.01011443 -0.00481199\n",
      "   0.72497659 -0.01985142 -0.29661775 -0.09779976 -0.09910672 -0.38485913\n",
      "  -0.21275834 -0.04221266 -0.04078909 -0.21188632 -0.30034592 -0.13723759\n",
      "  -0.07695089 -0.09620733 -0.05132568 -0.23547713 -0.21552391 -0.16211291\n",
      "  -0.06214966 -0.24045871 -0.38298669]\n",
      " [-0.91178295 -1.00066204 -0.25139073 -0.66831106 -0.04266148  0.06963877\n",
      "  -0.22267749 -0.05053388 -0.91717738 -0.0263993  -0.01011443 -0.00481199\n",
      "   0.72497659 -0.01985142 -0.29661775 -0.09779976 -0.09910672 -0.38485913\n",
      "  -0.21275834 -0.04221266 -0.04078909 -0.21188632 -0.30034592 -0.13723759\n",
      "  -0.07695089 -0.09620733 -0.05132568 -0.23547713 -0.21552391 -0.16211291\n",
      "  -0.06214966 -0.24045871 -0.38298669]]\n",
      "(10235481, 33)\n",
      "(3411828, 33)\n",
      "0.0    9627917\n",
      "1.0     607564\n",
      "Name: Pension, dtype: int64\n",
      "0.06310440773430016\n",
      "[0.99759953 0.9978787  0.99878987 0.99767244 0.99759073]\n",
      "0.9979062538764587\n"
     ]
    },
    {
     "name": "stderr",
     "output_type": "stream",
     "text": [
      "C:\\Users\\Colt\\AppData\\Local\\Programs\\Python\\Python310\\lib\\site-packages\\sklearn\\ensemble\\_bagging.py:747: UserWarning: Some inputs do not have OOB scores. This probably means too few estimators were used to compute any reliable oob estimates.\n",
      "  warn(\n",
      "C:\\Users\\Colt\\AppData\\Local\\Programs\\Python\\Python310\\lib\\site-packages\\sklearn\\ensemble\\_bagging.py:753: RuntimeWarning: invalid value encountered in divide\n",
      "  oob_decision_function = predictions / predictions.sum(axis=1)[:, np.newaxis]\n"
     ]
    },
    {
     "name": "stdout",
     "output_type": "stream",
     "text": [
      "0.9979651176139157\n",
      "0.9982795146765898\n"
     ]
    }
   ],
   "source": [
    "X = df.drop(['Pension', 'Partitioned Date', 'Customer Code', 'Employee Index', 'Country Residence', \n",
    "            'Date Joined', 'Last Date as Primary Customer', 'Customer Type at Beginning of Month',\n",
    "            'Customer Relation Type at Beginning of Month', 'Spouse Index', 'Channel Used to Join', 'Address Type', \n",
    "            'Province Code', 'Province Name', 'Segmentation'], axis = 'columns')\n",
    "y = df['Pension']\n",
    "\n",
    "scaler = StandardScaler()\n",
    "X_scaled = scaler.fit_transform(X)\n",
    "print(X_scaled[:3])\n",
    "\n",
    "A_train, A_test, b_train, b_test = train_test_split(X_scaled, y, stratify = y, random_state = 10)\n",
    "\n",
    "print(A_train.shape)\n",
    "\n",
    "print(A_test.shape)\n",
    "\n",
    "print(b_train.value_counts())\n",
    "\n",
    "print(607564/9627917)\n",
    "\n",
    "scores = cross_val_score(DecisionTreeClassifier(), X, y, cv = 5)\n",
    "print(scores)\n",
    "\n",
    "print(scores.mean())\n",
    "\n",
    "bag_model = BaggingClassifier(\n",
    "    base_estimator = DecisionTreeClassifier(),\n",
    "    n_estimators = 10,\n",
    "    max_samples = 0.8,\n",
    "    oob_score = True,\n",
    "    random_state = 0)\n",
    "\n",
    "bag_model.fit(A_train, b_train)\n",
    "print(bag_model.oob_score_)\n",
    "\n",
    "print(bag_model.score(A_test, b_test))"
   ]
  },
  {
   "cell_type": "code",
   "execution_count": 62,
   "id": "1519f15b",
   "metadata": {},
   "outputs": [
    {
     "name": "stdout",
     "output_type": "stream",
     "text": [
      "[[ 1.09675224 -0.30167492 -0.25139073 -1.10558411 -0.04266148  0.06963877\n",
      "  -0.22267749 -0.05053388  1.09030164 -0.19605188 -0.01011443 -0.00481199\n",
      "   0.72497659 -0.01985142 -0.29661775 -0.09779976 -0.09910672 -0.38485913\n",
      "  -0.21275834 -0.04221266 -0.04078909 -0.21188632 -0.30034592 -0.13723759\n",
      "  -0.07695089 -0.09620733 -0.05132568 -0.23547713 -0.21552391 -0.16211291\n",
      "  -0.06214966 -0.24045871 -0.25120584]\n",
      " [-0.91178295 -1.00066204 -0.25139073 -0.66831106 -0.04266148  0.06963877\n",
      "   4.49079975 -0.05053388 -0.91717738 -0.44678377 -0.01011443 -0.00481199\n",
      "   0.72497659 -0.01985142 -0.29661775 -0.09779976 -0.09910672 -0.38485913\n",
      "  -0.21275834 -0.04221266 -0.04078909 -0.21188632 -0.30034592 -0.13723759\n",
      "  -0.07695089 -0.09620733 -0.05132568 -0.23547713 -0.21552391 -0.16211291\n",
      "  -0.06214966 -0.24045871 -0.25120584]\n",
      " [-0.91178295 -1.00066204 -0.25139073 -0.66831106 -0.04266148  0.06963877\n",
      "  -0.22267749 -0.05053388 -0.91717738 -0.0263993  -0.01011443 -0.00481199\n",
      "   0.72497659 -0.01985142 -0.29661775 -0.09779976 -0.09910672 -0.38485913\n",
      "  -0.21275834 -0.04221266 -0.04078909 -0.21188632 -0.30034592 -0.13723759\n",
      "  -0.07695089 -0.09620733 -0.05132568 -0.23547713 -0.21552391 -0.16211291\n",
      "  -0.06214966 -0.24045871 -0.25120584]]\n",
      "(10235481, 33)\n",
      "(3411828, 33)\n",
      "0    8926197\n",
      "1    1309284\n",
      "Name: Direct Debit, dtype: int64\n",
      "0.146678815177393\n",
      "[0.96359099 0.96348475 0.95028398 0.94742773 0.93222288]\n",
      "0.9514020662110616\n"
     ]
    },
    {
     "name": "stderr",
     "output_type": "stream",
     "text": [
      "C:\\Users\\Colt\\AppData\\Local\\Programs\\Python\\Python310\\lib\\site-packages\\sklearn\\ensemble\\_bagging.py:747: UserWarning: Some inputs do not have OOB scores. This probably means too few estimators were used to compute any reliable oob estimates.\n",
      "  warn(\n",
      "C:\\Users\\Colt\\AppData\\Local\\Programs\\Python\\Python310\\lib\\site-packages\\sklearn\\ensemble\\_bagging.py:753: RuntimeWarning: invalid value encountered in divide\n",
      "  oob_decision_function = predictions / predictions.sum(axis=1)[:, np.newaxis]\n"
     ]
    },
    {
     "name": "stdout",
     "output_type": "stream",
     "text": [
      "0.9620142912677968\n",
      "0.9656286893712109\n"
     ]
    }
   ],
   "source": [
    "X = df.drop(['Direct Debit', 'Partitioned Date', 'Customer Code', 'Employee Index', 'Country Residence', \n",
    "            'Date Joined', 'Last Date as Primary Customer', 'Customer Type at Beginning of Month',\n",
    "            'Customer Relation Type at Beginning of Month', 'Spouse Index', 'Channel Used to Join', 'Address Type', \n",
    "            'Province Code', 'Province Name', 'Segmentation'], axis = 'columns')\n",
    "y = df['Direct Debit']\n",
    "\n",
    "scaler = StandardScaler()\n",
    "X_scaled = scaler.fit_transform(X)\n",
    "print(X_scaled[:3])\n",
    "\n",
    "A_train, A_test, b_train, b_test = train_test_split(X_scaled, y, stratify = y, random_state = 10)\n",
    "\n",
    "print(A_train.shape)\n",
    "\n",
    "print(A_test.shape)\n",
    "\n",
    "print(b_train.value_counts())\n",
    "\n",
    "print(1309284/8926197)\n",
    "\n",
    "scores = cross_val_score(DecisionTreeClassifier(), X, y, cv = 5)\n",
    "print(scores)\n",
    "\n",
    "print(scores.mean())\n",
    "\n",
    "bag_model = BaggingClassifier(\n",
    "    base_estimator = DecisionTreeClassifier(),\n",
    "    n_estimators = 10,\n",
    "    max_samples = 0.8,\n",
    "    oob_score = True,\n",
    "    random_state = 0)\n",
    "\n",
    "bag_model.fit(A_train, b_train)\n",
    "print(bag_model.oob_score_)\n",
    "\n",
    "print(bag_model.score(A_test, b_test))"
   ]
  },
  {
   "cell_type": "code",
   "execution_count": null,
   "id": "d2ffb190",
   "metadata": {},
   "outputs": [],
   "source": []
  },
  {
   "cell_type": "code",
   "execution_count": null,
   "id": "f2f6931e",
   "metadata": {},
   "outputs": [],
   "source": []
  },
  {
   "cell_type": "code",
   "execution_count": null,
   "id": "275674b3",
   "metadata": {},
   "outputs": [],
   "source": []
  },
  {
   "cell_type": "code",
   "execution_count": null,
   "id": "49687214",
   "metadata": {},
   "outputs": [],
   "source": [
    "# Boosted Model (Gradient Boosting Model; each model takes about 30 minutes to run)\n",
    "#\n",
    "# Similar to the ensemble model, we are testing the accuracy of a normal model and comparing it to the accuracy of the \n",
    "# boosted model and seeing which is a better predictor."
   ]
  },
  {
   "cell_type": "code",
   "execution_count": null,
   "id": "0e2074dc",
   "metadata": {},
   "outputs": [],
   "source": [
    "S = df.drop(['Activity Index', 'Partitioned Date', 'Customer Code', 'Employee Index', 'Country Residence', \n",
    "            'Date Joined', 'Last Date as Primary Customer', 'Customer Type at Beginning of Month',\n",
    "            'Customer Relation Type at Beginning of Month', 'Spouse Index', 'Channel Used to Join', 'Address Type', \n",
    "            'Province Code', 'Province Name', 'Segmentation'], axis = 'columns')\n",
    "t = df['Activity Index']\n",
    "\n",
    "S_train, S_test, t_train, t_test = train_test_split(S, t, test_size = .20, random_state = 0)\n",
    "\n",
    "gbModel = GradientBoostingClassifier(random_state = 42)\n",
    "\n",
    "gbModel.fit(S_train, t_train)\n",
    "\n",
    "t_pred_gb = gbModel.predict(S_test)\n",
    "\n",
    "gbModel.score(S_test, t_test)\n",
    "\n",
    "accuracy_score(t_test, t_pred_gb)"
   ]
  },
  {
   "cell_type": "code",
   "execution_count": 58,
   "id": "45a05da0",
   "metadata": {},
   "outputs": [],
   "source": [
    "S = df.drop(['Activity Index', 'Partitioned Date', 'Customer Code', 'Employee Index', 'Country Residence', \n",
    "            'Date Joined', 'Last Date as Primary Customer', 'Customer Type at Beginning of Month',\n",
    "            'Customer Relation Type at Beginning of Month', 'Spouse Index', 'Channel Used to Join', 'Address Type', \n",
    "            'Province Code', 'Province Name', 'Segmentation'], axis = 'columns')\n",
    "t = df['Activity Index']\n",
    "\n",
    "S_train, S_test, t_train, t_test = train_test_split(S, t, test_size = .20, random_state = 0)"
   ]
  },
  {
   "cell_type": "code",
   "execution_count": 59,
   "id": "c63badb0",
   "metadata": {},
   "outputs": [],
   "source": [
    "gbModel = GradientBoostingClassifier(random_state = 42)"
   ]
  },
  {
   "cell_type": "code",
   "execution_count": 60,
   "id": "ee91dbea",
   "metadata": {},
   "outputs": [
    {
     "data": {
      "text/html": [
       "<style>#sk-container-id-1 {color: black;background-color: white;}#sk-container-id-1 pre{padding: 0;}#sk-container-id-1 div.sk-toggleable {background-color: white;}#sk-container-id-1 label.sk-toggleable__label {cursor: pointer;display: block;width: 100%;margin-bottom: 0;padding: 0.3em;box-sizing: border-box;text-align: center;}#sk-container-id-1 label.sk-toggleable__label-arrow:before {content: \"▸\";float: left;margin-right: 0.25em;color: #696969;}#sk-container-id-1 label.sk-toggleable__label-arrow:hover:before {color: black;}#sk-container-id-1 div.sk-estimator:hover label.sk-toggleable__label-arrow:before {color: black;}#sk-container-id-1 div.sk-toggleable__content {max-height: 0;max-width: 0;overflow: hidden;text-align: left;background-color: #f0f8ff;}#sk-container-id-1 div.sk-toggleable__content pre {margin: 0.2em;color: black;border-radius: 0.25em;background-color: #f0f8ff;}#sk-container-id-1 input.sk-toggleable__control:checked~div.sk-toggleable__content {max-height: 200px;max-width: 100%;overflow: auto;}#sk-container-id-1 input.sk-toggleable__control:checked~label.sk-toggleable__label-arrow:before {content: \"▾\";}#sk-container-id-1 div.sk-estimator input.sk-toggleable__control:checked~label.sk-toggleable__label {background-color: #d4ebff;}#sk-container-id-1 div.sk-label input.sk-toggleable__control:checked~label.sk-toggleable__label {background-color: #d4ebff;}#sk-container-id-1 input.sk-hidden--visually {border: 0;clip: rect(1px 1px 1px 1px);clip: rect(1px, 1px, 1px, 1px);height: 1px;margin: -1px;overflow: hidden;padding: 0;position: absolute;width: 1px;}#sk-container-id-1 div.sk-estimator {font-family: monospace;background-color: #f0f8ff;border: 1px dotted black;border-radius: 0.25em;box-sizing: border-box;margin-bottom: 0.5em;}#sk-container-id-1 div.sk-estimator:hover {background-color: #d4ebff;}#sk-container-id-1 div.sk-parallel-item::after {content: \"\";width: 100%;border-bottom: 1px solid gray;flex-grow: 1;}#sk-container-id-1 div.sk-label:hover label.sk-toggleable__label {background-color: #d4ebff;}#sk-container-id-1 div.sk-serial::before {content: \"\";position: absolute;border-left: 1px solid gray;box-sizing: border-box;top: 0;bottom: 0;left: 50%;z-index: 0;}#sk-container-id-1 div.sk-serial {display: flex;flex-direction: column;align-items: center;background-color: white;padding-right: 0.2em;padding-left: 0.2em;position: relative;}#sk-container-id-1 div.sk-item {position: relative;z-index: 1;}#sk-container-id-1 div.sk-parallel {display: flex;align-items: stretch;justify-content: center;background-color: white;position: relative;}#sk-container-id-1 div.sk-item::before, #sk-container-id-1 div.sk-parallel-item::before {content: \"\";position: absolute;border-left: 1px solid gray;box-sizing: border-box;top: 0;bottom: 0;left: 50%;z-index: -1;}#sk-container-id-1 div.sk-parallel-item {display: flex;flex-direction: column;z-index: 1;position: relative;background-color: white;}#sk-container-id-1 div.sk-parallel-item:first-child::after {align-self: flex-end;width: 50%;}#sk-container-id-1 div.sk-parallel-item:last-child::after {align-self: flex-start;width: 50%;}#sk-container-id-1 div.sk-parallel-item:only-child::after {width: 0;}#sk-container-id-1 div.sk-dashed-wrapped {border: 1px dashed gray;margin: 0 0.4em 0.5em 0.4em;box-sizing: border-box;padding-bottom: 0.4em;background-color: white;}#sk-container-id-1 div.sk-label label {font-family: monospace;font-weight: bold;display: inline-block;line-height: 1.2em;}#sk-container-id-1 div.sk-label-container {text-align: center;}#sk-container-id-1 div.sk-container {/* jupyter's `normalize.less` sets `[hidden] { display: none; }` but bootstrap.min.css set `[hidden] { display: none !important; }` so we also need the `!important` here to be able to override the default hidden behavior on the sphinx rendered scikit-learn.org. See: https://github.com/scikit-learn/scikit-learn/issues/21755 */display: inline-block !important;position: relative;}#sk-container-id-1 div.sk-text-repr-fallback {display: none;}</style><div id=\"sk-container-id-1\" class=\"sk-top-container\"><div class=\"sk-text-repr-fallback\"><pre>GradientBoostingClassifier(random_state=42)</pre><b>In a Jupyter environment, please rerun this cell to show the HTML representation or trust the notebook. <br />On GitHub, the HTML representation is unable to render, please try loading this page with nbviewer.org.</b></div><div class=\"sk-container\" hidden><div class=\"sk-item\"><div class=\"sk-estimator sk-toggleable\"><input class=\"sk-toggleable__control sk-hidden--visually\" id=\"sk-estimator-id-1\" type=\"checkbox\" checked><label for=\"sk-estimator-id-1\" class=\"sk-toggleable__label sk-toggleable__label-arrow\">GradientBoostingClassifier</label><div class=\"sk-toggleable__content\"><pre>GradientBoostingClassifier(random_state=42)</pre></div></div></div></div></div>"
      ],
      "text/plain": [
       "GradientBoostingClassifier(random_state=42)"
      ]
     },
     "execution_count": 60,
     "metadata": {},
     "output_type": "execute_result"
    }
   ],
   "source": [
    "gbModel.fit(S_train, t_train)"
   ]
  },
  {
   "cell_type": "code",
   "execution_count": 61,
   "id": "a26e50fd",
   "metadata": {},
   "outputs": [],
   "source": [
    "t_pred_gb = gbModel.predict(S_test)"
   ]
  },
  {
   "cell_type": "code",
   "execution_count": 62,
   "id": "fc75d0af",
   "metadata": {},
   "outputs": [
    {
     "data": {
      "text/plain": [
       "0.8098042764471534"
      ]
     },
     "execution_count": 62,
     "metadata": {},
     "output_type": "execute_result"
    }
   ],
   "source": [
    "gbModel.score(S_test, t_test)"
   ]
  },
  {
   "cell_type": "code",
   "execution_count": 63,
   "id": "d84c9380",
   "metadata": {},
   "outputs": [
    {
     "data": {
      "text/plain": [
       "0.8098042764471534"
      ]
     },
     "execution_count": 63,
     "metadata": {},
     "output_type": "execute_result"
    }
   ],
   "source": [
    "accuracy_score(t_test, t_pred_gb)"
   ]
  },
  {
   "cell_type": "code",
   "execution_count": 64,
   "id": "8b6c77a3",
   "metadata": {},
   "outputs": [
    {
     "name": "stdout",
     "output_type": "stream",
     "text": [
      "0.982739821986897\n",
      "0.982739821986897\n"
     ]
    }
   ],
   "source": [
    "S = df.drop(['Payroll Account', 'Partitioned Date', 'Customer Code', 'Employee Index', 'Country Residence', \n",
    "            'Date Joined', 'Last Date as Primary Customer', 'Customer Type at Beginning of Month',\n",
    "            'Customer Relation Type at Beginning of Month', 'Spouse Index', 'Channel Used to Join', 'Address Type', \n",
    "            'Province Code', 'Province Name', 'Segmentation'], axis = 'columns')\n",
    "t = df['Payroll Account']\n",
    "\n",
    "\n",
    "S_train, S_test, t_train, t_test = train_test_split(S, t, test_size = .20, random_state = 0)\n",
    "\n",
    "gbModel = GradientBoostingClassifier(random_state = 42)\n",
    "\n",
    "gbModel.fit(S_train, t_train)\n",
    "\n",
    "t_pred_gb = gbModel.predict(S_test)\n",
    "\n",
    "print(gbModel.score(S_test, t_test))\n",
    "\n",
    "print(accuracy_score(t_test, t_pred_gb))"
   ]
  },
  {
   "cell_type": "code",
   "execution_count": 65,
   "id": "7060d306",
   "metadata": {},
   "outputs": [
    {
     "name": "stdout",
     "output_type": "stream",
     "text": [
      "0.9256824238622849\n",
      "0.9256824238622849\n"
     ]
    }
   ],
   "source": [
    "S = df.drop(['E-Account', 'Partitioned Date', 'Customer Code', 'Employee Index', 'Country Residence', \n",
    "            'Date Joined', 'Last Date as Primary Customer', 'Customer Type at Beginning of Month',\n",
    "            'Customer Relation Type at Beginning of Month', 'Spouse Index', 'Channel Used to Join', 'Address Type', \n",
    "            'Province Code', 'Province Name', 'Segmentation'], axis = 'columns')\n",
    "t = df['E-Account']\n",
    "\n",
    "\n",
    "S_train, S_test, t_train, t_test = train_test_split(S, t, test_size = .20, random_state = 0)\n",
    "\n",
    "gbModel = GradientBoostingClassifier(random_state = 42)\n",
    "\n",
    "gbModel.fit(S_train, t_train)\n",
    "\n",
    "t_pred_gb = gbModel.predict(S_test)\n",
    "\n",
    "print(gbModel.score(S_test, t_test))\n",
    "\n",
    "print(accuracy_score(t_test, t_pred_gb))"
   ]
  },
  {
   "cell_type": "code",
   "execution_count": 66,
   "id": "367ea0b0",
   "metadata": {},
   "outputs": [
    {
     "name": "stdout",
     "output_type": "stream",
     "text": [
      "0.9490016713916516\n",
      "0.9490016713916516\n"
     ]
    }
   ],
   "source": [
    "S = df.drop(['Taxes', 'Partitioned Date', 'Customer Code', 'Employee Index', 'Country Residence', \n",
    "            'Date Joined', 'Last Date as Primary Customer', 'Customer Type at Beginning of Month',\n",
    "            'Customer Relation Type at Beginning of Month', 'Spouse Index', 'Channel Used to Join', 'Address Type', \n",
    "            'Province Code', 'Province Name', 'Segmentation'], axis = 'columns')\n",
    "t = df['Taxes']\n",
    "\n",
    "\n",
    "S_train, S_test, t_train, t_test = train_test_split(S, t, test_size = .20, random_state = 0)\n",
    "\n",
    "gbModel = GradientBoostingClassifier(random_state = 42)\n",
    "\n",
    "gbModel.fit(S_train, t_train)\n",
    "\n",
    "t_pred_gb = gbModel.predict(S_test)\n",
    "\n",
    "print(gbModel.score(S_test, t_test))\n",
    "\n",
    "print(accuracy_score(t_test, t_pred_gb))"
   ]
  },
  {
   "cell_type": "code",
   "execution_count": 67,
   "id": "42ac537e",
   "metadata": {},
   "outputs": [
    {
     "name": "stdout",
     "output_type": "stream",
     "text": [
      "0.9571952274843907\n",
      "0.9571952274843907\n"
     ]
    }
   ],
   "source": [
    "S = df.drop(['Credit Card', 'Partitioned Date', 'Customer Code', 'Employee Index', 'Country Residence', \n",
    "            'Date Joined', 'Last Date as Primary Customer', 'Customer Type at Beginning of Month',\n",
    "            'Customer Relation Type at Beginning of Month', 'Spouse Index', 'Channel Used to Join', 'Address Type', \n",
    "            'Province Code', 'Province Name', 'Segmentation'], axis = 'columns')\n",
    "t = df['Credit Card']\n",
    "\n",
    "\n",
    "S_train, S_test, t_train, t_test = train_test_split(S, t, test_size = .20, random_state = 0)\n",
    "\n",
    "gbModel = GradientBoostingClassifier(random_state = 42)\n",
    "\n",
    "gbModel.fit(S_train, t_train)\n",
    "\n",
    "t_pred_gb = gbModel.predict(S_test)\n",
    "\n",
    "print(gbModel.score(S_test, t_test))\n",
    "\n",
    "print(accuracy_score(t_test, t_pred_gb))"
   ]
  },
  {
   "cell_type": "code",
   "execution_count": 58,
   "id": "f5d98f76",
   "metadata": {},
   "outputs": [
    {
     "name": "stdout",
     "output_type": "stream",
     "text": [
      "0.9979006851899752\n",
      "0.9979006851899752\n"
     ]
    }
   ],
   "source": [
    "S = df.drop(['Payroll', 'Partitioned Date', 'Customer Code', 'Employee Index', 'Country Residence', \n",
    "            'Date Joined', 'Last Date as Primary Customer', 'Customer Type at Beginning of Month',\n",
    "            'Customer Relation Type at Beginning of Month', 'Spouse Index', 'Channel Used to Join', 'Address Type', \n",
    "            'Province Code', 'Province Name', 'Segmentation'], axis = 'columns')\n",
    "t = df['Payroll']\n",
    "\n",
    "\n",
    "S_train, S_test, t_train, t_test = train_test_split(S, t, test_size = .20, random_state = 0)\n",
    "\n",
    "gbModel = GradientBoostingClassifier(random_state = 42)\n",
    "\n",
    "gbModel.fit(S_train, t_train)\n",
    "\n",
    "t_pred_gb = gbModel.predict(S_test)\n",
    "\n",
    "print(gbModel.score(S_test, t_test))\n",
    "\n",
    "print(accuracy_score(t_test, t_pred_gb))"
   ]
  },
  {
   "cell_type": "code",
   "execution_count": 59,
   "id": "1cefafa9",
   "metadata": {},
   "outputs": [
    {
     "name": "stdout",
     "output_type": "stream",
     "text": [
      "0.9970730495606827\n",
      "0.9970730495606827\n"
     ]
    }
   ],
   "source": [
    "S = df.drop(['Pension', 'Partitioned Date', 'Customer Code', 'Employee Index', 'Country Residence', \n",
    "            'Date Joined', 'Last Date as Primary Customer', 'Customer Type at Beginning of Month',\n",
    "            'Customer Relation Type at Beginning of Month', 'Spouse Index', 'Channel Used to Join', 'Address Type', \n",
    "            'Province Code', 'Province Name', 'Segmentation'], axis = 'columns')\n",
    "t = df['Pension']\n",
    "\n",
    "\n",
    "S_train, S_test, t_train, t_test = train_test_split(S, t, test_size = .20, random_state = 0)\n",
    "\n",
    "gbModel = GradientBoostingClassifier(random_state = 42)\n",
    "\n",
    "gbModel.fit(S_train, t_train)\n",
    "\n",
    "t_pred_gb = gbModel.predict(S_test)\n",
    "\n",
    "print(gbModel.score(S_test, t_test))\n",
    "\n",
    "print(accuracy_score(t_test, t_pred_gb))"
   ]
  },
  {
   "cell_type": "code",
   "execution_count": 60,
   "id": "22cca519",
   "metadata": {},
   "outputs": [
    {
     "name": "stdout",
     "output_type": "stream",
     "text": [
      "0.9180988780939248\n",
      "0.9180988780939248\n"
     ]
    }
   ],
   "source": [
    "S = df.drop(['Direct Debit', 'Partitioned Date', 'Customer Code', 'Employee Index', 'Country Residence', \n",
    "            'Date Joined', 'Last Date as Primary Customer', 'Customer Type at Beginning of Month',\n",
    "            'Customer Relation Type at Beginning of Month', 'Spouse Index', 'Channel Used to Join', 'Address Type', \n",
    "            'Province Code', 'Province Name', 'Segmentation'], axis = 'columns')\n",
    "t = df['Direct Debit']\n",
    "\n",
    "\n",
    "S_train, S_test, t_train, t_test = train_test_split(S, t, test_size = .20, random_state = 0)\n",
    "\n",
    "gbModel = GradientBoostingClassifier(random_state = 42)\n",
    "\n",
    "gbModel.fit(S_train, t_train)\n",
    "\n",
    "t_pred_gb = gbModel.predict(S_test)\n",
    "\n",
    "print(gbModel.score(S_test, t_test))\n",
    "\n",
    "print(accuracy_score(t_test, t_pred_gb))"
   ]
  },
  {
   "cell_type": "code",
   "execution_count": null,
   "id": "06822aff",
   "metadata": {},
   "outputs": [],
   "source": []
  }
 ],
 "metadata": {
  "kernelspec": {
   "display_name": "Python 3 (ipykernel)",
   "language": "python",
   "name": "python3"
  },
  "language_info": {
   "codemirror_mode": {
    "name": "ipython",
    "version": 3
   },
   "file_extension": ".py",
   "mimetype": "text/x-python",
   "name": "python",
   "nbconvert_exporter": "python",
   "pygments_lexer": "ipython3",
   "version": "3.10.5"
  }
 },
 "nbformat": 4,
 "nbformat_minor": 5
}
